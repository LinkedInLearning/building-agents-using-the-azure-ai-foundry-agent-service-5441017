{
 "cells": [
  {
   "cell_type": "markdown",
   "id": "eb456d83",
   "metadata": {},
   "source": [
    "# Azure AI Search"
   ]
  },
  {
   "cell_type": "markdown",
   "id": "4e5c74de",
   "metadata": {},
   "source": [
    "## Install Packages"
   ]
  },
  {
   "cell_type": "code",
   "execution_count": null,
   "id": "4a1536b4",
   "metadata": {},
   "outputs": [],
   "source": [
    "%pip install azure-ai-projects==1.0.0b12\n",
    "%pip install azure-identity\n",
    "%pip install azure-ai-agents==1.1.0b3"
   ]
  },
  {
   "cell_type": "markdown",
   "id": "d8f6785b",
   "metadata": {},
   "source": [
    "## Import the libraries"
   ]
  },
  {
   "cell_type": "code",
   "execution_count": 1,
   "id": "857a9a83",
   "metadata": {},
   "outputs": [],
   "source": [
    "import os\n",
    "from azure.ai.projects import AIProjectClient\n",
    "from azure.identity import DefaultAzureCredential\n",
    "from azure.ai.agents.models import AzureAISearchQueryType, AzureAISearchTool, ListSortOrder, MessageRole"
   ]
  },
  {
   "cell_type": "markdown",
   "id": "59aabdeb",
   "metadata": {},
   "source": [
    "## Create the AI Project Client\n",
    "\n",
    "NOTE: \n",
    "- If you don't have Azure CLI, you first need to install it:\n",
    "   curl -sL https://aka.ms/InstallAzureCLIDeb | sudo bash\n",
    "- Login to Azure\n",
    "   az login\n",
    "\n"
   ]
  },
  {
   "cell_type": "code",
   "execution_count": 2,
   "id": "d2b1f8e5",
   "metadata": {},
   "outputs": [],
   "source": [
    "# Create an Azure AI Client from an endpoint, copied from your Azure AI Foundry project.\n",
    "# You need to login to Azure subscription via Azure CLI and set the environment variables\n",
    "project_endpoint = os.environ[\"PROJECT_ENDPOINT\"]  # Ensure the PROJECT_ENDPOINT environment variable is set\n",
    "\n",
    "# Create an AIProjectClient instance\n",
    "project_client = AIProjectClient(\n",
    "    endpoint=project_endpoint,\n",
    "    credential=DefaultAzureCredential(),  # Use Azure Default Credential for authentication\n",
    ")"
   ]
  },
  {
   "cell_type": "markdown",
   "id": "929f0da3",
   "metadata": {},
   "source": [
    "## Setup the Azure AI Search tool\n",
    "\n",
    "Azure AI Search Query Types: https://learn.microsoft.com/en-us/python/api/azure-ai-agents/azure.ai.agents.models.azureaisearchquerytype?view=azure-python-preview"
   ]
  },
  {
   "cell_type": "code",
   "execution_count": 3,
   "id": "68a030e7",
   "metadata": {},
   "outputs": [
    {
     "name": "stdout",
     "output_type": "stream",
     "text": [
      "Search Connection ID: /subscriptions/73047bc3-f020-4930-b16d-fe5c9dd3c73e/resourceGroups/AzureStandardAgent/providers/Microsoft.CognitiveServices/accounts/foundykx3l/projects/projectkx3l/connections/kx3lsearch\n"
     ]
    }
   ],
   "source": [
    "# Enter Azure AI Search details here\n",
    "search_connection = \"kx3lsearch\"  # Replace with your Azure AI Search connection name\n",
    "search_index =\"healthplans\" # Replace with your Azure AI Search index name\n",
    "\n",
    "# Extract the connection list.\n",
    "conn_list = project_client.connections.list()\n",
    "search_connection_id = \"\"\n",
    "\n",
    "# Find the connection ID for Azure AI Search\n",
    "for conn in conn_list:\n",
    "    if conn.name == search_connection:\n",
    "        search_connection_id = conn.id\n",
    "\n",
    "\n",
    "# Print the connection names\n",
    "print(f\"Search Connection ID: {search_connection_id}\")\n",
    "\n",
    "# Initialize agent AI search tool and add the search index connection id\n",
    "ai_search = AzureAISearchTool(\n",
    "    index_connection_id=search_connection_id,\n",
    "    index_name=search_index,\n",
    "    query_type=AzureAISearchQueryType.VECTOR_SEMANTIC_HYBRID,\n",
    "    top_k=5,\n",
    "    filter=\"\",\n",
    ")"
   ]
  },
  {
   "cell_type": "markdown",
   "id": "82efcd58",
   "metadata": {},
   "source": [
    "## Create the agent"
   ]
  },
  {
   "cell_type": "code",
   "execution_count": 4,
   "id": "f3d34b3f",
   "metadata": {},
   "outputs": [
    {
     "name": "stdout",
     "output_type": "stream",
     "text": [
      "Created agent, ID: asst_1BWVlLoKFh1287OyM0yhlIiC\n"
     ]
    }
   ],
   "source": [
    "# Create an agent with the file search tool\n",
    "agent = project_client.agents.create_agent(\n",
    "    model=os.environ[\"MODEL_DEPLOYMENT_NAME\"],  # Model deployment name\n",
    "    name=\"my-aisearch-agent\",  # Name of the agent\n",
    "    instructions=\"You are a helpful agent and can search information from Azure AI Search\",  # Instructions for the agent\n",
    "    tools=ai_search.definitions,\n",
    "    tool_resources=ai_search.resources,\n",
    ")\n",
    "print(f\"Created agent, ID: {agent.id}\")"
   ]
  },
  {
   "cell_type": "markdown",
   "id": "19b16fbd",
   "metadata": {},
   "source": [
    "## Create thread"
   ]
  },
  {
   "cell_type": "code",
   "execution_count": 5,
   "id": "9c822423",
   "metadata": {},
   "outputs": [
    {
     "name": "stdout",
     "output_type": "stream",
     "text": [
      "Created thread, ID: thread_fxPa4KMujouFz1jGehu5HfQK\n"
     ]
    }
   ],
   "source": [
    "# Create a thread for communication\n",
    "thread = project_client.agents.threads.create()\n",
    "print(f\"Created thread, ID: {thread.id}\")"
   ]
  },
  {
   "cell_type": "markdown",
   "id": "800c4642",
   "metadata": {},
   "source": [
    "## Helper function\n",
    "- adds messages to the thread\n",
    "- run the agent\n",
    "- display the agent response"
   ]
  },
  {
   "cell_type": "code",
   "execution_count": 6,
   "id": "1a5da081",
   "metadata": {},
   "outputs": [],
   "source": [
    "def run_agent(user_input):\n",
    "    # Add a message to the thread\n",
    "    message = project_client.agents.messages.create(\n",
    "        thread_id=thread.id,\n",
    "        role=\"user\",  # Role of the message sender\n",
    "        content=user_input,  # Message content\n",
    "    )\n",
    "    print(f\"Created message, ID: {message['id']}\")\n",
    "\n",
    "     # Create and process agent run in thread with tools\n",
    "    run = project_client.agents.runs.create_and_process(thread_id=thread.id, agent_id=agent.id)\n",
    "    print(f\"Run finished with status: {run.status}\")\n",
    "\n",
    "    # Check the status of the run and print the result\n",
    "    if run.status == \"failed\":\n",
    "        print(f\"Run failed: {run.last_error}\")\n",
    "    elif run.status == \"completed\":\n",
    "        last_msg = project_client.agents.messages.get_last_message_text_by_role(thread_id=thread.id, role=MessageRole.AGENT)\n",
    "        if last_msg:\n",
    "            print(f\"Agent Response: {last_msg.text.value}\")"
   ]
  },
  {
   "cell_type": "code",
   "execution_count": 7,
   "id": "69a9e997",
   "metadata": {},
   "outputs": [],
   "source": [
    "def run_agent_details(user_input):\n",
    "    # Add a message to the thread\n",
    "    message = project_client.agents.messages.create(\n",
    "        thread_id=thread.id,\n",
    "        role=\"user\",  # Role of the message sender\n",
    "        content=user_input,  # Message content\n",
    "    )\n",
    "    print(f\"Created message, ID: {message['id']}\")\n",
    "\n",
    "     # Create and process agent run in thread with tools\n",
    "    run = project_client.agents.runs.create_and_process(thread_id=thread.id, agent_id=agent.id)\n",
    "    print(f\"Run finished with status: {run.status}\")\n",
    "\n",
    "    # Fetch run steps to get the details of the agent run\n",
    "    run_steps = project_client.agents.run_steps.list(thread_id=thread.id, run_id=run.id)\n",
    "    for step in run_steps:\n",
    "        print(f\"Step {step['id']} status: {step['status']}\")\n",
    "        step_details = step.get(\"step_details\", {})\n",
    "        tool_calls = step_details.get(\"tool_calls\", [])\n",
    "\n",
    "        if tool_calls:\n",
    "            print(\"  Tool calls:\")\n",
    "            for call in tool_calls:\n",
    "                print(f\"    Tool Call ID: {call.get('id')}\")\n",
    "                print(f\"    Type: {call.get('type')}\")\n",
    "\n",
    "                azure_ai_search_details = call.get(\"azure_ai_search\", {})\n",
    "                if azure_ai_search_details:\n",
    "                    print(f\"    azure_ai_search input: {azure_ai_search_details.get('input')}\")\n",
    "                    print(f\"    azure_ai_search output: {azure_ai_search_details.get('output')}\")\n",
    "        print()  # add an extra newline between steps\n",
    "\n",
    "    if run.status == \"failed\":\n",
    "        print(f\"Run failed: {run.last_error}\")\n",
    "    elif run.status == \"completed\":\n",
    "        messages = project_client.agents.messages.list(thread_id=thread.id, order=ListSortOrder.ASCENDING)\n",
    "        for message in messages:\n",
    "            if message.role == MessageRole.AGENT and message.url_citation_annotations:\n",
    "                placeholder_annotations = {\n",
    "                    annotation.text: f\" [see {annotation.url_citation.title}] ({annotation.url_citation.url})\"\n",
    "                    for annotation in message.url_citation_annotations\n",
    "                }\n",
    "                for message_text in message.text_messages:\n",
    "                    message_str = message_text.text.value\n",
    "                    for k, v in placeholder_annotations.items():\n",
    "                        message_str = message_str.replace(k, v)\n",
    "                    print(f\"{message.role}: {message_str}\")\n",
    "            else:\n",
    "                for message_text in message.text_messages:\n",
    "                    print(f\"{message.role}: {message_text.text.value}\")"
   ]
  },
  {
   "cell_type": "markdown",
   "id": "b4ac8445",
   "metadata": {},
   "source": [
    "## Run the agent"
   ]
  },
  {
   "cell_type": "code",
   "execution_count": 8,
   "id": "42acc584",
   "metadata": {},
   "outputs": [
    {
     "name": "stdout",
     "output_type": "stream",
     "text": [
      "Created message, ID: msg_vZV35nWiMLmIL6cZzS1NY9TP\n",
      "Run finished with status: completed\n",
      "Agent Response: The Northwind Standard Plan is a comprehensive health plan that provides a range of coverage for medical, vision, and dental services. Here are the key details:\n",
      "\n",
      "1. **Coverage**:\n",
      "   - **Medical Services**: Includes preventive care services (such as physicals, immunizations, and screenings), diagnostic tests, medical consultations, physical therapy, and inpatient hospital services.\n",
      "   - **Vision and Dental Services**.\n",
      "   - **Prescription Drugs**: Coverage for prescription medications.\n",
      "   - **Mental Health Services**: Although the plan covers mental health services, it does not cover substance abuse services.\n",
      "   - **Emergency Services**: Not covered under this plan.\n",
      "   \n",
      "2. **Providers**:\n",
      "   - Utilizes a network of in-network providers including primary care physicians, specialists, hospitals, and pharmacies. Out-of-network services are not covered.\n",
      "   - In-network providers generally offer services at a lower cost, so it is important to verify the provider's network status to avoid unexpected expenses.\n",
      "\n",
      "3. **Cost and Payment**:\n",
      "   - **Premiums**: Monthly payments based on the age, health, and chosen type of coverage of the policyholder.\n",
      "   - **Deductibles**: A fixed amount that must be paid out-of-pocket before insurance begins to cover services.\n",
      "   - **Copays and Coinsurance**: Fixed amounts due at each visit and a percentage of service costs that must be paid by the policyholder.\n",
      "   - Pre-authorization may be required for some services.\n",
      "\n",
      "4. **Exceptions and Exclusions**:\n",
      "   - Does not cover cosmetic services, experimental treatments, most dental services that are not medically necessary, and services provided by out-of-network providers.\n",
      "   \n",
      "5. **Benefits and Rights**:\n",
      "   - Detailed coverage information and cost estimates are provided to help policyholders understand their benefits and manage their out-of-pocket expenses.\n",
      "   - Explanation of Benefits (EOB) is provided after claims are processed, outlining the services provided, the amount of the claim, and the paid amount.\n",
      "\n",
      "6. **Additional Features**:\n",
      "   - Tools and resources such as a cost estimator tool and a provider directory.\n",
      "   - 24/7 customer service is available to address questions about coverage.\n",
      "\n",
      "Employees should ensure they understand the plan details to make the most of their coverage and verify network providers before seeking services【3:0†source】【3:1†source】【3:2†source】【3:3†source】【3:4†source】.\n"
     ]
    }
   ],
   "source": [
    "user_input = \"Provide details on the Northwind Standard Plan\"\n",
    "run_agent(user_input)"
   ]
  },
  {
   "cell_type": "code",
   "execution_count": 9,
   "id": "98490f07",
   "metadata": {},
   "outputs": [
    {
     "name": "stdout",
     "output_type": "stream",
     "text": [
      "Created message, ID: msg_C3TNWmgW3PzX3Lk6IktuW6l1\n",
      "Run finished with status: completed\n",
      "Step step_xI9Hob7u7VbDFtRWVLARcTaQ status: completed\n",
      "\n",
      "Step step_6aXmqpWLUNuhxiMF5mB6Oi3c status: completed\n",
      "  Tool calls:\n",
      "    Tool Call ID: call_HXpCRtFY1PIiNDVKmiZ1cknN\n",
      "    Type: azure_ai_search\n",
      "    azure_ai_search input: Northwind Standard Plan vs Northwind Healthplus Plan comparison\n",
      "    azure_ai_search output: {'summary': 'Retrieved 5 documents.', 'metadata': {'urls': ['doc_0', 'doc_1', 'doc_2', 'doc_3', 'doc_4'], 'titles': ['Northwind_Health_Plus_Benefits_Details.pdf', 'Northwind_Standard_Benefits_Details.pdf', 'Northwind_Health_Plus_Benefits_Details.pdf', 'Northwind_Standard_Benefits_Details.pdf', 'Northwind_Health_Plus_Benefits_Details.pdf'], 'get_urls': ['https://kx3lsearch.search.windows.net/indexes/healthplans/docs/7d695599c6d6_aHR0cHM6Ly9reDNsc3RvcmFnZS5ibG9iLmNvcmUud2luZG93cy5uZXQvaGVhbHRocGxhbi9Ob3J0aHdpbmRfSGVhbHRoX1BsdXNfQmVuZWZpdHNfRGV0YWlscy5wZGY1_pages_1?api-version=2024-07-01&$select=chunk_id,chunk,title', 'https://kx3lsearch.search.windows.net/indexes/healthplans/docs/24b0a2eaa396_aHR0cHM6Ly9reDNsc3RvcmFnZS5ibG9iLmNvcmUud2luZG93cy5uZXQvaGVhbHRocGxhbi9Ob3J0aHdpbmRfU3RhbmRhcmRfQmVuZWZpdHNfRGV0YWlscy5wZGY1_pages_75?api-version=2024-07-01&$select=chunk_id,chunk,title', 'https://kx3lsearch.search.windows.net/indexes/healthplans/docs/7d695599c6d6_aHR0cHM6Ly9reDNsc3RvcmFnZS5ibG9iLmNvcmUud2luZG93cy5uZXQvaGVhbHRocGxhbi9Ob3J0aHdpbmRfSGVhbHRoX1BsdXNfQmVuZWZpdHNfRGV0YWlscy5wZGY1_pages_0?api-version=2024-07-01&$select=chunk_id,chunk,title', 'https://kx3lsearch.search.windows.net/indexes/healthplans/docs/24b0a2eaa396_aHR0cHM6Ly9reDNsc3RvcmFnZS5ibG9iLmNvcmUud2luZG93cy5uZXQvaGVhbHRocGxhbi9Ob3J0aHdpbmRfU3RhbmRhcmRfQmVuZWZpdHNfRGV0YWlscy5wZGY1_pages_152?api-version=2024-07-01&$select=chunk_id,chunk,title', 'https://kx3lsearch.search.windows.net/indexes/healthplans/docs/7d695599c6d6_aHR0cHM6Ly9reDNsc3RvcmFnZS5ibG9iLmNvcmUud2luZG93cy5uZXQvaGVhbHRocGxhbi9Ob3J0aHdpbmRfSGVhbHRoX1BsdXNfQmVuZWZpdHNfRGV0YWlscy5wZGY1_pages_149?api-version=2024-07-01&$select=chunk_id,chunk,title'], 'ids': ['7d695599c6d6_aHR0cHM6Ly9reDNsc3RvcmFnZS5ibG9iLmNvcmUud2luZG93cy5uZXQvaGVhbHRocGxhbi9Ob3J0aHdpbmRfSGVhbHRoX1BsdXNfQmVuZWZpdHNfRGV0YWlscy5wZGY1_pages_1', '24b0a2eaa396_aHR0cHM6Ly9reDNsc3RvcmFnZS5ibG9iLmNvcmUud2luZG93cy5uZXQvaGVhbHRocGxhbi9Ob3J0aHdpbmRfU3RhbmRhcmRfQmVuZWZpdHNfRGV0YWlscy5wZGY1_pages_75', '7d695599c6d6_aHR0cHM6Ly9reDNsc3RvcmFnZS5ibG9iLmNvcmUud2luZG93cy5uZXQvaGVhbHRocGxhbi9Ob3J0aHdpbmRfSGVhbHRoX1BsdXNfQmVuZWZpdHNfRGV0YWlscy5wZGY1_pages_0', '24b0a2eaa396_aHR0cHM6Ly9reDNsc3RvcmFnZS5ibG9iLmNvcmUud2luZG93cy5uZXQvaGVhbHRocGxhbi9Ob3J0aHdpbmRfU3RhbmRhcmRfQmVuZWZpdHNfRGV0YWlscy5wZGY1_pages_152', '7d695599c6d6_aHR0cHM6Ly9reDNsc3RvcmFnZS5ibG9iLmNvcmUud2luZG93cy5uZXQvaGVhbHRocGxhbi9Ob3J0aHdpbmRfSGVhbHRoX1BsdXNfQmVuZWZpdHNfRGV0YWlscy5wZGY1_pages_149'], 'command': 'search', 'query_type': 'vector_semantic_hybrid', 'top_k': 5, 'filter': True}}\n",
      "\n",
      "user: Provide details on the Northwind Standard Plan\n",
      "assistant: The Northwind Standard Plan is a comprehensive health plan that provides a range of coverage for medical, vision, and dental services. Here are the key details:\n",
      "\n",
      "1. **Coverage**:\n",
      "   - **Medical Services**: Includes preventive care services (such as physicals, immunizations, and screenings), diagnostic tests, medical consultations, physical therapy, and inpatient hospital services.\n",
      "   - **Vision and Dental Services**.\n",
      "   - **Prescription Drugs**: Coverage for prescription medications.\n",
      "   - **Mental Health Services**: Although the plan covers mental health services, it does not cover substance abuse services.\n",
      "   - **Emergency Services**: Not covered under this plan.\n",
      "   \n",
      "2. **Providers**:\n",
      "   - Utilizes a network of in-network providers including primary care physicians, specialists, hospitals, and pharmacies. Out-of-network services are not covered.\n",
      "   - In-network providers generally offer services at a lower cost, so it is important to verify the provider's network status to avoid unexpected expenses.\n",
      "\n",
      "3. **Cost and Payment**:\n",
      "   - **Premiums**: Monthly payments based on the age, health, and chosen type of coverage of the policyholder.\n",
      "   - **Deductibles**: A fixed amount that must be paid out-of-pocket before insurance begins to cover services.\n",
      "   - **Copays and Coinsurance**: Fixed amounts due at each visit and a percentage of service costs that must be paid by the policyholder.\n",
      "   - Pre-authorization may be required for some services.\n",
      "\n",
      "4. **Exceptions and Exclusions**:\n",
      "   - Does not cover cosmetic services, experimental treatments, most dental services that are not medically necessary, and services provided by out-of-network providers.\n",
      "   \n",
      "5. **Benefits and Rights**:\n",
      "   - Detailed coverage information and cost estimates are provided to help policyholders understand their benefits and manage their out-of-pocket expenses.\n",
      "   - Explanation of Benefits (EOB) is provided after claims are processed, outlining the services provided, the amount of the claim, and the paid amount.\n",
      "\n",
      "6. **Additional Features**:\n",
      "   - Tools and resources such as a cost estimator tool and a provider directory.\n",
      "   - 24/7 customer service is available to address questions about coverage.\n",
      "\n",
      "Employees should ensure they understand the plan details to make the most of their coverage and verify network providers before seeking services [see Northwind_Standard_Benefits_Details.pdf] (doc_0) [see Northwind_Standard_Benefits_Details.pdf] (doc_1) [see Northwind_Standard_Benefits_Details.pdf] (doc_2) [see Northwind_Standard_Benefits_Details.pdf] (doc_3) [see Northwind_Standard_Benefits_Details.pdf] (doc_4).\n",
      "user: Provide a tabular comparison between the Northwind Standard and Northwind Healthplus plans\n",
      "assistant: Here's a tabular comparison between the Northwind Standard Plan and the Northwind Healthplus Plan based on the information available:\n",
      "\n",
      "| Feature                       | Northwind Standard Plan                                                     | Northwind Healthplus Plan                                      |\n",
      "|-------------------------------|------------------------------------------------------------------------------|----------------------------------------------------------------|\n",
      "| **Coverage**                  | Medical, vision, dental, mental health, prescription drugs                   | Comprehensive medical, vision, dental, mental health, substance abuse, prescription drugs, preventive care services, emergency services (in-network and out-of-network) |\n",
      "| **Preventive Care Services**  | Covered, but may not include all preventive services                         | Broad coverage, including immunizations and screenings at no cost to policyholder, except applicable deductibles and coinsurance |\n",
      "| **Emergency Services**        | Not covered                                                                  | Covered (in-network and out-of-network)                        |\n",
      "| **Network Providers**         | Covers only in-network providers                                             | In-network and out-of-network coverage available               |\n",
      "| **Mental Health Services**    | Covered                                                                      | Covered, including substance abuse services                    |\n",
      "| **Prescription Drugs**        | Covered, but costs vary                                                      | Covered with tiered structure influencing out-of-pocket costs  |\n",
      "| **Costs**                     | Monthly premium, deductibles, copays, coinsurance                            | Costs dependent on plan type, services used, and providers visited, with generally lower in-network costs |\n",
      "| **Tools and Resources**       | Cost estimator tool, provider directory, 24/7 customer service               | Cost estimator tool, provider directory, 24/7 customer service    [see Northwind_Standard_Benefits_Details.pdf] (doc_1)|\n",
      "\n",
      "These details provide an overview of the primary differences and similarities between the two plans to help employees choose the most suitable coverage for their needs.\n"
     ]
    }
   ],
   "source": [
    "user_input = \"Provide a tabular comparison between the Northwind Standard and Northwind Healthplus plans\"\n",
    "run_agent_details(user_input)"
   ]
  },
  {
   "cell_type": "markdown",
   "id": "5ba46347",
   "metadata": {},
   "source": [
    "## Cleanup resources"
   ]
  },
  {
   "cell_type": "code",
   "execution_count": 10,
   "id": "2d50c8b9",
   "metadata": {},
   "outputs": [
    {
     "name": "stdout",
     "output_type": "stream",
     "text": [
      "Deleted agent\n"
     ]
    }
   ],
   "source": [
    "# Cleanup resources\n",
    "\n",
    "# Delete the agent after use\n",
    "project_client.agents.delete_agent(agent.id)\n",
    "print(\"Deleted agent\")\n"
   ]
  },
  {
   "cell_type": "markdown",
   "id": "fd8f25b7",
   "metadata": {},
   "source": [
    "## Azure AI Search vs File Search\n",
    "- Azure AI Search can schedule index changes\n",
    "- More flexiblity\n",
    "  - embedding model / size\n",
    "  - field composition\n",
    "  - add skills"
   ]
  }
 ],
 "metadata": {
  "kernelspec": {
   "display_name": "Python 3",
   "language": "python",
   "name": "python3"
  },
  "language_info": {
   "codemirror_mode": {
    "name": "ipython",
    "version": 3
   },
   "file_extension": ".py",
   "mimetype": "text/x-python",
   "name": "python",
   "nbconvert_exporter": "python",
   "pygments_lexer": "ipython3",
   "version": "3.10.12"
  }
 },
 "nbformat": 4,
 "nbformat_minor": 5
}
