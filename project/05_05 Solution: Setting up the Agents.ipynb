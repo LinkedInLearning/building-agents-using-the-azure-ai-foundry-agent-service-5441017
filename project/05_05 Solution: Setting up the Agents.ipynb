{
 "cells": [
  {
   "cell_type": "markdown",
   "id": "a6c9bd16",
   "metadata": {},
   "source": [
    "## Solution: Setting up the Agents"
   ]
  },
  {
   "cell_type": "markdown",
   "id": "cf299905",
   "metadata": {},
   "source": [
    "## Install the packages"
   ]
  },
  {
   "cell_type": "code",
   "execution_count": null,
   "id": "c8866fd5",
   "metadata": {},
   "outputs": [],
   "source": [
    "%pip install azure-ai-projects==1.0.0b12\n",
    "%pip install azure-identity\n",
    "%pip install azure-ai-agents==1.1.0b3"
   ]
  },
  {
   "cell_type": "markdown",
   "id": "cb77bfa5",
   "metadata": {},
   "source": [
    "## Import the libraries"
   ]
  },
  {
   "cell_type": "code",
   "execution_count": 1,
   "id": "c247174f",
   "metadata": {},
   "outputs": [],
   "source": [
    "import os, jsonref\n",
    "from azure.ai.projects import AIProjectClient\n",
    "from azure.identity import DefaultAzureCredential\n",
    "from azure.ai.agents.models import (\n",
    "    BingGroundingTool, \n",
    "    MessageRole, \n",
    "    FileSearchTool, \n",
    "    FilePurpose,\n",
    "    OpenApiTool, \n",
    "    OpenApiConnectionAuthDetails, \n",
    "    OpenApiConnectionSecurityScheme\n",
    ") "
   ]
  },
  {
   "cell_type": "markdown",
   "id": "b0fd002e",
   "metadata": {},
   "source": [
    "## Create the AI Project Client\n",
    "\n",
    "NOTE: \n",
    "- If you don't have Azure CLI, you first need to install it:\n",
    "   curl -sL https://aka.ms/InstallAzureCLIDeb | sudo bash\n",
    "- Login to Azure\n",
    "   az login\n",
    "\n"
   ]
  },
  {
   "cell_type": "code",
   "execution_count": 3,
   "id": "96ed2713",
   "metadata": {},
   "outputs": [],
   "source": [
    "# Create an Azure AI Client from an endpoint, copied from your Azure AI Foundry project.\n",
    "# You need to login to Azure subscription via Azure CLI and set the environment variables\n",
    "project_endpoint = os.environ[\"PROJECT_ENDPOINT\"]  # Ensure the PROJECT_ENDPOINT environment variable is set\n",
    "\n",
    "# Create an AIProjectClient instance\n",
    "project_client = AIProjectClient(\n",
    "    endpoint=project_endpoint,\n",
    "    credential=DefaultAzureCredential(),  # Use Azure Default Credential for authentication\n",
    ")"
   ]
  },
  {
   "cell_type": "markdown",
   "id": "ecdd6ed3",
   "metadata": {},
   "source": [
    "## Run Agent Helper Function\n"
   ]
  },
  {
   "cell_type": "code",
   "execution_count": 4,
   "id": "f429fcc5",
   "metadata": {},
   "outputs": [],
   "source": [
    "def run_agent(user_input, thread_id, agent_id):\n",
    "    # Add a message to the thread\n",
    "    message = project_client.agents.messages.create(\n",
    "        thread_id=thread_id,  # ID of the thread to which the message belongs\n",
    "        role=\"user\",  # Role of the message sender\n",
    "        content=user_input,  # Message content\n",
    "    )\n",
    "    print(f\"Created message, ID: {message['id']}\")\n",
    "\n",
    "     # Create and process agent run in thread with tools\n",
    "    run = project_client.agents.runs.create_and_process(thread_id=thread_id, agent_id=agent_id)\n",
    "    print(f\"Run finished with status: {run.status}\")\n",
    "\n",
    "    # Check the status of the run and print the result\n",
    "    if run.status == \"failed\":\n",
    "        print(f\"Run failed: {run.last_error}\")\n",
    "    elif run.status == \"completed\":\n",
    "        last_msg = project_client.agents.messages.get_last_message_text_by_role(thread_id=thread_id, role=MessageRole.AGENT)\n",
    "        if last_msg:\n",
    "            print(f\"Agent Response: {last_msg.text.value}\")"
   ]
  },
  {
   "cell_type": "markdown",
   "id": "9f9e5924",
   "metadata": {},
   "source": [
    "## Create Weather Agent"
   ]
  },
  {
   "cell_type": "code",
   "execution_count": 7,
   "id": "09a737c2",
   "metadata": {},
   "outputs": [
    {
     "name": "stdout",
     "output_type": "stream",
     "text": [
      "Bing Search Connection ID: /subscriptions/73047bc3-f020-4930-b16d-fe5c9dd3c73e/resourceGroups/agent_challenge/providers/Microsoft.CognitiveServices/accounts/challengeptff/projects/contoso_projectptff/connections/bingresource\n",
      "Created agent, ID: asst_TWn4ilX0ZBWbcRIIhsQI4jF9\n",
      "Created thread, ID: thread_nSaCT8ZswRfydlZvdU1nCRsR\n",
      "Created message, ID: msg_MLDpU8ZrStHcunwMetojn379\n",
      "Run finished with status: completed\n",
      "Agent Response: The current weather in Paris is relatively mild, with temperatures around 18°C early in the morning and expected to rise to a high of 29°C during the day. There is no significant chance of rain, and the conditions are clear with plenty of sunshine. Winds are light, blowing from the northeast at around 9 km/h, and humidity levels are around 51%【3:0†source】【3:2†source】【3:3†source】.\n"
     ]
    }
   ],
   "source": [
    "# Enter Bing connection names here\n",
    "bing_search = \"bingresource\"  # Replace with your Bing connection name\n",
    "\n",
    "# Extract the connection list.\n",
    "conn_list = project_client.connections.list()\n",
    "bing_search_conn_id = \"\"\n",
    "\n",
    "# Find the connection IDs for Bing Search and Bing Custom Search\n",
    "for conn in conn_list:\n",
    "    if conn.name == bing_search:\n",
    "        bing_search_conn_id = conn.id\n",
    "\n",
    "# Print the connection names\n",
    "print(f\"Bing Search Connection ID: {bing_search_conn_id}\")\n",
    "\n",
    "# Initialize the Bing Grounding tools\n",
    "bing_search = BingGroundingTool(connection_id=bing_search_conn_id)\n",
    "\n",
    "# Create an agent with the Bing Grounding tool\n",
    "agent = project_client.agents.create_agent(\n",
    "    model=os.environ[\"MODEL_DEPLOYMENT_NAME\"],  # Model deployment name\n",
    "    name=\"weather-agent\",  # Name of the agent\n",
    "    instructions=\"You are a helpful agent that provides weather information\",  # Instructions for the agent\n",
    "    tools=bing_search.definitions  # Attach the Bing Grounding tool\n",
    ")\n",
    "\n",
    "print(f\"Created agent, ID: {agent.id}\")\n",
    "\n",
    "# Create a thread for communication\n",
    "thread = project_client.agents.threads.create()\n",
    "print(f\"Created thread, ID: {thread.id}\")\n",
    "\n",
    "# Example user input for the agent\n",
    "user_input = \"What is the weather in Paris?\"  # Example user input\n",
    "run_agent(user_input, thread_id=thread.id, agent_id=agent.id)  # Run the agent with the user input\n"
   ]
  },
  {
   "cell_type": "markdown",
   "id": "d6707079",
   "metadata": {},
   "source": [
    "## Create Itinerary Agent"
   ]
  },
  {
   "cell_type": "code",
   "execution_count": 8,
   "id": "ae8bd4ea",
   "metadata": {},
   "outputs": [
    {
     "name": "stdout",
     "output_type": "stream",
     "text": [
      "Created agent, ID: asst_sKhtRu2UTeBVSlEjJvXahEOz\n",
      "Created thread, ID: thread_BnO7Y9QW1W84JLGZZmbBaCSw\n",
      "Created message, ID: msg_k13gGxTe1Vl5kFUES8gMvylL\n",
      "Run finished with status: completed\n",
      "Agent Response: Sure, I'll create a day itinerary for Paris considering the current weather conditions and the forecast for later today. \n",
      "\n",
      "### Morning\n",
      "**8:00 AM - 10:00 AM:**\n",
      "- **Breakfast at a Café:** Start your day with a classic Parisian breakfast at a local café. Enjoy fresh croissants, baguettes, and a café au lait.\n",
      "\n",
      "**10:00 AM - 12:00 PM:**\n",
      "- **Visit the Eiffel Tower:** Since it's currently partly cloudy, the morning is the best time to visit the Eiffel Tower. You can enjoy the view from both the ground and the top, but be prepared for some potential crowding.\n",
      "\n",
      "### Midday\n",
      "**12:00 PM - 1:00 PM:**\n",
      "- **Lunch at Le Jules Verne:** Dine at the renowned restaurant located on the Eiffel Tower. Enjoy a superb meal while taking in the view of Paris.\n",
      "\n",
      "### Early Afternoon\n",
      "**1:00 PM - 3:00 PM:**\n",
      "- **Louvre Museum:** Head to the Louvre Museum to explore its vast collection of art, including the Mona Lisa. This indoor activity will shield you from any potential rain as the weather starts to turn.\n",
      "\n",
      "### Late Afternoon\n",
      "**3:00 PM - 5:00 PM:**\n",
      "- **Indoor Activities:** As heavy downpours and afternoon thundershowers are predicted, consider visiting other indoor attractions like the Musée d'Orsay or the La Sainte-Chapelle. Both provide beautiful interiors and engaging exhibitions.\n",
      "\n",
      "### Evening\n",
      "**5:00 PM - 7:00 PM:**\n",
      "- **Shopping at Galeries Lafayette:** Spend some time shopping at this iconic department store. Its impressive glass dome and indoor shops will keep you dry while you browse.\n",
      "\n",
      "**7:00 PM - 9:00 PM:**\n",
      "- **Dinner at Le Train Bleu:** Enjoy dinner at this stunningly elegant restaurant located in Gare de Lyon. The Belle Époque interior will make for a truly memorable experience.\n",
      "\n",
      "### Night\n",
      "**9:00 PM - Onwards:**\n",
      "- **Evening Cruise on the Seine (Optional):** If the rain subsides, an evening cruise on the Seine River provides magical views of Paris's illuminated landmarks. Be sure to check weather updates before planning this.\n",
      "\n",
      "**Alternative Plan:**\n",
      "- **Café or Bar Visit:** Instead of the cruise, you can relax at a cozy café or bar. Paris has numerous charming spots where you can enjoy a glass of wine or a hot beverage while waiting for the night to unfold.\n",
      "\n",
      "That's a wrap for a day in Paris with the given weather conditions! Enjoy your time in this beautiful city.\n"
     ]
    }
   ],
   "source": [
    "# Create an agent with the Bing Grounding tool\n",
    "agent = project_client.agents.create_agent(\n",
    "    model=os.environ[\"MODEL_DEPLOYMENT_NAME\"],  # Model deployment name\n",
    "    name=\"itinerary-agent\",  # Name of the agent\n",
    "    instructions=\"You are a helpful agent that creates an itinerary given the cities' weather information.\",  # Instructions for the agent\n",
    ")\n",
    "\n",
    "print(f\"Created agent, ID: {agent.id}\")\n",
    "\n",
    "# Create a thread for communication\n",
    "thread = project_client.agents.threads.create()\n",
    "print(f\"Created thread, ID: {thread.id}\")\n",
    "\n",
    "user_input = \"\"\"Create an itinerary for Paris given this weather information:\n",
    "Currently, in Paris, it is partly cloudy with a temperature of 68°F (20°C). \n",
    "The forecast for later today predicts heavy downpours and frequent lightning with afternoon thundershowers. \n",
    "The high temperature will reach 69°F (21°C), with a 100% chance of rain\n",
    "\"\"\"  # Example user input\n",
    "\n",
    "run_agent(user_input, thread_id=thread.id, agent_id=agent.id)  # Run the agent with the user input"
   ]
  },
  {
   "cell_type": "markdown",
   "id": "9fad9c77",
   "metadata": {},
   "source": [
    "## Travel Product Agent"
   ]
  },
  {
   "cell_type": "code",
   "execution_count": 9,
   "id": "446c7667",
   "metadata": {},
   "outputs": [
    {
     "name": "stdout",
     "output_type": "stream",
     "text": [
      "['SafeJourney Travel Insurance.docx', 'UrbanTech Laptop Messenger Bag.docx', 'Urban Explorer Daypack.docx', 'Adventure Seeker Sling.docx', 'JetSet Travel Pillow.docx', 'TravelBuddy Digital Luggage Scale.docx', 'TravelConnect WiFi Plan.docx', 'WanderSafe Travel Lock.docx', 'Nomad Traveler Suitcase.docx', 'TechGuard Laptop Bag.docx', 'Metro Commuter Crossbody Bag.docx', 'UrbanTraveler Laptop Backpack.docx', 'Voyager Pro Luggage.docx', 'Executive Pro Laptop Briefcase.docx', 'TravelEase Packing Cubes Set.docx', 'TravelSmart Universal Adapter.docx', 'Globetrotter Elite Suitcase.docx', 'AdventurePro Hiking Backpack.docx']\n",
      "Uploaded file, file ID: assistant-1M4ya6ssfNwHfbgdeoqwb9\n",
      "Uploaded file, file ID: assistant-4d25vXyWsq8pAUkJ24A5df\n",
      "Uploaded file, file ID: assistant-NAxZUjL24LBjX1hVq538Qd\n",
      "Uploaded file, file ID: assistant-1C1UNVvHNoKBZSpaZTSHS7\n",
      "Uploaded file, file ID: assistant-AqdVLyxa7kFSN4RwgbQpYQ\n",
      "Uploaded file, file ID: assistant-BgXMNJ3K2v2ejR5EHuWSGZ\n",
      "Uploaded file, file ID: assistant-K7LewRhvbQkYp8g9mkrVrP\n",
      "Uploaded file, file ID: assistant-Kt1794PY9vHARndfHoexrE\n",
      "Uploaded file, file ID: assistant-EoFf9YZDRYevfyVjR1BZgW\n",
      "Uploaded file, file ID: assistant-1mnmqkamajYsdqRZZuEM6Z\n",
      "Uploaded file, file ID: assistant-Pzypw91VT8oTjfLuDWYxu5\n",
      "Uploaded file, file ID: assistant-Mk3AJj4hLRsC8mTLHrPUBU\n",
      "Uploaded file, file ID: assistant-6SbdBWbhC7gQ4EYaSkaNb8\n",
      "Uploaded file, file ID: assistant-QV6w2hLcJSAhjFhx1d8vyP\n",
      "Uploaded file, file ID: assistant-PufM4HqTPSrrdKoVA9J66x\n",
      "Uploaded file, file ID: assistant-2BKKoCkDG4ujQ6UGfdreZh\n",
      "Uploaded file, file ID: assistant-DokLFvSHKJZGsB3Cpd89L2\n",
      "Uploaded file, file ID: assistant-6LizKHSUv5nN77weLmLQuZ\n",
      "Created vector store, vector store ID: vs_ta6TxBlJFackSNLMududyJ2k\n",
      "Created agent, ID: asst_NIP89D33V1fqf3dxAZ6Vtuv9\n",
      "Created thread, ID: thread_pRbQQyetU1gzotj3C8D8lGiX\n",
      "Created message, ID: msg_N8Ld0P4N3kPLdB2gFif0HBUZ\n",
      "Run finished with status: completed\n",
      "Agent Response: The UrbanTraveler Laptop Backpack offers several notable features designed for convenience and security:\n",
      "\n",
      "1. **Durable Material**: Made from high-quality polyester for durability and water resistance.\n",
      "2. **Laptop Compartment**: Dedicated padded compartment for laptops up to 17 inches.\n",
      "3. **Multiple Compartments**: Includes a main compartment, front pocket, side pockets, and an organizer panel for small items.\n",
      "4. **USB Charging Port**: Built-in USB charging port for convenient device charging on the go.\n",
      "5. **Anti-Theft Features**: Hidden zippers and an RFID-blocking pocket for added security.\n",
      "6. **Adjustable Straps**: Adjustable shoulder straps and a chest strap for a comfortable fit.\n",
      "7. **Ventilated Back Panel**: Mesh back panel for improved airflow and comfort.\n",
      "8. **Luggage Strap**: Back luggage strap for easy attachment to luggage handles.\n",
      "\n",
      "The backpack also has a capacity of 30 liters and can hold up to 30 lbs of weight【4†source】【1†source】【3†source】.\n"
     ]
    }
   ],
   "source": [
    "file_directory = \"../data/travelproducts\"  # Directory containing files to upload\n",
    "\n",
    "# List all files in the directory\n",
    "try:\n",
    "    filenames = os.listdir(file_directory)\n",
    "    print(filenames)\n",
    "except FileNotFoundError:\n",
    "    print(f\"Directory '{file_directory}' not found.\")\n",
    "\n",
    "# Get the full path of a file\n",
    "def get_filepath_for_filename(filename: str) -> str:\n",
    "    base_directory = file_directory\n",
    "    return os.path.join(base_directory, filename)\n",
    "\n",
    "# Upload files to the project client\n",
    "file_ids: list[str] = []\n",
    "for path in [get_filepath_for_filename(filename) for filename in filenames]:\n",
    "    with open(path, \"rb\") as file:\n",
    "        file = project_client.agents.files.upload_and_poll(file_path=path, purpose=FilePurpose.AGENTS)\n",
    "        print(f\"Uploaded file, file ID: {file.id}\")\n",
    "        file_ids.append(file.id)\n",
    "\n",
    "# Create a vector store with the uploaded files\n",
    "vector_store = project_client.agents.vector_stores.create_and_poll(file_ids=file_ids, name=\"travelproducts_vectorstore\")\n",
    "print(f\"Created vector store, vector store ID: {vector_store.id}\")\n",
    "\n",
    "# Create a file search tool\n",
    "file_search = FileSearchTool(vector_store_ids=[vector_store.id])\n",
    "\n",
    "# Create an agent with the file search tool\n",
    "agent = project_client.agents.create_agent(\n",
    "    model=os.environ[\"MODEL_DEPLOYMENT_NAME\"],  # Model deployment name\n",
    "    name=\"travelproducts-agent\",  # Name of the agent\n",
    "    instructions=\"You are a helpful agent and that will provide travel products information from uploaded files\",  # Instructions for the agent\n",
    "    tools=file_search.definitions,  # Tools available to the agent\n",
    "    tool_resources=file_search.resources,  # Resources for the tools\n",
    ")\n",
    "print(f\"Created agent, ID: {agent.id}\")\n",
    "\n",
    "# Create a thread for communication\n",
    "thread = project_client.agents.threads.create()\n",
    "print(f\"Created thread, ID: {thread.id}\")\n",
    "\n",
    "# Example user input for the agent\n",
    "user_input = \"What are the features of the UrbanTraveler?\"  # Example user input\n",
    "run_agent(user_input, thread_id=thread.id, agent_id=agent.id)  #"
   ]
  },
  {
   "cell_type": "markdown",
   "id": "ced4fcf2",
   "metadata": {},
   "source": [
    "## Restaurant Agent"
   ]
  },
  {
   "cell_type": "code",
   "execution_count": 11,
   "id": "e1917ec5",
   "metadata": {},
   "outputs": [
    {
     "name": "stdout",
     "output_type": "stream",
     "text": [
      "TripAdvisor Connection ID: /subscriptions/73047bc3-f020-4930-b16d-fe5c9dd3c73e/resourceGroups/agent_challenge/providers/Microsoft.CognitiveServices/accounts/challengeptff/projects/contoso_projectptff/connections/tripadvisor\n",
      "Created agent, ID: asst_DL2iuQSceBrvKIPV9G9kW0mF\n",
      "Created thread, ID: thread_hUmSRBhfAiRLSUIYvvL2MvAd\n",
      "Created message, ID: msg_jKIA3E4Zh8nmfXEKT5aANATp\n",
      "Run finished with status: completed\n",
      "Agent Response: Here are 3 reviews of the Pizzeria Arrivederci in Paris:\n",
      "\n",
      "1. **Review by sannak926**:\n",
      "   - **Rating**: ★★★★★\n",
      "   - **Title**: Nice and cozy little pizzeria\n",
      "   - **Date**: July 13, 2025\n",
      "   - **Review**: Very good menu and very delicious pizzas. Very popular place! Our table booking was right on time and staff was very friendly!\n",
      "   - **Trip Type**: Couples\n",
      "   - [Read full review](https://www.tripadvisor.com/ShowUserReviews-g187147-d12714552-r1018027105-Reviews-Pizzeria_Arrivederci-Paris_Ile_de_France.html?m=66827#review1018027105)\n",
      "\n",
      "2. **Review by F7796YTingridt**:\n",
      "   - **Rating**: ★★★★★\n",
      "   - **Title**: Loved it!\n",
      "   - **Date**: July 13, 2025\n",
      "   - **Review**: Great food and excellent service. I highly recommend it. Perfect and cozy place, perfect for family and romantic dinners.\n",
      "   - **Trip Type**: Family\n",
      "   - ![User Avatar](https://media-cdn.tripadvisor.com/media/photo-p/1a/f6/e8/91/default-avatar-2020-62.jpg)\n",
      "   - [Read full review](https://www.tripadvisor.com/ShowUserReviews-g187147-d12714552-r1018015470-Reviews-Pizzeria_Arrivederci-Paris_Ile_de_France.html?m=66827#review1018015470)\n",
      "\n",
      "3. **Review by Paradise33022785875**:\n",
      "   - **Rating**: ★★★★★\n",
      "   - **Title**: Amazing 🤩 🍕\n",
      "   - **Date**: July 13, 2025\n",
      "   - **Review**: This place is beautiful, and serves good food, the waiters are kind and fun to talk to, a very good place to bring your family 🍕🤩\n",
      "   - **Trip Type**: Family\n",
      "   - ![User Avatar](https://media-cdn.tripadvisor.com/media/photo-p/1a/f6/e9/bb/default-avatar-2020-65.jpg)\n",
      "   - Sub-ratings:\n",
      "     - Value: ★★★★★\n",
      "     - Service: ★★★★★\n",
      "     - Food: ★★★★★\n",
      "     - Atmosphere: ★★★★★\n",
      "   - [Read full review](https://www.tripadvisor.com/ShowUserReviews-g187147-d12714552-r1018015256-Reviews-Pizzeria_Arrivederci-Paris_Ile_de_France.html?m=66827#review1018015256)\n"
     ]
    }
   ],
   "source": [
    "# Enter TripAdvisor connection names here\n",
    "tripadvisor = \"tripadvisor\"  # Replace with your TripAdvisor connection name\n",
    "\n",
    "# Load the OpenAPI specification from a JSON file\n",
    "with open('../data/tripadvisor/tripadvisor_openapi.json', 'r') as f:\n",
    "    openapi_spec = jsonref.loads(f.read())\n",
    "\n",
    "# Extract the connection list.\n",
    "conn_list = project_client.connections.list()\n",
    "tripadvisor_conn_id = \"\"\n",
    "\n",
    "# Find the connection IDs for TripAdvisor\n",
    "for conn in conn_list:\n",
    "    if conn.name == tripadvisor:\n",
    "        tripadvisor_conn_id = conn.id\n",
    "  \n",
    "# Print the connection names\n",
    "print(f\"TripAdvisor Connection ID: {tripadvisor_conn_id}\")\n",
    "\n",
    "# Create the OpenAPI tool\n",
    "auth = OpenApiConnectionAuthDetails(security_scheme=OpenApiConnectionSecurityScheme(connection_id=tripadvisor_conn_id))\n",
    "tripadvisor_tool = OpenApiTool(\n",
    "                    name=tripadvisor, \n",
    "                    spec=openapi_spec, \n",
    "                    description=\"get hotel and restaurant reviews of a location\", \n",
    "                    auth=auth\n",
    "                )\n",
    "\n",
    "# Create an agent with the file search tool\n",
    "agent = project_client.agents.create_agent(\n",
    "    model=os.environ[\"MODEL_DEPLOYMENT_NAME\"],  # Model deployment name\n",
    "    name=\"restaurant-agent\",  # Name of the agent\n",
    "    instructions=\"You are a helpful agent that provides restaurant recommendations and reviews using TripAdvisor\",  # Instructions for the agent\n",
    "    tools=tripadvisor_tool.definitions,  # Tools available to the agent\n",
    "    tool_resources=tripadvisor_tool.resources,  # Resources for the tools\n",
    ")\n",
    "print(f\"Created agent, ID: {agent.id}\")\n",
    "\n",
    "# Create a thread for communication\n",
    "thread = project_client.agents.threads.create()\n",
    "print(f\"Created thread, ID: {thread.id}\")\n",
    "\n",
    "# Example user input for the agent\n",
    "user_input = \"\"\"\n",
    "    Provide me 3 reviews of the Pizzeria Arrivederci in Paris.    \n",
    "\"\"\"  # Example user input\n",
    "run_agent(user_input, thread_id=thread.id, agent_id=agent.id)  "
   ]
  }
 ],
 "metadata": {
  "kernelspec": {
   "display_name": "Python 3",
   "language": "python",
   "name": "python3"
  },
  "language_info": {
   "codemirror_mode": {
    "name": "ipython",
    "version": 3
   },
   "file_extension": ".py",
   "mimetype": "text/x-python",
   "name": "python",
   "nbconvert_exporter": "python",
   "pygments_lexer": "ipython3",
   "version": "3.10.12"
  }
 },
 "nbformat": 4,
 "nbformat_minor": 5
}
