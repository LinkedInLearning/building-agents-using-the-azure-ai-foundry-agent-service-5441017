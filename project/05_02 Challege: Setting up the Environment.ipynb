{
 "cells": [
  {
   "cell_type": "markdown",
   "id": "544cd40b",
   "metadata": {},
   "source": [
    "## Challenge: Setting up the environment\n",
    "\n",
    "Given that IT management needs to have full access to messages and files, your first task is to setup the agent using the standard setup.\n",
    "\n",
    "In addition, you need to provide your account the following access:\n",
    "- Read access to the Account Storage\n",
    "- Read access to the Azure Cosmos DB\n",
    "\n",
    "You will set your model TPM rate limit to 150,000 using the Global Standard Deployment Type.\n",
    "\n",
    "Name the following resources:\n",
    "- Resource Group Name: agent_challenge\n",
    "- Region: West US\n",
    "- Location: West US\n",
    "- AI Services: challenge\n",
    "- First Project Name: Contoso_project\n",
    "- Project Description: Multiagent system for Contoso Travel\n",
    "- Display Name: Contoso Travel System\n",
    "\n"
   ]
  }
 ],
 "metadata": {
  "language_info": {
   "name": "python"
  }
 },
 "nbformat": 4,
 "nbformat_minor": 5
}
