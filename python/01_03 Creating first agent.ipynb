{
 "cells": [
  {
   "cell_type": "markdown",
   "id": "eb456d83",
   "metadata": {},
   "source": [
    "# Creating first agent"
   ]
  },
  {
   "cell_type": "markdown",
   "id": "4e5c74de",
   "metadata": {},
   "source": [
    "## Install Packages"
   ]
  },
  {
   "cell_type": "code",
   "execution_count": null,
   "id": "4a1536b4",
   "metadata": {},
   "outputs": [],
   "source": [
    "%pip install azure-ai-projects\n",
    "%pip install azure-identity"
   ]
  },
  {
   "cell_type": "markdown",
   "id": "d8f6785b",
   "metadata": {},
   "source": [
    "## Import the libraries"
   ]
  },
  {
   "cell_type": "code",
   "execution_count": 14,
   "id": "857a9a83",
   "metadata": {},
   "outputs": [],
   "source": [
    "import os\n",
    "from azure.ai.projects import AIProjectClient\n",
    "from azure.identity import DefaultAzureCredential"
   ]
  },
  {
   "cell_type": "markdown",
   "id": "59aabdeb",
   "metadata": {},
   "source": [
    "## Create the AI Project Client\n",
    "\n",
    "NOTE: \n",
    "- If you don't have Azure CLI, you first need to install it:\n",
    "   curl -sL https://aka.ms/InstallAzureCLIDeb | sudo bash\n",
    "- Login to Azure\n",
    "   az login\n",
    "\n"
   ]
  },
  {
   "cell_type": "code",
   "execution_count": 15,
   "id": "d2b1f8e5",
   "metadata": {},
   "outputs": [],
   "source": [
    "# Create an Azure AI Client from an endpoint, copied from your Azure AI Foundry project.\n",
    "# You need to login to Azure subscription via Azure CLI and set the environment variables\n",
    "project_endpoint = os.environ[\"PROJECT_ENDPOINT\"]  # Ensure the PROJECT_ENDPOINT environment variable is set\n",
    "\n",
    "# Create an AIProjectClient instance\n",
    "project_client = AIProjectClient(\n",
    "    endpoint=project_endpoint,\n",
    "    credential=DefaultAzureCredential(),  # Use Azure Default Credential for authentication\n",
    ")"
   ]
  },
  {
   "cell_type": "markdown",
   "id": "82efcd58",
   "metadata": {},
   "source": [
    "## Create the agent"
   ]
  },
  {
   "cell_type": "code",
   "execution_count": 16,
   "id": "f3d34b3f",
   "metadata": {},
   "outputs": [
    {
     "name": "stdout",
     "output_type": "stream",
     "text": [
      "Created agent, ID: asst_YVxnuANECcPWEGWNRrFf8bLD\n"
     ]
    }
   ],
   "source": [
    "agent = project_client.agents.create_agent(\n",
    "        model=os.environ[\"MODEL_DEPLOYMENT_NAME\"],  # Model deployment name\n",
    "        name=\"my-agent\",  # Name of the agent\n",
    "        instructions=\"You are a helpful agent\",  # Instructions for the agent\n",
    "        \n",
    "    )\n",
    "\n",
    "print(f\"Created agent, ID: {agent.id}\")"
   ]
  },
  {
   "cell_type": "markdown",
   "id": "19b16fbd",
   "metadata": {},
   "source": [
    "## Create thread"
   ]
  },
  {
   "cell_type": "code",
   "execution_count": 17,
   "id": "9c822423",
   "metadata": {},
   "outputs": [
    {
     "name": "stdout",
     "output_type": "stream",
     "text": [
      "Created thread, ID: thread_AWb6CyHej0YEVxnozmz8toCp\n"
     ]
    }
   ],
   "source": [
    "# Create a thread for communication\n",
    "thread = project_client.agents.threads.create()\n",
    "print(f\"Created thread, ID: {thread.id}\")"
   ]
  },
  {
   "cell_type": "markdown",
   "id": "800c4642",
   "metadata": {},
   "source": [
    "## Helper function\n",
    "- adds messages to the thread\n",
    "- run the agent\n",
    "- display the agent response"
   ]
  },
  {
   "cell_type": "code",
   "execution_count": 24,
   "id": "69a9e997",
   "metadata": {},
   "outputs": [],
   "source": [
    "def run_agent(user_input):\n",
    "    # Add a message to the thread\n",
    "    message = project_client.agents.messages.create(\n",
    "        thread_id=thread.id,\n",
    "        role=\"user\",  # Role of the message sender\n",
    "        content=user_input,  # Message content\n",
    "    )\n",
    "    print(f\"Created message, ID: {message['id']}\")\n",
    "\n",
    "     # Create and process agent run in thread with tools\n",
    "    run = project_client.agents.runs.create_and_process(thread_id=thread.id, agent_id=agent.id)\n",
    "    print(f\"Run finished with status: {run.status}\")\n",
    "\n",
    "    if run.status == \"failed\":\n",
    "        print(f\"Run failed: {run.last_error}\")\n",
    "    elif run.status == \"completed\":\n",
    "        # Fetch the first message in the thread to see the agent's response\n",
    "        messages = list(project_client.agents.messages.list(thread_id=thread.id))\n",
    "        if messages:\n",
    "            first_message = messages[0]\n",
    "            content = first_message['content']\n",
    "            # Extract the text value if present\n",
    "            if isinstance(content, list) and content:\n",
    "                text_value = content[0].get('text', {}).get('value', '')\n",
    "                print(text_value)"
   ]
  },
  {
   "cell_type": "markdown",
   "id": "b4ac8445",
   "metadata": {},
   "source": [
    "## Run the agent"
   ]
  },
  {
   "cell_type": "code",
   "execution_count": 27,
   "id": "42acc584",
   "metadata": {},
   "outputs": [
    {
     "name": "stdout",
     "output_type": "stream",
     "text": [
      "Created message, ID: msg_PinJeeiDlUresfR47kndgNRl\n",
      "Run finished with status: completed\n",
      "Certainly! Here are five must-see attractions in New York City:\n",
      "\n",
      "1. **Statue of Liberty and Ellis Island**: Visit these iconic landmarks to learn about the history of immigration and enjoy stunning views of New York Harbor. The Statue of Liberty is a universal symbol of freedom, while Ellis Island offers a rich, immersive historical experience.\n",
      "\n",
      "2. **Central Park**: This expansive green space in the heart of Manhattan offers something for everyone, including walking trails, boating, picturesque bridges, historical statues, and the Central Park Zoo. It’s a perfect place to relax and enjoy nature amidst the urban environment.\n",
      "\n",
      "3. **Times Square**: Known for its buzzing atmosphere, bright lights, massive billboards, and Broadway theaters, Times Square is the epitome of New York City’s vibrant energy. It's a prime location for entertainment and people-watching.\n",
      "\n",
      "4. **Empire State Building**: Ascend to the observation decks of this iconic skyscraper for breathtaking panoramic views of the New York City skyline. The Empire State Building is a historic and architectural marvel that offers unforgettable vistas.\n",
      "\n",
      "5. **Metropolitan Museum of Art (The Met)**: One of the largest and most comprehensive art museums in the world, The Met houses an extensive collection spanning various cultures, time periods, and art forms. It’s a treasure trove of artistic and historical exhibits.\n",
      "\n",
      "These attractions provide a snapshot of New York City's rich culture, history, and vibrant urban life.\n"
     ]
    }
   ],
   "source": [
    "user_input = \"What are the 5 things I can see in New York?\"\n",
    "run_agent(user_input)"
   ]
  },
  {
   "cell_type": "markdown",
   "id": "5ba46347",
   "metadata": {},
   "source": [
    "## Cleanup resources"
   ]
  },
  {
   "cell_type": "code",
   "execution_count": 28,
   "id": "707b1b08",
   "metadata": {},
   "outputs": [
    {
     "name": "stdout",
     "output_type": "stream",
     "text": [
      "Deleted agent\n"
     ]
    }
   ],
   "source": [
    "# Delete the agent after use\n",
    "project_client.agents.delete_agent(agent.id)\n",
    "print(\"Deleted agent\")"
   ]
  },
  {
   "cell_type": "markdown",
   "id": "b018a574",
   "metadata": {},
   "source": [
    "## Creating an agent and thread"
   ]
  },
  {
   "cell_type": "code",
   "execution_count": 31,
   "id": "7956362b",
   "metadata": {},
   "outputs": [
    {
     "name": "stdout",
     "output_type": "stream",
     "text": [
      "Created agent, ID: asst_dXEhyPlIdi0nnGCCKUDva3jT\n"
     ]
    }
   ],
   "source": [
    "agent = project_client.agents.create_agent(\n",
    "        model=os.environ[\"MODEL_DEPLOYMENT_NAME\"],  # Model deployment name\n",
    "        name=\"my-agent\",  # Name of the agent\n",
    "        instructions=\"You are a helpful agent\",  # Instructions for the agent\n",
    "        \n",
    "    )\n",
    "print(f\"Created agent, ID: {agent.id}\")\n",
    "agent_id = agent.id\n"
   ]
  },
  {
   "cell_type": "markdown",
   "id": "b60a48ce",
   "metadata": {},
   "source": [
    "## Retrieving an agent"
   ]
  },
  {
   "cell_type": "code",
   "execution_count": 32,
   "id": "8f4a1023",
   "metadata": {},
   "outputs": [],
   "source": [
    "agent = project_client.agents.get_agent(agent_id)"
   ]
  },
  {
   "cell_type": "markdown",
   "id": "99973394",
   "metadata": {},
   "source": [
    "## Create thread\n",
    "\n",
    "To retrieve a thread\n",
    "- thread = project.agents.threads.get(\"\")"
   ]
  },
  {
   "cell_type": "code",
   "execution_count": 33,
   "id": "8d5bd4aa",
   "metadata": {},
   "outputs": [
    {
     "name": "stdout",
     "output_type": "stream",
     "text": [
      "Created thread, ID: thread_qopPGZiB61t2jPDyMk1aNqr9\n"
     ]
    }
   ],
   "source": [
    "# Create a thread for communication\n",
    "thread = project_client.agents.threads.create()\n",
    "print(f\"Created thread, ID: {thread.id}\")"
   ]
  },
  {
   "cell_type": "markdown",
   "id": "b89d0335",
   "metadata": {},
   "source": [
    "## Run agent"
   ]
  },
  {
   "cell_type": "code",
   "execution_count": 34,
   "id": "7c1202fd",
   "metadata": {},
   "outputs": [
    {
     "name": "stdout",
     "output_type": "stream",
     "text": [
      "Created message, ID: msg_0IIEBPmLxc0nHjUTr6Uk1fKM\n",
      "Run finished with status: completed\n",
      "San Francisco is a diverse city with many attractions. Here are five must-see places:\n",
      "\n",
      "1. **Golden Gate Bridge**: One of the most iconic landmarks in San Francisco, offering breathtaking views and photo opportunities. You can walk, bike, or drive across the bridge.\n",
      "   \n",
      "2. **Alcatraz Island**: This historic former prison is located on an island in San Francisco Bay. Take a ferry ride to visit the abandoned prison cells and learn about its history on a guided tour.\n",
      "   \n",
      "3. **Fisherman's Wharf**: A popular waterfront area known for its seafood, street performers, souvenir shops, and family-friendly attractions. Don’t miss a visit to Pier 39 to see the sea lions.\n",
      "   \n",
      "4. **Chinatown**: San Francisco's Chinatown is the oldest and one of the largest in North America. Explore its bustling streets, traditional shops, temples, and enjoy authentic Chinese cuisine.\n",
      "   \n",
      "5. **Golden Gate Park**: This vast urban park offers a variety of attractions including the California Academy of Sciences, the de Young Museum, Japanese Tea Garden, and beautiful gardens and trails.\n",
      "\n",
      "Each of these attractions provides a unique experience and insight into the vibrant culture and history of San Francisco.\n"
     ]
    }
   ],
   "source": [
    "user_input = \"What are the 5 things I can see in San Francisco?\"\n",
    "run_agent(user_input)"
   ]
  },
  {
   "cell_type": "markdown",
   "id": "b1933532",
   "metadata": {},
   "source": [
    "## Cleanup resources"
   ]
  },
  {
   "cell_type": "code",
   "execution_count": 35,
   "id": "5c55daf1",
   "metadata": {},
   "outputs": [
    {
     "name": "stdout",
     "output_type": "stream",
     "text": [
      "Deleted agent\n"
     ]
    }
   ],
   "source": [
    "# Delete the agent after use\n",
    "project_client.agents.delete_agent(agent.id)\n",
    "print(\"Deleted agent\")"
   ]
  }
 ],
 "metadata": {
  "kernelspec": {
   "display_name": "Python 3",
   "language": "python",
   "name": "python3"
  },
  "language_info": {
   "codemirror_mode": {
    "name": "ipython",
    "version": 3
   },
   "file_extension": ".py",
   "mimetype": "text/x-python",
   "name": "python",
   "nbconvert_exporter": "python",
   "pygments_lexer": "ipython3",
   "version": "3.10.12"
  }
 },
 "nbformat": 4,
 "nbformat_minor": 5
}
