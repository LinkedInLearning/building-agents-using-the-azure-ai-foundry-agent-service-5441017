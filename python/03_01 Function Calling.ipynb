{
 "cells": [
  {
   "cell_type": "markdown",
   "id": "eb456d83",
   "metadata": {},
   "source": [
    "# Function Calling"
   ]
  },
  {
   "cell_type": "markdown",
   "id": "4e5c74de",
   "metadata": {},
   "source": [
    "## Install Packages"
   ]
  },
  {
   "cell_type": "code",
   "execution_count": 25,
   "id": "4a1536b4",
   "metadata": {},
   "outputs": [
    {
     "name": "stdout",
     "output_type": "stream",
     "text": [
      "Defaulting to user installation because normal site-packages is not writeable\n",
      "Requirement already satisfied: azure-ai-projects==1.0.0b12 in /home/vscode/.local/lib/python3.10/site-packages (1.0.0b12)\n",
      "Requirement already satisfied: azure-core>=1.30.0 in /home/vscode/.local/lib/python3.10/site-packages (from azure-ai-projects==1.0.0b12) (1.34.0)\n",
      "Requirement already satisfied: azure-storage-blob>=12.15.0 in /home/vscode/.local/lib/python3.10/site-packages (from azure-ai-projects==1.0.0b12) (12.25.1)\n",
      "Requirement already satisfied: azure-ai-agents>=1.0.0 in /home/vscode/.local/lib/python3.10/site-packages (from azure-ai-projects==1.0.0b12) (1.1.0b3)\n",
      "Requirement already satisfied: typing-extensions>=4.12.2 in /home/vscode/.local/lib/python3.10/site-packages (from azure-ai-projects==1.0.0b12) (4.14.0)\n",
      "Requirement already satisfied: isodate>=0.6.1 in /home/vscode/.local/lib/python3.10/site-packages (from azure-ai-projects==1.0.0b12) (0.7.2)\n",
      "Requirement already satisfied: requests>=2.21.0 in /home/vscode/.local/lib/python3.10/site-packages (from azure-core>=1.30.0->azure-ai-projects==1.0.0b12) (2.32.4)\n",
      "Requirement already satisfied: six>=1.11.0 in /home/vscode/.local/lib/python3.10/site-packages (from azure-core>=1.30.0->azure-ai-projects==1.0.0b12) (1.17.0)\n",
      "Requirement already satisfied: cryptography>=2.1.4 in /home/vscode/.local/lib/python3.10/site-packages (from azure-storage-blob>=12.15.0->azure-ai-projects==1.0.0b12) (45.0.4)\n",
      "Requirement already satisfied: cffi>=1.14 in /home/vscode/.local/lib/python3.10/site-packages (from cryptography>=2.1.4->azure-storage-blob>=12.15.0->azure-ai-projects==1.0.0b12) (1.17.1)\n",
      "Requirement already satisfied: idna<4,>=2.5 in /home/vscode/.local/lib/python3.10/site-packages (from requests>=2.21.0->azure-core>=1.30.0->azure-ai-projects==1.0.0b12) (3.10)\n",
      "Requirement already satisfied: certifi>=2017.4.17 in /home/vscode/.local/lib/python3.10/site-packages (from requests>=2.21.0->azure-core>=1.30.0->azure-ai-projects==1.0.0b12) (2025.6.15)\n",
      "Requirement already satisfied: charset_normalizer<4,>=2 in /home/vscode/.local/lib/python3.10/site-packages (from requests>=2.21.0->azure-core>=1.30.0->azure-ai-projects==1.0.0b12) (3.4.2)\n",
      "Requirement already satisfied: urllib3<3,>=1.21.1 in /home/vscode/.local/lib/python3.10/site-packages (from requests>=2.21.0->azure-core>=1.30.0->azure-ai-projects==1.0.0b12) (2.5.0)\n",
      "Requirement already satisfied: pycparser in /home/vscode/.local/lib/python3.10/site-packages (from cffi>=1.14->cryptography>=2.1.4->azure-storage-blob>=12.15.0->azure-ai-projects==1.0.0b12) (2.22)\n",
      "\n",
      "\u001b[1m[\u001b[0m\u001b[34;49mnotice\u001b[0m\u001b[1;39;49m]\u001b[0m\u001b[39;49m A new release of pip is available: \u001b[0m\u001b[31;49m23.0.1\u001b[0m\u001b[39;49m -> \u001b[0m\u001b[32;49m25.1.1\u001b[0m\n",
      "\u001b[1m[\u001b[0m\u001b[34;49mnotice\u001b[0m\u001b[1;39;49m]\u001b[0m\u001b[39;49m To update, run: \u001b[0m\u001b[32;49mpip install --upgrade pip\u001b[0m\n",
      "Note: you may need to restart the kernel to use updated packages.\n",
      "Defaulting to user installation because normal site-packages is not writeable\n",
      "Requirement already satisfied: azure-identity in /home/vscode/.local/lib/python3.10/site-packages (1.23.0)\n",
      "Requirement already satisfied: msal>=1.30.0 in /home/vscode/.local/lib/python3.10/site-packages (from azure-identity) (1.32.3)\n",
      "Requirement already satisfied: cryptography>=2.5 in /home/vscode/.local/lib/python3.10/site-packages (from azure-identity) (45.0.4)\n",
      "Requirement already satisfied: msal-extensions>=1.2.0 in /home/vscode/.local/lib/python3.10/site-packages (from azure-identity) (1.3.1)\n",
      "Requirement already satisfied: typing-extensions>=4.0.0 in /home/vscode/.local/lib/python3.10/site-packages (from azure-identity) (4.14.0)\n",
      "Requirement already satisfied: azure-core>=1.31.0 in /home/vscode/.local/lib/python3.10/site-packages (from azure-identity) (1.34.0)\n",
      "Requirement already satisfied: six>=1.11.0 in /home/vscode/.local/lib/python3.10/site-packages (from azure-core>=1.31.0->azure-identity) (1.17.0)\n",
      "Requirement already satisfied: requests>=2.21.0 in /home/vscode/.local/lib/python3.10/site-packages (from azure-core>=1.31.0->azure-identity) (2.32.4)\n",
      "Requirement already satisfied: cffi>=1.14 in /home/vscode/.local/lib/python3.10/site-packages (from cryptography>=2.5->azure-identity) (1.17.1)\n",
      "Requirement already satisfied: PyJWT[crypto]<3,>=1.0.0 in /home/vscode/.local/lib/python3.10/site-packages (from msal>=1.30.0->azure-identity) (2.10.1)\n",
      "Requirement already satisfied: pycparser in /home/vscode/.local/lib/python3.10/site-packages (from cffi>=1.14->cryptography>=2.5->azure-identity) (2.22)\n",
      "Requirement already satisfied: urllib3<3,>=1.21.1 in /home/vscode/.local/lib/python3.10/site-packages (from requests>=2.21.0->azure-core>=1.31.0->azure-identity) (2.5.0)\n",
      "Requirement already satisfied: idna<4,>=2.5 in /home/vscode/.local/lib/python3.10/site-packages (from requests>=2.21.0->azure-core>=1.31.0->azure-identity) (3.10)\n",
      "Requirement already satisfied: certifi>=2017.4.17 in /home/vscode/.local/lib/python3.10/site-packages (from requests>=2.21.0->azure-core>=1.31.0->azure-identity) (2025.6.15)\n",
      "Requirement already satisfied: charset_normalizer<4,>=2 in /home/vscode/.local/lib/python3.10/site-packages (from requests>=2.21.0->azure-core>=1.31.0->azure-identity) (3.4.2)\n",
      "\n",
      "\u001b[1m[\u001b[0m\u001b[34;49mnotice\u001b[0m\u001b[1;39;49m]\u001b[0m\u001b[39;49m A new release of pip is available: \u001b[0m\u001b[31;49m23.0.1\u001b[0m\u001b[39;49m -> \u001b[0m\u001b[32;49m25.1.1\u001b[0m\n",
      "\u001b[1m[\u001b[0m\u001b[34;49mnotice\u001b[0m\u001b[1;39;49m]\u001b[0m\u001b[39;49m To update, run: \u001b[0m\u001b[32;49mpip install --upgrade pip\u001b[0m\n",
      "Note: you may need to restart the kernel to use updated packages.\n",
      "Defaulting to user installation because normal site-packages is not writeable\n",
      "Requirement already satisfied: azure-ai-agents==1.1.0b3 in /home/vscode/.local/lib/python3.10/site-packages (1.1.0b3)\n",
      "Requirement already satisfied: azure-core>=1.30.0 in /home/vscode/.local/lib/python3.10/site-packages (from azure-ai-agents==1.1.0b3) (1.34.0)\n",
      "Requirement already satisfied: typing-extensions>=4.6.0 in /home/vscode/.local/lib/python3.10/site-packages (from azure-ai-agents==1.1.0b3) (4.14.0)\n",
      "Requirement already satisfied: isodate>=0.6.1 in /home/vscode/.local/lib/python3.10/site-packages (from azure-ai-agents==1.1.0b3) (0.7.2)\n",
      "Requirement already satisfied: six>=1.11.0 in /home/vscode/.local/lib/python3.10/site-packages (from azure-core>=1.30.0->azure-ai-agents==1.1.0b3) (1.17.0)\n",
      "Requirement already satisfied: requests>=2.21.0 in /home/vscode/.local/lib/python3.10/site-packages (from azure-core>=1.30.0->azure-ai-agents==1.1.0b3) (2.32.4)\n",
      "Requirement already satisfied: urllib3<3,>=1.21.1 in /home/vscode/.local/lib/python3.10/site-packages (from requests>=2.21.0->azure-core>=1.30.0->azure-ai-agents==1.1.0b3) (2.5.0)\n",
      "Requirement already satisfied: idna<4,>=2.5 in /home/vscode/.local/lib/python3.10/site-packages (from requests>=2.21.0->azure-core>=1.30.0->azure-ai-agents==1.1.0b3) (3.10)\n",
      "Requirement already satisfied: certifi>=2017.4.17 in /home/vscode/.local/lib/python3.10/site-packages (from requests>=2.21.0->azure-core>=1.30.0->azure-ai-agents==1.1.0b3) (2025.6.15)\n",
      "Requirement already satisfied: charset_normalizer<4,>=2 in /home/vscode/.local/lib/python3.10/site-packages (from requests>=2.21.0->azure-core>=1.30.0->azure-ai-agents==1.1.0b3) (3.4.2)\n",
      "\n",
      "\u001b[1m[\u001b[0m\u001b[34;49mnotice\u001b[0m\u001b[1;39;49m]\u001b[0m\u001b[39;49m A new release of pip is available: \u001b[0m\u001b[31;49m23.0.1\u001b[0m\u001b[39;49m -> \u001b[0m\u001b[32;49m25.1.1\u001b[0m\n",
      "\u001b[1m[\u001b[0m\u001b[34;49mnotice\u001b[0m\u001b[1;39;49m]\u001b[0m\u001b[39;49m To update, run: \u001b[0m\u001b[32;49mpip install --upgrade pip\u001b[0m\n",
      "Note: you may need to restart the kernel to use updated packages.\n"
     ]
    }
   ],
   "source": [
    "%pip install azure-ai-projects==1.0.0b12\n",
    "%pip install azure-identity\n",
    "%pip install azure-ai-agents==1.1.0b3"
   ]
  },
  {
   "cell_type": "markdown",
   "id": "d8f6785b",
   "metadata": {},
   "source": [
    "## Import the libraries"
   ]
  },
  {
   "cell_type": "code",
   "execution_count": 2,
   "id": "857a9a83",
   "metadata": {},
   "outputs": [],
   "source": [
    "import os, json, time\n",
    "from azure.ai.projects import AIProjectClient\n",
    "from azure.identity import DefaultAzureCredential\n",
    "from azure.ai.agents.models import (\n",
    "    FunctionTool,\n",
    "    RequiredFunctionToolCall,\n",
    "    SubmitToolOutputsAction,\n",
    "    ToolOutput,\n",
    "    ToolSet,\n",
    "    MessageRole\n",
    ")"
   ]
  },
  {
   "cell_type": "markdown",
   "id": "59aabdeb",
   "metadata": {},
   "source": [
    "## Create the AI Project Client\n",
    "\n",
    "NOTE: \n",
    "- If you don't have Azure CLI, you first need to install it:\n",
    "   curl -sL https://aka.ms/InstallAzureCLIDeb | sudo bash\n",
    "- Login to Azure\n",
    "   az login\n",
    "\n"
   ]
  },
  {
   "cell_type": "code",
   "execution_count": 3,
   "id": "d2b1f8e5",
   "metadata": {},
   "outputs": [],
   "source": [
    "# Create an Azure AI Client from an endpoint, copied from your Azure AI Foundry project.\n",
    "# You need to login to Azure subscription via Azure CLI and set the environment variables\n",
    "project_endpoint = os.environ[\"PROJECT_ENDPOINT\"]  # Ensure the PROJECT_ENDPOINT environment variable is set\n",
    "\n",
    "# Create an AIProjectClient instance\n",
    "project_client = AIProjectClient(\n",
    "    endpoint=project_endpoint,\n",
    "    credential=DefaultAzureCredential(),  # Use Azure Default Credential for authentication\n",
    ")"
   ]
  },
  {
   "cell_type": "markdown",
   "id": "56d75e47",
   "metadata": {},
   "source": [
    "## Define Functions and Function tool"
   ]
  },
  {
   "cell_type": "code",
   "execution_count": 4,
   "id": "111c116b",
   "metadata": {},
   "outputs": [],
   "source": [
    "def fetch_weather(location: str) -> str:\n",
    "    \"\"\"\n",
    "    Fetches the weather information for the specified location.\n",
    "\n",
    "    :param location (str): The location to fetch weather for.\n",
    "    :return: Weather information as a JSON string.\n",
    "    :rtype: str\n",
    "    \"\"\"\n",
    "    # In a real-world scenario, you'd integrate with a weather API.\n",
    "    # Here, we'll mock the response.\n",
    "    mock_weather_data = {\n",
    "        \"New York\": \"Sunny, 25°C\", \n",
    "        \"London\": \"Cloudy, 18°C\", \n",
    "        \"Tokyo\": \"Rainy, 22°C\"\n",
    "    }\n",
    "    weather = mock_weather_data.get(location, \"Weather data not available for this location.\")\n",
    "    weather_json = json.dumps({\"weather\": weather})\n",
    "    return weather_json\n",
    "\n",
    "def fetch_restaurant(location: str) -> str:\n",
    "    \"\"\"\n",
    "    Fetches the restaurant information for the specified location.\n",
    "\n",
    "    :param location (str): The location to fetch the restaurant for.\n",
    "    :return: Restaurant information as a JSON string.\n",
    "    :rtype: str\n",
    "    \"\"\"\n",
    "    # In a real-world scenario, you'd integrate with a restaurant API.\n",
    "    # Here, we'll mock the response.\n",
    "    mock_restaurant_data = {\n",
    "        \"New York\": \"Tatiana by Kwame Onwuachi, Katz’s Delicatessen, Peter Luger Steakhouse, Sylvia's, Nathan's Famous\", \n",
    "        \"London\": \"St. JOHN, Señor Ceviche, Gloria and Circolo Popolare, Normah's, Bouchon Racine\", \n",
    "        \"Tokyo\": \"Chanko & Wanko Restaurant Asakusa Sumo Club, Sky Restaurant 634 Musashi, Ichiran, Shibuya, Rokkasen Otakibashiidori, Hakushu - Kobe Teppanyaki\"\n",
    "    }\n",
    "    restaurant = mock_restaurant_data.get(location, \"Restaurant data not available for this location.\")\n",
    "    restaurant_json = json.dumps({\"restaurant\": restaurant})\n",
    "    return restaurant_json\n",
    "\n",
    "def fetch_budget() -> str:\n",
    "    \"\"\"\n",
    "    Fetches the budget information for the specified location.\n",
    "    :return: budget information as a JSON string.\n",
    "    :rtype: str\n",
    "    \"\"\"\n",
    "    # In a real-world scenario, you'd integrate with a another API.\n",
    "    # Here, we'll mock the response.\n",
    "    mock_budget_data = {\n",
    "        \"New York\": \"\"\"\n",
    "            Budget Travelers: Around $121 per day. This includes staying in hostels, eating at budget restaurants, and using public transportation.\n",
    "            Mid-Range Travelers: Approximately $324 per day. This covers mid-range hotels, dining at average restaurants, and some paid attractions.\n",
    "            Luxury Travelers: About $923 per day. This includes luxury hotels, fine dining, and private transportation.\n",
    "        \"\"\", \n",
    "        \"London\": \"\"\"\n",
    "            Budget Travelers: Around $75 per day. This includes staying in hostels, cooking your own meals, and using public transport.\n",
    "            Mid-Range Travelers: Approximately $195 per day. This covers mid-range hotels, dining at average restaurants, and some paid attractions.\n",
    "            Luxury Travelers: About $517 per day. This includes luxury hotels, fine dining, and private transportation.\n",
    "        \"\"\", \n",
    "        \"Tokyo\": \"\"\"\n",
    "            Budget Travelers: Around $100 per day. This includes staying in hostels, eating at budget restaurants, and using public transportation.\n",
    "            Mid-Range Travelers: Approximately $286 per day. This covers mid-range hotels, dining at average restaurants, and some paid attractions.\n",
    "            Luxury Travelers: About $908 per day. This includes luxury hotels, fine dining, and private transportation.\n",
    "        \"\"\"\n",
    "    }\n",
    "    budget_json = json.dumps({\"budget\": mock_budget_data})\n",
    "    return budget_json\n",
    "\n",
    "# Define user functions\n",
    "user_functions = {fetch_weather, fetch_restaurant, fetch_budget}\n",
    "\n",
    "# Initialize the FunctionTool with user-defined functions\n",
    "functions = FunctionTool(functions=user_functions)\n",
    "toolset = ToolSet()\n",
    "toolset.add(functions)\n",
    "\n",
    "# To enable tool calls executed automatically\n",
    "project_client.agents.enable_auto_function_calls(toolset)"
   ]
  },
  {
   "cell_type": "markdown",
   "id": "82efcd58",
   "metadata": {},
   "source": [
    "## Create the agent"
   ]
  },
  {
   "cell_type": "code",
   "execution_count": 5,
   "id": "f3d34b3f",
   "metadata": {},
   "outputs": [
    {
     "name": "stdout",
     "output_type": "stream",
     "text": [
      "Created agent, ID: asst_YFTEF4JFT913WxbY7yxyoPKo\n"
     ]
    }
   ],
   "source": [
    "# Create an agent with the file search tool\n",
    "agent = project_client.agents.create_agent(\n",
    "    model=os.environ[\"MODEL_DEPLOYMENT_NAME\"],  # Model deployment name\n",
    "    name=\"my-functioncalling-agent\",  # Name of the agent\n",
    "    instructions=\"You are a helpful agent and can search information from uploaded files\",  # Instructions for the agent\n",
    "    toolset=toolset,  # Toolset containing all the tools\n",
    "  \n",
    ")\n",
    "print(f\"Created agent, ID: {agent.id}\")"
   ]
  },
  {
   "cell_type": "markdown",
   "id": "19b16fbd",
   "metadata": {},
   "source": [
    "## Create thread"
   ]
  },
  {
   "cell_type": "code",
   "execution_count": 6,
   "id": "9c822423",
   "metadata": {},
   "outputs": [
    {
     "name": "stdout",
     "output_type": "stream",
     "text": [
      "Created thread, ID: thread_IHI2a839kXVHud6Ng2OnWEvK\n"
     ]
    }
   ],
   "source": [
    "# Create a thread for communication\n",
    "thread = project_client.agents.threads.create()\n",
    "print(f\"Created thread, ID: {thread.id}\")"
   ]
  },
  {
   "cell_type": "markdown",
   "id": "800c4642",
   "metadata": {},
   "source": [
    "## Helper function\n",
    "- adds messages to the thread\n",
    "- run the agent\n",
    "- display the agent response"
   ]
  },
  {
   "cell_type": "code",
   "execution_count": 7,
   "id": "647fbee0",
   "metadata": {},
   "outputs": [],
   "source": [
    "def run_agent(user_input):\n",
    "    # Add a message to the thread\n",
    "    message = project_client.agents.messages.create(\n",
    "        thread_id=thread.id,\n",
    "        role=\"user\",  # Role of the message sender\n",
    "        content=user_input,  # Message content\n",
    "    )\n",
    "    print(f\"Created message, ID: {message['id']}\")\n",
    "\n",
    "     # Create and process agent run in thread with tools\n",
    "    run = project_client.agents.runs.create_and_process(thread_id=thread.id, agent_id=agent.id)\n",
    "    print(f\"Run finished with status: {run.status}\")\n",
    "\n",
    "    # Check the status of the run and print the result\n",
    "    if run.status == \"failed\":\n",
    "        print(f\"Run failed: {run.last_error}\")\n",
    "    elif run.status == \"completed\":\n",
    "        last_msg = project_client.agents.messages.get_last_message_text_by_role(thread_id=thread.id, role=MessageRole.AGENT)\n",
    "        if last_msg:\n",
    "            print(f\"Agent Response: {last_msg.text.value}\")"
   ]
  },
  {
   "cell_type": "code",
   "execution_count": 8,
   "id": "69a9e997",
   "metadata": {},
   "outputs": [],
   "source": [
    "def run_agent_details(user_input):\n",
    "    # Add a message to the thread\n",
    "    message = project_client.agents.messages.create(\n",
    "        thread_id=thread.id,\n",
    "        role=\"user\",  # Role of the message sender\n",
    "        content=user_input,  # Message content\n",
    "    )\n",
    "    print(f\"Created message, ID: {message['id']}\")\n",
    "\n",
    "    # Create a run for the agent\n",
    "    run = project_client.agents.runs.create(thread_id=thread.id, agent_id=agent.id)\n",
    "    print(f\"Created run, ID: {run.id}\")\n",
    "\n",
    "    # Poll the run status until it completes or fails\n",
    "    while run.status in [\"queued\", \"in_progress\", \"requires_action\"]:\n",
    "        time.sleep(1)\n",
    "        run = project_client.agents.runs.get(thread_id=thread.id, run_id=run.id)\n",
    "\n",
    "        # Check if the run requires action\n",
    "        if run.status == \"requires_action\" and isinstance(run.required_action, SubmitToolOutputsAction):\n",
    "\n",
    "            tool_calls = run.required_action.submit_tool_outputs.tool_calls\n",
    "            if not tool_calls:\n",
    "                print(\"No tool calls provided - cancelling run\")\n",
    "                project_client.agents.runs.cancel(thread_id=thread.id, run_id=run.id)\n",
    "                break\n",
    "\n",
    "            tool_outputs = []\n",
    "            for tool_call in tool_calls:\n",
    "                if isinstance(tool_call, RequiredFunctionToolCall):\n",
    "                    try:\n",
    "                        print(f\"Executing tool call: {tool_call}\")\n",
    "                        output = functions.execute(tool_call)\n",
    "                        tool_outputs.append(\n",
    "                            ToolOutput(\n",
    "                                tool_call_id=tool_call.id,\n",
    "                                output=output,\n",
    "                            )\n",
    "                        )\n",
    "                    except Exception as e:\n",
    "                        print(f\"Error executing tool_call {tool_call.id}: {e}\")\n",
    "\n",
    "            print(f\"Tool outputs: {tool_outputs}\")\n",
    "            if tool_outputs:\n",
    "                project_client.agents.runs.submit_tool_outputs(thread_id=thread.id, run_id=run.id, tool_outputs=tool_outputs)\n",
    "\n",
    "        print(f\"Current run status: {run.status}\")\n",
    "\n",
    "    print(f\"Run completed with status: {run.status}\")\n",
    "\n",
    "    # Check the status of the run and print the result\n",
    "    if run.status == \"failed\":\n",
    "        print(f\"Run failed: {run.last_error}\")\n",
    "    elif run.status == \"completed\":\n",
    "        last_msg = project_client.agents.messages.get_last_message_text_by_role(thread_id=thread.id, role=MessageRole.AGENT)\n",
    "        if last_msg:\n",
    "            print(f\"Agent Response: {last_msg.text.value}\")"
   ]
  },
  {
   "cell_type": "markdown",
   "id": "b4ac8445",
   "metadata": {},
   "source": [
    "## Run the agent"
   ]
  },
  {
   "cell_type": "code",
   "execution_count": 9,
   "id": "42acc584",
   "metadata": {},
   "outputs": [
    {
     "name": "stdout",
     "output_type": "stream",
     "text": [
      "Created message, ID: msg_TcAzVrd4r6b8GRBCDEeL8Hbf\n",
      "Run finished with status: completed\n",
      "Agent Response: The weather in New York is currently sunny with a temperature of 25°C.\n"
     ]
    }
   ],
   "source": [
    "user_input = \"What is the weather in New York?\"\n",
    "run_agent(user_input)"
   ]
  },
  {
   "cell_type": "code",
   "execution_count": 10,
   "id": "98490f07",
   "metadata": {},
   "outputs": [
    {
     "name": "stdout",
     "output_type": "stream",
     "text": [
      "Created message, ID: msg_UdiVqBM08JDE3gFy0hVXHReU\n",
      "Created run, ID: run_49ljcoQFxHHTCytozVJRjVqC\n",
      "Current run status: in_progress\n",
      "Executing tool call: {'id': 'call_RiJEuPMrDw7SBArt90hqBwnY', 'type': 'function', 'function': {'name': 'fetch_restaurant', 'arguments': '{\"location\":\"London\"}'}}\n",
      "Tool outputs: [{'tool_call_id': 'call_RiJEuPMrDw7SBArt90hqBwnY', 'output': '{\"restaurant\": \"St. JOHN, Se\\\\u00f1or Ceviche, Gloria and Circolo Popolare, Normah\\'s, Bouchon Racine\"}'}]\n",
      "Current run status: requires_action\n",
      "Current run status: completed\n",
      "Run completed with status: completed\n",
      "Agent Response: In London, you can dine at the following restaurants:\n",
      "\n",
      "1. St. JOHN\n",
      "2. Señor Ceviche\n",
      "3. Gloria and Circolo Popolare\n",
      "4. Normah's\n",
      "5. Bouchon Racine\n"
     ]
    }
   ],
   "source": [
    "user_input = \"What can I eat in London?\"\n",
    "run_agent_details(user_input)"
   ]
  },
  {
   "cell_type": "code",
   "execution_count": 11,
   "id": "3050c566",
   "metadata": {},
   "outputs": [
    {
     "name": "stdout",
     "output_type": "stream",
     "text": [
      "Created message, ID: msg_qKxuld4dP131xNilOp4v1tc3\n",
      "Created run, ID: run_gDaCYfGCMB31YAjjsctqkbEw\n",
      "Executing tool call: {'id': 'call_6KqrHoa3Y7RAc6Y5fuhHJCDM', 'type': 'function', 'function': {'name': 'fetch_budget', 'arguments': '{}'}}\n",
      "Tool outputs: [{'tool_call_id': 'call_6KqrHoa3Y7RAc6Y5fuhHJCDM', 'output': '{\"budget\": {\"New York\": \"\\\\n            Budget Travelers: Around $121 per day. This includes staying in hostels, eating at budget restaurants, and using public transportation.\\\\n            Mid-Range Travelers: Approximately $324 per day. This covers mid-range hotels, dining at average restaurants, and some paid attractions.\\\\n            Luxury Travelers: About $923 per day. This includes luxury hotels, fine dining, and private transportation.\\\\n        \", \"London\": \"\\\\n            Budget Travelers: Around $75 per day. This includes staying in hostels, cooking your own meals, and using public transport.\\\\n            Mid-Range Travelers: Approximately $195 per day. This covers mid-range hotels, dining at average restaurants, and some paid attractions.\\\\n            Luxury Travelers: About $517 per day. This includes luxury hotels, fine dining, and private transportation.\\\\n        \", \"Tokyo\": \"\\\\n            Budget Travelers: Around $100 per day. This includes staying in hostels, eating at budget restaurants, and using public transportation.\\\\n            Mid-Range Travelers: Approximately $286 per day. This covers mid-range hotels, dining at average restaurants, and some paid attractions.\\\\n            Luxury Travelers: About $908 per day. This includes luxury hotels, fine dining, and private transportation.\\\\n        \"}}'}]\n",
      "Current run status: requires_action\n",
      "Current run status: in_progress\n",
      "Current run status: completed\n",
      "Run completed with status: completed\n",
      "Agent Response: Given a budget of 300 USD for 4 days, the best option would be London.\n",
      "\n",
      "For budget travelers in London:\n",
      "- The cost is around $75 per day, which translates to $300 for 4 days.\n",
      "\n",
      "This budget includes staying in hostels, cooking your own meals, and using public transport. Enjoy your trip!\n"
     ]
    }
   ],
   "source": [
    "user_input = \"With a small budget of 300USD, where can I go for 4 days?\"\n",
    "run_agent_details(user_input)"
   ]
  },
  {
   "cell_type": "markdown",
   "id": "5ba46347",
   "metadata": {},
   "source": [
    "## Cleanup resources"
   ]
  },
  {
   "cell_type": "code",
   "execution_count": 12,
   "id": "2d50c8b9",
   "metadata": {},
   "outputs": [
    {
     "name": "stdout",
     "output_type": "stream",
     "text": [
      "Deleted agent\n"
     ]
    }
   ],
   "source": [
    "# Cleanup resources\n",
    "\n",
    "# Delete the agent after use\n",
    "project_client.agents.delete_agent(agent.id)\n",
    "print(\"Deleted agent\")\n"
   ]
  }
 ],
 "metadata": {
  "kernelspec": {
   "display_name": "Python 3",
   "language": "python",
   "name": "python3"
  },
  "language_info": {
   "codemirror_mode": {
    "name": "ipython",
    "version": 3
   },
   "file_extension": ".py",
   "mimetype": "text/x-python",
   "name": "python",
   "nbconvert_exporter": "python",
   "pygments_lexer": "ipython3",
   "version": "3.10.12"
  }
 },
 "nbformat": 4,
 "nbformat_minor": 5
}
