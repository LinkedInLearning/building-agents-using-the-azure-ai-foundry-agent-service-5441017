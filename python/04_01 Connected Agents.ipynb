{
 "cells": [
  {
   "cell_type": "markdown",
   "id": "eb456d83",
   "metadata": {},
   "source": [
    "# Connected Agents"
   ]
  },
  {
   "cell_type": "markdown",
   "id": "4e5c74de",
   "metadata": {},
   "source": [
    "## Install Packages"
   ]
  },
  {
   "cell_type": "code",
   "execution_count": 1,
   "id": "4a1536b4",
   "metadata": {},
   "outputs": [
    {
     "name": "stdout",
     "output_type": "stream",
     "text": [
      "Defaulting to user installation because normal site-packages is not writeable\n",
      "Requirement already satisfied: azure-ai-projects==1.0.0b12 in /home/vscode/.local/lib/python3.10/site-packages (1.0.0b12)\n",
      "Requirement already satisfied: isodate>=0.6.1 in /home/vscode/.local/lib/python3.10/site-packages (from azure-ai-projects==1.0.0b12) (0.7.2)\n",
      "Requirement already satisfied: azure-core>=1.30.0 in /home/vscode/.local/lib/python3.10/site-packages (from azure-ai-projects==1.0.0b12) (1.34.0)\n",
      "Requirement already satisfied: typing-extensions>=4.12.2 in /home/vscode/.local/lib/python3.10/site-packages (from azure-ai-projects==1.0.0b12) (4.14.0)\n",
      "Requirement already satisfied: azure-storage-blob>=12.15.0 in /home/vscode/.local/lib/python3.10/site-packages (from azure-ai-projects==1.0.0b12) (12.25.1)\n",
      "Requirement already satisfied: azure-ai-agents>=1.0.0 in /home/vscode/.local/lib/python3.10/site-packages (from azure-ai-projects==1.0.0b12) (1.1.0b3)\n",
      "Requirement already satisfied: requests>=2.21.0 in /home/vscode/.local/lib/python3.10/site-packages (from azure-core>=1.30.0->azure-ai-projects==1.0.0b12) (2.32.4)\n",
      "Requirement already satisfied: six>=1.11.0 in /home/vscode/.local/lib/python3.10/site-packages (from azure-core>=1.30.0->azure-ai-projects==1.0.0b12) (1.17.0)\n",
      "Requirement already satisfied: cryptography>=2.1.4 in /home/vscode/.local/lib/python3.10/site-packages (from azure-storage-blob>=12.15.0->azure-ai-projects==1.0.0b12) (45.0.4)\n",
      "Requirement already satisfied: cffi>=1.14 in /home/vscode/.local/lib/python3.10/site-packages (from cryptography>=2.1.4->azure-storage-blob>=12.15.0->azure-ai-projects==1.0.0b12) (1.17.1)\n",
      "Requirement already satisfied: pycparser in /home/vscode/.local/lib/python3.10/site-packages (from cffi>=1.14->cryptography>=2.1.4->azure-storage-blob>=12.15.0->azure-ai-projects==1.0.0b12) (2.22)\n",
      "Requirement already satisfied: charset_normalizer<4,>=2 in /home/vscode/.local/lib/python3.10/site-packages (from requests>=2.21.0->azure-core>=1.30.0->azure-ai-projects==1.0.0b12) (3.4.2)\n",
      "Requirement already satisfied: idna<4,>=2.5 in /home/vscode/.local/lib/python3.10/site-packages (from requests>=2.21.0->azure-core>=1.30.0->azure-ai-projects==1.0.0b12) (3.10)\n",
      "Requirement already satisfied: urllib3<3,>=1.21.1 in /home/vscode/.local/lib/python3.10/site-packages (from requests>=2.21.0->azure-core>=1.30.0->azure-ai-projects==1.0.0b12) (2.5.0)\n",
      "Requirement already satisfied: certifi>=2017.4.17 in /home/vscode/.local/lib/python3.10/site-packages (from requests>=2.21.0->azure-core>=1.30.0->azure-ai-projects==1.0.0b12) (2025.6.15)\n",
      "Note: you may need to restart the kernel to use updated packages.\n",
      "Defaulting to user installation because normal site-packages is not writeable\n",
      "Requirement already satisfied: azure-identity in /home/vscode/.local/lib/python3.10/site-packages (1.23.0)\n",
      "Requirement already satisfied: azure-core>=1.31.0 in /home/vscode/.local/lib/python3.10/site-packages (from azure-identity) (1.34.0)\n",
      "Requirement already satisfied: cryptography>=2.5 in /home/vscode/.local/lib/python3.10/site-packages (from azure-identity) (45.0.4)\n",
      "Requirement already satisfied: msal>=1.30.0 in /home/vscode/.local/lib/python3.10/site-packages (from azure-identity) (1.32.3)\n",
      "Requirement already satisfied: msal-extensions>=1.2.0 in /home/vscode/.local/lib/python3.10/site-packages (from azure-identity) (1.3.1)\n",
      "Requirement already satisfied: typing-extensions>=4.0.0 in /home/vscode/.local/lib/python3.10/site-packages (from azure-identity) (4.14.0)\n",
      "Requirement already satisfied: requests>=2.21.0 in /home/vscode/.local/lib/python3.10/site-packages (from azure-core>=1.31.0->azure-identity) (2.32.4)\n",
      "Requirement already satisfied: six>=1.11.0 in /home/vscode/.local/lib/python3.10/site-packages (from azure-core>=1.31.0->azure-identity) (1.17.0)\n",
      "Requirement already satisfied: cffi>=1.14 in /home/vscode/.local/lib/python3.10/site-packages (from cryptography>=2.5->azure-identity) (1.17.1)\n",
      "Requirement already satisfied: pycparser in /home/vscode/.local/lib/python3.10/site-packages (from cffi>=1.14->cryptography>=2.5->azure-identity) (2.22)\n",
      "Requirement already satisfied: PyJWT<3,>=1.0.0 in /home/vscode/.local/lib/python3.10/site-packages (from PyJWT[crypto]<3,>=1.0.0->msal>=1.30.0->azure-identity) (2.10.1)\n",
      "Requirement already satisfied: charset_normalizer<4,>=2 in /home/vscode/.local/lib/python3.10/site-packages (from requests>=2.21.0->azure-core>=1.31.0->azure-identity) (3.4.2)\n",
      "Requirement already satisfied: idna<4,>=2.5 in /home/vscode/.local/lib/python3.10/site-packages (from requests>=2.21.0->azure-core>=1.31.0->azure-identity) (3.10)\n",
      "Requirement already satisfied: urllib3<3,>=1.21.1 in /home/vscode/.local/lib/python3.10/site-packages (from requests>=2.21.0->azure-core>=1.31.0->azure-identity) (2.5.0)\n",
      "Requirement already satisfied: certifi>=2017.4.17 in /home/vscode/.local/lib/python3.10/site-packages (from requests>=2.21.0->azure-core>=1.31.0->azure-identity) (2025.6.15)\n",
      "Note: you may need to restart the kernel to use updated packages.\n",
      "Defaulting to user installation because normal site-packages is not writeable\n",
      "Requirement already satisfied: azure-ai-agents==1.1.0b3 in /home/vscode/.local/lib/python3.10/site-packages (1.1.0b3)\n",
      "Requirement already satisfied: isodate>=0.6.1 in /home/vscode/.local/lib/python3.10/site-packages (from azure-ai-agents==1.1.0b3) (0.7.2)\n",
      "Requirement already satisfied: azure-core>=1.30.0 in /home/vscode/.local/lib/python3.10/site-packages (from azure-ai-agents==1.1.0b3) (1.34.0)\n",
      "Requirement already satisfied: typing-extensions>=4.6.0 in /home/vscode/.local/lib/python3.10/site-packages (from azure-ai-agents==1.1.0b3) (4.14.0)\n",
      "Requirement already satisfied: requests>=2.21.0 in /home/vscode/.local/lib/python3.10/site-packages (from azure-core>=1.30.0->azure-ai-agents==1.1.0b3) (2.32.4)\n",
      "Requirement already satisfied: six>=1.11.0 in /home/vscode/.local/lib/python3.10/site-packages (from azure-core>=1.30.0->azure-ai-agents==1.1.0b3) (1.17.0)\n",
      "Requirement already satisfied: charset_normalizer<4,>=2 in /home/vscode/.local/lib/python3.10/site-packages (from requests>=2.21.0->azure-core>=1.30.0->azure-ai-agents==1.1.0b3) (3.4.2)\n",
      "Requirement already satisfied: idna<4,>=2.5 in /home/vscode/.local/lib/python3.10/site-packages (from requests>=2.21.0->azure-core>=1.30.0->azure-ai-agents==1.1.0b3) (3.10)\n",
      "Requirement already satisfied: urllib3<3,>=1.21.1 in /home/vscode/.local/lib/python3.10/site-packages (from requests>=2.21.0->azure-core>=1.30.0->azure-ai-agents==1.1.0b3) (2.5.0)\n",
      "Requirement already satisfied: certifi>=2017.4.17 in /home/vscode/.local/lib/python3.10/site-packages (from requests>=2.21.0->azure-core>=1.30.0->azure-ai-agents==1.1.0b3) (2025.6.15)\n",
      "Note: you may need to restart the kernel to use updated packages.\n"
     ]
    }
   ],
   "source": [
    "%pip install azure-ai-projects==1.0.0b12\n",
    "%pip install azure-identity\n",
    "%pip install azure-ai-agents==1.1.0b3"
   ]
  },
  {
   "cell_type": "markdown",
   "id": "d8f6785b",
   "metadata": {},
   "source": [
    "## Import the libraries"
   ]
  },
  {
   "cell_type": "code",
   "execution_count": 2,
   "id": "857a9a83",
   "metadata": {},
   "outputs": [],
   "source": [
    "import os\n",
    "from azure.ai.projects import AIProjectClient\n",
    "from azure.identity import DefaultAzureCredential\n",
    "from azure.ai.agents.models import MessageRole, ConnectedAgentTool"
   ]
  },
  {
   "cell_type": "markdown",
   "id": "59aabdeb",
   "metadata": {},
   "source": [
    "## Create the AI Project Client\n",
    "\n",
    "NOTE: \n",
    "- If you don't have Azure CLI, you first need to install it:\n",
    "   curl -sL https://aka.ms/InstallAzureCLIDeb | sudo bash\n",
    "- Login to Azure\n",
    "   az login\n",
    "\n"
   ]
  },
  {
   "cell_type": "code",
   "execution_count": 3,
   "id": "d2b1f8e5",
   "metadata": {},
   "outputs": [],
   "source": [
    "# Create an Azure AI Client from an endpoint, copied from your Azure AI Foundry project.\n",
    "# You need to login to Azure subscription via Azure CLI and set the environment variables\n",
    "project_endpoint = os.environ[\"PROJECT_ENDPOINT\"]  # Ensure the PROJECT_ENDPOINT environment variable is set\n",
    "\n",
    "# Create an AIProjectClient instance\n",
    "project_client = AIProjectClient(\n",
    "    endpoint=project_endpoint,\n",
    "    credential=DefaultAzureCredential(),  # Use Azure Default Credential for authentication\n",
    ")"
   ]
  },
  {
   "cell_type": "markdown",
   "id": "929f0da3",
   "metadata": {},
   "source": [
    "## Setup Connected Agent Tools"
   ]
  },
  {
   "cell_type": "code",
   "execution_count": 5,
   "id": "68a030e7",
   "metadata": {},
   "outputs": [],
   "source": [
    "# Specify the proper agent IDs for the connected agents\n",
    "search_agent = project_client.agents.get_agent(\"asst_XVcyiKtQiNBX3KFBK7WQ2mYB\")\n",
    "report_agent = project_client.agents.get_agent(\"asst_lU6yr86tkejQzhyuaa1LJekm\")\n",
    "validation_agent = project_client.agents.get_agent(\"asst_rmQqErBF9GuQXPU2ulpe2qzB\")\n",
    "\n",
    "search_connected_agent = ConnectedAgentTool(\n",
    "        id=search_agent.id, name=\"search_health_plans\", description=\"Searches for information about health plans.\"\n",
    "    )\n",
    "report_connected_agent = ConnectedAgentTool(\n",
    "        id=report_agent.id, name=\"create_report\", description=\"Generates reports on the health plan.\"\n",
    "    )\n",
    "validation_connected_agent = ConnectedAgentTool(\n",
    "        id=validation_agent.id, name=\"validate_report\", description=\"Validates the health plan report.\"\n",
    "    )"
   ]
  },
  {
   "cell_type": "markdown",
   "id": "82efcd58",
   "metadata": {},
   "source": [
    "## Create the agent"
   ]
  },
  {
   "cell_type": "code",
   "execution_count": 6,
   "id": "f3d34b3f",
   "metadata": {},
   "outputs": [
    {
     "name": "stdout",
     "output_type": "stream",
     "text": [
      "Created agent, ID: asst_t6BbMTalK8vVKgg2Sj78tOcY\n"
     ]
    }
   ],
   "source": [
    "# Create an agent with the file search tool\n",
    "agent = project_client.agents.create_agent(\n",
    "    model=os.environ[\"MODEL_DEPLOYMENT_NAME\"],  # Model deployment name\n",
    "    name=\"my-healthreport-agent\",  # Name of the agent\n",
    "    instructions=\"\"\"\n",
    "        You are an agent designed to create detailed reports about health plans. \n",
    "        The user will provide the name of a health plan and you will create a detailed report about that health plan. \n",
    "        You will also need to validate that the report meets requirements. \n",
    "        Call the appropriate agents to help write the report. \n",
    "        \n",
    "        Do not write the report on your own. \n",
    "        Your role is to be an orchestrator who will call the appropriate functions provided to you. \n",
    "        Each function that you have available is an agent that can accomplish a specific task. \n",
    "        \n",
    "        Here are descriptions of the plugins you have available:\n",
    "            - Report Agent: An agent that writes detailed reports about health plans.\n",
    "            - Search Agent: An agent that searches health plan documents.\n",
    "            - Validation Agent: An agent that runs validation checks to ensure the generated report meets requirements. \n",
    "            \n",
    "        Your response must contain the final approved report.\n",
    "    \"\"\",  # Instructions for the agent\n",
    "    tools=search_connected_agent.definitions + report_connected_agent.definitions + validation_connected_agent.definitions,  # Tools available to the agent\n",
    ")\n",
    "print(f\"Created agent, ID: {agent.id}\")"
   ]
  },
  {
   "cell_type": "markdown",
   "id": "19b16fbd",
   "metadata": {},
   "source": [
    "## Create thread"
   ]
  },
  {
   "cell_type": "code",
   "execution_count": 7,
   "id": "9c822423",
   "metadata": {},
   "outputs": [
    {
     "name": "stdout",
     "output_type": "stream",
     "text": [
      "Created thread, ID: thread_9ZFoTabIbiysCMKV5hhZK23p\n"
     ]
    }
   ],
   "source": [
    "# Create a thread for communication\n",
    "thread = project_client.agents.threads.create()\n",
    "print(f\"Created thread, ID: {thread.id}\")"
   ]
  },
  {
   "cell_type": "markdown",
   "id": "800c4642",
   "metadata": {},
   "source": [
    "## Helper function\n",
    "- adds messages to the thread\n",
    "- run the agent\n",
    "- display the agent response"
   ]
  },
  {
   "cell_type": "code",
   "execution_count": 8,
   "id": "d4a9459d",
   "metadata": {},
   "outputs": [],
   "source": [
    "def run_agent(user_input):\n",
    "    # Add a message to the thread\n",
    "    message = project_client.agents.messages.create(\n",
    "        thread_id=thread.id,\n",
    "        role=\"user\",  # Role of the message sender\n",
    "        content=user_input,  # Message content\n",
    "    )\n",
    "    print(f\"Created message, ID: {message['id']}\")\n",
    "\n",
    "     # Create and process agent run in thread with tools\n",
    "    run = project_client.agents.runs.create_and_process(thread_id=thread.id, agent_id=agent.id)\n",
    "    print(f\"Run finished with status: {run.status}\")\n",
    "\n",
    "    # Check the status of the run and print the result\n",
    "    if run.status == \"failed\":\n",
    "        print(f\"Run failed: {run.last_error}\")\n",
    "    elif run.status == \"completed\":\n",
    "        last_msg = project_client.agents.messages.get_last_message_text_by_role(thread_id=thread.id, role=MessageRole.AGENT)\n",
    "        if last_msg:\n",
    "            print(f\"Agent Response: {last_msg.text.value}\")"
   ]
  },
  {
   "cell_type": "markdown",
   "id": "b4ac8445",
   "metadata": {},
   "source": [
    "## Run the agent"
   ]
  },
  {
   "cell_type": "code",
   "execution_count": 9,
   "id": "42acc584",
   "metadata": {},
   "outputs": [
    {
     "name": "stdout",
     "output_type": "stream",
     "text": [
      "Created message, ID: msg_H8ybWt8mwjkevFp21cWFtzAC\n",
      "Run finished with status: completed\n",
      "Agent Response: ### Final Approved Report on Northwind Health Plus\n",
      "\n",
      "#### 1. Covered Services\n",
      "- **Doctor Visits:** Includes both primary care physicians and specialists.\n",
      "- **Preventive Care:** Immunizations, screenings, and annual wellness visits.\n",
      "- **Hospital Stays:** Inpatient care and surgeries.\n",
      "- **Maternity Care:** Prenatal, delivery, and postnatal services.\n",
      "- **Mental Health Services:** Therapy and counseling sessions.\n",
      "- **Rehabilitative Services:** Physical, occupational, and speech therapy.\n",
      "- **Laboratory Tests:** Blood tests, X-rays, and other diagnostic services.\n",
      "- **Prescription drugs:** Both brand name and generic medications, including over-the-counter drugs when prescribed by a doctor  .\n",
      "- **Orthognathic Surgery:** Jaw augmentation or reduction  .\n",
      "- **Infusion therapy services:** Available when medically necessary  .\n",
      "- **Massage therapy:** Covered when medically necessary and prescribed by a primary care physician  .\n",
      "- **Foot care services:** Includes diagnostic tests, treatment of infections, injuries, orthopedic devices, surgery, custom orthotics, and prescription drugs  .\n",
      "- **Gender affirming care:** Includes hormone therapy, gender affirming surgery, and mental health services related to gender transition  .\n",
      "\n",
      "#### 2. Excluded Services\n",
      "- **Cosmetic Surgery:** Procedures for aesthetic purposes are not covered    .\n",
      "- **Experimental Treatments:** Treatments not yet approved for general use  .\n",
      "- **Alternative Medicine:** Acupuncture, naturopathy, and other non-traditional therapies    .\n",
      "- **Long-term Care:** Services for chronic illnesses and conditions are excluded      .\n",
      "- **Non-prescription Vitamins and Supplements:** Unless prescribed by a doctor  .\n",
      "\n",
      "#### 3. Costs\n",
      "- **Monthly Premium:** $400 per person  .\n",
      "- **Annual Deductible:** $1,500 individual / $3,000 family  .\n",
      "- **Co-pays:**\n",
      "  - **Primary Care Visit:** $20 in-network / $50 out-of-network    .\n",
      "  - **Specialist Visit:** $50 in-network / $75 out-of-network    .\n",
      "  - **Emergency Room:** $200  .\n",
      "- **Out-of-Pocket Maximum:** Varies by plan type      .\n",
      "\n",
      "#### 4. Prescription Drug Coverage\n",
      "- **Generic Drugs:** Low co-pay, usually around $10  .\n",
      "- **Brand-Name Drugs:** Higher co-pay, typically $30-$50    .\n",
      "- **Specialty Medications:** May require prior authorization and have higher co-pays    .\n",
      "- **Mail-Order Pharmacy:** Available for 90-day supply of maintenance medications    .\n",
      "- **Exceptions:** Non-FDA approved medications, non-prescription vitamins, drugs for cosmetic or elective purposes, fertility treatments, weight loss or gain  .\n",
      "\n",
      "#### 5. Network Requirements\n",
      "- **In-Network:** Lower costs when using network providers  .\n",
      "- **Out-of-Network:** Higher out-of-pocket costs and may require pre-authorization  .\n",
      "- **Preferred Providers:** Emphasis on choosing providers within the plan’s network for better benefits  .\n",
      "\n",
      "#### 6. Emergency & Urgent Care Coverage\n",
      "- **Emergency Room:** $200 co-pay, deductible may apply  .\n",
      "- **Urgent Care:** $50 co-pay, more affordable than ER visits  .\n",
      "- **Ambulance Services:** Covered with a co-pay, typically around $100  .\n",
      "- **Emergency Services:** Coverage regardless of provider network status      .\n",
      "\n",
      "#### 7. Special Programs\n",
      "- **Wellness Program:** Offers discounts on gym memberships and wellness classes  .\n",
      "- **Chronic Condition Management:** Support programs for diabetes, asthma, heart disease, etc.  .\n",
      "- **Telehealth Services:** 24/7 access to virtual consultations with healthcare providers  .\n",
      "- **Gender Affirming Care:** Includes hormone therapy, gender affirming surgery, and mental health services related to gender transition  .\n",
      "\n",
      "#### 8. Claims and Appeals Process\n",
      "- **Filing a Claim:** Submit through provider or directly to insurance company, requires claim forms    .\n",
      "- **Claim Review:** Typically processed within 30 days    .\n",
      "- **Appeals:** If a claim is denied, the appeal must be filed within 60 days of denial notice    .\n",
      "\n",
      "This summary is intended to help you understand the basics of Northwind Health Plus and the kind of benefits it provides. For a detailed explanation, please refer to the plan's official documents or contact customer service.\n",
      "\n",
      "The report has been validated for completeness, consistency, and clarity                    .\n"
     ]
    }
   ],
   "source": [
    "user_input = \"Create a report about the Northwind Health Plus\"\n",
    "run_agent(user_input)"
   ]
  },
  {
   "cell_type": "markdown",
   "id": "5ba46347",
   "metadata": {},
   "source": [
    "## Cleanup resources"
   ]
  },
  {
   "cell_type": "code",
   "execution_count": null,
   "id": "2d50c8b9",
   "metadata": {},
   "outputs": [
    {
     "name": "stdout",
     "output_type": "stream",
     "text": [
      "Deleted agent\n"
     ]
    }
   ],
   "source": [
    "# Cleanup resources\n",
    "\n",
    "# Delete the agent after use\n",
    "project_client.agents.delete_agent(agent.id)\n",
    "print(\"Deleted agent\")"
   ]
  }
 ],
 "metadata": {
  "kernelspec": {
   "display_name": "Python 3",
   "language": "python",
   "name": "python3"
  },
  "language_info": {
   "codemirror_mode": {
    "name": "ipython",
    "version": 3
   },
   "file_extension": ".py",
   "mimetype": "text/x-python",
   "name": "python",
   "nbconvert_exporter": "python",
   "pygments_lexer": "ipython3",
   "version": "3.10.12"
  }
 },
 "nbformat": 4,
 "nbformat_minor": 5
}
