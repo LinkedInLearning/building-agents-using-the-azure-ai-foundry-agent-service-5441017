{
 "cells": [
  {
   "cell_type": "markdown",
   "id": "535433e4",
   "metadata": {},
   "source": [
    "## Challenge Setting up the Agents\n",
    "\n",
    "Now we need to identify and setup our different agents:\n",
    "- Orchestrator agent manages the orchestration - Connected Agent\n",
    "- Weather agent provides weather information from the city of choice - Uses Bing Grounding Tool\n",
    "- Itinerary agent creates an itinerary for a given city adjusting for weather conditions -  Agent with a set of instruction with no tool\n",
    "- Travel product agent provides product recommendations from a set of travel products found in data/travelproducts folder. - Uses File Search tool\n",
    "- Restaurant agent provides restaurant recommendations and reviews from TripAdvisor. - Uses the TripAdvisor OpenAPI Spec"
   ]
  }
 ],
 "metadata": {
  "language_info": {
   "name": "python"
  }
 },
 "nbformat": 4,
 "nbformat_minor": 5
}
