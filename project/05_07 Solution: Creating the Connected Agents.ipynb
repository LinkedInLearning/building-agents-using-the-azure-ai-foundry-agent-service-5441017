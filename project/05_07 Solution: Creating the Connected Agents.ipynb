{
 "cells": [
  {
   "cell_type": "markdown",
   "id": "1340abdb",
   "metadata": {},
   "source": [
    "# Solution: Creating the Connected Agent"
   ]
  },
  {
   "cell_type": "markdown",
   "id": "6e61321d",
   "metadata": {},
   "source": [
    "## Import the libraries"
   ]
  },
  {
   "cell_type": "code",
   "execution_count": 1,
   "id": "88b79ab9",
   "metadata": {},
   "outputs": [],
   "source": [
    "import os\n",
    "from azure.ai.projects import AIProjectClient\n",
    "from azure.identity import DefaultAzureCredential\n",
    "from azure.ai.agents.models import MessageRole, ConnectedAgentTool"
   ]
  },
  {
   "cell_type": "markdown",
   "id": "beae0518",
   "metadata": {},
   "source": [
    "## Create the Project Client"
   ]
  },
  {
   "cell_type": "code",
   "execution_count": 2,
   "id": "9c690928",
   "metadata": {},
   "outputs": [],
   "source": [
    "# Create an Azure AI Client from an endpoint, copied from your Azure AI Foundry project.\n",
    "# You need to login to Azure subscription via Azure CLI and set the environment variables\n",
    "project_endpoint = os.environ[\"PROJECT_ENDPOINT\"]  # Ensure the PROJECT_ENDPOINT environment variable is set\n",
    "\n",
    "# Create an AIProjectClient instance\n",
    "project_client = AIProjectClient(\n",
    "    endpoint=project_endpoint,\n",
    "    credential=DefaultAzureCredential(),  # Use Azure Default Credential for authentication\n",
    ")"
   ]
  },
  {
   "cell_type": "markdown",
   "id": "1593e8e4",
   "metadata": {},
   "source": [
    "## Run Agent helper function"
   ]
  },
  {
   "cell_type": "code",
   "execution_count": 3,
   "id": "62187ef9",
   "metadata": {},
   "outputs": [],
   "source": [
    "def run_agent(user_input, thread_id, agent_id):\n",
    "    # Add a message to the thread\n",
    "    message = project_client.agents.messages.create(\n",
    "        thread_id=thread_id,  # ID of the thread to which the message belongs\n",
    "        role=\"user\",  # Role of the message sender\n",
    "        content=user_input,  # Message content\n",
    "    )\n",
    "    print(f\"Created message, ID: {message['id']}\")\n",
    "\n",
    "     # Create and process agent run in thread with tools\n",
    "    run = project_client.agents.runs.create_and_process(thread_id=thread_id, agent_id=agent_id)\n",
    "    print(f\"Run finished with status: {run.status}\")\n",
    "\n",
    "    # Check the status of the run and print the result\n",
    "    if run.status == \"failed\":\n",
    "        print(f\"Run failed: {run.last_error}\")\n",
    "    elif run.status == \"completed\":\n",
    "        last_msg = project_client.agents.messages.get_last_message_text_by_role(thread_id=thread_id, role=MessageRole.AGENT)\n",
    "        if last_msg:\n",
    "            print(f\"Agent Response: {last_msg.text.value}\")"
   ]
  },
  {
   "cell_type": "markdown",
   "id": "f8cbfb2c",
   "metadata": {},
   "source": [
    "## Setup the Connected Agent Tools"
   ]
  },
  {
   "cell_type": "code",
   "execution_count": 4,
   "id": "67a5b82e",
   "metadata": {},
   "outputs": [],
   "source": [
    "# Get the agent by its ID\n",
    "weather_agent = project_client.agents.get_agent(\"asst_TWn4ilX0ZBWbcRIIhsQI4jF9\")\n",
    "itinerary_agent = project_client.agents.get_agent(\"asst_sKhtRu2UTeBVSlEjJvXahEOz\")\n",
    "travel_product_agent = project_client.agents.get_agent(\"asst_NIP89D33V1fqf3dxAZ6Vtuv9\")\n",
    "restaurant_agent = project_client.agents.get_agent(\"asst_DL2iuQSceBrvKIPV9G9kW0mF\")\n",
    "\n",
    "weather_connected_agent = ConnectedAgentTool(\n",
    "        id=weather_agent.id, name=\"get_weather\", description=\"Searches for information about weather.\"\n",
    "    )\n",
    "itinerary_connected_agent = ConnectedAgentTool(\n",
    "        id=itinerary_agent.id, name=\"create_itinerary\", description=\"Generates itineraries for travel.\"\n",
    "    )\n",
    "travel_product_connected_agent = ConnectedAgentTool(\n",
    "        id=travel_product_agent.id, name=\"get_travel_products\", description=\"Retrieves travel product information.\"\n",
    "    )\n",
    "restaurant_connected_agent = ConnectedAgentTool(\n",
    "        id=restaurant_agent.id, name=\"get_restaurant_recommendations\", description=\"Provides restaurant recommendations.\"\n",
    "    )"
   ]
  },
  {
   "cell_type": "markdown",
   "id": "83bfffc5",
   "metadata": {},
   "source": [
    "## Create the Connected Agent"
   ]
  },
  {
   "cell_type": "code",
   "execution_count": 5,
   "id": "a997900f",
   "metadata": {},
   "outputs": [
    {
     "name": "stdout",
     "output_type": "stream",
     "text": [
      "Created agent, ID: asst_MunJA13PMmTHdia9YTlS70vs\n"
     ]
    }
   ],
   "source": [
    "# Create an agent with the file search tool\n",
    "agent = project_client.agents.create_agent(\n",
    "    model=os.environ[\"MODEL_DEPLOYMENT_NAME\"],  # Model deployment name\n",
    "    name=\"travel-agent\",  # Name of the agent\n",
    "    instructions=\"\"\"\n",
    "        You are an agent that provides travel information. \n",
    "        Do not answer questions on your own. \n",
    "        Your role is to be an orchestrator who will call the appropriate functions provided to you. \n",
    "        Each function that you have available is an agent that can accomplish a specific task. \n",
    "        \n",
    "        Here are descriptions of the tools you have available:\n",
    "            - Weather Agent: An agent that provides weather information.\n",
    "            - Itinerary Agent: An agent that creates travel itineraries.\n",
    "            - Travel Product Agent: An agent that retrieves travel product information.\n",
    "            - Restaurant Agent: An agent that provides restaurant recommendations.\n",
    "\n",
    "        Use the tools to gather information and provide a comprehensive response to the user.\n",
    "        If you are unable to answer the question, please respond with \"I don't know\".\n",
    "    \"\"\",  # Instructions for the agent\n",
    "    tools=weather_connected_agent.definitions \n",
    "    + itinerary_connected_agent.definitions \n",
    "    + travel_product_connected_agent.definitions \n",
    "    + restaurant_connected_agent.definitions,  # Tools available to the agent\n",
    ")\n",
    "print(f\"Created agent, ID: {agent.id}\")"
   ]
  },
  {
   "cell_type": "markdown",
   "id": "ec21e4fb",
   "metadata": {},
   "source": [
    "## Create the Thread"
   ]
  },
  {
   "cell_type": "code",
   "execution_count": 6,
   "id": "c2129046",
   "metadata": {},
   "outputs": [
    {
     "name": "stdout",
     "output_type": "stream",
     "text": [
      "Created thread, ID: thread_dIE4Df5kedpQJlpVl31RGdTl\n"
     ]
    }
   ],
   "source": [
    "# Create a thread for communication\n",
    "thread = project_client.agents.threads.create()\n",
    "print(f\"Created thread, ID: {thread.id}\")"
   ]
  },
  {
   "cell_type": "markdown",
   "id": "e5b2a4cc",
   "metadata": {},
   "source": [
    "## Run the agent"
   ]
  },
  {
   "cell_type": "code",
   "execution_count": 7,
   "id": "cd5e4091",
   "metadata": {},
   "outputs": [
    {
     "name": "stdout",
     "output_type": "stream",
     "text": [
      "Created message, ID: msg_WIJp0LTP1a9wIzweXLaU5RLx\n",
      "Run finished with status: completed\n",
      "Agent Response: The current weather in Paris includes showers and moderate warnings for thunderstorms. The temperature is around 59°F (15°C) with rain expected for the next several hours. The day's highs are projected to be 65°F (18°C) and the lows around 56°F (13°C). There is a significant chance of rain and high humidity at about 90%【3:0†source】【3:1†source】.\n"
     ]
    }
   ],
   "source": [
    "# Example user input for the agent\n",
    "user_input = \"What is the weather in Paris?\"  # Example user input\n",
    "run_agent(user_input, thread_id=thread.id, agent_id=agent.id)  # Run the agent with the user input"
   ]
  },
  {
   "cell_type": "code",
   "execution_count": 8,
   "id": "a5b42d76",
   "metadata": {},
   "outputs": [
    {
     "name": "stdout",
     "output_type": "stream",
     "text": [
      "Created message, ID: msg_5dVL7FOLOsXX4tJok0HvYank\n",
      "Run finished with status: completed\n",
      "Agent Response: Here is an itinerary for Paris, considering the partly cloudy weather in the morning and heavy downpours in the afternoon:\n",
      "\n",
      "### Morning:\n",
      "**9:00 AM - 11:00 AM: Explore Montmartre**\n",
      "- **Sacre-Coeur Basilica:** Visit this stunning basilica located on the highest point in the city.\n",
      "- **Place du Tertre:** Stroll around this charming square filled with street artists and quaint cafes.\n",
      "\n",
      "**11:30 AM - 1:30 PM: Champs-Élysées and Arc de Triomphe**\n",
      "- **Champs-Élysées:** Walk down this famous avenue and enjoy the shops and cafes.\n",
      "- **Arc de Triomphe:** Climb to the top for a panoramic view of Paris (Note: You may want to check the weather forecast closely as rain may start early).\n",
      "\n",
      "### Afternoon:\n",
      "**2:00 PM - 4:00 PM: Louvre Museum**\n",
      "- Spend a few hours exploring the vast collection of art, including the Mona Lisa, Venus de Milo, and much more. (Pre-book tickets to avoid long lines).\n",
      "\n",
      "**4:30 PM - 6:00 PM: Musée d'Orsay**\n",
      "- If time and interest allow, visit this museum known for its impressive collection of impressionist and post-impressionist masterpieces.\n",
      "\n",
      "### Evening:\n",
      "**6:30 PM - 8:00 PM: Dinner at a French Bistro**\n",
      "- Choose a cozy bistro nearby or one around the Saint-Germain-des-Prés area for a delightful dining experience.\n",
      "\n",
      "**8:30 PM - 10:00 PM: Seine River Cruise**\n",
      "- End the day with a covered Seine River cruise to see Paris illuminated at night while staying dry. Don't forget your umbrella just in case it rains!\n",
      "\n",
      "This itinerary allows you to enjoy the best of Paris while accounting for the weather changes throughout the day. Enjoy your trip!\n"
     ]
    }
   ],
   "source": [
    "# Example user input for the agent\n",
    "user_input = \"\"\"Create an itinerary for Paris given this weather information:\n",
    "Currently, in Paris, it is partly cloudy with a temperature of 68°F (20°C). \n",
    "The forecast for later today predicts heavy downpours and frequent lightning with afternoon thundershowers. \n",
    "The high temperature will reach 69°F (21°C), with a 100% chance of rain\n",
    "\"\"\"\n",
    "\n",
    "run_agent(user_input, thread_id=thread.id, agent_id=agent.id)  # Run the agent with the user input"
   ]
  },
  {
   "cell_type": "code",
   "execution_count": 12,
   "id": "cba8051c",
   "metadata": {},
   "outputs": [
    {
     "name": "stdout",
     "output_type": "stream",
     "text": [
      "Created message, ID: msg_SPmiTP2TXJhlChvA6lUtQWv6\n",
      "Run finished with status: completed\n",
      "Agent Response: The UrbanTraveler suitcase features the following:\n",
      "\n",
      "1. **Robust Material**: Made from durable high-impact ABS plastic.\n",
      "2. **Expandable Design**: Includes an expandable zipper for additional packing space.\n",
      "3. **360-Degree Spinner Wheels**: Provides effortless maneuverability with four multi-directional spinner wheels.\n",
      "4. **TSA-Approved Lock**: Built-in TSA-approved combination lock for enhanced security.\n",
      "5. **Organized Compartments**: Multiple interior and exterior compartments for efficient packing.\n",
      "6. **Lightweight**: The suitcase weighs only 7 lbs, making it easy to carry and transport.\n",
      "7. **Ergonomic Handle**: Telescopic handle with an ergonomic grip for comfortable handling.\n",
      "8. **Water-Resistant**: Exterior is water-resistant to protect belongings from moisture.\n",
      "\n",
      "**Technical Specs:**\n",
      "- **Capacity**: 48 liters\n",
      "- **Material**: ABS Plastic\n",
      "- **Dimensions**: 23 inches x 15 inches x 9 inches (Length x Width x Height)\n",
      "- **Weight**: 7 lbs\n",
      "- **Color Options**: Black, Green, Purple, Silver\n",
      "- **Warranty**: 5-year limited warranty .\n"
     ]
    }
   ],
   "source": [
    "# Example user input for the agent\n",
    "user_input = \"What are the features of the UrbanTraveler?\"  # Example user input\n",
    "run_agent(user_input, thread_id=thread.id, agent_id=agent.id)  # Run the agent with the user input"
   ]
  },
  {
   "cell_type": "code",
   "execution_count": 13,
   "id": "3d7967ff",
   "metadata": {},
   "outputs": [
    {
     "name": "stdout",
     "output_type": "stream",
     "text": [
      "Created message, ID: msg_K0v8R3O0uDJmIjRc28bH9Y6H\n",
      "Run finished with status: completed\n",
      "Agent Response: Here are three highly recommended pizza restaurants in Paris:\n",
      "\n",
      "1. **Pizza Julia**\n",
      "   - **Address:** 43 Rue de Charenton, 75012 Paris, France\n",
      "   - **Reviews:** Famous for its authentic wood-fired pizzas with fresh ingredients.\n",
      "\n",
      "2. **Popolare**\n",
      "   - **Address:** 111 Rue Réaumur, 75002 Paris, France\n",
      "   - **Reviews:** Known for serving large, delicious pizzas at reasonable prices in a lively atmosphere.\n",
      "\n",
      "3. **Pink Mamma**\n",
      "   - **Address:** 20bis Rue de Douai, 75009 Paris, France\n",
      "   - **Reviews:** A trendy spot offering Italian cuisine, including pizza, with a beautiful interior design.\n",
      "\n",
      "Enjoy your pizza adventure in Paris!\n"
     ]
    }
   ],
   "source": [
    "# Example user input for the agent\n",
    "user_input = \"Provide 3 recommendations for Pizza in Paris?\"  # Example user input\n",
    "run_agent(user_input, thread_id=thread.id, agent_id=agent.id)  # Run the agent with the user input"
   ]
  },
  {
   "cell_type": "code",
   "execution_count": 14,
   "id": "1eb7ec76",
   "metadata": {},
   "outputs": [
    {
     "name": "stdout",
     "output_type": "stream",
     "text": [
      "Created message, ID: msg_rDwAmWAzt8bOQ61Fo0S8K9Xq\n",
      "Run finished with status: completed\n",
      "Agent Response: Here are three recent reviews for **Pizzeria Arrivederci** in Paris:\n",
      "\n",
      "1. **User: sannak926**\n",
      "   - **Rating: ⭐⭐⭐⭐⭐**\n",
      "   - **Review:** \"Very good menu and very delicious pizzas. Very popular place! Our table booking was right on time and staff was very friendly!\"\n",
      "   - **Trip Type:** Couples\n",
      "   - **Date of Visit:** July 31, 2025\n",
      "   - [Read more](https://www.tripadvisor.com/ShowUserReviews-g187147-d12714552-r1018027105-Reviews-Pizzeria_Arrivederci-Paris_Ile_de_France.html?m=66827#review1018027105)\n",
      "\n",
      "2. **User: F7796YTingridt**\n",
      "   - **Rating: ⭐⭐⭐⭐⭐**\n",
      "   - **Review:** \"Great food and excellent service. I highly recommend it. Perfect and cozy place, perfect for family and romantic dinners.\"\n",
      "   - **Trip Type:** Family\n",
      "   - **Date of Visit:** July 31, 2025\n",
      "   - [Read more](https://www.tripadvisor.com/ShowUserReviews-g187147-d12714552-r1018015470-Reviews-Pizzeria_Arrivederci-Paris_Ile_de_France.html?m=66827#review1018015470)\n",
      "\n",
      "3. **User: Paradise33022785875**\n",
      "   - **Rating: ⭐⭐⭐⭐⭐**\n",
      "   - **Review:** \"This place is beautiful, and serves good food, the waiters are kind and fun to talk to, a very good place to bring your family 🍕🤩\"\n",
      "   - **Trip Type:** Family\n",
      "   - **Date of Visit:** July 31, 2025\n",
      "   - [Read more](https://www.tripadvisor.com/ShowUserReviews-g187147-d12714552-r1018015256-Reviews-Pizzeria_Arrivederci-Paris_Ile_de_France.html?m=66827#review1018015256)\n",
      "\n",
      "Enjoy your dining experience at Pizzeria Arrivederci!\n"
     ]
    }
   ],
   "source": [
    "# Example user input for the agent\n",
    "user_input = \"\"\"\n",
    "    Provide me 3 reviews of the Pizzeria Arrivederci in Paris.    \n",
    "\"\"\"  # Example user input\n",
    "run_agent(user_input, thread_id=thread.id, agent_id=agent.id) "
   ]
  }
 ],
 "metadata": {
  "kernelspec": {
   "display_name": "Python 3",
   "language": "python",
   "name": "python3"
  },
  "language_info": {
   "codemirror_mode": {
    "name": "ipython",
    "version": 3
   },
   "file_extension": ".py",
   "mimetype": "text/x-python",
   "name": "python",
   "nbconvert_exporter": "python",
   "pygments_lexer": "ipython3",
   "version": "3.10.12"
  }
 },
 "nbformat": 4,
 "nbformat_minor": 5
}
