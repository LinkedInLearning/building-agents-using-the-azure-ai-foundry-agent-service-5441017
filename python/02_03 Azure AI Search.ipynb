{
 "cells": [
  {
   "cell_type": "markdown",
   "id": "eb456d83",
   "metadata": {},
   "source": [
    "# Azure AI Search"
   ]
  },
  {
   "cell_type": "markdown",
   "id": "4e5c74de",
   "metadata": {},
   "source": [
    "## Install Packages"
   ]
  },
  {
   "cell_type": "code",
   "execution_count": null,
   "id": "4a1536b4",
   "metadata": {},
   "outputs": [],
   "source": [
    "%pip install azure-ai-projects==1.0.0b12\n",
    "%pip install azure-identity\n",
    "%pip install azure-ai-agents==1.1.0b3"
   ]
  },
  {
   "cell_type": "markdown",
   "id": "d8f6785b",
   "metadata": {},
   "source": [
    "## Import the libraries"
   ]
  },
  {
   "cell_type": "code",
   "execution_count": 17,
   "id": "857a9a83",
   "metadata": {},
   "outputs": [],
   "source": [
    "import os\n",
    "from azure.ai.projects import AIProjectClient\n",
    "from azure.identity import DefaultAzureCredential\n",
    "from azure.ai.agents.models import AzureAISearchQueryType, AzureAISearchTool, ListSortOrder, MessageRole"
   ]
  },
  {
   "cell_type": "markdown",
   "id": "59aabdeb",
   "metadata": {},
   "source": [
    "## Create the AI Project Client\n",
    "\n",
    "NOTE: \n",
    "- If you don't have Azure CLI, you first need to install it:\n",
    "   curl -sL https://aka.ms/InstallAzureCLIDeb | sudo bash\n",
    "- Login to Azure\n",
    "   az login\n",
    "\n"
   ]
  },
  {
   "cell_type": "code",
   "execution_count": 4,
   "id": "d2b1f8e5",
   "metadata": {},
   "outputs": [],
   "source": [
    "# Create an Azure AI Client from an endpoint, copied from your Azure AI Foundry project.\n",
    "# You need to login to Azure subscription via Azure CLI and set the environment variables\n",
    "project_endpoint = os.environ[\"PROJECT_ENDPOINT\"]  # Ensure the PROJECT_ENDPOINT environment variable is set\n",
    "\n",
    "# Create an AIProjectClient instance\n",
    "project_client = AIProjectClient(\n",
    "    endpoint=project_endpoint,\n",
    "    credential=DefaultAzureCredential(),  # Use Azure Default Credential for authentication\n",
    ")"
   ]
  },
  {
   "cell_type": "markdown",
   "id": "929f0da3",
   "metadata": {},
   "source": [
    "## Setup the Azure AI Search tool\n",
    "\n",
    "Azure AI Search Query Types: https://learn.microsoft.com/en-us/python/api/azure-ai-agents/azure.ai.agents.models.azureaisearchquerytype?view=azure-python-preview"
   ]
  },
  {
   "cell_type": "code",
   "execution_count": 5,
   "id": "68a030e7",
   "metadata": {},
   "outputs": [
    {
     "name": "stdout",
     "output_type": "stream",
     "text": [
      "Search Connection ID: /subscriptions/73047bc3-f020-4930-b16d-fe5c9dd3c73e/resourceGroups/agent-standard/providers/Microsoft.CognitiveServices/accounts/foundrydlt4/projects/projectdlt4/connections/dlt4search\n"
     ]
    }
   ],
   "source": [
    "# Enter Azure AI Search details here\n",
    "search_connection = \"dlt4search\"  # Replace with your Azure AI Search connection name\n",
    "search_index =\"healthplanindex\" # Replace with your Azure AI Search index name\n",
    "\n",
    "# Extract the connection list.\n",
    "conn_list = project_client.connections.list()\n",
    "search_connection_id = \"\"\n",
    "\n",
    "# Find the connection ID for Azure AI Search\n",
    "for conn in conn_list:\n",
    "    if conn.name == search_connection:\n",
    "        search_connection_id = conn.id\n",
    "\n",
    "\n",
    "# Print the connection names\n",
    "print(f\"Search Connection ID: {search_connection_id}\")\n",
    "\n",
    "# Initialize agent AI search tool and add the search index connection id\n",
    "ai_search = AzureAISearchTool(\n",
    "    index_connection_id=search_connection_id,\n",
    "    index_name=search_index,\n",
    "    query_type=AzureAISearchQueryType.VECTOR_SEMANTIC_HYBRID,\n",
    "    top_k=5,\n",
    "    filter=\"\",\n",
    ")\n"
   ]
  },
  {
   "cell_type": "markdown",
   "id": "82efcd58",
   "metadata": {},
   "source": [
    "## Create the agent"
   ]
  },
  {
   "cell_type": "code",
   "execution_count": 28,
   "id": "f3d34b3f",
   "metadata": {},
   "outputs": [
    {
     "name": "stdout",
     "output_type": "stream",
     "text": [
      "Created agent, ID: asst_YUNPRBEj3MyhCUlDy6QteieX\n"
     ]
    }
   ],
   "source": [
    "# Create an agent with the file search tool\n",
    "agent = project_client.agents.create_agent(\n",
    "    model=os.environ[\"MODEL_DEPLOYMENT_NAME\"],  # Model deployment name\n",
    "    name=\"my-aisearch-agent\",  # Name of the agent\n",
    "    instructions=\"You are a helpful agent and can search information from uploaded files\",  # Instructions for the agent\n",
    "    tools=ai_search.definitions,\n",
    "    tool_resources=ai_search.resources,\n",
    ")\n",
    "print(f\"Created agent, ID: {agent.id}\")"
   ]
  },
  {
   "cell_type": "markdown",
   "id": "19b16fbd",
   "metadata": {},
   "source": [
    "## Create thread"
   ]
  },
  {
   "cell_type": "code",
   "execution_count": 29,
   "id": "9c822423",
   "metadata": {},
   "outputs": [
    {
     "name": "stdout",
     "output_type": "stream",
     "text": [
      "Created thread, ID: thread_Um3RbckvuggLjuxH9qByw0Kf\n"
     ]
    }
   ],
   "source": [
    "# Create a thread for communication\n",
    "thread = project_client.agents.threads.create()\n",
    "print(f\"Created thread, ID: {thread.id}\")"
   ]
  },
  {
   "cell_type": "markdown",
   "id": "800c4642",
   "metadata": {},
   "source": [
    "## Helper function\n",
    "- adds messages to the thread\n",
    "- run the agent\n",
    "- display the agent response"
   ]
  },
  {
   "cell_type": "code",
   "execution_count": 32,
   "id": "c514c46a",
   "metadata": {},
   "outputs": [],
   "source": [
    "def run_agent(user_input):\n",
    "    # Add a message to the thread\n",
    "    message = project_client.agents.messages.create(\n",
    "        thread_id=thread.id,\n",
    "        role=\"user\",  # Role of the message sender\n",
    "        content=user_input,  # Message content\n",
    "    )\n",
    "    print(f\"Created message, ID: {message['id']}\")\n",
    "\n",
    "     # Create and process agent run in thread with tools\n",
    "    run = project_client.agents.runs.create_and_process(thread_id=thread.id, agent_id=agent.id)\n",
    "    print(f\"Run finished with status: {run.status}\")\n",
    "\n",
    "    if run.status == \"failed\":\n",
    "        print(f\"Run failed: {run.last_error}\")\n",
    "    elif run.status == \"completed\":\n",
    "        # Fetch the first message in the thread to see the agent's response\n",
    "        messages = list(project_client.agents.messages.list(thread_id=thread.id))\n",
    "        if messages:\n",
    "            first_message = messages[0]\n",
    "            content = first_message['content']\n",
    "            # Extract the text value if present\n",
    "            if isinstance(content, list) and content:\n",
    "                text_value = content[0].get('text', {}).get('value', '')\n",
    "                print(text_value)"
   ]
  },
  {
   "cell_type": "code",
   "execution_count": 33,
   "id": "69a9e997",
   "metadata": {},
   "outputs": [],
   "source": [
    "def run_agent_details(user_input):\n",
    "    # Add a message to the thread\n",
    "    message = project_client.agents.messages.create(\n",
    "        thread_id=thread.id,\n",
    "        role=\"user\",  # Role of the message sender\n",
    "        content=user_input,  # Message content\n",
    "    )\n",
    "    print(f\"Created message, ID: {message['id']}\")\n",
    "\n",
    "     # Create and process agent run in thread with tools\n",
    "    run = project_client.agents.runs.create_and_process(thread_id=thread.id, agent_id=agent.id)\n",
    "    print(f\"Run finished with status: {run.status}\")\n",
    "\n",
    "    # Fetch run steps to get the details of the agent run\n",
    "    run_steps = project_client.agents.run_steps.list(thread_id=thread.id, run_id=run.id)\n",
    "    for step in run_steps:\n",
    "        print(f\"Step {step['id']} status: {step['status']}\")\n",
    "        step_details = step.get(\"step_details\", {})\n",
    "        tool_calls = step_details.get(\"tool_calls\", [])\n",
    "\n",
    "        if tool_calls:\n",
    "            print(\"  Tool calls:\")\n",
    "            for call in tool_calls:\n",
    "                print(f\"    Tool Call ID: {call.get('id')}\")\n",
    "                print(f\"    Type: {call.get('type')}\")\n",
    "\n",
    "                azure_ai_search_details = call.get(\"azure_ai_search\", {})\n",
    "                if azure_ai_search_details:\n",
    "                    print(f\"    azure_ai_search input: {azure_ai_search_details.get('input')}\")\n",
    "                    print(f\"    azure_ai_search output: {azure_ai_search_details.get('output')}\")\n",
    "        print()  # add an extra newline between steps\n",
    "\n",
    "    if run.status == \"failed\":\n",
    "        print(f\"Run failed: {run.last_error}\")\n",
    "    elif run.status == \"completed\":\n",
    "        messages = project_client.agents.messages.list(thread_id=thread.id, order=ListSortOrder.ASCENDING)\n",
    "        for message in messages:\n",
    "            if message.role == MessageRole.AGENT and message.url_citation_annotations:\n",
    "                placeholder_annotations = {\n",
    "                    annotation.text: f\" [see {annotation.url_citation.title}] ({annotation.url_citation.url})\"\n",
    "                    for annotation in message.url_citation_annotations\n",
    "                }\n",
    "                for message_text in message.text_messages:\n",
    "                    message_str = message_text.text.value\n",
    "                    for k, v in placeholder_annotations.items():\n",
    "                        message_str = message_str.replace(k, v)\n",
    "                    print(f\"{message.role}: {message_str}\")\n",
    "            else:\n",
    "                for message_text in message.text_messages:\n",
    "                    print(f\"{message.role}: {message_text.text.value}\")"
   ]
  },
  {
   "cell_type": "markdown",
   "id": "b4ac8445",
   "metadata": {},
   "source": [
    "## Run the agent"
   ]
  },
  {
   "cell_type": "code",
   "execution_count": 34,
   "id": "42acc584",
   "metadata": {},
   "outputs": [
    {
     "name": "stdout",
     "output_type": "stream",
     "text": [
      "Created message, ID: msg_eAAasFz8mkJ5nK6sZHkB3N9s\n",
      "Run finished with status: completed\n",
      "The Northwind Standard Plan is a basic health plan offering coverage for medical, vision, and dental services as well as preventive care and prescription drugs.\n",
      "\n",
      "### Coverage Details:\n",
      "- **Medical Services**: Includes preventive care services (physicals, immunizations, screenings), diagnostic tests and treatments, medical consultations, physical therapy, mental health services, inpatient hospital services, and emergency services【7:1†source】【7:2†source】.\n",
      "- **Vision and Dental Services**: Covered under the plan【7:2†source】.\n",
      "- **Preventive Care Services**: Comprehensive coverage including regular check-ups【7:2†source】.\n",
      "- **Prescription Drug Coverage**: Included in the plan【7:0†source】【7:2†source】.\n",
      "\n",
      "### Costs:\n",
      "- **Premiums**: Monthly payments determined by age, health, and type of coverage【7:3†source】.\n",
      "- **Deductibles**: Amount paid out-of-pocket before the plan covers the rest【7:2†source】.\n",
      "- **Copays**: Fixed amounts due during visits【7:3†source】.\n",
      "- **Coinsurance**: Percentage of the service cost paid by the policyholder【7:3†source】.\n",
      "\n",
      "### Provider Network:\n",
      "- **In-Network Providers**: Choose from primary care physicians, specialists, hospitals, and pharmacies. Using in-network providers can reduce costs【7:1†source】【7:3†source】.\n",
      "- **Out-of-Network Services**: Generally not covered under the plan【7:0†source】【7:1†source】【7:2†source】.\n",
      "\n",
      "### Restrictions and Exclusions:\n",
      "- **Excluded Services**: Cosmetic services, experimental treatments, most dental services, emergency services, mental health and substance abuse services, and out-of-network services are not covered【7:1†source】【7:2†source】.\n",
      "\n",
      "### Tips and Resources:\n",
      "- **Maximizing Coverage**: Verify if providers are in-network, utilize preventive services, and check for pre-authorization requirements【7:0†source】【7:3†source】.\n",
      "- **Additional Tools**: Cost estimator tool, provider directory, and 24/7 customer service available for assistance【7:1†source】【7:2†source】【7:3†source】.\n",
      "\n",
      "It's essential to understand the plan details, including coverage and out-of-pocket costs, to ensure you are taking full advantage of your benefits【7:3†source】.\n"
     ]
    }
   ],
   "source": [
    "user_input = \"Provide details on the Northwind Standard Plan\"\n",
    "run_agent(user_input)"
   ]
  },
  {
   "cell_type": "code",
   "execution_count": 35,
   "id": "98490f07",
   "metadata": {},
   "outputs": [
    {
     "name": "stdout",
     "output_type": "stream",
     "text": [
      "Created message, ID: msg_jhhy55SrbEnRoRRxI7philoe\n",
      "Run finished with status: completed\n",
      "Step step_pyFHperbkjTeBoaMbgnSBYWB status: completed\n",
      "\n",
      "Step step_4u050GilNxH5phOcIExXJbmw status: completed\n",
      "  Tool calls:\n",
      "    Tool Call ID: call_U5gcxuvgPTuGCBFr2WR23Y4i\n",
      "    Type: azure_ai_search\n",
      "    azure_ai_search input: Northwind Standard vs Healthplus plan comparison\n",
      "    azure_ai_search output: {'summary': 'Retrieved 5 documents.', 'metadata': {'urls': ['doc_0', 'doc_1', 'doc_2', 'doc_3', 'doc_4'], 'titles': ['Northwind_Health_Plus_Benefits_Details.pdf', 'Northwind_Health_Plus_Benefits_Details.pdf', 'Northwind_Health_Plus_Benefits_Details.pdf', 'Northwind_Health_Plus_Benefits_Details.pdf', 'Northwind_Health_Plus_Benefits_Details.pdf'], 'get_urls': ['https://dlt4search.search.windows.net/indexes/healthplanindex/docs/051d519df6ff_aHR0cHM6Ly9kbHQ0c3RvcmFnZS5ibG9iLmNvcmUud2luZG93cy5uZXQvaGVhbHRocGxhbnMvTm9ydGh3aW5kX0hlYWx0aF9QbHVzX0JlbmVmaXRzX0RldGFpbHMucGRm0_pages_1?api-version=2024-07-01&$select=chunk_id,chunk,title', 'https://dlt4search.search.windows.net/indexes/healthplanindex/docs/051d519df6ff_aHR0cHM6Ly9kbHQ0c3RvcmFnZS5ibG9iLmNvcmUud2luZG93cy5uZXQvaGVhbHRocGxhbnMvTm9ydGh3aW5kX0hlYWx0aF9QbHVzX0JlbmVmaXRzX0RldGFpbHMucGRm0_pages_0?api-version=2024-07-01&$select=chunk_id,chunk,title', 'https://dlt4search.search.windows.net/indexes/healthplanindex/docs/051d519df6ff_aHR0cHM6Ly9kbHQ0c3RvcmFnZS5ibG9iLmNvcmUud2luZG93cy5uZXQvaGVhbHRocGxhbnMvTm9ydGh3aW5kX0hlYWx0aF9QbHVzX0JlbmVmaXRzX0RldGFpbHMucGRm0_pages_24?api-version=2024-07-01&$select=chunk_id,chunk,title', 'https://dlt4search.search.windows.net/indexes/healthplanindex/docs/051d519df6ff_aHR0cHM6Ly9kbHQ0c3RvcmFnZS5ibG9iLmNvcmUud2luZG93cy5uZXQvaGVhbHRocGxhbnMvTm9ydGh3aW5kX0hlYWx0aF9QbHVzX0JlbmVmaXRzX0RldGFpbHMucGRm0_pages_12?api-version=2024-07-01&$select=chunk_id,chunk,title', 'https://dlt4search.search.windows.net/indexes/healthplanindex/docs/051d519df6ff_aHR0cHM6Ly9kbHQ0c3RvcmFnZS5ibG9iLmNvcmUud2luZG93cy5uZXQvaGVhbHRocGxhbnMvTm9ydGh3aW5kX0hlYWx0aF9QbHVzX0JlbmVmaXRzX0RldGFpbHMucGRm0_pages_118?api-version=2024-07-01&$select=chunk_id,chunk,title'], 'ids': ['051d519df6ff_aHR0cHM6Ly9kbHQ0c3RvcmFnZS5ibG9iLmNvcmUud2luZG93cy5uZXQvaGVhbHRocGxhbnMvTm9ydGh3aW5kX0hlYWx0aF9QbHVzX0JlbmVmaXRzX0RldGFpbHMucGRm0_pages_1', '051d519df6ff_aHR0cHM6Ly9kbHQ0c3RvcmFnZS5ibG9iLmNvcmUud2luZG93cy5uZXQvaGVhbHRocGxhbnMvTm9ydGh3aW5kX0hlYWx0aF9QbHVzX0JlbmVmaXRzX0RldGFpbHMucGRm0_pages_0', '051d519df6ff_aHR0cHM6Ly9kbHQ0c3RvcmFnZS5ibG9iLmNvcmUud2luZG93cy5uZXQvaGVhbHRocGxhbnMvTm9ydGh3aW5kX0hlYWx0aF9QbHVzX0JlbmVmaXRzX0RldGFpbHMucGRm0_pages_24', '051d519df6ff_aHR0cHM6Ly9kbHQ0c3RvcmFnZS5ibG9iLmNvcmUud2luZG93cy5uZXQvaGVhbHRocGxhbnMvTm9ydGh3aW5kX0hlYWx0aF9QbHVzX0JlbmVmaXRzX0RldGFpbHMucGRm0_pages_12', '051d519df6ff_aHR0cHM6Ly9kbHQ0c3RvcmFnZS5ibG9iLmNvcmUud2luZG93cy5uZXQvaGVhbHRocGxhbnMvTm9ydGh3aW5kX0hlYWx0aF9QbHVzX0JlbmVmaXRzX0RldGFpbHMucGRm0_pages_118'], 'command': 'search', 'query_type': 'vector_semantic_hybrid', 'top_k': 5, 'filter': True}}\n",
      "\n",
      "user: Provide details on the Northwind Standard Plan\n",
      "assistant: The Northwind Standard Plan is a basic health plan that offers comprehensive coverage for medical, vision, and dental services. Here are the main details of the plan:\n",
      "\n",
      "### Coverage\n",
      "- **Medical Services**: Including preventive care services, diagnostic tests and treatments, medical consultations, physical therapy, mental health services, inpatient hospital services, emergency services, and prescription drugs [see Northwind_Standard_Benefits_Details.pdf] (doc_1) [see Northwind_Standard_Benefits_Details.pdf] (doc_2).\n",
      "- **Vision and Dental Services**: Covered under the plan [see Northwind_Standard_Benefits_Details.pdf] (doc_2).\n",
      "- **Preventive Care Services**: Physicals, immunizations, and screenings [see Northwind_Standard_Benefits_Details.pdf] (doc_3).\n",
      "\n",
      "### Providers\n",
      "- **In-Network Providers**: You can choose from a variety of in-network primary care physicians, specialists, hospitals, and pharmacies [see Northwind_Standard_Benefits_Details.pdf] (doc_2) [see Northwind_Standard_Benefits_Details.pdf] (doc_4).\n",
      "- **Out-of-Network Services**: Generally not covered under the plan [see Northwind_Standard_Benefits_Details.pdf] (doc_0) [see Northwind_Standard_Benefits_Details.pdf] (doc_1) [see Northwind_Standard_Benefits_Details.pdf] (doc_2).\n",
      "\n",
      "### Costs\n",
      "- **Premiums**: Monthly payments based on age, health, and type of coverage [see Northwind_Standard_Benefits_Details.pdf] (doc_2) [see Northwind_Standard_Benefits_Details.pdf] (doc_4).\n",
      "- **Deductibles**: The amount you pay out of pocket before the plan begins covering costs [see Northwind_Standard_Benefits_Details.pdf] (doc_2) [see Northwind_Standard_Benefits_Details.pdf] (doc_4).\n",
      "- **Copays**: Fixed amounts due at each visit [see Northwind_Standard_Benefits_Details.pdf] (doc_4).\n",
      "- **Coinsurance**: A percentage of the service cost paid by the policyholder [see Northwind_Standard_Benefits_Details.pdf] (doc_4).\n",
      "\n",
      "### Plan Restrictions\n",
      "- **Excluded Services**: Cosmetic services, experimental treatments, most dental services, emergency services, mental health and substance abuse coverage, and out-of-network services [see Northwind_Standard_Benefits_Details.pdf] (doc_0) [see Northwind_Standard_Benefits_Details.pdf] (doc_1) [see Northwind_Standard_Benefits_Details.pdf] (doc_2) [see Northwind_Standard_Benefits_Details.pdf] (doc_4).\n",
      "\n",
      "### Tips for Maximizing Coverage\n",
      "- Verify if the provider is in-network.\n",
      "- Understand covered preventive services and regularly schedule physicals and check-ups.\n",
      "- Take advantage of wellness programs offered by Northwind Health [see Northwind_Standard_Benefits_Details.pdf] (doc_3) [see Northwind_Standard_Benefits_Details.pdf] (doc_4).\n",
      "\n",
      "### Additional Resources\n",
      "Northwind Health provides tools and resources such as a cost estimator and a provider directory, along with 24/7 customer service to answer questions and help you get the most out of your coverage [see Northwind_Standard_Benefits_Details.pdf] (doc_1) [see Northwind_Standard_Benefits_Details.pdf] (doc_2) [see Northwind_Standard_Benefits_Details.pdf] (doc_3).\n",
      "user: Provide details on the Northwind Standard Plan\n",
      "assistant: The Northwind Standard Plan is a basic health plan offering coverage for medical, vision, and dental services as well as preventive care and prescription drugs.\n",
      "\n",
      "### Coverage Details:\n",
      "- **Medical Services**: Includes preventive care services (physicals, immunizations, screenings), diagnostic tests and treatments, medical consultations, physical therapy, mental health services, inpatient hospital services, and emergency services [see Northwind_Standard_Benefits_Details.pdf] (doc_1) [see Northwind_Standard_Benefits_Details.pdf] (doc_2).\n",
      "- **Vision and Dental Services**: Covered under the plan [see Northwind_Standard_Benefits_Details.pdf] (doc_2).\n",
      "- **Preventive Care Services**: Comprehensive coverage including regular check-ups [see Northwind_Standard_Benefits_Details.pdf] (doc_2).\n",
      "- **Prescription Drug Coverage**: Included in the plan [see Northwind_Standard_Benefits_Details.pdf] (doc_0) [see Northwind_Standard_Benefits_Details.pdf] (doc_2).\n",
      "\n",
      "### Costs:\n",
      "- **Premiums**: Monthly payments determined by age, health, and type of coverage [see Northwind_Standard_Benefits_Details.pdf] (doc_3).\n",
      "- **Deductibles**: Amount paid out-of-pocket before the plan covers the rest [see Northwind_Standard_Benefits_Details.pdf] (doc_2).\n",
      "- **Copays**: Fixed amounts due during visits [see Northwind_Standard_Benefits_Details.pdf] (doc_3).\n",
      "- **Coinsurance**: Percentage of the service cost paid by the policyholder [see Northwind_Standard_Benefits_Details.pdf] (doc_3).\n",
      "\n",
      "### Provider Network:\n",
      "- **In-Network Providers**: Choose from primary care physicians, specialists, hospitals, and pharmacies. Using in-network providers can reduce costs [see Northwind_Standard_Benefits_Details.pdf] (doc_1) [see Northwind_Standard_Benefits_Details.pdf] (doc_3).\n",
      "- **Out-of-Network Services**: Generally not covered under the plan [see Northwind_Standard_Benefits_Details.pdf] (doc_0) [see Northwind_Standard_Benefits_Details.pdf] (doc_1) [see Northwind_Standard_Benefits_Details.pdf] (doc_2).\n",
      "\n",
      "### Restrictions and Exclusions:\n",
      "- **Excluded Services**: Cosmetic services, experimental treatments, most dental services, emergency services, mental health and substance abuse services, and out-of-network services are not covered [see Northwind_Standard_Benefits_Details.pdf] (doc_1) [see Northwind_Standard_Benefits_Details.pdf] (doc_2).\n",
      "\n",
      "### Tips and Resources:\n",
      "- **Maximizing Coverage**: Verify if providers are in-network, utilize preventive services, and check for pre-authorization requirements [see Northwind_Standard_Benefits_Details.pdf] (doc_0) [see Northwind_Standard_Benefits_Details.pdf] (doc_3).\n",
      "- **Additional Tools**: Cost estimator tool, provider directory, and 24/7 customer service available for assistance [see Northwind_Standard_Benefits_Details.pdf] (doc_1) [see Northwind_Standard_Benefits_Details.pdf] (doc_2) [see Northwind_Standard_Benefits_Details.pdf] (doc_3).\n",
      "\n",
      "It's essential to understand the plan details, including coverage and out-of-pocket costs, to ensure you are taking full advantage of your benefits [see Northwind_Standard_Benefits_Details.pdf] (doc_3).\n",
      "user: Provide a tabular comparison between the Northwind Standard and Northwind Healthplus plans\n",
      "assistant: Here is a tabular comparison between the Northwind Standard and Northwind Healthplus plans:\n",
      "\n",
      "| Feature                                        | Northwind Standard Plan                                          | Northwind Healthplus Plan                                          |\n",
      "|------------------------------------------------|------------------------------------------------------------------|--------------------------------------------------------------------|\n",
      "| **Coverage**                                    | Medical, vision, dental                                           | Medical, vision, dental, prescription drugs, mental health, substance abuse, preventive care      |\n",
      "| **Preventive Care Services**                    | Physicals, immunizations, screenings                              | Immunizations, screenings, generally at no cost                    |\n",
      "| **In-Network Providers**                        | Primary care physicians, specialists, hospitals, pharmacies       | Primary care physicians, specialists, hospitals, pharmacies        |\n",
      "| **Out-of-Network Services**                     | Not covered                                                      | Covered (higher cost)                                              |\n",
      "| **Prescription Drug Coverage**                  | Included                                                          | Tier-based cost (generic preferred)                                |\n",
      "| **Mental Health and Substance Abuse Coverage**  | Limited                                                           | Comprehensive coverage                                             |\n",
      "| **Emergency Services**                          | Limited to in-network                                             | Covered both in-network and out-of-network                         |\n",
      "| **Premiums**                                    | Monthly payments based on age, health, coverage                   | Higher than Standard plan                                          |\n",
      "| **Deductibles**                                 | Amount paid out-of-pocket before coverage                         | Separate deductibles for different services                         |\n",
      "| **Copays**                                      | Fixed amounts at each visit                                       | Fixed amounts at each visit                                        |\n",
      "| **Coinsurance**                                 | Percentage paid by policyholder                                   | Percentage paid by policyholder                                    |\n",
      "| **Wellness Programs**                           | Available                                                         | Comprehensive wellness programs (smoking cessation, stress management) [see Northwind_Health_Plus_Benefits_Details.pdf] (doc_0) [see Northwind_Health_Plus_Benefits_Details.pdf] (doc_1) [see Northwind_Health_Plus_Benefits_Details.pdf] (doc_2) [see Northwind_Health_Plus_Benefits_Details.pdf] (doc_3) [see Northwind_Health_Plus_Benefits_Details.pdf] (doc_4).\n",
      "\n",
      "This comparison highlights the extended coverage and additional benefits offered by the Northwind Healthplus Plan in contrast to the Northwind Standard Plan.\n"
     ]
    }
   ],
   "source": [
    "user_input = \"Provide a tabular comparison between the Northwind Standard and Northwind Healthplus plans\"\n",
    "run_agent_details(user_input)"
   ]
  },
  {
   "cell_type": "markdown",
   "id": "5ba46347",
   "metadata": {},
   "source": [
    "## Cleanup resources"
   ]
  },
  {
   "cell_type": "code",
   "execution_count": 36,
   "id": "2d50c8b9",
   "metadata": {},
   "outputs": [
    {
     "name": "stdout",
     "output_type": "stream",
     "text": [
      "Deleted agent\n"
     ]
    }
   ],
   "source": [
    "# Cleanup resources\n",
    "\n",
    "# Delete the agent after use\n",
    "project_client.agents.delete_agent(agent.id)\n",
    "print(\"Deleted agent\")\n"
   ]
  },
  {
   "cell_type": "markdown",
   "id": "fd8f25b7",
   "metadata": {},
   "source": [
    "## Azure AI Search vs File Search\n",
    "- Azure AI Search can schedule index changes\n",
    "- More flexiblity\n",
    "  - embedding model / size\n",
    "  - field composition\n",
    "  - add skills"
   ]
  }
 ],
 "metadata": {
  "kernelspec": {
   "display_name": "Python 3",
   "language": "python",
   "name": "python3"
  },
  "language_info": {
   "codemirror_mode": {
    "name": "ipython",
    "version": 3
   },
   "file_extension": ".py",
   "mimetype": "text/x-python",
   "name": "python",
   "nbconvert_exporter": "python",
   "pygments_lexer": "ipython3",
   "version": "3.10.12"
  }
 },
 "nbformat": 4,
 "nbformat_minor": 5
}
