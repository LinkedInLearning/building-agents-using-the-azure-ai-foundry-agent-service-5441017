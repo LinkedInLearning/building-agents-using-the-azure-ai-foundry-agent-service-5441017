{
 "cells": [
  {
   "cell_type": "markdown",
   "id": "eb456d83",
   "metadata": {},
   "source": [
    "# Tracing Agents"
   ]
  },
  {
   "cell_type": "markdown",
   "id": "4e5c74de",
   "metadata": {},
   "source": [
    "## Install Packages"
   ]
  },
  {
   "cell_type": "code",
   "execution_count": null,
   "id": "4a1536b4",
   "metadata": {},
   "outputs": [],
   "source": [
    "%pip install azure-ai-projects==1.0.0b12\n",
    "%pip install azure-identity\n",
    "%pip install azure-ai-agents==1.1.0b3"
   ]
  },
  {
   "cell_type": "code",
   "execution_count": null,
   "id": "e984f892",
   "metadata": {},
   "outputs": [],
   "source": [
    "%pip install opentelemetry-sdk==1.34.1\n",
    "%pip install azure-core-tracing-opentelemetry==1.0.0b12\n",
    "%pip install azure-monitor-opentelemetry==1.6.10"
   ]
  },
  {
   "cell_type": "markdown",
   "id": "d8f6785b",
   "metadata": {},
   "source": [
    "## Import the libraries"
   ]
  },
  {
   "cell_type": "code",
   "execution_count": 20,
   "id": "857a9a83",
   "metadata": {},
   "outputs": [],
   "source": [
    "import os, json\n",
    "from azure.ai.projects import AIProjectClient\n",
    "from azure.identity import DefaultAzureCredential\n",
    "from azure.ai.agents.models import (\n",
    "    FunctionTool,\n",
    "    ToolSet,\n",
    "    MessageRole\n",
    ")\n",
    "from opentelemetry import trace\n",
    "from azure.monitor.opentelemetry import configure_azure_monitor\n",
    "from azure.ai.agents.telemetry import trace_function"
   ]
  },
  {
   "cell_type": "markdown",
   "id": "59aabdeb",
   "metadata": {},
   "source": [
    "## Create the AI Project Client\n",
    "\n",
    "NOTE: \n",
    "- If you don't have Azure CLI, you first need to install it:\n",
    "   curl -sL https://aka.ms/InstallAzureCLIDeb | sudo bash\n",
    "- Login to Azure\n",
    "   az login\n",
    "\n"
   ]
  },
  {
   "cell_type": "code",
   "execution_count": 21,
   "id": "d2b1f8e5",
   "metadata": {},
   "outputs": [],
   "source": [
    "# Create an Azure AI Client from an endpoint, copied from your Azure AI Foundry project.\n",
    "# You need to login to Azure subscription via Azure CLI and set the environment variables\n",
    "project_endpoint = os.environ[\"PROJECT_ENDPOINT\"]  # Ensure the PROJECT_ENDPOINT environment variable is set\n",
    "\n",
    "# Create an AIProjectClient instance\n",
    "project_client = AIProjectClient(\n",
    "    endpoint=project_endpoint,\n",
    "    credential=DefaultAzureCredential(),  # Use Azure Default Credential for authentication\n",
    ")"
   ]
  },
  {
   "cell_type": "code",
   "execution_count": 22,
   "id": "192a1bd3",
   "metadata": {},
   "outputs": [],
   "source": [
    "# Enable Azure Monitor tracing\n",
    "#application_insights_connection_string = os.environ[\"APPLICATIONINSIGHTS_CONNECTION_STRING\"]\n",
    "application_insights_connection_string = \"InstrumentationKey=3b2335a3-a621-4781-bbe0-7d4b406e0445;IngestionEndpoint=https://westus-0.in.applicationinsights.azure.com/;LiveEndpoint=https://westus.livediagnostics.monitor.azure.com/;ApplicationId=d0da17ab-a9e6-47be-89c2-f32439963611\"\n",
    "\n",
    "configure_azure_monitor(connection_string=application_insights_connection_string)\n",
    "\n",
    "scenario = \"04_02 Tracing Agents.ipynb\"  # Name of the current notebook\n",
    "tracer = trace.get_tracer(\"Tracing Agents\")  # Use a descriptive tracer name\n"
   ]
  },
  {
   "cell_type": "markdown",
   "id": "56d75e47",
   "metadata": {},
   "source": [
    "## Define Functions and Function tool"
   ]
  },
  {
   "cell_type": "code",
   "execution_count": 23,
   "id": "111c116b",
   "metadata": {},
   "outputs": [],
   "source": [
    "# The trace_func decorator will trace the function call and enable adding additional attributes\n",
    "# to the span in the function implementation. Note that this will trace the function parameters and their values.\n",
    "@trace_function()\n",
    "def fetch_weather(location: str) -> str:\n",
    "    \"\"\"\n",
    "    Fetches the weather information for the specified location.\n",
    "\n",
    "    :param location (str): The location to fetch weather for.\n",
    "    :return: Weather information as a JSON string.\n",
    "    :rtype: str\n",
    "    \"\"\"\n",
    "    # In a real-world scenario, you'd integrate with a weather API.\n",
    "    # Here, we'll mock the response.\n",
    "    mock_weather_data = {\n",
    "        \"New York\": \"Sunny, 25°C\", \n",
    "        \"London\": \"Cloudy, 18°C\", \n",
    "        \"Tokyo\": \"Rainy, 22°C\"\n",
    "    }\n",
    "\n",
    "    # Adding attributes to the current span\n",
    "    span = trace.get_current_span()\n",
    "    span.set_attribute(\"requested_location\", location)\n",
    "\n",
    "    weather = mock_weather_data.get(location, \"Weather data not available for this location.\")\n",
    "    weather_json = json.dumps({\"weather\": weather})\n",
    "    return weather_json\n",
    "\n",
    "@trace_function()\n",
    "def fetch_restaurant(location: str) -> str:\n",
    "    \"\"\"\n",
    "    Fetches the restaurant information for the specified location.\n",
    "\n",
    "    :param location (str): The location to fetch the restaurant for.\n",
    "    :return: Restaurant information as a JSON string.\n",
    "    :rtype: str\n",
    "    \"\"\"\n",
    "    # In a real-world scenario, you'd integrate with a restaurant API.\n",
    "    # Here, we'll mock the response.\n",
    "    mock_restaurant_data = {\n",
    "        \"New York\": \"Tatiana by Kwame Onwuachi, Katz’s Delicatessen, Peter Luger Steakhouse, Sylvia's, Nathan's Famous\", \n",
    "        \"London\": \"St. JOHN, Señor Ceviche, Gloria and Circolo Popolare, Normah's, Bouchon Racine\", \n",
    "        \"Tokyo\": \"Chanko & Wanko Restaurant Asakusa Sumo Club, Sky Restaurant 634 Musashi, Ichiran, Shibuya, Rokkasen Otakibashiidori, Hakushu - Kobe Teppanyaki\"\n",
    "    }\n",
    "\n",
    "    # Adding attributes to the current span\n",
    "    span = trace.get_current_span()\n",
    "    span.set_attribute(\"requested_location\", location)\n",
    "\n",
    "    restaurant = mock_restaurant_data.get(location, \"Restaurant data not available for this location.\")\n",
    "    restaurant_json = json.dumps({\"restaurant\": restaurant})\n",
    "    return restaurant_json\n",
    "\n",
    "@trace_function()\n",
    "def fetch_budget() -> str:\n",
    "    \"\"\"\n",
    "    Fetches the budget information for the specified location.\n",
    "    :return: budget information as a JSON string.\n",
    "    :rtype: str\n",
    "    \"\"\"\n",
    "    # In a real-world scenario, you'd integrate with a another API.\n",
    "    # Here, we'll mock the response.\n",
    "    mock_budget_data = {\n",
    "        \"New York\": \"\"\"\n",
    "            Budget Travelers: Around $121 per day. This includes staying in hostels, eating at budget restaurants, and using public transportation.\n",
    "            Mid-Range Travelers: Approximately $324 per day. This covers mid-range hotels, dining at average restaurants, and some paid attractions.\n",
    "            Luxury Travelers: About $923 per day. This includes luxury hotels, fine dining, and private transportation.\n",
    "        \"\"\", \n",
    "        \"London\": \"\"\"\n",
    "            Budget Travelers: Around $75 per day. This includes staying in hostels, cooking your own meals, and using public transport.\n",
    "            Mid-Range Travelers: Approximately $195 per day. This covers mid-range hotels, dining at average restaurants, and some paid attractions.\n",
    "            Luxury Travelers: About $517 per day. This includes luxury hotels, fine dining, and private transportation.\n",
    "        \"\"\", \n",
    "        \"Tokyo\": \"\"\"\n",
    "            Budget Travelers: Around $100 per day. This includes staying in hostels, eating at budget restaurants, and using public transportation.\n",
    "            Mid-Range Travelers: Approximately $286 per day. This covers mid-range hotels, dining at average restaurants, and some paid attractions.\n",
    "            Luxury Travelers: About $908 per day. This includes luxury hotels, fine dining, and private transportation.\n",
    "        \"\"\"\n",
    "    }\n",
    "    budget_json = json.dumps({\"budget\": mock_budget_data})\n",
    "    return budget_json\n",
    "\n",
    "# Define user functions\n",
    "user_functions = {fetch_weather, fetch_restaurant, fetch_budget}\n",
    "\n",
    "# Initialize the FunctionTool with user-defined functions\n",
    "functions = FunctionTool(functions=user_functions)\n",
    "toolset = ToolSet()\n",
    "toolset.add(functions)\n",
    "\n",
    "# To enable tool calls executed automatically\n",
    "project_client.agents.enable_auto_function_calls(toolset)"
   ]
  },
  {
   "cell_type": "markdown",
   "id": "800c4642",
   "metadata": {},
   "source": [
    "## Helper function\n",
    "- adds messages to the thread\n",
    "- run the agent\n",
    "- display the agent response"
   ]
  },
  {
   "cell_type": "code",
   "execution_count": 24,
   "id": "647fbee0",
   "metadata": {},
   "outputs": [],
   "source": [
    "def run_agent(user_input, thread, agent):\n",
    "    # Add a message to the thread\n",
    "    message = project_client.agents.messages.create(\n",
    "        thread_id=thread.id,\n",
    "        role=\"user\",  # Role of the message sender\n",
    "        content=user_input,  # Message content\n",
    "    )\n",
    "    print(f\"Created message, ID: {message['id']}\")\n",
    "\n",
    "     # Create and process agent run in thread with tools\n",
    "    run = project_client.agents.runs.create_and_process(thread_id=thread.id, agent_id=agent.id)\n",
    "    print(f\"Run finished with status: {run.status}\")\n",
    "\n",
    "    # Check the status of the run and print the result\n",
    "    if run.status == \"failed\":\n",
    "        print(f\"Run failed: {run.last_error}\")\n",
    "    elif run.status == \"completed\":\n",
    "        last_msg = project_client.agents.messages.get_last_message_text_by_role(thread_id=thread.id, role=MessageRole.AGENT)\n",
    "        if last_msg:\n",
    "            print(f\"Agent Response: {last_msg.text.value}\")"
   ]
  },
  {
   "cell_type": "markdown",
   "id": "82efcd58",
   "metadata": {},
   "source": [
    "## Tracing the application"
   ]
  },
  {
   "cell_type": "code",
   "execution_count": 25,
   "id": "f3d34b3f",
   "metadata": {},
   "outputs": [
    {
     "name": "stdout",
     "output_type": "stream",
     "text": [
      "Created agent, ID: asst_0XLoBSKEeccoLu89tK1ReNsf\n",
      "Created thread, ID: thread_DNRz7RZIhnCkw8jpP3h75bmp\n",
      "Created message, ID: msg_hxpAxpgvSSTVAahN8QTJ8w1j\n",
      "Run finished with status: completed\n",
      "Agent Response: The weather in New York is sunny with a temperature of 25°C.\n",
      "Created message, ID: msg_B5rXyeJD7hnvBi0rk2FhOTIQ\n",
      "Run finished with status: completed\n",
      "Agent Response: In London, you can dine at the following restaurants:\n",
      "\n",
      "1. St. JOHN\n",
      "2. Señor Ceviche\n",
      "3. Gloria and Circolo Popolare\n",
      "4. Normah's\n",
      "5. Bouchon Racine\n",
      "Created message, ID: msg_bD2uApQ5yYa3S8tmeNzrI0Ih\n",
      "Run finished with status: completed\n",
      "Agent Response: With a small budget of 300 USD for 4 days, here are a few options:\n",
      "\n",
      "1. **London**: \n",
      "   - Budget Travelers: Around $75 per day. This includes staying in hostels, cooking your own meals, and using public transport.\n",
      "   - For 4 days: 75 * 4 = 300 USD\n",
      "\n",
      "2. **Tokyo**:\n",
      "   - Budget Travelers: Around $100 per day. This includes staying in hostels, eating at budget restaurants, and using public transportation.\n",
      "   - For 3 days: 100 * 3 = 300 USD\n",
      "\n",
      "Given your budget, you can comfortably spend 4 days in London or 3 days in Tokyo as a budget traveler.\n",
      "Deleted agent\n"
     ]
    }
   ],
   "source": [
    "with tracer.start_as_current_span(scenario):\n",
    "    # Create an agent with the file search tool\n",
    "    agent = project_client.agents.create_agent(\n",
    "        model=os.environ[\"MODEL_DEPLOYMENT_NAME\"],  # Model deployment name\n",
    "        name=\"my-functioncalling-agent\",  # Name of the agent\n",
    "        instructions=\"You are a helpful agent and can search information from provided tools\",  # Instructions for the agent\n",
    "        toolset=toolset,  # Toolset containing all the tools\n",
    "    \n",
    "    )\n",
    "    print(f\"Created agent, ID: {agent.id}\")\n",
    "\n",
    "    # Create a thread for communication\n",
    "    thread = project_client.agents.threads.create()\n",
    "    print(f\"Created thread, ID: {thread.id}\")\n",
    "\n",
    "    for question in [\n",
    "        \"What is the weather in New York?\",\n",
    "        \"What can I eat in London?\",\n",
    "        \"With a small budget of 300USD, where can I go for 4 days?\"\n",
    "        ]:\n",
    "        with tracer.start_as_current_span(f\"run_agent_{question[:20]}\"):\n",
    "            run_agent(question, thread, agent)\n",
    "    \n",
    "    # Delete the agent after use\n",
    "    project_client.agents.delete_agent(agent.id)\n",
    "    print(\"Deleted agent\")\n"
   ]
  }
 ],
 "metadata": {
  "kernelspec": {
   "display_name": "Python 3",
   "language": "python",
   "name": "python3"
  },
  "language_info": {
   "codemirror_mode": {
    "name": "ipython",
    "version": 3
   },
   "file_extension": ".py",
   "mimetype": "text/x-python",
   "name": "python",
   "nbconvert_exporter": "python",
   "pygments_lexer": "ipython3",
   "version": "3.10.12"
  }
 },
 "nbformat": 4,
 "nbformat_minor": 5
}
