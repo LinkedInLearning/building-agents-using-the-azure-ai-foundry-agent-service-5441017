{
 "cells": [
  {
   "cell_type": "markdown",
   "id": "ad671273",
   "metadata": {},
   "source": [
    "# Creating the Connected Agent\n",
    "\n",
    "Create an agent that will orchestrate the different tasks and connect the different agents together.\n",
    "\n",
    "We should enter unique names for each agent following the proper naming convention (letters and underscores only):\n",
    "- get_weather: Weather Agent\n",
    "- create_itinerary: Itinerary Agent\n",
    "- get_travel_products: Travel Products Agent\n",
    "- get_restaurants_recommendations: Restaurant Agent\n",
    "\n",
    "Test the agent against different scenarios\n",
    "\n",
    "\n"
   ]
  }
 ],
 "metadata": {
  "language_info": {
   "name": "python"
  }
 },
 "nbformat": 4,
 "nbformat_minor": 5
}
