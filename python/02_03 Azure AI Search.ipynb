{
 "cells": [
  {
   "cell_type": "markdown",
   "id": "eb456d83",
   "metadata": {},
   "source": [
    "# Azure AI Search"
   ]
  },
  {
   "cell_type": "markdown",
   "id": "4e5c74de",
   "metadata": {},
   "source": [
    "## Install Packages"
   ]
  },
  {
   "cell_type": "code",
   "execution_count": null,
   "id": "4a1536b4",
   "metadata": {},
   "outputs": [],
   "source": [
    "%pip install azure-ai-projects==1.0.0b12\n",
    "%pip install azure-identity\n",
    "%pip install azure-ai-agents==1.1.0b3"
   ]
  },
  {
   "cell_type": "markdown",
   "id": "d8f6785b",
   "metadata": {},
   "source": [
    "## Import the libraries"
   ]
  },
  {
   "cell_type": "code",
   "execution_count": 1,
   "id": "857a9a83",
   "metadata": {},
   "outputs": [],
   "source": [
    "import os\n",
    "from azure.ai.projects import AIProjectClient\n",
    "from azure.identity import DefaultAzureCredential\n",
    "from azure.ai.agents.models import AzureAISearchQueryType, AzureAISearchTool, ListSortOrder, MessageRole"
   ]
  },
  {
   "cell_type": "markdown",
   "id": "59aabdeb",
   "metadata": {},
   "source": [
    "## Create the AI Project Client\n",
    "\n",
    "NOTE: \n",
    "- If you don't have Azure CLI, you first need to install it:\n",
    "   curl -sL https://aka.ms/InstallAzureCLIDeb | sudo bash\n",
    "- Login to Azure\n",
    "   az login\n",
    "\n"
   ]
  },
  {
   "cell_type": "code",
   "execution_count": 2,
   "id": "d2b1f8e5",
   "metadata": {},
   "outputs": [],
   "source": [
    "# Create an Azure AI Client from an endpoint, copied from your Azure AI Foundry project.\n",
    "# You need to login to Azure subscription via Azure CLI and set the environment variables\n",
    "project_endpoint = os.environ[\"PROJECT_ENDPOINT\"]  # Ensure the PROJECT_ENDPOINT environment variable is set\n",
    "\n",
    "# Create an AIProjectClient instance\n",
    "project_client = AIProjectClient(\n",
    "    endpoint=project_endpoint,\n",
    "    credential=DefaultAzureCredential(),  # Use Azure Default Credential for authentication\n",
    ")"
   ]
  },
  {
   "cell_type": "markdown",
   "id": "929f0da3",
   "metadata": {},
   "source": [
    "## Setup the Azure AI Search tool\n",
    "\n",
    "Azure AI Search Query Types: https://learn.microsoft.com/en-us/python/api/azure-ai-agents/azure.ai.agents.models.azureaisearchquerytype?view=azure-python-preview"
   ]
  },
  {
   "cell_type": "code",
   "execution_count": null,
   "id": "68a030e7",
   "metadata": {},
   "outputs": [
    {
     "name": "stdout",
     "output_type": "stream",
     "text": [
      "Search Connection ID: /subscriptions/73047bc3-f020-4930-b16d-fe5c9dd3c73e/resourceGroups/agent-standard/providers/Microsoft.CognitiveServices/accounts/foundrydlt4/projects/projectdlt4/connections/dlt4search\n"
     ]
    }
   ],
   "source": [
    "# Enter Azure AI Search details here\n",
    "search_connection = \"dlt4search\"  # Replace with your Azure AI Search connection name\n",
    "search_index =\"healthplanindex\" # Replace with your Azure AI Search index name\n",
    "\n",
    "# Extract the connection list.\n",
    "conn_list = project_client.connections.list()\n",
    "search_connection_id = \"\"\n",
    "\n",
    "# Find the connection ID for Azure AI Search\n",
    "for conn in conn_list:\n",
    "    if conn.name == search_connection:\n",
    "        search_connection_id = conn.id\n",
    "\n",
    "\n",
    "# Print the connection names\n",
    "print(f\"Search Connection ID: {search_connection_id}\")\n",
    "\n",
    "# Initialize agent AI search tool and add the search index connection id\n",
    "ai_search = AzureAISearchTool(\n",
    "    index_connection_id=search_connection_id,\n",
    "    index_name=search_index,\n",
    "    query_type=AzureAISearchQueryType.VECTOR_SEMANTIC_HYBRID,\n",
    "    top_k=5,\n",
    "    filter=\"\",\n",
    ")"
   ]
  },
  {
   "cell_type": "markdown",
   "id": "82efcd58",
   "metadata": {},
   "source": [
    "## Create the agent"
   ]
  },
  {
   "cell_type": "code",
   "execution_count": 4,
   "id": "f3d34b3f",
   "metadata": {},
   "outputs": [
    {
     "name": "stdout",
     "output_type": "stream",
     "text": [
      "Created agent, ID: asst_yaTCiB38Hty40Is5qaHgfK9d\n"
     ]
    }
   ],
   "source": [
    "# Create an agent with the file search tool\n",
    "agent = project_client.agents.create_agent(\n",
    "    model=os.environ[\"MODEL_DEPLOYMENT_NAME\"],  # Model deployment name\n",
    "    name=\"my-aisearch-agent\",  # Name of the agent\n",
    "    instructions=\"You are a helpful agent and can search information from uploaded files\",  # Instructions for the agent\n",
    "    tools=ai_search.definitions,\n",
    "    tool_resources=ai_search.resources,\n",
    ")\n",
    "print(f\"Created agent, ID: {agent.id}\")"
   ]
  },
  {
   "cell_type": "markdown",
   "id": "19b16fbd",
   "metadata": {},
   "source": [
    "## Create thread"
   ]
  },
  {
   "cell_type": "code",
   "execution_count": 5,
   "id": "9c822423",
   "metadata": {},
   "outputs": [
    {
     "name": "stdout",
     "output_type": "stream",
     "text": [
      "Created thread, ID: thread_5gw29cmttd1IM8k63adRZpnk\n"
     ]
    }
   ],
   "source": [
    "# Create a thread for communication\n",
    "thread = project_client.agents.threads.create()\n",
    "print(f\"Created thread, ID: {thread.id}\")"
   ]
  },
  {
   "cell_type": "markdown",
   "id": "800c4642",
   "metadata": {},
   "source": [
    "## Helper function\n",
    "- adds messages to the thread\n",
    "- run the agent\n",
    "- display the agent response"
   ]
  },
  {
   "cell_type": "code",
   "execution_count": 6,
   "id": "1a5da081",
   "metadata": {},
   "outputs": [],
   "source": [
    "def run_agent(user_input):\n",
    "    # Add a message to the thread\n",
    "    message = project_client.agents.messages.create(\n",
    "        thread_id=thread.id,\n",
    "        role=\"user\",  # Role of the message sender\n",
    "        content=user_input,  # Message content\n",
    "    )\n",
    "    print(f\"Created message, ID: {message['id']}\")\n",
    "\n",
    "     # Create and process agent run in thread with tools\n",
    "    run = project_client.agents.runs.create_and_process(thread_id=thread.id, agent_id=agent.id)\n",
    "    print(f\"Run finished with status: {run.status}\")\n",
    "\n",
    "    # Check the status of the run and print the result\n",
    "    if run.status == \"failed\":\n",
    "        print(f\"Run failed: {run.last_error}\")\n",
    "    elif run.status == \"completed\":\n",
    "        last_msg = project_client.agents.messages.get_last_message_text_by_role(thread_id=thread.id, role=MessageRole.AGENT)\n",
    "        if last_msg:\n",
    "            print(f\"Agent Response: {last_msg.text.value}\")"
   ]
  },
  {
   "cell_type": "code",
   "execution_count": 7,
   "id": "69a9e997",
   "metadata": {},
   "outputs": [],
   "source": [
    "def run_agent_details(user_input):\n",
    "    # Add a message to the thread\n",
    "    message = project_client.agents.messages.create(\n",
    "        thread_id=thread.id,\n",
    "        role=\"user\",  # Role of the message sender\n",
    "        content=user_input,  # Message content\n",
    "    )\n",
    "    print(f\"Created message, ID: {message['id']}\")\n",
    "\n",
    "     # Create and process agent run in thread with tools\n",
    "    run = project_client.agents.runs.create_and_process(thread_id=thread.id, agent_id=agent.id)\n",
    "    print(f\"Run finished with status: {run.status}\")\n",
    "\n",
    "    # Fetch run steps to get the details of the agent run\n",
    "    run_steps = project_client.agents.run_steps.list(thread_id=thread.id, run_id=run.id)\n",
    "    for step in run_steps:\n",
    "        print(f\"Step {step['id']} status: {step['status']}\")\n",
    "        step_details = step.get(\"step_details\", {})\n",
    "        tool_calls = step_details.get(\"tool_calls\", [])\n",
    "\n",
    "        if tool_calls:\n",
    "            print(\"  Tool calls:\")\n",
    "            for call in tool_calls:\n",
    "                print(f\"    Tool Call ID: {call.get('id')}\")\n",
    "                print(f\"    Type: {call.get('type')}\")\n",
    "\n",
    "                azure_ai_search_details = call.get(\"azure_ai_search\", {})\n",
    "                if azure_ai_search_details:\n",
    "                    print(f\"    azure_ai_search input: {azure_ai_search_details.get('input')}\")\n",
    "                    print(f\"    azure_ai_search output: {azure_ai_search_details.get('output')}\")\n",
    "        print()  # add an extra newline between steps\n",
    "\n",
    "    if run.status == \"failed\":\n",
    "        print(f\"Run failed: {run.last_error}\")\n",
    "    elif run.status == \"completed\":\n",
    "        messages = project_client.agents.messages.list(thread_id=thread.id, order=ListSortOrder.ASCENDING)\n",
    "        for message in messages:\n",
    "            if message.role == MessageRole.AGENT and message.url_citation_annotations:\n",
    "                placeholder_annotations = {\n",
    "                    annotation.text: f\" [see {annotation.url_citation.title}] ({annotation.url_citation.url})\"\n",
    "                    for annotation in message.url_citation_annotations\n",
    "                }\n",
    "                for message_text in message.text_messages:\n",
    "                    message_str = message_text.text.value\n",
    "                    for k, v in placeholder_annotations.items():\n",
    "                        message_str = message_str.replace(k, v)\n",
    "                    print(f\"{message.role}: {message_str}\")\n",
    "            else:\n",
    "                for message_text in message.text_messages:\n",
    "                    print(f\"{message.role}: {message_text.text.value}\")"
   ]
  },
  {
   "cell_type": "markdown",
   "id": "b4ac8445",
   "metadata": {},
   "source": [
    "## Run the agent"
   ]
  },
  {
   "cell_type": "code",
   "execution_count": 8,
   "id": "42acc584",
   "metadata": {},
   "outputs": [
    {
     "name": "stdout",
     "output_type": "stream",
     "text": [
      "Created message, ID: msg_kNCmfFs8P0pg8m1hnuROogNg\n",
      "Run finished with status: completed\n",
      "Agent Response: The Northwind Standard plan is a comprehensive health plan that provides coverage for medical, vision, and dental services. Key features and aspects of the Northwind Standard plan include:\n",
      "\n",
      "1. **Coverage**:\n",
      "   - Preventive care services, including physicals, immunizations, and screenings.\n",
      "   - Diagnostic tests and treatments.\n",
      "   - Medical consultations.\n",
      "   - Physical therapy.\n",
      "   - Mental health services.\n",
      "   - Prescription drugs.\n",
      "   - Inpatient hospital services.\n",
      "   - Emergency services.\n",
      "\n",
      "2. **Provider Network**: \n",
      "   - The plan includes a variety of in-network providers such as primary care physicians, specialists, hospitals, and pharmacies.\n",
      "   - It is important to ensure that providers are in-network to save money and avoid unexpected costs, as out-of-network services are not covered.\n",
      "\n",
      "3. **Cost Sharing**:\n",
      "   - Premiums must be paid monthly and are based on the age and health of the policyholder as well as the type of coverage chosen.\n",
      "   - Deductibles are the amount that must be paid out-of-pocket before the insurance begins to cover costs.\n",
      "   - Copays (fixed amounts due at each visit) and coinsurance (a percentage of service costs) are also applied.\n",
      "\n",
      "4. **Exclusions**:\n",
      "   - The plan does not cover emergency services, mental health and substance abuse services, or any out-of-network services.\n",
      "   - Cosmetic services, experimental treatments, and most dental services are not covered.\n",
      "\n",
      "5. **Claims and Benefits**:\n",
      "   - Northwind Health is responsible for processing and paying claims correctly, providing an explanation of benefits (EOB) after processing each claim.\n",
      "   - Pre-authorization may be required for certain services.\n",
      "\n",
      "Overall, the Northwind Standard plan offers a balance of coverage for essential health services, with an emphasis on using in-network providers to control costs【3:0†source】【3:1†source】【3:3†source】【3:4†source】.\n"
     ]
    }
   ],
   "source": [
    "user_input = \"Provide details on the Northwind Standard Plan\"\n",
    "run_agent(user_input)"
   ]
  },
  {
   "cell_type": "code",
   "execution_count": 9,
   "id": "98490f07",
   "metadata": {},
   "outputs": [
    {
     "name": "stdout",
     "output_type": "stream",
     "text": [
      "Created message, ID: msg_imMFuuQTkKikFOGAEslTfBlj\n",
      "Run finished with status: completed\n",
      "Step step_Bgxkwk6uPC1P74mCkVTYxcBd status: completed\n",
      "\n",
      "Step step_4A6GPQSVsSKB7HrGrmihrxzu status: completed\n",
      "  Tool calls:\n",
      "    Tool Call ID: call_Ub1bAu4D8cgJ12G1rRu4zNoi\n",
      "    Type: azure_ai_search\n",
      "    azure_ai_search input: Northwind Healthplus plan\n",
      "    azure_ai_search output: {'summary': 'Retrieved 5 documents.', 'metadata': {'urls': ['doc_0', 'doc_1', 'doc_2', 'doc_3', 'doc_4'], 'titles': ['Northwind_Health_Plus_Benefits_Details.pdf', 'Northwind_Health_Plus_Benefits_Details.pdf', 'Northwind_Health_Plus_Benefits_Details.pdf', 'Northwind_Health_Plus_Benefits_Details.pdf', 'Northwind_Health_Plus_Benefits_Details.pdf'], 'get_urls': ['https://dlt4search.search.windows.net/indexes/healthplanindex/docs/051d519df6ff_aHR0cHM6Ly9kbHQ0c3RvcmFnZS5ibG9iLmNvcmUud2luZG93cy5uZXQvaGVhbHRocGxhbnMvTm9ydGh3aW5kX0hlYWx0aF9QbHVzX0JlbmVmaXRzX0RldGFpbHMucGRm0_pages_0?api-version=2024-07-01&$select=chunk_id,chunk,title', 'https://dlt4search.search.windows.net/indexes/healthplanindex/docs/051d519df6ff_aHR0cHM6Ly9kbHQ0c3RvcmFnZS5ibG9iLmNvcmUud2luZG93cy5uZXQvaGVhbHRocGxhbnMvTm9ydGh3aW5kX0hlYWx0aF9QbHVzX0JlbmVmaXRzX0RldGFpbHMucGRm0_pages_153?api-version=2024-07-01&$select=chunk_id,chunk,title', 'https://dlt4search.search.windows.net/indexes/healthplanindex/docs/051d519df6ff_aHR0cHM6Ly9kbHQ0c3RvcmFnZS5ibG9iLmNvcmUud2luZG93cy5uZXQvaGVhbHRocGxhbnMvTm9ydGh3aW5kX0hlYWx0aF9QbHVzX0JlbmVmaXRzX0RldGFpbHMucGRm0_pages_1?api-version=2024-07-01&$select=chunk_id,chunk,title', 'https://dlt4search.search.windows.net/indexes/healthplanindex/docs/051d519df6ff_aHR0cHM6Ly9kbHQ0c3RvcmFnZS5ibG9iLmNvcmUud2luZG93cy5uZXQvaGVhbHRocGxhbnMvTm9ydGh3aW5kX0hlYWx0aF9QbHVzX0JlbmVmaXRzX0RldGFpbHMucGRm0_pages_49?api-version=2024-07-01&$select=chunk_id,chunk,title', 'https://dlt4search.search.windows.net/indexes/healthplanindex/docs/051d519df6ff_aHR0cHM6Ly9kbHQ0c3RvcmFnZS5ibG9iLmNvcmUud2luZG93cy5uZXQvaGVhbHRocGxhbnMvTm9ydGh3aW5kX0hlYWx0aF9QbHVzX0JlbmVmaXRzX0RldGFpbHMucGRm0_pages_154?api-version=2024-07-01&$select=chunk_id,chunk,title'], 'ids': ['051d519df6ff_aHR0cHM6Ly9kbHQ0c3RvcmFnZS5ibG9iLmNvcmUud2luZG93cy5uZXQvaGVhbHRocGxhbnMvTm9ydGh3aW5kX0hlYWx0aF9QbHVzX0JlbmVmaXRzX0RldGFpbHMucGRm0_pages_0', '051d519df6ff_aHR0cHM6Ly9kbHQ0c3RvcmFnZS5ibG9iLmNvcmUud2luZG93cy5uZXQvaGVhbHRocGxhbnMvTm9ydGh3aW5kX0hlYWx0aF9QbHVzX0JlbmVmaXRzX0RldGFpbHMucGRm0_pages_153', '051d519df6ff_aHR0cHM6Ly9kbHQ0c3RvcmFnZS5ibG9iLmNvcmUud2luZG93cy5uZXQvaGVhbHRocGxhbnMvTm9ydGh3aW5kX0hlYWx0aF9QbHVzX0JlbmVmaXRzX0RldGFpbHMucGRm0_pages_1', '051d519df6ff_aHR0cHM6Ly9kbHQ0c3RvcmFnZS5ibG9iLmNvcmUud2luZG93cy5uZXQvaGVhbHRocGxhbnMvTm9ydGh3aW5kX0hlYWx0aF9QbHVzX0JlbmVmaXRzX0RldGFpbHMucGRm0_pages_49', '051d519df6ff_aHR0cHM6Ly9kbHQ0c3RvcmFnZS5ibG9iLmNvcmUud2luZG93cy5uZXQvaGVhbHRocGxhbnMvTm9ydGh3aW5kX0hlYWx0aF9QbHVzX0JlbmVmaXRzX0RldGFpbHMucGRm0_pages_154'], 'command': 'search', 'query_type': 'vector_semantic_hybrid', 'top_k': 5, 'filter': True}}\n",
      "\n",
      "user: Provide details on the Northwind Standard Plan\n",
      "assistant: The Northwind Standard plan is a comprehensive health plan that provides coverage for medical, vision, and dental services. Key features and aspects of the Northwind Standard plan include:\n",
      "\n",
      "1. **Coverage**:\n",
      "   - Preventive care services, including physicals, immunizations, and screenings.\n",
      "   - Diagnostic tests and treatments.\n",
      "   - Medical consultations.\n",
      "   - Physical therapy.\n",
      "   - Mental health services.\n",
      "   - Prescription drugs.\n",
      "   - Inpatient hospital services.\n",
      "   - Emergency services.\n",
      "\n",
      "2. **Provider Network**: \n",
      "   - The plan includes a variety of in-network providers such as primary care physicians, specialists, hospitals, and pharmacies.\n",
      "   - It is important to ensure that providers are in-network to save money and avoid unexpected costs, as out-of-network services are not covered.\n",
      "\n",
      "3. **Cost Sharing**:\n",
      "   - Premiums must be paid monthly and are based on the age and health of the policyholder as well as the type of coverage chosen.\n",
      "   - Deductibles are the amount that must be paid out-of-pocket before the insurance begins to cover costs.\n",
      "   - Copays (fixed amounts due at each visit) and coinsurance (a percentage of service costs) are also applied.\n",
      "\n",
      "4. **Exclusions**:\n",
      "   - The plan does not cover emergency services, mental health and substance abuse services, or any out-of-network services.\n",
      "   - Cosmetic services, experimental treatments, and most dental services are not covered.\n",
      "\n",
      "5. **Claims and Benefits**:\n",
      "   - Northwind Health is responsible for processing and paying claims correctly, providing an explanation of benefits (EOB) after processing each claim.\n",
      "   - Pre-authorization may be required for certain services.\n",
      "\n",
      "Overall, the Northwind Standard plan offers a balance of coverage for essential health services, with an emphasis on using in-network providers to control costs [see Northwind_Standard_Benefits_Details.pdf] (doc_0) [see Northwind_Standard_Benefits_Details.pdf] (doc_1) [see Northwind_Standard_Benefits_Details.pdf] (doc_3) [see Northwind_Standard_Benefits_Details.pdf] (doc_4).\n",
      "user: Provide a tabular comparison between the Northwind Standard and Northwind Healthplus plans\n",
      "assistant: Here is a tabular comparison of the Northwind Standard Plan versus the Northwind Healthplus Plan:\n",
      "\n",
      "| Feature                      | Northwind Standard Plan                                            | Northwind Healthplus Plan                                         |\n",
      "|------------------------------|--------------------------------------------------------------------|------------------------------------------------------------------|\n",
      "| **Coverage**                 | Medical, vision, and dental services. Preventive care, diagnostic tests, medical consultations, physical therapy, mental health services, prescription drugs, inpatient hospital services, emergency services. | Comprehensive coverage for medical, vision, and dental services. Includes prescription drugs, mental health and substance abuse services, preventive care, and emergency services (both in-network and out-of-network). |\n",
      "| **Provider Network**         | In-network providers only, including primary care physicians, specialists, hospitals, and pharmacies. | In-network providers, including primary care physicians, specialists, hospitals, and pharmacies. Covers both in-network and out-of-network emergency services. |\n",
      "| **Cost Sharing**             | Monthly premiums, deductibles, copays, and coinsurance (out-of-pocket costs lower for in-network services). | Monthly premiums based on plan type, deductibles, copays, and coinsurance (lower costs for in-network services). Prescription drug costs vary by medication tier. |\n",
      "| **Exclusions**               | No coverage for emergency services, mental health and substance abuse services, or out-of-network services. | Pre-existing condition exclusions and waiting periods may apply. Some limitations on coverage might exist. Intended to supplement other health insurance coverage. |\n",
      "| **Included Services**        | Preventive care, medical consultations, prescription drugs, inpatient services. | Comprehensive care, including preventive services, home medical equipment, orthotics, prosthetics, medical emergency services. |\n",
      "| **Special Features**         | Emphasis on in-network provider usage to control costs. | Includes Home Medical Equipment (HME), orthotics, prosthetics, 24/7 nurse hotline, online pharmacy service, and an online patient portal for managing health plans and services. |\n",
      "\n",
      "Both plans provide comprehensive coverage, but the Northwind Healthplus Plan offers additional benefits such as coverage for mental health, substance abuse services, home medical equipment, orthotics, prosthetics, and both in-network and out-of-network emergency services, making it a more extensive plan [see Northwind_Standard_Benefits_Details.pdf] (doc_0) [see Northwind_Standard_Benefits_Details.pdf] (doc_1) [see Northwind_Standard_Benefits_Details.pdf] (doc_3) [see Northwind_Standard_Benefits_Details.pdf] (doc_4) [see Northwind_Health_Plus_Benefits_Details.pdf] (doc_0) [see Northwind_Health_Plus_Benefits_Details.pdf] (doc_1) [see Northwind_Health_Plus_Benefits_Details.pdf] (doc_2).\n"
     ]
    }
   ],
   "source": [
    "user_input = \"Provide a tabular comparison between the Northwind Standard and Northwind Healthplus plans\"\n",
    "run_agent_details(user_input)"
   ]
  },
  {
   "cell_type": "markdown",
   "id": "5ba46347",
   "metadata": {},
   "source": [
    "## Cleanup resources"
   ]
  },
  {
   "cell_type": "code",
   "execution_count": 10,
   "id": "2d50c8b9",
   "metadata": {},
   "outputs": [
    {
     "name": "stdout",
     "output_type": "stream",
     "text": [
      "Deleted agent\n"
     ]
    }
   ],
   "source": [
    "# Cleanup resources\n",
    "\n",
    "# Delete the agent after use\n",
    "project_client.agents.delete_agent(agent.id)\n",
    "print(\"Deleted agent\")\n"
   ]
  },
  {
   "cell_type": "markdown",
   "id": "fd8f25b7",
   "metadata": {},
   "source": [
    "## Azure AI Search vs File Search\n",
    "- Azure AI Search can schedule index changes\n",
    "- More flexiblity\n",
    "  - embedding model / size\n",
    "  - field composition\n",
    "  - add skills"
   ]
  }
 ],
 "metadata": {
  "kernelspec": {
   "display_name": "Python 3",
   "language": "python",
   "name": "python3"
  },
  "language_info": {
   "codemirror_mode": {
    "name": "ipython",
    "version": 3
   },
   "file_extension": ".py",
   "mimetype": "text/x-python",
   "name": "python",
   "nbconvert_exporter": "python",
   "pygments_lexer": "ipython3",
   "version": "3.10.12"
  }
 },
 "nbformat": 4,
 "nbformat_minor": 5
}
