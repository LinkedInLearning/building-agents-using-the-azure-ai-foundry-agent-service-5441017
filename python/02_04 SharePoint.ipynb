{
 "cells": [
  {
   "cell_type": "markdown",
   "id": "eb456d83",
   "metadata": {},
   "source": [
    "# SharePoint"
   ]
  },
  {
   "cell_type": "markdown",
   "id": "4e5c74de",
   "metadata": {},
   "source": [
    "## Install Packages"
   ]
  },
  {
   "cell_type": "code",
   "execution_count": 12,
   "id": "4a1536b4",
   "metadata": {},
   "outputs": [
    {
     "name": "stdout",
     "output_type": "stream",
     "text": [
      "Defaulting to user installation because normal site-packages is not writeable\n",
      "Requirement already satisfied: azure-ai-projects==1.0.0b12 in /home/vscode/.local/lib/python3.10/site-packages (1.0.0b12)\n",
      "Requirement already satisfied: typing-extensions>=4.12.2 in /home/vscode/.local/lib/python3.10/site-packages (from azure-ai-projects==1.0.0b12) (4.14.0)\n",
      "Requirement already satisfied: isodate>=0.6.1 in /home/vscode/.local/lib/python3.10/site-packages (from azure-ai-projects==1.0.0b12) (0.7.2)\n",
      "Requirement already satisfied: azure-core>=1.30.0 in /home/vscode/.local/lib/python3.10/site-packages (from azure-ai-projects==1.0.0b12) (1.34.0)\n",
      "Requirement already satisfied: azure-ai-agents>=1.0.0 in /home/vscode/.local/lib/python3.10/site-packages (from azure-ai-projects==1.0.0b12) (1.1.0b3)\n",
      "Requirement already satisfied: azure-storage-blob>=12.15.0 in /home/vscode/.local/lib/python3.10/site-packages (from azure-ai-projects==1.0.0b12) (12.25.1)\n",
      "Requirement already satisfied: requests>=2.21.0 in /home/vscode/.local/lib/python3.10/site-packages (from azure-core>=1.30.0->azure-ai-projects==1.0.0b12) (2.32.4)\n",
      "Requirement already satisfied: six>=1.11.0 in /home/vscode/.local/lib/python3.10/site-packages (from azure-core>=1.30.0->azure-ai-projects==1.0.0b12) (1.17.0)\n",
      "Requirement already satisfied: cryptography>=2.1.4 in /home/vscode/.local/lib/python3.10/site-packages (from azure-storage-blob>=12.15.0->azure-ai-projects==1.0.0b12) (45.0.4)\n",
      "Requirement already satisfied: cffi>=1.14 in /home/vscode/.local/lib/python3.10/site-packages (from cryptography>=2.1.4->azure-storage-blob>=12.15.0->azure-ai-projects==1.0.0b12) (1.17.1)\n",
      "Requirement already satisfied: urllib3<3,>=1.21.1 in /home/vscode/.local/lib/python3.10/site-packages (from requests>=2.21.0->azure-core>=1.30.0->azure-ai-projects==1.0.0b12) (2.5.0)\n",
      "Requirement already satisfied: charset_normalizer<4,>=2 in /home/vscode/.local/lib/python3.10/site-packages (from requests>=2.21.0->azure-core>=1.30.0->azure-ai-projects==1.0.0b12) (3.4.2)\n",
      "Requirement already satisfied: certifi>=2017.4.17 in /home/vscode/.local/lib/python3.10/site-packages (from requests>=2.21.0->azure-core>=1.30.0->azure-ai-projects==1.0.0b12) (2025.6.15)\n",
      "Requirement already satisfied: idna<4,>=2.5 in /home/vscode/.local/lib/python3.10/site-packages (from requests>=2.21.0->azure-core>=1.30.0->azure-ai-projects==1.0.0b12) (3.10)\n",
      "Requirement already satisfied: pycparser in /home/vscode/.local/lib/python3.10/site-packages (from cffi>=1.14->cryptography>=2.1.4->azure-storage-blob>=12.15.0->azure-ai-projects==1.0.0b12) (2.22)\n",
      "\n",
      "\u001b[1m[\u001b[0m\u001b[34;49mnotice\u001b[0m\u001b[1;39;49m]\u001b[0m\u001b[39;49m A new release of pip is available: \u001b[0m\u001b[31;49m23.0.1\u001b[0m\u001b[39;49m -> \u001b[0m\u001b[32;49m25.1.1\u001b[0m\n",
      "\u001b[1m[\u001b[0m\u001b[34;49mnotice\u001b[0m\u001b[1;39;49m]\u001b[0m\u001b[39;49m To update, run: \u001b[0m\u001b[32;49mpip install --upgrade pip\u001b[0m\n",
      "Note: you may need to restart the kernel to use updated packages.\n",
      "Defaulting to user installation because normal site-packages is not writeable\n",
      "Requirement already satisfied: azure-identity in /home/vscode/.local/lib/python3.10/site-packages (1.23.0)\n",
      "Requirement already satisfied: azure-core>=1.31.0 in /home/vscode/.local/lib/python3.10/site-packages (from azure-identity) (1.34.0)\n",
      "Requirement already satisfied: typing-extensions>=4.0.0 in /home/vscode/.local/lib/python3.10/site-packages (from azure-identity) (4.14.0)\n",
      "Requirement already satisfied: cryptography>=2.5 in /home/vscode/.local/lib/python3.10/site-packages (from azure-identity) (45.0.4)\n",
      "Requirement already satisfied: msal>=1.30.0 in /home/vscode/.local/lib/python3.10/site-packages (from azure-identity) (1.32.3)\n",
      "Requirement already satisfied: msal-extensions>=1.2.0 in /home/vscode/.local/lib/python3.10/site-packages (from azure-identity) (1.3.1)\n",
      "Requirement already satisfied: requests>=2.21.0 in /home/vscode/.local/lib/python3.10/site-packages (from azure-core>=1.31.0->azure-identity) (2.32.4)\n",
      "Requirement already satisfied: six>=1.11.0 in /home/vscode/.local/lib/python3.10/site-packages (from azure-core>=1.31.0->azure-identity) (1.17.0)\n",
      "Requirement already satisfied: cffi>=1.14 in /home/vscode/.local/lib/python3.10/site-packages (from cryptography>=2.5->azure-identity) (1.17.1)\n",
      "Requirement already satisfied: PyJWT[crypto]<3,>=1.0.0 in /home/vscode/.local/lib/python3.10/site-packages (from msal>=1.30.0->azure-identity) (2.10.1)\n",
      "Requirement already satisfied: pycparser in /home/vscode/.local/lib/python3.10/site-packages (from cffi>=1.14->cryptography>=2.5->azure-identity) (2.22)\n",
      "Requirement already satisfied: certifi>=2017.4.17 in /home/vscode/.local/lib/python3.10/site-packages (from requests>=2.21.0->azure-core>=1.31.0->azure-identity) (2025.6.15)\n",
      "Requirement already satisfied: charset_normalizer<4,>=2 in /home/vscode/.local/lib/python3.10/site-packages (from requests>=2.21.0->azure-core>=1.31.0->azure-identity) (3.4.2)\n",
      "Requirement already satisfied: idna<4,>=2.5 in /home/vscode/.local/lib/python3.10/site-packages (from requests>=2.21.0->azure-core>=1.31.0->azure-identity) (3.10)\n",
      "Requirement already satisfied: urllib3<3,>=1.21.1 in /home/vscode/.local/lib/python3.10/site-packages (from requests>=2.21.0->azure-core>=1.31.0->azure-identity) (2.5.0)\n",
      "\n",
      "\u001b[1m[\u001b[0m\u001b[34;49mnotice\u001b[0m\u001b[1;39;49m]\u001b[0m\u001b[39;49m A new release of pip is available: \u001b[0m\u001b[31;49m23.0.1\u001b[0m\u001b[39;49m -> \u001b[0m\u001b[32;49m25.1.1\u001b[0m\n",
      "\u001b[1m[\u001b[0m\u001b[34;49mnotice\u001b[0m\u001b[1;39;49m]\u001b[0m\u001b[39;49m To update, run: \u001b[0m\u001b[32;49mpip install --upgrade pip\u001b[0m\n",
      "Note: you may need to restart the kernel to use updated packages.\n",
      "Defaulting to user installation because normal site-packages is not writeable\n",
      "Requirement already satisfied: azure-ai-agents==1.1.0b3 in /home/vscode/.local/lib/python3.10/site-packages (1.1.0b3)\n",
      "Requirement already satisfied: azure-core>=1.30.0 in /home/vscode/.local/lib/python3.10/site-packages (from azure-ai-agents==1.1.0b3) (1.34.0)\n",
      "Requirement already satisfied: typing-extensions>=4.6.0 in /home/vscode/.local/lib/python3.10/site-packages (from azure-ai-agents==1.1.0b3) (4.14.0)\n",
      "Requirement already satisfied: isodate>=0.6.1 in /home/vscode/.local/lib/python3.10/site-packages (from azure-ai-agents==1.1.0b3) (0.7.2)\n",
      "Requirement already satisfied: requests>=2.21.0 in /home/vscode/.local/lib/python3.10/site-packages (from azure-core>=1.30.0->azure-ai-agents==1.1.0b3) (2.32.4)\n",
      "Requirement already satisfied: six>=1.11.0 in /home/vscode/.local/lib/python3.10/site-packages (from azure-core>=1.30.0->azure-ai-agents==1.1.0b3) (1.17.0)\n",
      "Requirement already satisfied: idna<4,>=2.5 in /home/vscode/.local/lib/python3.10/site-packages (from requests>=2.21.0->azure-core>=1.30.0->azure-ai-agents==1.1.0b3) (3.10)\n",
      "Requirement already satisfied: certifi>=2017.4.17 in /home/vscode/.local/lib/python3.10/site-packages (from requests>=2.21.0->azure-core>=1.30.0->azure-ai-agents==1.1.0b3) (2025.6.15)\n",
      "Requirement already satisfied: urllib3<3,>=1.21.1 in /home/vscode/.local/lib/python3.10/site-packages (from requests>=2.21.0->azure-core>=1.30.0->azure-ai-agents==1.1.0b3) (2.5.0)\n",
      "Requirement already satisfied: charset_normalizer<4,>=2 in /home/vscode/.local/lib/python3.10/site-packages (from requests>=2.21.0->azure-core>=1.30.0->azure-ai-agents==1.1.0b3) (3.4.2)\n",
      "\n",
      "\u001b[1m[\u001b[0m\u001b[34;49mnotice\u001b[0m\u001b[1;39;49m]\u001b[0m\u001b[39;49m A new release of pip is available: \u001b[0m\u001b[31;49m23.0.1\u001b[0m\u001b[39;49m -> \u001b[0m\u001b[32;49m25.1.1\u001b[0m\n",
      "\u001b[1m[\u001b[0m\u001b[34;49mnotice\u001b[0m\u001b[1;39;49m]\u001b[0m\u001b[39;49m To update, run: \u001b[0m\u001b[32;49mpip install --upgrade pip\u001b[0m\n",
      "Note: you may need to restart the kernel to use updated packages.\n"
     ]
    }
   ],
   "source": [
    "%pip install azure-ai-projects==1.0.0b12\n",
    "%pip install azure-identity\n",
    "%pip install azure-ai-agents==1.1.0b3"
   ]
  },
  {
   "cell_type": "markdown",
   "id": "d8f6785b",
   "metadata": {},
   "source": [
    "## Import the libraries"
   ]
  },
  {
   "cell_type": "code",
   "execution_count": 13,
   "id": "857a9a83",
   "metadata": {},
   "outputs": [],
   "source": [
    "import os\n",
    "from azure.ai.projects import AIProjectClient\n",
    "from azure.identity import DefaultAzureCredential\n",
    "from azure.ai.agents.models import SharepointTool"
   ]
  },
  {
   "cell_type": "markdown",
   "id": "59aabdeb",
   "metadata": {},
   "source": [
    "## Create the AI Project Client\n",
    "\n",
    "NOTE: \n",
    "- If you don't have Azure CLI, you first need to install it:\n",
    "   curl -sL https://aka.ms/InstallAzureCLIDeb | sudo bash\n",
    "- Login to Azure\n",
    "   az login\n",
    "\n"
   ]
  },
  {
   "cell_type": "code",
   "execution_count": 14,
   "id": "d2b1f8e5",
   "metadata": {},
   "outputs": [],
   "source": [
    "# Create an Azure AI Client from an endpoint, copied from your Azure AI Foundry project.\n",
    "# You need to login to Azure subscription via Azure CLI and set the environment variables\n",
    "project_endpoint = os.environ[\"PROJECT_ENDPOINT\"]  # Ensure the PROJECT_ENDPOINT environment variable is set\n",
    "\n",
    "# Create an AIProjectClient instance\n",
    "project_client = AIProjectClient(\n",
    "    endpoint=project_endpoint,\n",
    "    credential=DefaultAzureCredential(),  # Use Azure Default Credential for authentication\n",
    ")"
   ]
  },
  {
   "cell_type": "markdown",
   "id": "929f0da3",
   "metadata": {},
   "source": [
    "## Setup the SharePoint Tool"
   ]
  },
  {
   "cell_type": "code",
   "execution_count": 15,
   "id": "68a030e7",
   "metadata": {},
   "outputs": [
    {
     "name": "stdout",
     "output_type": "stream",
     "text": [
      "SharePoint Connection ID: /subscriptions/73047bc3-f020-4930-b16d-fe5c9dd3c73e/resourceGroups/agent-standard/providers/Microsoft.CognitiveServices/accounts/foundrydlt4/projects/projectdlt4/connections/sharepoint_conn\n"
     ]
    }
   ],
   "source": [
    "# Enter SharePoint connection name here\n",
    "sharepoint_connection = \"sharepoint_conn\"  # Replace with your SharePoint connection name\n",
    "\n",
    "# Extract the connection list.\n",
    "conn_list = project_client.connections.list()\n",
    "sharepoint_connection_id = \"\"\n",
    "\n",
    "# Find the connection IDs for SharePoint\n",
    "for conn in conn_list:\n",
    "    if conn.name == sharepoint_connection:\n",
    "        sharepoint_connection_id = conn.id\n",
    "\n",
    "\n",
    "# Print the connection names\n",
    "print(f\"SharePoint Connection ID: {sharepoint_connection_id}\")\n",
    "\n",
    "# Initialize the SharePoint tools\n",
    "sharepoint_tool = SharepointTool(connection_id=sharepoint_connection_id)\n"
   ]
  },
  {
   "cell_type": "markdown",
   "id": "82efcd58",
   "metadata": {},
   "source": [
    "## Create the agent"
   ]
  },
  {
   "cell_type": "code",
   "execution_count": 16,
   "id": "f3d34b3f",
   "metadata": {},
   "outputs": [
    {
     "name": "stdout",
     "output_type": "stream",
     "text": [
      "Created agent, ID: asst_Ql6MWXOrvY3Cu2ilX8C1lX6K\n"
     ]
    }
   ],
   "source": [
    "# Create an agent with the file search tool\n",
    "agent = project_client.agents.create_agent(\n",
    "    model=os.environ[\"MODEL_DEPLOYMENT_NAME\"],  # Model deployment name\n",
    "    name=\"my-sharepoint-agent\",  # Name of the agent\n",
    "    instructions=\"You are a helpful agent and can search information from uploaded files\",  # Instructions for the agent\n",
    "    tools=sharepoint_tool.definitions\n",
    ")\n",
    "print(f\"Created agent, ID: {agent.id}\")"
   ]
  },
  {
   "cell_type": "markdown",
   "id": "19b16fbd",
   "metadata": {},
   "source": [
    "## Create thread"
   ]
  },
  {
   "cell_type": "code",
   "execution_count": 17,
   "id": "9c822423",
   "metadata": {},
   "outputs": [
    {
     "name": "stdout",
     "output_type": "stream",
     "text": [
      "Created thread, ID: thread_WR1P33EVtd4gRMkHLp78pgHr\n"
     ]
    }
   ],
   "source": [
    "# Create a thread for communication\n",
    "thread = project_client.agents.threads.create()\n",
    "print(f\"Created thread, ID: {thread.id}\")"
   ]
  },
  {
   "cell_type": "markdown",
   "id": "800c4642",
   "metadata": {},
   "source": [
    "## Helper function\n",
    "- adds messages to the thread\n",
    "- run the agent\n",
    "- display the agent response"
   ]
  },
  {
   "cell_type": "code",
   "execution_count": 18,
   "id": "d4a9459d",
   "metadata": {},
   "outputs": [],
   "source": [
    "def run_agent(user_input):\n",
    "    # Add a message to the thread\n",
    "    message = project_client.agents.messages.create(\n",
    "        thread_id=thread.id,\n",
    "        role=\"user\",  # Role of the message sender\n",
    "        content=user_input,  # Message content\n",
    "    )\n",
    "    print(f\"Created message, ID: {message['id']}\")\n",
    "\n",
    "     # Create and process agent run in thread with tools\n",
    "    run = project_client.agents.runs.create_and_process(thread_id=thread.id, agent_id=agent.id)\n",
    "    print(f\"Run finished with status: {run.status}\")\n",
    "\n",
    "    if run.status == \"failed\":\n",
    "        print(f\"Run failed: {run.last_error}\")\n",
    "    elif run.status == \"completed\":\n",
    "        # Fetch the first message in the thread to see the agent's response\n",
    "        messages = list(project_client.agents.messages.list(thread_id=thread.id))\n",
    "        if messages:\n",
    "            first_message = messages[0]\n",
    "            content = first_message['content']\n",
    "            # Extract the text value if present\n",
    "            if isinstance(content, list) and content:\n",
    "                text_value = content[0].get('text', {}).get('value', '')\n",
    "                print(text_value)"
   ]
  },
  {
   "cell_type": "markdown",
   "id": "b4ac8445",
   "metadata": {},
   "source": [
    "## Run the agent"
   ]
  },
  {
   "cell_type": "code",
   "execution_count": 19,
   "id": "42acc584",
   "metadata": {},
   "outputs": [
    {
     "name": "stdout",
     "output_type": "stream",
     "text": [
      "Created message, ID: msg_m8FPLN87NpVzDkBwhVHou2mz\n",
      "Run finished with status: completed\n",
      "I couldn't find any specific details on the Northwind Standard Plan in the uploaded documents. If you have a specific document that contains this information, please upload it, and I'll extract the details for you.\n"
     ]
    }
   ],
   "source": [
    "user_input = \"Provide details on the Northwind Standard Plan\"\n",
    "run_agent(user_input)"
   ]
  },
  {
   "cell_type": "code",
   "execution_count": 20,
   "id": "98490f07",
   "metadata": {},
   "outputs": [
    {
     "name": "stdout",
     "output_type": "stream",
     "text": [
      "Created message, ID: msg_gof8ih4CQhGbtmiY5kDO7jBW\n",
      "Run finished with status: completed\n",
      "I couldn't find any specific details on the comparison between the Northwind Standard and Northwind Healthplus plans in the uploaded documents. If you have a specific document that contains this information, please upload it, and I'll extract the details for you.\n"
     ]
    }
   ],
   "source": [
    "user_input = \"Provide a tabular comparison between the Northwind Standard and Northwind Healthplus plans\"\n",
    "run_agent(user_input)"
   ]
  },
  {
   "cell_type": "markdown",
   "id": "5ba46347",
   "metadata": {},
   "source": [
    "## Cleanup resources"
   ]
  },
  {
   "cell_type": "code",
   "execution_count": 21,
   "id": "2d50c8b9",
   "metadata": {},
   "outputs": [
    {
     "name": "stdout",
     "output_type": "stream",
     "text": [
      "Deleted agent\n"
     ]
    }
   ],
   "source": [
    "# Cleanup resources\n",
    "# Delete the agent after use\n",
    "project_client.agents.delete_agent(agent.id)\n",
    "print(\"Deleted agent\")\n"
   ]
  }
 ],
 "metadata": {
  "kernelspec": {
   "display_name": "Python 3",
   "language": "python",
   "name": "python3"
  },
  "language_info": {
   "codemirror_mode": {
    "name": "ipython",
    "version": 3
   },
   "file_extension": ".py",
   "mimetype": "text/x-python",
   "name": "python",
   "nbconvert_exporter": "python",
   "pygments_lexer": "ipython3",
   "version": "3.10.12"
  }
 },
 "nbformat": 4,
 "nbformat_minor": 5
}
