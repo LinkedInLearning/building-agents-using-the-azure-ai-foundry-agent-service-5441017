{
 "cells": [
  {
   "cell_type": "markdown",
   "id": "eb456d83",
   "metadata": {},
   "source": [
    "# Azure Function"
   ]
  },
  {
   "cell_type": "markdown",
   "id": "4e5c74de",
   "metadata": {},
   "source": [
    "## Install Packages"
   ]
  },
  {
   "cell_type": "code",
   "execution_count": null,
   "id": "4a1536b4",
   "metadata": {},
   "outputs": [],
   "source": [
    "%pip install azure-ai-projects==1.0.0b12\n",
    "%pip install azure-identity\n",
    "%pip install azure-ai-agents==1.1.0b3"
   ]
  },
  {
   "cell_type": "markdown",
   "id": "d8f6785b",
   "metadata": {},
   "source": [
    "## Import the libraries"
   ]
  },
  {
   "cell_type": "code",
   "execution_count": 13,
   "id": "857a9a83",
   "metadata": {},
   "outputs": [],
   "source": [
    "import os\n",
    "from azure.ai.projects import AIProjectClient\n",
    "from azure.ai.agents.models import AzureFunctionStorageQueue, AzureFunctionTool, MessageRole\n",
    "from azure.identity import DefaultAzureCredential"
   ]
  },
  {
   "cell_type": "markdown",
   "id": "59aabdeb",
   "metadata": {},
   "source": [
    "## Create the AI Project Client\n",
    "\n",
    "NOTE: \n",
    "- If you don't have Azure CLI, you first need to install it:\n",
    "   curl -sL https://aka.ms/InstallAzureCLIDeb | sudo bash\n",
    "- Login to Azure\n",
    "   az login\n",
    "\n"
   ]
  },
  {
   "cell_type": "code",
   "execution_count": 14,
   "id": "d2b1f8e5",
   "metadata": {},
   "outputs": [],
   "source": [
    "# Create an Azure AI Client from an endpoint, copied from your Azure AI Foundry project.\n",
    "# You need to login to Azure subscription via Azure CLI and set the environment variables\n",
    "project_endpoint = os.environ[\"PROJECT_ENDPOINT\"]  # Ensure the PROJECT_ENDPOINT environment variable is set\n",
    "\n",
    "# Create an AIProjectClient instance\n",
    "project_client = AIProjectClient(\n",
    "    endpoint=project_endpoint,\n",
    "    credential=DefaultAzureCredential(),  # Use Azure Default Credential for authentication\n",
    ")"
   ]
  },
  {
   "cell_type": "markdown",
   "id": "929f0da3",
   "metadata": {},
   "source": [
    "## Setup Azure Function tool"
   ]
  },
  {
   "cell_type": "code",
   "execution_count": 15,
   "id": "68a030e7",
   "metadata": {},
   "outputs": [],
   "source": [
    "# Retrieve the storage service endpoint from environment variables\n",
    "storage_service_endpoint = os.environ[\"STORAGE_SERVICE_ENDPOINT\"]\n",
    "\n",
    "# Define the Azure Function tool\n",
    "azure_function_tool = AzureFunctionTool(\n",
    "    name=\"QueueFunc\",  # Name of the tool\n",
    "    description=\"Get the weather information\",  # Description of the tool's purpose\n",
    "    parameters={  # Define the parameters required by the tool\n",
    "        \"type\": \"object\",\n",
    "        \"properties\": {\n",
    "            \"location\": {\"type\": \"string\", \"description\": \"The location to get weather information for.\"},\n",
    "        },\n",
    "    },\n",
    "    input_queue=AzureFunctionStorageQueue(  # Input queue configuration\n",
    "        queue_name=\"azure-function-input\",\n",
    "        storage_service_endpoint=storage_service_endpoint,\n",
    "    ),\n",
    "    output_queue=AzureFunctionStorageQueue(  # Output queue configuration\n",
    "        queue_name=\"azure-function-output\",\n",
    "        storage_service_endpoint=storage_service_endpoint,\n",
    "    ),\n",
    ")"
   ]
  },
  {
   "cell_type": "markdown",
   "id": "82efcd58",
   "metadata": {},
   "source": [
    "## Create the agent"
   ]
  },
  {
   "cell_type": "code",
   "execution_count": 16,
   "id": "f3d34b3f",
   "metadata": {},
   "outputs": [
    {
     "name": "stdout",
     "output_type": "stream",
     "text": [
      "Created agent, ID: asst_twjBR6ywY8lCXZ71sINCFg3N\n"
     ]
    }
   ],
   "source": [
    "# Create an agent with the file search tool\n",
    "agent = project_client.agents.create_agent(\n",
    "    model=os.environ[\"MODEL_DEPLOYMENT_NAME\"],  # Model deployment name\n",
    "    name=\"my-azurefunction-agent\",  # Name of the agent\n",
    "    instructions=\"You are a helpful agent\",  # Instructions for the agent\n",
    "    tools=azure_function_tool.definitions\n",
    ")\n",
    "print(f\"Created agent, ID: {agent.id}\")"
   ]
  },
  {
   "cell_type": "markdown",
   "id": "19b16fbd",
   "metadata": {},
   "source": [
    "## Create thread"
   ]
  },
  {
   "cell_type": "code",
   "execution_count": 17,
   "id": "9c822423",
   "metadata": {},
   "outputs": [
    {
     "name": "stdout",
     "output_type": "stream",
     "text": [
      "Created thread, ID: thread_vDMcrYKuDkUYvKmQyOpqSxQ5\n"
     ]
    }
   ],
   "source": [
    "# Create a thread for communication\n",
    "thread = project_client.agents.threads.create()\n",
    "print(f\"Created thread, ID: {thread.id}\")"
   ]
  },
  {
   "cell_type": "markdown",
   "id": "800c4642",
   "metadata": {},
   "source": [
    "## Helper function\n",
    "- adds messages to the thread\n",
    "- run the agent\n",
    "- display the agent response"
   ]
  },
  {
   "cell_type": "code",
   "execution_count": 18,
   "id": "d4a9459d",
   "metadata": {},
   "outputs": [],
   "source": [
    "def run_agent(user_input):\n",
    "    # Add a message to the thread\n",
    "    message = project_client.agents.messages.create(\n",
    "        thread_id=thread.id,\n",
    "        role=\"user\",  # Role of the message sender\n",
    "        content=user_input,  # Message content\n",
    "    )\n",
    "    print(f\"Created message, ID: {message['id']}\")\n",
    "\n",
    "     # Create and process agent run in thread with tools\n",
    "    run = project_client.agents.runs.create_and_process(thread_id=thread.id, agent_id=agent.id)\n",
    "    print(f\"Run finished with status: {run.status}\")\n",
    "\n",
    "    # Check the status of the run and print the result\n",
    "    if run.status == \"failed\":\n",
    "        print(f\"Run failed: {run.last_error}\")\n",
    "    elif run.status == \"completed\":\n",
    "        last_msg = project_client.agents.messages.get_last_message_text_by_role(thread_id=thread.id, role=MessageRole.AGENT)\n",
    "        if last_msg:\n",
    "            print(f\"Agent Response: {last_msg.text.value}\")"
   ]
  },
  {
   "cell_type": "markdown",
   "id": "b4ac8445",
   "metadata": {},
   "source": [
    "## Run the agent"
   ]
  },
  {
   "cell_type": "code",
   "execution_count": 19,
   "id": "42acc584",
   "metadata": {},
   "outputs": [
    {
     "name": "stdout",
     "output_type": "stream",
     "text": [
      "Created message, ID: msg_WWnorIfolGKq0yFVkhIh6qh2\n",
      "Run finished with status: completed\n",
      "Agent Response: The current weather in London is cloudy with a temperature of 18°C. The information is sourced from the Azure Function.\n"
     ]
    }
   ],
   "source": [
    "user_input = \"What is the weather in London? Provide your source.\"\n",
    "run_agent(user_input)"
   ]
  },
  {
   "cell_type": "code",
   "execution_count": 20,
   "id": "833c980e",
   "metadata": {},
   "outputs": [
    {
     "name": "stdout",
     "output_type": "stream",
     "text": [
      "Created message, ID: msg_AuUKlmAE2aDoJepzpvAIVg9R\n",
      "Run finished with status: completed\n",
      "Agent Response: The weather data for Paris is currently not available. The information is sourced from the Azure Function.\n"
     ]
    }
   ],
   "source": [
    "user_input = \"What is the weather in Paris? Provide your source.\"\n",
    "run_agent(user_input)"
   ]
  },
  {
   "cell_type": "markdown",
   "id": "5ba46347",
   "metadata": {},
   "source": [
    "## Cleanup resources"
   ]
  },
  {
   "cell_type": "code",
   "execution_count": 21,
   "id": "2d50c8b9",
   "metadata": {},
   "outputs": [
    {
     "name": "stdout",
     "output_type": "stream",
     "text": [
      "Deleted agent\n"
     ]
    }
   ],
   "source": [
    "# Cleanup resources\n",
    "\n",
    "# Delete the agent after use\n",
    "project_client.agents.delete_agent(agent.id)\n",
    "print(\"Deleted agent\")\n"
   ]
  }
 ],
 "metadata": {
  "kernelspec": {
   "display_name": "Python 3",
   "language": "python",
   "name": "python3"
  },
  "language_info": {
   "codemirror_mode": {
    "name": "ipython",
    "version": 3
   },
   "file_extension": ".py",
   "mimetype": "text/x-python",
   "name": "python",
   "nbconvert_exporter": "python",
   "pygments_lexer": "ipython3",
   "version": "3.10.12"
  }
 },
 "nbformat": 4,
 "nbformat_minor": 5
}
