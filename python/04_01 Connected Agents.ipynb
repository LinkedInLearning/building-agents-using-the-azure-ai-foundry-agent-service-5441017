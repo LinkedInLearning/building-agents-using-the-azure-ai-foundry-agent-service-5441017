{
 "cells": [
  {
   "cell_type": "markdown",
   "id": "eb456d83",
   "metadata": {},
   "source": [
    "# Connected Agents"
   ]
  },
  {
   "cell_type": "markdown",
   "id": "4e5c74de",
   "metadata": {},
   "source": [
    "## Install Packages"
   ]
  },
  {
   "cell_type": "code",
   "execution_count": null,
   "id": "4a1536b4",
   "metadata": {},
   "outputs": [],
   "source": [
    "%pip install azure-ai-projects==1.0.0b12\n",
    "%pip install azure-identity\n",
    "%pip install azure-ai-agents==1.1.0b3"
   ]
  },
  {
   "cell_type": "markdown",
   "id": "d8f6785b",
   "metadata": {},
   "source": [
    "## Import the libraries"
   ]
  },
  {
   "cell_type": "code",
   "execution_count": 11,
   "id": "857a9a83",
   "metadata": {},
   "outputs": [],
   "source": [
    "import os\n",
    "from azure.ai.projects import AIProjectClient\n",
    "from azure.identity import DefaultAzureCredential\n",
    "from azure.ai.agents.models import MessageRole, ConnectedAgentTool"
   ]
  },
  {
   "cell_type": "markdown",
   "id": "59aabdeb",
   "metadata": {},
   "source": [
    "## Create the AI Project Client\n",
    "\n",
    "NOTE: \n",
    "- If you don't have Azure CLI, you first need to install it:\n",
    "   curl -sL https://aka.ms/InstallAzureCLIDeb | sudo bash\n",
    "- Login to Azure\n",
    "   az login\n",
    "\n"
   ]
  },
  {
   "cell_type": "code",
   "execution_count": 12,
   "id": "d2b1f8e5",
   "metadata": {},
   "outputs": [],
   "source": [
    "# Create an Azure AI Client from an endpoint, copied from your Azure AI Foundry project.\n",
    "# You need to login to Azure subscription via Azure CLI and set the environment variables\n",
    "project_endpoint = os.environ[\"PROJECT_ENDPOINT\"]  # Ensure the PROJECT_ENDPOINT environment variable is set\n",
    "\n",
    "# Create an AIProjectClient instance\n",
    "project_client = AIProjectClient(\n",
    "    endpoint=project_endpoint,\n",
    "    credential=DefaultAzureCredential(),  # Use Azure Default Credential for authentication\n",
    ")"
   ]
  },
  {
   "cell_type": "markdown",
   "id": "929f0da3",
   "metadata": {},
   "source": [
    "## Setup Connected Agent Tools"
   ]
  },
  {
   "cell_type": "code",
   "execution_count": 13,
   "id": "68a030e7",
   "metadata": {},
   "outputs": [],
   "source": [
    "# Specify the proper agent IDs for the connected agents\n",
    "search_agent = project_client.agents.get_agent(\"asst_XVcyiKtQiNBX3KFBK7WQ2mYB\")\n",
    "report_agent = project_client.agents.get_agent(\"asst_lU6yr86tkejQzhyuaa1LJekm\")\n",
    "validation_agent = project_client.agents.get_agent(\"asst_rmQqErBF9GuQXPU2ulpe2qzB\")\n",
    "\n",
    "search_connected_agent = ConnectedAgentTool(\n",
    "        id=search_agent.id, name=\"search_health_plans\", description=\"Searches for information about health plans.\"\n",
    "    )\n",
    "report_connected_agent = ConnectedAgentTool(\n",
    "        id=report_agent.id, name=\"create_report\", description=\"Generates reports on the health plan.\"\n",
    "    )\n",
    "validation_connected_agent = ConnectedAgentTool(\n",
    "        id=validation_agent.id, name=\"validate_report\", description=\"Validates the health plan report.\"\n",
    "    )"
   ]
  },
  {
   "cell_type": "markdown",
   "id": "82efcd58",
   "metadata": {},
   "source": [
    "## Create the agent"
   ]
  },
  {
   "cell_type": "code",
   "execution_count": 14,
   "id": "f3d34b3f",
   "metadata": {},
   "outputs": [
    {
     "name": "stdout",
     "output_type": "stream",
     "text": [
      "Created agent, ID: asst_MfDjUbIcB0CViuZIe5ND02gF\n"
     ]
    }
   ],
   "source": [
    "# Create an agent with the file search tool\n",
    "agent = project_client.agents.create_agent(\n",
    "    model=os.environ[\"MODEL_DEPLOYMENT_NAME\"],  # Model deployment name\n",
    "    name=\"my-healthreport-agent\",  # Name of the agent\n",
    "    instructions=\"\"\"\n",
    "        You are an agent designed to create detailed reports about health plans. \n",
    "        The user will provide the name of a health plan and you will create a detailed report about that health plan. \n",
    "        You will also need to validate that the report meets requirements. \n",
    "        Call the appropriate agents to help write the report. \n",
    "        \n",
    "        Do not write the report on your own. \n",
    "        Your role is to be an orchestrator who will call the appropriate functions provided to you. \n",
    "        Each function that you have available is an agent that can accomplish a specific task. \n",
    "        \n",
    "        Here are descriptions of the plugins you have available:\n",
    "            - Report Agent: An agent that writes detailed reports about health plans.\n",
    "            - Search Agent: An agent that searches health plan documents.\n",
    "            - Validation Agent: An agent that runs validation checks to ensure the generated report meets requirements. \n",
    "            \n",
    "        Your response must contain the final approved report.\n",
    "    \"\"\",  # Instructions for the agent\n",
    "    tools=search_connected_agent.definitions + report_connected_agent.definitions + validation_connected_agent.definitions,  # Tools available to the agent\n",
    ")\n",
    "print(f\"Created agent, ID: {agent.id}\")"
   ]
  },
  {
   "cell_type": "markdown",
   "id": "19b16fbd",
   "metadata": {},
   "source": [
    "## Create thread"
   ]
  },
  {
   "cell_type": "code",
   "execution_count": 15,
   "id": "9c822423",
   "metadata": {},
   "outputs": [
    {
     "name": "stdout",
     "output_type": "stream",
     "text": [
      "Created thread, ID: thread_OYRDUBTMegLGrMJjr9x2AOJG\n"
     ]
    }
   ],
   "source": [
    "# Create a thread for communication\n",
    "thread = project_client.agents.threads.create()\n",
    "print(f\"Created thread, ID: {thread.id}\")"
   ]
  },
  {
   "cell_type": "markdown",
   "id": "800c4642",
   "metadata": {},
   "source": [
    "## Helper function\n",
    "- adds messages to the thread\n",
    "- run the agent\n",
    "- display the agent response"
   ]
  },
  {
   "cell_type": "code",
   "execution_count": 16,
   "id": "d4a9459d",
   "metadata": {},
   "outputs": [],
   "source": [
    "def run_agent(user_input):\n",
    "    # Add a message to the thread\n",
    "    message = project_client.agents.messages.create(\n",
    "        thread_id=thread.id,\n",
    "        role=\"user\",  # Role of the message sender\n",
    "        content=user_input,  # Message content\n",
    "    )\n",
    "    print(f\"Created message, ID: {message['id']}\")\n",
    "\n",
    "     # Create and process agent run in thread with tools\n",
    "    run = project_client.agents.runs.create_and_process(thread_id=thread.id, agent_id=agent.id)\n",
    "    print(f\"Run finished with status: {run.status}\")\n",
    "\n",
    "    # Check the status of the run and print the result\n",
    "    if run.status == \"failed\":\n",
    "        print(f\"Run failed: {run.last_error}\")\n",
    "    elif run.status == \"completed\":\n",
    "        last_msg = project_client.agents.messages.get_last_message_text_by_role(thread_id=thread.id, role=MessageRole.AGENT)\n",
    "        if last_msg:\n",
    "            print(f\"Agent Response: {last_msg.text.value}\")"
   ]
  },
  {
   "cell_type": "markdown",
   "id": "b4ac8445",
   "metadata": {},
   "source": [
    "## Run the agent"
   ]
  },
  {
   "cell_type": "code",
   "execution_count": 17,
   "id": "42acc584",
   "metadata": {},
   "outputs": [
    {
     "name": "stdout",
     "output_type": "stream",
     "text": [
      "Created message, ID: msg_t1Jt5eX9UfQfzv62PlgvPvwu\n",
      "Run finished with status: completed\n",
      "Agent Response: The final approved report on Northwind Health Plus is as follows:\n",
      "\n",
      "# Northwind Health Plus Benefits Summary\n",
      "\n",
      "### 1. Covered Services\n",
      "- Comprehensive care assessments and care plans\n",
      "- Regular follow-up visits\n",
      "- Personalized health education\n",
      "- Assistance with medication management\n",
      "- Coordination of services with other providers\n",
      "- Referrals to community resources\n",
      "- Medical, vision, and dental services\n",
      "- Prescription drug coverage\n",
      "- Mental health and substance abuse coverage\n",
      "- Preventive care services\n",
      "- Emergency services\n",
      "- Inpatient and outpatient hospital services\n",
      "- Orthognathic Surgery (Jaw Augmentation or Reduction)\n",
      "- Infusion Therapy\n",
      "- Massage Therapy\n",
      "- Foot Care\n",
      "- Gender Affirming Care\n",
      "- Virtual Care\n",
      "- Urgent Care\n",
      "- Durable Medical Equipment and Prosthetic Devices\n",
      "- Split Copay for Office Visits\n",
      "- Calendar Year Deductible for some services\n",
      "\n",
      "### 2. Excluded Services\n",
      "- Services that are not medically necessary (e.g., cosmetic surgery or elective procedures)\n",
      "- Experimental or investigational treatments\n",
      "- Non-FDA approved medications\n",
      "- Non-prescription vitamins and supplements\n",
      "- Drugs for cosmetic or elective purposes\n",
      "- Drugs for fertility treatments\n",
      "- Drugs for weight loss or gain\n",
      "- Routine foot care\n",
      "- Foot care products that are not medically necessary\n",
      "- Certain mental health or substance abuse services provided by non-network providers\n",
      "- Preventive care services provided by a non-network provider\n",
      "- Services for injuries or illnesses not medically necessary\n",
      "\n",
      "### 3. Costs\n",
      "- **Calendar Year Deductible**:\n",
      "  - In-Network Services: $1,500 for individuals, $3,000 for families\n",
      "  - Out-of-Network Services: Not applicable, higher cost-sharing applies\n",
      "- **Co-pays**:\n",
      "  - In-Network Primary Care Visits: $20\n",
      "  - In-Network Specialist Visits: $50 \n",
      "  - In-Network Emergency Services: $100\n",
      "  - Out-of-Network Primary Care Visits: $50\n",
      "  - Out-of-Network Specialist Visits: $75\n",
      "  - Out-of-Network Emergency Services: $150\n",
      "- **Coinsurance**:\n",
      "  - Rates depend on the type of service received\n",
      "- **Out-of-Pocket Maximum**:\n",
      "  - Specific amount not stated, exceptions include out-of-network balance-billed charges and non-covered services\n",
      "\n",
      "### 4. Prescription Drug Coverage\n",
      "- Includes both brand name and generic medications\n",
      "- Coverage for many over-the-counter drugs when prescribed\n",
      "- Specific drug classes covered: Antibiotics, Antidepressants, Anti-anxiety medications, Asthma inhalers, Hormone replacement therapies, Pain relievers, Statins, Vaccines\n",
      "- Mail-order services available for up to a 90-day supply\n",
      "- Exceptions: Non-FDA approved medications, non-prescription vitamins and supplements, cosmetic/elective drugs, fertility treatments, weight loss/gain drugs, experimental drugs\n",
      "\n",
      "### 5. Network Requirements\n",
      "- In-Network Providers: Required for the highest level of coverage and lowest cost-sharing\n",
      "- Out-of-Network Providers: Higher cost-sharing and potential full cost responsibility, prior authorization required for coverage\n",
      "- Referrals: Required for some services and treatments to ensure coverage\n",
      "- Prior-authorization: Required for out-of-network provider coverage and certain services\n",
      "\n",
      "### 6. Emergency & Urgent Care Coverage\n",
      "- Emergency care covered even if out-of-network, higher cost-sharing may apply\n",
      "- Urgent care coverage includes both in-network and out-of-network providers, with higher costs for out-of-network\n",
      "\n",
      "### 7. Special Programs\n",
      "- Chronic Condition Management Program\n",
      "- Mental Health and Substance Abuse Services\n",
      "- Maternity and Newborn Care\n",
      "- Wellness Programs\n",
      "- Preventive Care Services\n",
      "- Gender Affirming Care\n",
      "- Virtual Care Services\n",
      "\n",
      "### 8. Claims and Appeals Process\n",
      "- Members are responsible for providing accurate information\n",
      "- Pre-authorization required for certain out-of-network care\n",
      "- Appeals process available for denied claims\n",
      "- Right to external review by state or federal agencies if internal appeals are exhausted\n",
      "\n",
      "Sources:\n",
      "- Northwind_Health_Plus_Benefits_Details.pdf\n",
      "- Northwind_Standard_Benefits_Details.pdf\n",
      "\n",
      "This report provides a comprehensive overview of the Northwind Health Plus benefits to help you understand what services are covered, the associated costs, and other important details about your health plan.\n"
     ]
    }
   ],
   "source": [
    "user_input = \"Create a report about the Northwind Health Plus\"\n",
    "run_agent(user_input)"
   ]
  },
  {
   "cell_type": "markdown",
   "id": "5ba46347",
   "metadata": {},
   "source": [
    "## Cleanup resources"
   ]
  },
  {
   "cell_type": "code",
   "execution_count": 18,
   "id": "2d50c8b9",
   "metadata": {},
   "outputs": [
    {
     "name": "stdout",
     "output_type": "stream",
     "text": [
      "Deleted agent\n"
     ]
    }
   ],
   "source": [
    "# Cleanup resources\n",
    "\n",
    "# Delete the agent after use\n",
    "project_client.agents.delete_agent(agent.id)\n",
    "print(\"Deleted agent\")"
   ]
  }
 ],
 "metadata": {
  "kernelspec": {
   "display_name": "Python 3",
   "language": "python",
   "name": "python3"
  },
  "language_info": {
   "codemirror_mode": {
    "name": "ipython",
    "version": 3
   },
   "file_extension": ".py",
   "mimetype": "text/x-python",
   "name": "python",
   "nbconvert_exporter": "python",
   "pygments_lexer": "ipython3",
   "version": "3.10.12"
  }
 },
 "nbformat": 4,
 "nbformat_minor": 5
}
