{
 "cells": [
  {
   "cell_type": "markdown",
   "id": "eb456d83",
   "metadata": {},
   "source": [
    "# Code Interpreter"
   ]
  },
  {
   "cell_type": "markdown",
   "id": "4e5c74de",
   "metadata": {},
   "source": [
    "## Install Packages"
   ]
  },
  {
   "cell_type": "code",
   "execution_count": null,
   "id": "4a1536b4",
   "metadata": {},
   "outputs": [],
   "source": [
    "%pip install azure-ai-projects==1.0.0b12\n",
    "%pip install azure-identity\n",
    "%pip install azure-ai-agents==1.1.0b3"
   ]
  },
  {
   "cell_type": "markdown",
   "id": "d8f6785b",
   "metadata": {},
   "source": [
    "## Import the libraries"
   ]
  },
  {
   "cell_type": "code",
   "execution_count": 1,
   "id": "857a9a83",
   "metadata": {},
   "outputs": [],
   "source": [
    "import os\n",
    "from azure.ai.projects import AIProjectClient\n",
    "from azure.identity import DefaultAzureCredential\n",
    "from azure.ai.agents.models import CodeInterpreterTool,FilePurpose, MessageRole"
   ]
  },
  {
   "cell_type": "markdown",
   "id": "59aabdeb",
   "metadata": {},
   "source": [
    "## Create the AI Project Client\n",
    "\n",
    "NOTE: \n",
    "- If you don't have Azure CLI, you first need to install it:\n",
    "   curl -sL https://aka.ms/InstallAzureCLIDeb | sudo bash\n",
    "- Login to Azure\n",
    "   az login\n",
    "\n"
   ]
  },
  {
   "cell_type": "code",
   "execution_count": 2,
   "id": "d2b1f8e5",
   "metadata": {},
   "outputs": [],
   "source": [
    "# Create an Azure AI Client from an endpoint, copied from your Azure AI Foundry project.\n",
    "# You need to login to Azure subscription via Azure CLI and set the environment variables\n",
    "project_endpoint = os.environ[\"PROJECT_ENDPOINT\"]  # Ensure the PROJECT_ENDPOINT environment variable is set\n",
    "\n",
    "# Create an AIProjectClient instance\n",
    "project_client = AIProjectClient(\n",
    "    endpoint=project_endpoint,\n",
    "    credential=DefaultAzureCredential(),  # Use Azure Default Credential for authentication\n",
    ")"
   ]
  },
  {
   "cell_type": "markdown",
   "id": "929f0da3",
   "metadata": {},
   "source": [
    "## Setup the Code Interpreter"
   ]
  },
  {
   "cell_type": "code",
   "execution_count": 3,
   "id": "68a030e7",
   "metadata": {},
   "outputs": [
    {
     "name": "stdout",
     "output_type": "stream",
     "text": [
      "['PopulationByAdmin1.csv', 'PopulationByCountry.csv']\n",
      "Uploaded file, file ID: assistant-VLKPbJZa3mhjiq1B35Mj74\n",
      "Uploaded file, file ID: assistant-RMoQRRtKKwn5heE2H81vgz\n"
     ]
    }
   ],
   "source": [
    "import os\n",
    "\n",
    "file_directory = \"../data/population\"\n",
    "\n",
    "# List all files in the directory\n",
    "try:\n",
    "    filenames = os.listdir(file_directory)\n",
    "    print(filenames)\n",
    "except FileNotFoundError:\n",
    "    print(f\"Directory '{file_directory}' not found.\")\n",
    "\n",
    "# Get the full path of a file\n",
    "def get_filepath_for_filename(filename: str) -> str:\n",
    "    base_directory = file_directory\n",
    "    return os.path.join(base_directory, filename)\n",
    "\n",
    "# Upload files to the project client\n",
    "file_ids: list[str] = []\n",
    "for path in [get_filepath_for_filename(filename) for filename in filenames]:\n",
    "    with open(path, \"rb\") as file:\n",
    "        file = project_client.agents.files.upload_and_poll(file_path=path, purpose=FilePurpose.AGENTS)\n",
    "        print(f\"Uploaded file, file ID: {file.id}\")\n",
    "        file_ids.append(file.id)\n",
    "\n",
    "code_interpreter = CodeInterpreterTool(file_ids=file_ids)"
   ]
  },
  {
   "cell_type": "markdown",
   "id": "82efcd58",
   "metadata": {},
   "source": [
    "## Create the agent"
   ]
  },
  {
   "cell_type": "code",
   "execution_count": 4,
   "id": "f3d34b3f",
   "metadata": {},
   "outputs": [
    {
     "name": "stdout",
     "output_type": "stream",
     "text": [
      "Created agent, ID: asst_uRgsn0bG70XbRYXNZLaSyRMa\n"
     ]
    }
   ],
   "source": [
    "# Create an agent with the file search tool\n",
    "agent = project_client.agents.create_agent(\n",
    "    model=os.environ[\"MODEL_DEPLOYMENT_NAME\"],  # Model deployment name\n",
    "    name=\"my-codeinterpreter-agent\",  # Name of the agent\n",
    "    instructions=\"You are a helpful agent that can write Python code to answer questions from a dataset\",  # Instructions for the agent\n",
    "    tools=code_interpreter.definitions,  # Tools available to the agent\n",
    "    tool_resources=code_interpreter.resources,  # Resources for the tools\n",
    ")\n",
    "print(f\"Created agent, ID: {agent.id}\")"
   ]
  },
  {
   "cell_type": "markdown",
   "id": "19b16fbd",
   "metadata": {},
   "source": [
    "## Create thread"
   ]
  },
  {
   "cell_type": "code",
   "execution_count": 5,
   "id": "9c822423",
   "metadata": {},
   "outputs": [
    {
     "name": "stdout",
     "output_type": "stream",
     "text": [
      "Created thread, ID: thread_NaxnznSFJyasRSy7xGbagP9T\n"
     ]
    }
   ],
   "source": [
    "# Create a thread for communication\n",
    "thread = project_client.agents.threads.create()\n",
    "print(f\"Created thread, ID: {thread.id}\")"
   ]
  },
  {
   "cell_type": "markdown",
   "id": "800c4642",
   "metadata": {},
   "source": [
    "## Helper function\n",
    "- adds messages to the thread\n",
    "- run the agent\n",
    "- display the agent response"
   ]
  },
  {
   "cell_type": "code",
   "execution_count": 6,
   "id": "d4a9459d",
   "metadata": {},
   "outputs": [],
   "source": [
    "def run_agent(user_input):\n",
    "    # Add a message to the thread\n",
    "    message = project_client.agents.messages.create(\n",
    "        thread_id=thread.id,\n",
    "        role=\"user\",  # Role of the message sender\n",
    "        content=user_input,  # Message content\n",
    "    )\n",
    "    print(f\"Created message, ID: {message['id']}\")\n",
    "\n",
    "     # Create and process agent run in thread with tools\n",
    "    run = project_client.agents.runs.create_and_process(thread_id=thread.id, agent_id=agent.id)\n",
    "    print(f\"Run finished with status: {run.status}\")\n",
    "\n",
    "    if run.status == \"failed\":\n",
    "        print(f\"Run failed: {run.last_error}\")\n",
    "    elif run.status == \"completed\":       \n",
    "        last_msg = project_client.agents.messages.get_last_message_by_role(thread_id=thread.id, role=MessageRole.AGENT)\n",
    "        if last_msg:\n",
    "            # Extract and print the text value\n",
    "            for item in last_msg['content']:\n",
    "                if item['type'] == 'text':\n",
    "                    print(\"Agent Response:\", item['text']['value'])\n",
    "\n",
    "            # Save every image file in the message\n",
    "            for img in last_msg.image_contents:\n",
    "                file_id = img.image_file.file_id\n",
    "                file_name = f\"{file_id}_image_file.png\"\n",
    "                project_client.agents.files.save(file_id=file_id, file_name=file_name)\n",
    "                print(f\"Saved image file to: {file_name}\")\n",
    "\n",
    "            # Print details of every file-path annotation\n",
    "            for ann in last_msg.file_path_annotations:\n",
    "                print(\"File Paths:\")\n",
    "                print(f\"  Type: {ann.type}\")\n",
    "                print(f\"  Text: {ann.text}\")\n",
    "                print(f\"  File ID: {ann.file_path.file_id}\")\n",
    "                print(f\"  Start Index: {ann.start_index}\")\n",
    "                print(f\"  End Index: {ann.end_index}\")"
   ]
  },
  {
   "cell_type": "markdown",
   "id": "b4ac8445",
   "metadata": {},
   "source": [
    "## Run the agent"
   ]
  },
  {
   "cell_type": "code",
   "execution_count": 7,
   "id": "42acc584",
   "metadata": {},
   "outputs": [
    {
     "name": "stdout",
     "output_type": "stream",
     "text": [
      "Created message, ID: msg_jWgUyLLgwOYZkAZM2wuOSF74\n",
      "Run finished with status: completed\n",
      "Agent Response: The country with the 3rd highest population is the United States (US) with a population of 661,281,782.\n"
     ]
    }
   ],
   "source": [
    "user_input = \"What country has the 3rd highest population?\"\n",
    "run_agent(user_input)"
   ]
  },
  {
   "cell_type": "code",
   "execution_count": 8,
   "id": "98490f07",
   "metadata": {},
   "outputs": [
    {
     "name": "stdout",
     "output_type": "stream",
     "text": [
      "Created message, ID: msg_0Z08vrRpwyEHXkLDosOSrtab\n",
      "Run finished with status: completed\n",
      "Agent Response: Here is the light green column chart showing the top 10 countries with the highest population, with the population values displayed on top of each bar.\n",
      "Saved image file to: assistant-JQUofsAFiF4PTnVoNE1hgD_image_file.png\n"
     ]
    }
   ],
   "source": [
    "user_input = \"\"\"\n",
    "  Give me a light green column chart in descending order of the top 10 countries with the highest population. \n",
    "  Place the population values on top of each chart\n",
    "\"\"\"\n",
    "run_agent(user_input)"
   ]
  },
  {
   "cell_type": "code",
   "execution_count": null,
   "id": "741d349c",
   "metadata": {},
   "outputs": [],
   "source": [
    "user_input = \"\"\"\n",
    "  Provide me a light blue column chart in descending order of the top 5 provinces in Japan with the highest population. \n",
    "  Place the population values on top of each chart\n",
    "\"\"\"\n",
    "run_agent(user_input)"
   ]
  },
  {
   "cell_type": "markdown",
   "id": "5ba46347",
   "metadata": {},
   "source": [
    "## Cleanup resources"
   ]
  },
  {
   "cell_type": "code",
   "execution_count": null,
   "id": "2d50c8b9",
   "metadata": {},
   "outputs": [],
   "source": [
    "# Cleanup resources\n",
    "\n",
    "# Delete the files after use\n",
    "for file_id in file_ids:\n",
    "  project_client.agents.files.delete(file_id)\n",
    "  print(\"Deleted file:\", file_id)\n",
    "\n",
    "# Delete the agent after use\n",
    "project_client.agents.delete_agent(agent.id)\n",
    "print(\"Deleted agent\")\n"
   ]
  }
 ],
 "metadata": {
  "kernelspec": {
   "display_name": "Python 3",
   "language": "python",
   "name": "python3"
  },
  "language_info": {
   "codemirror_mode": {
    "name": "ipython",
    "version": 3
   },
   "file_extension": ".py",
   "mimetype": "text/x-python",
   "name": "python",
   "nbconvert_exporter": "python",
   "pygments_lexer": "ipython3",
   "version": "3.10.12"
  }
 },
 "nbformat": 4,
 "nbformat_minor": 5
}
