{
 "cells": [
  {
   "cell_type": "markdown",
   "id": "eb456d83",
   "metadata": {},
   "source": [
    "# Azure AI Search"
   ]
  },
  {
   "cell_type": "markdown",
   "id": "4e5c74de",
   "metadata": {},
   "source": [
    "## Install Packages"
   ]
  },
  {
   "cell_type": "code",
   "execution_count": null,
   "id": "4a1536b4",
   "metadata": {},
   "outputs": [],
   "source": [
    "%pip install azure-ai-projects==1.0.0b12\n",
    "%pip install azure-identity\n",
    "%pip install azure-ai-agents==1.1.0b3"
   ]
  },
  {
   "cell_type": "markdown",
   "id": "d8f6785b",
   "metadata": {},
   "source": [
    "## Import the libraries"
   ]
  },
  {
   "cell_type": "code",
   "execution_count": 2,
   "id": "857a9a83",
   "metadata": {},
   "outputs": [],
   "source": [
    "import os\n",
    "from azure.ai.projects import AIProjectClient\n",
    "from azure.identity import DefaultAzureCredential\n",
    "from azure.ai.agents.models import AzureAISearchQueryType, AzureAISearchTool, ListSortOrder, MessageRole"
   ]
  },
  {
   "cell_type": "markdown",
   "id": "59aabdeb",
   "metadata": {},
   "source": [
    "## Create the AI Project Client\n",
    "\n",
    "NOTE: \n",
    "- If you don't have Azure CLI, you first need to install it:\n",
    "   curl -sL https://aka.ms/InstallAzureCLIDeb | sudo bash\n",
    "- Login to Azure\n",
    "   az login\n",
    "\n"
   ]
  },
  {
   "cell_type": "code",
   "execution_count": 3,
   "id": "d2b1f8e5",
   "metadata": {},
   "outputs": [],
   "source": [
    "# Create an Azure AI Client from an endpoint, copied from your Azure AI Foundry project.\n",
    "# You need to login to Azure subscription via Azure CLI and set the environment variables\n",
    "project_endpoint = os.environ[\"PROJECT_ENDPOINT\"]  # Ensure the PROJECT_ENDPOINT environment variable is set\n",
    "\n",
    "# Create an AIProjectClient instance\n",
    "project_client = AIProjectClient(\n",
    "    endpoint=project_endpoint,\n",
    "    credential=DefaultAzureCredential(),  # Use Azure Default Credential for authentication\n",
    ")"
   ]
  },
  {
   "cell_type": "markdown",
   "id": "929f0da3",
   "metadata": {},
   "source": [
    "## Setup the Azure AI Search tool\n",
    "\n",
    "Azure AI Search Query Types: https://learn.microsoft.com/en-us/python/api/azure-ai-agents/azure.ai.agents.models.azureaisearchquerytype?view=azure-python-preview"
   ]
  },
  {
   "cell_type": "code",
   "execution_count": 4,
   "id": "68a030e7",
   "metadata": {},
   "outputs": [
    {
     "name": "stdout",
     "output_type": "stream",
     "text": [
      "Search Connection ID: /subscriptions/73047bc3-f020-4930-b16d-fe5c9dd3c73e/resourceGroups/agent-standard/providers/Microsoft.CognitiveServices/accounts/foundrydlt4/projects/projectdlt4/connections/dlt4search\n"
     ]
    }
   ],
   "source": [
    "# Enter Azure AI Search details here\n",
    "search_connection = \"dlt4search\"  # Replace with your Azure AI Search connection name\n",
    "search_index =\"healthplanindex\" # Replace with your Azure AI Search index name\n",
    "\n",
    "# Extract the connection list.\n",
    "conn_list = project_client.connections.list()\n",
    "search_connection_id = \"\"\n",
    "\n",
    "# Find the connection ID for Azure AI Search\n",
    "for conn in conn_list:\n",
    "    if conn.name == search_connection:\n",
    "        search_connection_id = conn.id\n",
    "\n",
    "\n",
    "# Print the connection names\n",
    "print(f\"Search Connection ID: {search_connection_id}\")\n",
    "\n",
    "# Initialize agent AI search tool and add the search index connection id\n",
    "ai_search = AzureAISearchTool(\n",
    "    index_connection_id=search_connection_id,\n",
    "    index_name=search_index,\n",
    "    query_type=AzureAISearchQueryType.VECTOR_SEMANTIC_HYBRID,\n",
    "    top_k=5,\n",
    "    filter=\"\",\n",
    ")\n"
   ]
  },
  {
   "cell_type": "markdown",
   "id": "82efcd58",
   "metadata": {},
   "source": [
    "## Create the agent"
   ]
  },
  {
   "cell_type": "code",
   "execution_count": 5,
   "id": "f3d34b3f",
   "metadata": {},
   "outputs": [
    {
     "name": "stdout",
     "output_type": "stream",
     "text": [
      "Created agent, ID: asst_x44I8MamgtVZjZ4qtHh4gfJK\n"
     ]
    }
   ],
   "source": [
    "# Create an agent with the file search tool\n",
    "agent = project_client.agents.create_agent(\n",
    "    model=os.environ[\"MODEL_DEPLOYMENT_NAME\"],  # Model deployment name\n",
    "    name=\"my-aisearch-agent\",  # Name of the agent\n",
    "    instructions=\"You are a helpful agent and can search information from uploaded files\",  # Instructions for the agent\n",
    "    tools=ai_search.definitions,\n",
    "    tool_resources=ai_search.resources,\n",
    ")\n",
    "print(f\"Created agent, ID: {agent.id}\")"
   ]
  },
  {
   "cell_type": "markdown",
   "id": "19b16fbd",
   "metadata": {},
   "source": [
    "## Create thread"
   ]
  },
  {
   "cell_type": "code",
   "execution_count": 6,
   "id": "9c822423",
   "metadata": {},
   "outputs": [
    {
     "name": "stdout",
     "output_type": "stream",
     "text": [
      "Created thread, ID: thread_MnIOGGfftNsF5Fpjnv695utA\n"
     ]
    }
   ],
   "source": [
    "# Create a thread for communication\n",
    "thread = project_client.agents.threads.create()\n",
    "print(f\"Created thread, ID: {thread.id}\")"
   ]
  },
  {
   "cell_type": "markdown",
   "id": "800c4642",
   "metadata": {},
   "source": [
    "## Helper function\n",
    "- adds messages to the thread\n",
    "- run the agent\n",
    "- display the agent response"
   ]
  },
  {
   "cell_type": "code",
   "execution_count": 7,
   "id": "1a5da081",
   "metadata": {},
   "outputs": [],
   "source": [
    "def run_agent(user_input):\n",
    "    # Add a message to the thread\n",
    "    message = project_client.agents.messages.create(\n",
    "        thread_id=thread.id,\n",
    "        role=\"user\",  # Role of the message sender\n",
    "        content=user_input,  # Message content\n",
    "    )\n",
    "    print(f\"Created message, ID: {message['id']}\")\n",
    "\n",
    "     # Create and process agent run in thread with tools\n",
    "    run = project_client.agents.runs.create_and_process(thread_id=thread.id, agent_id=agent.id)\n",
    "    print(f\"Run finished with status: {run.status}\")\n",
    "\n",
    "    if run.status == \"failed\":\n",
    "        print(f\"Run failed: {run.last_error}\")\n",
    "    elif run.status == \"completed\":\n",
    "        # Fetch the first message in the thread to see the agent's response\n",
    "        messages = list(project_client.agents.messages.list(thread_id=thread.id))\n",
    "        if messages:\n",
    "            first_message = messages[0]\n",
    "            content = first_message['content']\n",
    "            # Extract the text value if present\n",
    "            if isinstance(content, list) and content:\n",
    "                text_value = content[0].get('text', {}).get('value', '')\n",
    "                print(text_value)"
   ]
  },
  {
   "cell_type": "code",
   "execution_count": 8,
   "id": "69a9e997",
   "metadata": {},
   "outputs": [],
   "source": [
    "def run_agent_details(user_input):\n",
    "    # Add a message to the thread\n",
    "    message = project_client.agents.messages.create(\n",
    "        thread_id=thread.id,\n",
    "        role=\"user\",  # Role of the message sender\n",
    "        content=user_input,  # Message content\n",
    "    )\n",
    "    print(f\"Created message, ID: {message['id']}\")\n",
    "\n",
    "     # Create and process agent run in thread with tools\n",
    "    run = project_client.agents.runs.create_and_process(thread_id=thread.id, agent_id=agent.id)\n",
    "    print(f\"Run finished with status: {run.status}\")\n",
    "\n",
    "    # Fetch run steps to get the details of the agent run\n",
    "    run_steps = project_client.agents.run_steps.list(thread_id=thread.id, run_id=run.id)\n",
    "    for step in run_steps:\n",
    "        print(f\"Step {step['id']} status: {step['status']}\")\n",
    "        step_details = step.get(\"step_details\", {})\n",
    "        tool_calls = step_details.get(\"tool_calls\", [])\n",
    "\n",
    "        if tool_calls:\n",
    "            print(\"  Tool calls:\")\n",
    "            for call in tool_calls:\n",
    "                print(f\"    Tool Call ID: {call.get('id')}\")\n",
    "                print(f\"    Type: {call.get('type')}\")\n",
    "\n",
    "                azure_ai_search_details = call.get(\"azure_ai_search\", {})\n",
    "                if azure_ai_search_details:\n",
    "                    print(f\"    azure_ai_search input: {azure_ai_search_details.get('input')}\")\n",
    "                    print(f\"    azure_ai_search output: {azure_ai_search_details.get('output')}\")\n",
    "        print()  # add an extra newline between steps\n",
    "\n",
    "    if run.status == \"failed\":\n",
    "        print(f\"Run failed: {run.last_error}\")\n",
    "    elif run.status == \"completed\":\n",
    "        messages = project_client.agents.messages.list(thread_id=thread.id, order=ListSortOrder.ASCENDING)\n",
    "        for message in messages:\n",
    "            if message.role == MessageRole.AGENT and message.url_citation_annotations:\n",
    "                placeholder_annotations = {\n",
    "                    annotation.text: f\" [see {annotation.url_citation.title}] ({annotation.url_citation.url})\"\n",
    "                    for annotation in message.url_citation_annotations\n",
    "                }\n",
    "                for message_text in message.text_messages:\n",
    "                    message_str = message_text.text.value\n",
    "                    for k, v in placeholder_annotations.items():\n",
    "                        message_str = message_str.replace(k, v)\n",
    "                    print(f\"{message.role}: {message_str}\")\n",
    "            else:\n",
    "                for message_text in message.text_messages:\n",
    "                    print(f\"{message.role}: {message_text.text.value}\")"
   ]
  },
  {
   "cell_type": "markdown",
   "id": "b4ac8445",
   "metadata": {},
   "source": [
    "## Run the agent"
   ]
  },
  {
   "cell_type": "code",
   "execution_count": 9,
   "id": "42acc584",
   "metadata": {},
   "outputs": [
    {
     "name": "stdout",
     "output_type": "stream",
     "text": [
      "Created message, ID: msg_eQR61Act343rW3sEVsCtVb43\n",
      "Run finished with status: completed\n",
      "The Northwind Standard Plan is a comprehensive health plan that provides coverage for medical, vision, and dental services. It includes preventive care services and prescription drug coverage, allowing you to choose from various in-network providers, such as primary care physicians, specialists, hospitals, and pharmacies【3:0†source】【3:2†source】.\n",
      "\n",
      "### Summary of Coverage\n",
      "\n",
      "1. **Covered Services:**\n",
      "    - Preventive care services (physical exams, immunizations, screenings)\n",
      "    - Diagnostic tests and treatments\n",
      "    - Medical consultations\n",
      "    - Physical therapy\n",
      "    - Mental health services\n",
      "    - Prescription drugs\n",
      "    - Inpatient hospital services\n",
      "    - Emergency services【3:1†source】\n",
      "\n",
      "2. **Exclusions:**\n",
      "    - Cosmetic services\n",
      "    - Experimental treatments\n",
      "    - Most dental services\n",
      "    - Services provided by out-of-network providers\n",
      "    - Emergency services, mental health, and substance abuse services【3:0†source】【3:1†source】【3:4†source】\n",
      "\n",
      "### Costs and Payment Structure\n",
      "\n",
      "- **Premiums:** Monthly payments are required, which vary based on the policyholder's age, health, and selected coverage type【3:2†source】【3:4†source】.\n",
      "- **Out-of-Pocket Costs:** These may include copays, coinsurance, and deductibles. Copays are fixed amounts due at each visit, coinsurance is a percentage of the service cost, and deductibles are a fixed amount that must be paid before coverage begins【3:2†source】【3:4†source】【3:0†source】.\n",
      "\n",
      "### Tips for Maximizing Benefits\n",
      "\n",
      "- Schedule regular physicals and preventive care check-ups.\n",
      "- Utilize preventive services covered by the plan at no additional cost.\n",
      "- Ensure your healthcare providers are in-network to maximize coverage and reduce costs.\n",
      "- Review your Explanation of Benefits (EOB) for clarity on services received and charges【3:3†source】【3:4†source】.\n",
      "\n",
      "Northwind Health also offers tools and customer service to help you make the most of your coverage, including a cost estimator tool and a provider directory【3:1†source】【3:4†source】.\n"
     ]
    }
   ],
   "source": [
    "user_input = \"Provide details on the Northwind Standard Plan\"\n",
    "run_agent(user_input)"
   ]
  },
  {
   "cell_type": "code",
   "execution_count": 10,
   "id": "98490f07",
   "metadata": {},
   "outputs": [
    {
     "name": "stdout",
     "output_type": "stream",
     "text": [
      "Created message, ID: msg_yDuZilJndb3PiZ0D2lTmiPef\n",
      "Run finished with status: completed\n",
      "Step step_lWi8u5UFD7HZkp840Wru4lJx status: completed\n",
      "\n",
      "Step step_HgvvPClePocDE5cQlMSOUA89 status: completed\n",
      "  Tool calls:\n",
      "    Tool Call ID: call_ALybMRiKA1D4liuRSKO3nvK2\n",
      "    Type: azure_ai_search\n",
      "    azure_ai_search input: Northwind Standard vs Healthplus Plan comparison\n",
      "    azure_ai_search output: {'summary': 'Retrieved 5 documents.', 'metadata': {'urls': ['doc_0', 'doc_1', 'doc_2', 'doc_3', 'doc_4'], 'titles': ['Northwind_Health_Plus_Benefits_Details.pdf', 'Northwind_Health_Plus_Benefits_Details.pdf', 'Northwind_Health_Plus_Benefits_Details.pdf', 'Northwind_Health_Plus_Benefits_Details.pdf', 'Northwind_Health_Plus_Benefits_Details.pdf'], 'get_urls': ['https://dlt4search.search.windows.net/indexes/healthplanindex/docs/051d519df6ff_aHR0cHM6Ly9kbHQ0c3RvcmFnZS5ibG9iLmNvcmUud2luZG93cy5uZXQvaGVhbHRocGxhbnMvTm9ydGh3aW5kX0hlYWx0aF9QbHVzX0JlbmVmaXRzX0RldGFpbHMucGRm0_pages_1?api-version=2024-07-01&$select=chunk_id,chunk,title', 'https://dlt4search.search.windows.net/indexes/healthplanindex/docs/051d519df6ff_aHR0cHM6Ly9kbHQ0c3RvcmFnZS5ibG9iLmNvcmUud2luZG93cy5uZXQvaGVhbHRocGxhbnMvTm9ydGh3aW5kX0hlYWx0aF9QbHVzX0JlbmVmaXRzX0RldGFpbHMucGRm0_pages_0?api-version=2024-07-01&$select=chunk_id,chunk,title', 'https://dlt4search.search.windows.net/indexes/healthplanindex/docs/051d519df6ff_aHR0cHM6Ly9kbHQ0c3RvcmFnZS5ibG9iLmNvcmUud2luZG93cy5uZXQvaGVhbHRocGxhbnMvTm9ydGh3aW5kX0hlYWx0aF9QbHVzX0JlbmVmaXRzX0RldGFpbHMucGRm0_pages_24?api-version=2024-07-01&$select=chunk_id,chunk,title', 'https://dlt4search.search.windows.net/indexes/healthplanindex/docs/051d519df6ff_aHR0cHM6Ly9kbHQ0c3RvcmFnZS5ibG9iLmNvcmUud2luZG93cy5uZXQvaGVhbHRocGxhbnMvTm9ydGh3aW5kX0hlYWx0aF9QbHVzX0JlbmVmaXRzX0RldGFpbHMucGRm0_pages_12?api-version=2024-07-01&$select=chunk_id,chunk,title', 'https://dlt4search.search.windows.net/indexes/healthplanindex/docs/051d519df6ff_aHR0cHM6Ly9kbHQ0c3RvcmFnZS5ibG9iLmNvcmUud2luZG93cy5uZXQvaGVhbHRocGxhbnMvTm9ydGh3aW5kX0hlYWx0aF9QbHVzX0JlbmVmaXRzX0RldGFpbHMucGRm0_pages_118?api-version=2024-07-01&$select=chunk_id,chunk,title'], 'ids': ['051d519df6ff_aHR0cHM6Ly9kbHQ0c3RvcmFnZS5ibG9iLmNvcmUud2luZG93cy5uZXQvaGVhbHRocGxhbnMvTm9ydGh3aW5kX0hlYWx0aF9QbHVzX0JlbmVmaXRzX0RldGFpbHMucGRm0_pages_1', '051d519df6ff_aHR0cHM6Ly9kbHQ0c3RvcmFnZS5ibG9iLmNvcmUud2luZG93cy5uZXQvaGVhbHRocGxhbnMvTm9ydGh3aW5kX0hlYWx0aF9QbHVzX0JlbmVmaXRzX0RldGFpbHMucGRm0_pages_0', '051d519df6ff_aHR0cHM6Ly9kbHQ0c3RvcmFnZS5ibG9iLmNvcmUud2luZG93cy5uZXQvaGVhbHRocGxhbnMvTm9ydGh3aW5kX0hlYWx0aF9QbHVzX0JlbmVmaXRzX0RldGFpbHMucGRm0_pages_24', '051d519df6ff_aHR0cHM6Ly9kbHQ0c3RvcmFnZS5ibG9iLmNvcmUud2luZG93cy5uZXQvaGVhbHRocGxhbnMvTm9ydGh3aW5kX0hlYWx0aF9QbHVzX0JlbmVmaXRzX0RldGFpbHMucGRm0_pages_12', '051d519df6ff_aHR0cHM6Ly9kbHQ0c3RvcmFnZS5ibG9iLmNvcmUud2luZG93cy5uZXQvaGVhbHRocGxhbnMvTm9ydGh3aW5kX0hlYWx0aF9QbHVzX0JlbmVmaXRzX0RldGFpbHMucGRm0_pages_118'], 'command': 'search', 'query_type': 'vector_semantic_hybrid', 'top_k': 5, 'filter': True}}\n",
      "\n",
      "user: Provide details on the Northwind Standard Plan\n",
      "assistant: The Northwind Standard Plan is a comprehensive health plan that provides coverage for medical, vision, and dental services. It includes preventive care services and prescription drug coverage, allowing you to choose from various in-network providers, such as primary care physicians, specialists, hospitals, and pharmacies [see Northwind_Standard_Benefits_Details.pdf] (doc_0) [see Northwind_Standard_Benefits_Details.pdf] (doc_2).\n",
      "\n",
      "### Summary of Coverage\n",
      "\n",
      "1. **Covered Services:**\n",
      "    - Preventive care services (physical exams, immunizations, screenings)\n",
      "    - Diagnostic tests and treatments\n",
      "    - Medical consultations\n",
      "    - Physical therapy\n",
      "    - Mental health services\n",
      "    - Prescription drugs\n",
      "    - Inpatient hospital services\n",
      "    - Emergency services [see Northwind_Standard_Benefits_Details.pdf] (doc_1)\n",
      "\n",
      "2. **Exclusions:**\n",
      "    - Cosmetic services\n",
      "    - Experimental treatments\n",
      "    - Most dental services\n",
      "    - Services provided by out-of-network providers\n",
      "    - Emergency services, mental health, and substance abuse services [see Northwind_Standard_Benefits_Details.pdf] (doc_0) [see Northwind_Standard_Benefits_Details.pdf] (doc_1) [see Northwind_Standard_Benefits_Details.pdf] (doc_4)\n",
      "\n",
      "### Costs and Payment Structure\n",
      "\n",
      "- **Premiums:** Monthly payments are required, which vary based on the policyholder's age, health, and selected coverage type [see Northwind_Standard_Benefits_Details.pdf] (doc_2) [see Northwind_Standard_Benefits_Details.pdf] (doc_4).\n",
      "- **Out-of-Pocket Costs:** These may include copays, coinsurance, and deductibles. Copays are fixed amounts due at each visit, coinsurance is a percentage of the service cost, and deductibles are a fixed amount that must be paid before coverage begins [see Northwind_Standard_Benefits_Details.pdf] (doc_2) [see Northwind_Standard_Benefits_Details.pdf] (doc_4) [see Northwind_Standard_Benefits_Details.pdf] (doc_0).\n",
      "\n",
      "### Tips for Maximizing Benefits\n",
      "\n",
      "- Schedule regular physicals and preventive care check-ups.\n",
      "- Utilize preventive services covered by the plan at no additional cost.\n",
      "- Ensure your healthcare providers are in-network to maximize coverage and reduce costs.\n",
      "- Review your Explanation of Benefits (EOB) for clarity on services received and charges [see Northwind_Standard_Benefits_Details.pdf] (doc_3) [see Northwind_Standard_Benefits_Details.pdf] (doc_4).\n",
      "\n",
      "Northwind Health also offers tools and customer service to help you make the most of your coverage, including a cost estimator tool and a provider directory [see Northwind_Standard_Benefits_Details.pdf] (doc_1) [see Northwind_Standard_Benefits_Details.pdf] (doc_4).\n",
      "user: Provide a tabular comparison between the Northwind Standard and Northwind Healthplus plans\n",
      "assistant: Here is the tabular comparison between the Northwind Standard and Northwind Healthplus plans:\n",
      "\n",
      "| Feature/Service                   | Northwind Standard Plan                                      | Northwind Healthplus Plan                                        |\n",
      "|-----------------------------------|-------------------------------------------------------------|------------------------------------------------------------------|\n",
      "| **Coverage**                      | Medical, Vision, Dental, Prescription Drugs, Preventive Care| Medical, Vision, Dental, Prescription Drugs, Preventive Care, Mental Health, Substance Abuse, Emergency, Out-of-Network coverage |\n",
      "| **Preventive Care Services**      | Physical exams, immunizations, screenings, covered at no extra cost| Immunizations, screenings, covered at no extra cost             |\n",
      "| **Mental Health and Substance Abuse** | Limited coverage                                        | Comprehensive coverage                                            |\n",
      "| **Emergency Services**            | Limited to in-network                                      | Both in-network and out-of-network                              |\n",
      "| **Out-of-Network Services**       | Not typically covered                                       | Covered with higher out-of-pocket costs                            |\n",
      "| **Premiums**                      | Varies based on age, health, selected coverage               | Typically higher than Standard Plan                              |\n",
      "| **Out-of-Pocket Costs**           | Copays, coinsurance, deductibles                              | Lower in-network costs; higher out-of-network costs             |\n",
      "| **Specialist Access**             | In-network or out-of-network                                | Wider in-network access                                         |\n",
      "| **Prescription Drug Coverage**    | Tier-based cost, may vary                                   | Tier-based cost, extensive coverage for various tiers            |\n",
      "| **Additional Programs**           | Limited wellness programs                                   | Disease management, wellness programs such as smoking cessation, stress management [see Northwind_Health_Plus_Benefits_Details.pdf] (doc_4) [see Northwind_Health_Plus_Benefits_Details.pdf] (doc_0) [see Northwind_Health_Plus_Benefits_Details.pdf] (doc_1) [see Northwind_Health_Plus_Benefits_Details.pdf] (doc_2).|\n",
      "\n",
      "The Northwind Healthplus Plan provides more extensive coverage, including mental health and substance abuse services, and it includes preventive care with a broader range of options for both in-network and out-of-network providers. The Northwind Standard Plan, while providing essential medical services, generally has lower premiums but higher out-of-pocket costs when compared to the Healthplus Plan.\n"
     ]
    }
   ],
   "source": [
    "user_input = \"Provide a tabular comparison between the Northwind Standard and Northwind Healthplus plans\"\n",
    "run_agent_details(user_input)"
   ]
  },
  {
   "cell_type": "markdown",
   "id": "5ba46347",
   "metadata": {},
   "source": [
    "## Cleanup resources"
   ]
  },
  {
   "cell_type": "code",
   "execution_count": 36,
   "id": "2d50c8b9",
   "metadata": {},
   "outputs": [
    {
     "name": "stdout",
     "output_type": "stream",
     "text": [
      "Deleted agent\n"
     ]
    }
   ],
   "source": [
    "# Cleanup resources\n",
    "\n",
    "# Delete the agent after use\n",
    "project_client.agents.delete_agent(agent.id)\n",
    "print(\"Deleted agent\")\n"
   ]
  },
  {
   "cell_type": "markdown",
   "id": "fd8f25b7",
   "metadata": {},
   "source": [
    "## Azure AI Search vs File Search\n",
    "- Azure AI Search can schedule index changes\n",
    "- More flexiblity\n",
    "  - embedding model / size\n",
    "  - field composition\n",
    "  - add skills"
   ]
  }
 ],
 "metadata": {
  "kernelspec": {
   "display_name": "Python 3",
   "language": "python",
   "name": "python3"
  },
  "language_info": {
   "codemirror_mode": {
    "name": "ipython",
    "version": 3
   },
   "file_extension": ".py",
   "mimetype": "text/x-python",
   "name": "python",
   "nbconvert_exporter": "python",
   "pygments_lexer": "ipython3",
   "version": "3.10.12"
  }
 },
 "nbformat": 4,
 "nbformat_minor": 5
}
