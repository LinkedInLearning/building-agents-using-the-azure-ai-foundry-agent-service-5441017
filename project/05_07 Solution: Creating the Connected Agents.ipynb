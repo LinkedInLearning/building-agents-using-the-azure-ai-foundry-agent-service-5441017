{
 "cells": [
  {
   "cell_type": "markdown",
   "id": "1340abdb",
   "metadata": {},
   "source": [
    "# Solution: Creating the Connected Agent"
   ]
  },
  {
   "cell_type": "markdown",
   "id": "6e61321d",
   "metadata": {},
   "source": [
    "## Import the libraries"
   ]
  },
  {
   "cell_type": "code",
   "execution_count": 7,
   "id": "88b79ab9",
   "metadata": {},
   "outputs": [],
   "source": [
    "import os\n",
    "from azure.ai.projects import AIProjectClient\n",
    "from azure.identity import DefaultAzureCredential\n",
    "from azure.ai.agents.models import MessageRole, ConnectedAgentTool"
   ]
  },
  {
   "cell_type": "markdown",
   "id": "beae0518",
   "metadata": {},
   "source": [
    "## Create the Project Client"
   ]
  },
  {
   "cell_type": "code",
   "execution_count": 8,
   "id": "9c690928",
   "metadata": {},
   "outputs": [],
   "source": [
    "# Create an Azure AI Client from an endpoint, copied from your Azure AI Foundry project.\n",
    "# You need to login to Azure subscription via Azure CLI and set the environment variables\n",
    "project_endpoint = os.environ[\"PROJECT_ENDPOINT\"]  # Ensure the PROJECT_ENDPOINT environment variable is set\n",
    "\n",
    "# Create an AIProjectClient instance\n",
    "project_client = AIProjectClient(\n",
    "    endpoint=project_endpoint,\n",
    "    credential=DefaultAzureCredential(),  # Use Azure Default Credential for authentication\n",
    ")"
   ]
  },
  {
   "cell_type": "markdown",
   "id": "1593e8e4",
   "metadata": {},
   "source": [
    "## Run Agent helper function"
   ]
  },
  {
   "cell_type": "code",
   "execution_count": 9,
   "id": "62187ef9",
   "metadata": {},
   "outputs": [],
   "source": [
    "def run_agent(user_input, thread_id, agent_id):\n",
    "    # Add a message to the thread\n",
    "    message = project_client.agents.messages.create(\n",
    "        thread_id=thread_id,  # ID of the thread to which the message belongs\n",
    "        role=\"user\",  # Role of the message sender\n",
    "        content=user_input,  # Message content\n",
    "    )\n",
    "    print(f\"Created message, ID: {message['id']}\")\n",
    "\n",
    "     # Create and process agent run in thread with tools\n",
    "    run = project_client.agents.runs.create_and_process(thread_id=thread_id, agent_id=agent_id)\n",
    "    print(f\"Run finished with status: {run.status}\")\n",
    "\n",
    "    # Check the status of the run and print the result\n",
    "    if run.status == \"failed\":\n",
    "        print(f\"Run failed: {run.last_error}\")\n",
    "    elif run.status == \"completed\":\n",
    "        last_msg = project_client.agents.messages.get_last_message_text_by_role(thread_id=thread_id, role=MessageRole.AGENT)\n",
    "        if last_msg:\n",
    "            print(f\"Agent Response: {last_msg.text.value}\")"
   ]
  },
  {
   "cell_type": "markdown",
   "id": "f8cbfb2c",
   "metadata": {},
   "source": [
    "## Setup the Connected Agent Tools"
   ]
  },
  {
   "cell_type": "code",
   "execution_count": 10,
   "id": "67a5b82e",
   "metadata": {},
   "outputs": [],
   "source": [
    "# Get the agent by its ID\n",
    "weather_agent = project_client.agents.get_agent(\"asst_0NHYVkCkHZsP66inhvkiqehu\")\n",
    "itinerary_agent = project_client.agents.get_agent(\"asst_hxizwraO7QEbWOGOYh9wicYS\")\n",
    "travel_product_agent = project_client.agents.get_agent(\"asst_OgzIT5V3gjmYHicCUdWZpboK\")\n",
    "restaurant_agent = project_client.agents.get_agent(\"asst_wQLX9hQhObUbFnV1qKnECbpH\")\n",
    "\n",
    "weather_connected_agent = ConnectedAgentTool(\n",
    "        id=weather_agent.id, name=\"get_weather\", description=\"Searches for information about weather.\"\n",
    "    )\n",
    "itinerary_connected_agent = ConnectedAgentTool(\n",
    "        id=itinerary_agent.id, name=\"create_itinerary\", description=\"Generates itineraries for travel.\"\n",
    "    )\n",
    "travel_product_connected_agent = ConnectedAgentTool(\n",
    "        id=travel_product_agent.id, name=\"get_travel_products\", description=\"Retrieves travel product information.\"\n",
    "    )\n",
    "restaurant_connected_agent = ConnectedAgentTool(\n",
    "        id=restaurant_agent.id, name=\"get_restaurant_recommendations\", description=\"Provides restaurant recommendations.\"\n",
    "    )"
   ]
  },
  {
   "cell_type": "markdown",
   "id": "83bfffc5",
   "metadata": {},
   "source": [
    "## Create the Connected Agent"
   ]
  },
  {
   "cell_type": "code",
   "execution_count": 11,
   "id": "a997900f",
   "metadata": {},
   "outputs": [
    {
     "name": "stdout",
     "output_type": "stream",
     "text": [
      "Created agent, ID: asst_rDsVr48FetZFKsh3kgoLCCyI\n"
     ]
    }
   ],
   "source": [
    "# Create an agent with the file search tool\n",
    "agent = project_client.agents.create_agent(\n",
    "    model=os.environ[\"MODEL_DEPLOYMENT_NAME\"],  # Model deployment name\n",
    "    name=\"travel-agent\",  # Name of the agent\n",
    "    instructions=\"\"\"\n",
    "        You are an agent that provides travel information. \n",
    "        Do not answer questions on your own. \n",
    "        Your role is to be an orchestrator who will call the appropriate functions provided to you. \n",
    "        Each function that you have available is an agent that can accomplish a specific task. \n",
    "        \n",
    "        Here are descriptions of the tools you have available:\n",
    "            - Weather Agent: An agent that provides weather information.\n",
    "            - Itinerary Agent: An agent that creates travel itineraries.\n",
    "            - Travel Product Agent: An agent that retrieves travel product information.\n",
    "            - Restaurant Agent: An agent that provides restaurant recommendations.\n",
    "\n",
    "        Use the tools to gather information and provide a comprehensive response to the user.\n",
    "        If you are unable to answer the question, please respond with \"I don't know\".\n",
    "    \"\"\",  # Instructions for the agent\n",
    "    tools=weather_connected_agent.definitions \n",
    "    + itinerary_connected_agent.definitions \n",
    "    + travel_product_connected_agent.definitions \n",
    "    + restaurant_connected_agent.definitions,  # Tools available to the agent\n",
    ")\n",
    "print(f\"Created agent, ID: {agent.id}\")"
   ]
  },
  {
   "cell_type": "markdown",
   "id": "ec21e4fb",
   "metadata": {},
   "source": [
    "## Create the Thread"
   ]
  },
  {
   "cell_type": "code",
   "execution_count": 12,
   "id": "c2129046",
   "metadata": {},
   "outputs": [
    {
     "name": "stdout",
     "output_type": "stream",
     "text": [
      "Created thread, ID: thread_zkNyx1NOvdr96a6R7MyYtSw0\n"
     ]
    }
   ],
   "source": [
    "# Create a thread for communication\n",
    "thread = project_client.agents.threads.create()\n",
    "print(f\"Created thread, ID: {thread.id}\")"
   ]
  },
  {
   "cell_type": "markdown",
   "id": "e5b2a4cc",
   "metadata": {},
   "source": [
    "## Run the agent"
   ]
  },
  {
   "cell_type": "code",
   "execution_count": 13,
   "id": "cd5e4091",
   "metadata": {},
   "outputs": [
    {
     "name": "stdout",
     "output_type": "stream",
     "text": [
      "Created message, ID: msg_56TugXKwN3cKKFLEqc1SLq5j\n",
      "Run finished with status: completed\n",
      "Agent Response: The current weather in Paris includes heavy rain with temperatures around 20°C (68°F). The precipitation is expected to reach up to 32mm throughout the day with a 100% chance of rain. Winds are blowing from the southwest at 18km/h, and humidity is quite high at 87%【3:1†source】【3:2†source】.\n"
     ]
    }
   ],
   "source": [
    "# Example user input for the agent\n",
    "user_input = \"What is the weather in Paris?\"  # Example user input\n",
    "run_agent(user_input, thread_id=thread.id, agent_id=agent.id)  # Run the agent with the user input"
   ]
  },
  {
   "cell_type": "code",
   "execution_count": 14,
   "id": "a5b42d76",
   "metadata": {},
   "outputs": [
    {
     "name": "stdout",
     "output_type": "stream",
     "text": [
      "Created message, ID: msg_hOIvgbisRkaQfYvPouVYPxiL\n",
      "Run finished with status: completed\n",
      "Agent Response: Given the weather information, here's an enjoyable itinerary for Paris that accommodates both the partly cloudy morning and the rainy afternoon:\n",
      "\n",
      "### Morning (Partly Cloudy)\n",
      "1. **7:30 AM - 9:00 AM: Breakfast at a Parisian Café**\n",
      "   - Start your day with a traditional French breakfast at a cozy café like Café de Flore. Enjoy coffee, croissants, and fresh fruit.\n",
      "\n",
      "2. **9:15 AM - 11:00 AM: Eiffel Tower Visit**\n",
      "   - Take advantage of the clear morning to visit the Eiffel Tower. Enjoy the panoramic views of Paris from the top.\n",
      "\n",
      "3. **11:30 AM - 12:30 PM: Walk along the Seine River**\n",
      "   - Enjoy a leisurely stroll along the Seine River, taking in the historic bridges and picturesque scenery.\n",
      "\n",
      "### Midday (Prepare for Changing Weather)\n",
      "4. **12:45 PM - 2:00 PM: Lunch at a Covered Market**\n",
      "   - Head to Marché des Enfants Rouges, a famous covered market, for a variety of French delicacies while staying sheltered.\n",
      "\n",
      "5. **2:15 PM - 3:15 PM: Visit to a Museum**\n",
      "   - Explore the Louvre Museum or the Musée d'Orsay to stay indoors during the afternoon thundershowers. Marvel at the art collections, including the Mona Lisa and Impressionist masterpieces.\n",
      "\n",
      "### Afternoon (Rain and Thunderstorms)\n",
      "6. **3:30 PM - 5:00 PM: Shopping at Galeries Lafayette**\n",
      "   - Shop at Galeries Lafayette, an impressive department store with a beautiful glass dome, and find souvenirs or fashion items.\n",
      "\n",
      "7. **5:15 PM - 6:30 PM: Tea Time at Angelina Paris**\n",
      "   - Enjoy a relaxing tea time at Angelina Paris, known for its hot chocolate and pastries. Stay dry and indulge in sweet treats.\n",
      "\n",
      "### Evening (Continuing Rain)\n",
      "8. **7:00 PM - 9:00 PM: Dinner at a Cozy Restaurant**\n",
      "   - Have dinner at a traditional French restaurant like Le Comptoir du Relais, where you can enjoy a comfortable indoor dining experience.\n",
      "\n",
      "9. **9:15 PM: Return to Accommodation**\n",
      "   - Return to your accommodation to unwind and stay indoors for the rest of the evening, given the forecasted rain.\n",
      "\n",
      "Enjoy your day in Paris, despite the weather!\n"
     ]
    }
   ],
   "source": [
    "# Example user input for the agent\n",
    "user_input = \"\"\"Create an itinerary for Paris given this weather information:\n",
    "Currently, in Paris, it is partly cloudy with a temperature of 68°F (20°C). \n",
    "The forecast for later today predicts heavy downpours and frequent lightning with afternoon thundershowers. \n",
    "The high temperature will reach 69°F (21°C), with a 100% chance of rain\n",
    "\"\"\"\n",
    "\n",
    "run_agent(user_input, thread_id=thread.id, agent_id=agent.id)  # Run the agent with the user input"
   ]
  },
  {
   "cell_type": "code",
   "execution_count": 15,
   "id": "cba8051c",
   "metadata": {},
   "outputs": [
    {
     "name": "stdout",
     "output_type": "stream",
     "text": [
      "Created message, ID: msg_v8STHkEIGgy6mne6MYX62vJO\n",
      "Run finished with status: completed\n",
      "Agent Response: Here are some of the available suitcases with their details:\n",
      "\n",
      "1. **Nomad Traveler Suitcase**\n",
      "   - **Price**: $275\n",
      "   - **Material**: High-impact ABS plastic\n",
      "   - **Features**:\n",
      "     - Expandable design for extra packing space\n",
      "     - 360-degree spinner wheels\n",
      "     - TSA-approved combination lock\n",
      "     - Multiple interior and exterior compartments\n",
      "     - Lightweight (7 lbs)\n",
      "     - Water-resistant exterior\n",
      "   - **Dimensions**: 23 inches x 15 inches x 9 inches\n",
      "   - **Capacity**: 48 liters\n",
      "   - **Warranty**: 5-year limited warranty\n",
      "   - **Color Options**: Black, Green, Purple, Silver  \n",
      "\n",
      "2. **Globetrotter Elite Suitcase**\n",
      "   - **Price**: $299\n",
      "   - **Material**: High-grade polycarbonate\n",
      "   - **Features**:\n",
      "     - Expandable design for additional packing space\n",
      "     - 360-degree spinner wheels\n",
      "     - TSA-approved combination lock\n",
      "     - Multiple interior and exterior compartments\n",
      "     - Lightweight (7.5 lbs)\n",
      "     - Water-resistant exterior\n",
      "   - **Dimensions**: 24 inches x 16 inches x 10 inches\n",
      "   - **Capacity**: 50 liters\n",
      "   - **Warranty**: 5-year limited warranty\n",
      "   - **Color Options**: Black, Navy Blue, Burgundy, Silver  \n",
      "\n",
      "3. **Voyager Pro Luggage**\n",
      "   - **Price**: $250\n",
      "   - **Material**: High-quality polycarbonate\n",
      "   - **Features**:\n",
      "     - Expandable design for additional packing space\n",
      "     - 360-degree spinner wheels\n",
      "     - TSA-approved combination lock\n",
      "     - Multiple interior and exterior compartments\n",
      "     - Lightweight (8 lbs)\n",
      "     - Water-resistant exterior\n",
      "   - **Dimensions**: 22 inches x 14 inches x 9 inches\n",
      "   - **Capacity**: 45 liters\n",
      "   - **Warranty**: 5-year limited warranty\n",
      "   - **Color Options**: Black, Blue, Red, Silver  \n",
      "\n",
      "These suitcases offer various features to cater to different travel needs, and each comes with a warranty to ensure quality and durability.\n"
     ]
    }
   ],
   "source": [
    "# Example user input for the agent\n",
    "user_input = \"What suitcases do you have available?\"  # Example user input\n",
    "run_agent(user_input, thread_id=thread.id, agent_id=agent.id)  # Run the agent with the user input"
   ]
  },
  {
   "cell_type": "code",
   "execution_count": 16,
   "id": "3d7967ff",
   "metadata": {},
   "outputs": [
    {
     "name": "stdout",
     "output_type": "stream",
     "text": [
      "Created message, ID: msg_10jBBQqksvOxUTrNKO7TC53Q\n",
      "Run finished with status: completed\n",
      "Agent Response: Here are three recommended pizza restaurants in Paris:\n",
      "\n",
      "1. **Le Weekend Bar Brasserie**\n",
      "   - **Address**: 19 Rue Tronchet, 75008 Paris, France\n",
      "\n",
      "2. **Oscar**\n",
      "   - **Address**: Rue de Chaillot, 75016 Paris, France\n",
      "\n",
      "3. **Nachos**\n",
      "   - **Address**: 101 Porte Berger, Forum Des Halles, 75001 Paris, France\n",
      "\n",
      "These options offer a variety of pizza choices along with other dining selections. Enjoy your meal in Paris!\n"
     ]
    }
   ],
   "source": [
    "# Example user input for the agent\n",
    "user_input = \"Provide 3 recommendations for Pizza in Paris?\"  # Example user input\n",
    "run_agent(user_input, thread_id=thread.id, agent_id=agent.id)  # Run the agent with the user input"
   ]
  },
  {
   "cell_type": "code",
   "execution_count": 17,
   "id": "1eb7ec76",
   "metadata": {},
   "outputs": [
    {
     "name": "stdout",
     "output_type": "stream",
     "text": [
      "Created message, ID: msg_NK8gq3a4lDtFhsyKyHdYAp3U\n",
      "Run finished with status: completed\n",
      "Agent Response: Here are three reviews for **Pizzeria Arrivederci** in Paris:\n",
      "\n",
      "1. **Great pizza in Paris**\n",
      "   - **Rating**: ⭐⭐⭐⭐⭐\n",
      "   - **Review**: \"Fantastic pizzas and brilliant atmosphere, we had a great evening. We have two young kids and it worked well for them too.\"\n",
      "   - **User**: clarefB7005CD\n",
      "   - [Link to Review](https://www.tripadvisor.com/ShowUserReviews-g187147-d12714552-r1016682668-Reviews-Pizzeria_Arrivederci-Paris_Ile_de_France.html?m=66827#review1016682668)\n",
      "\n",
      "2. **Wauw..!**\n",
      "   - **Rating**: ⭐⭐⭐⭐⭐\n",
      "   - **Review**: \"Food was a 10/10, service was so good!! Very nice people that make you feel very welcome. It’s not rushed which we liked a lot and it was just a really nice authentic experience :)\"\n",
      "   - **User**: EsterJelena from Amsterdam, North Holland Province\n",
      "   - [Link to Review](https://www.tripadvisor.com/ShowUserReviews-g187147-d12714552-r1016536196-Reviews-Pizzeria_Arrivederci-Paris_Ile_de_France.html?m=66827#review1016536196)\n",
      "\n",
      "3. **Marvellous!**\n",
      "   - **Rating**: ⭐⭐⭐⭐⭐\n",
      "   - **Review**: \"Marvellous starter, marvellous pizza, marvellous pudding and wine was 10/10. Service brilliant, location brilliant. Go!\"\n",
      "   - **User**: Fearless59340028123 from Shetland Islands, Scotland\n",
      "   - [Link to Review](https://www.tripadvisor.com/ShowUserReviews-g187147-d12714552-r1016535873-Reviews-Pizzeria_Arrivederci-Paris_Ile_de_France.html?m=66827#review1016535873)\n",
      "\n",
      "These reviews highlight the excellent food, friendly service, and wonderful atmosphere at Pizzeria Arrivederci in Paris. Enjoy your meal there!\n"
     ]
    }
   ],
   "source": [
    "# Example user input for the agent\n",
    "user_input = \"\"\"\n",
    "    Provide me 3 reviews of the Pizzeria Arrivederci in Paris.    \n",
    "\"\"\"  # Example user input\n",
    "run_agent(user_input, thread_id=thread.id, agent_id=agent.id) "
   ]
  }
 ],
 "metadata": {
  "kernelspec": {
   "display_name": "Python 3",
   "language": "python",
   "name": "python3"
  },
  "language_info": {
   "codemirror_mode": {
    "name": "ipython",
    "version": 3
   },
   "file_extension": ".py",
   "mimetype": "text/x-python",
   "name": "python",
   "nbconvert_exporter": "python",
   "pygments_lexer": "ipython3",
   "version": "3.10.12"
  }
 },
 "nbformat": 4,
 "nbformat_minor": 5
}
