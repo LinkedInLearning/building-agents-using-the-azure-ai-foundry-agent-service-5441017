{
 "cells": [
  {
   "cell_type": "markdown",
   "id": "eb456d83",
   "metadata": {},
   "source": [
    "# Creating first agent"
   ]
  },
  {
   "cell_type": "markdown",
   "id": "4e5c74de",
   "metadata": {},
   "source": [
    "## Install Packages"
   ]
  },
  {
   "cell_type": "code",
   "execution_count": null,
   "id": "4a1536b4",
   "metadata": {},
   "outputs": [
    {
     "name": "stdout",
     "output_type": "stream",
     "text": [
      "Defaulting to user installation because normal site-packages is not writeable\n",
      "Requirement already satisfied: azure-ai-projects==1.0.0b12 in /home/vscode/.local/lib/python3.10/site-packages (1.0.0b12)\n",
      "Requirement already satisfied: isodate>=0.6.1 in /home/vscode/.local/lib/python3.10/site-packages (from azure-ai-projects==1.0.0b12) (0.7.2)\n",
      "Requirement already satisfied: typing-extensions>=4.12.2 in /home/vscode/.local/lib/python3.10/site-packages (from azure-ai-projects==1.0.0b12) (4.14.0)\n",
      "Requirement already satisfied: azure-core>=1.30.0 in /home/vscode/.local/lib/python3.10/site-packages (from azure-ai-projects==1.0.0b12) (1.34.0)\n",
      "Requirement already satisfied: azure-ai-agents>=1.0.0 in /home/vscode/.local/lib/python3.10/site-packages (from azure-ai-projects==1.0.0b12) (1.1.0b3)\n",
      "Requirement already satisfied: azure-storage-blob>=12.15.0 in /home/vscode/.local/lib/python3.10/site-packages (from azure-ai-projects==1.0.0b12) (12.25.1)\n",
      "Requirement already satisfied: requests>=2.21.0 in /home/vscode/.local/lib/python3.10/site-packages (from azure-core>=1.30.0->azure-ai-projects==1.0.0b12) (2.32.4)\n",
      "Requirement already satisfied: six>=1.11.0 in /home/vscode/.local/lib/python3.10/site-packages (from azure-core>=1.30.0->azure-ai-projects==1.0.0b12) (1.17.0)\n",
      "Requirement already satisfied: cryptography>=2.1.4 in /home/vscode/.local/lib/python3.10/site-packages (from azure-storage-blob>=12.15.0->azure-ai-projects==1.0.0b12) (45.0.4)\n",
      "Requirement already satisfied: cffi>=1.14 in /home/vscode/.local/lib/python3.10/site-packages (from cryptography>=2.1.4->azure-storage-blob>=12.15.0->azure-ai-projects==1.0.0b12) (1.17.1)\n",
      "Requirement already satisfied: certifi>=2017.4.17 in /home/vscode/.local/lib/python3.10/site-packages (from requests>=2.21.0->azure-core>=1.30.0->azure-ai-projects==1.0.0b12) (2025.6.15)\n",
      "Requirement already satisfied: urllib3<3,>=1.21.1 in /home/vscode/.local/lib/python3.10/site-packages (from requests>=2.21.0->azure-core>=1.30.0->azure-ai-projects==1.0.0b12) (2.5.0)\n",
      "Requirement already satisfied: idna<4,>=2.5 in /home/vscode/.local/lib/python3.10/site-packages (from requests>=2.21.0->azure-core>=1.30.0->azure-ai-projects==1.0.0b12) (3.10)\n",
      "Requirement already satisfied: charset_normalizer<4,>=2 in /home/vscode/.local/lib/python3.10/site-packages (from requests>=2.21.0->azure-core>=1.30.0->azure-ai-projects==1.0.0b12) (3.4.2)\n",
      "Requirement already satisfied: pycparser in /home/vscode/.local/lib/python3.10/site-packages (from cffi>=1.14->cryptography>=2.1.4->azure-storage-blob>=12.15.0->azure-ai-projects==1.0.0b12) (2.22)\n",
      "\n",
      "\u001b[1m[\u001b[0m\u001b[34;49mnotice\u001b[0m\u001b[1;39;49m]\u001b[0m\u001b[39;49m A new release of pip is available: \u001b[0m\u001b[31;49m23.0.1\u001b[0m\u001b[39;49m -> \u001b[0m\u001b[32;49m25.1.1\u001b[0m\n",
      "\u001b[1m[\u001b[0m\u001b[34;49mnotice\u001b[0m\u001b[1;39;49m]\u001b[0m\u001b[39;49m To update, run: \u001b[0m\u001b[32;49mpip install --upgrade pip\u001b[0m\n",
      "Note: you may need to restart the kernel to use updated packages.\n",
      "Defaulting to user installation because normal site-packages is not writeable\n",
      "Requirement already satisfied: azure-identity in /home/vscode/.local/lib/python3.10/site-packages (1.23.0)\n",
      "Requirement already satisfied: typing-extensions>=4.0.0 in /home/vscode/.local/lib/python3.10/site-packages (from azure-identity) (4.14.0)\n",
      "Requirement already satisfied: msal-extensions>=1.2.0 in /home/vscode/.local/lib/python3.10/site-packages (from azure-identity) (1.3.1)\n",
      "Requirement already satisfied: azure-core>=1.31.0 in /home/vscode/.local/lib/python3.10/site-packages (from azure-identity) (1.34.0)\n",
      "Requirement already satisfied: cryptography>=2.5 in /home/vscode/.local/lib/python3.10/site-packages (from azure-identity) (45.0.4)\n",
      "Requirement already satisfied: msal>=1.30.0 in /home/vscode/.local/lib/python3.10/site-packages (from azure-identity) (1.32.3)\n",
      "Requirement already satisfied: six>=1.11.0 in /home/vscode/.local/lib/python3.10/site-packages (from azure-core>=1.31.0->azure-identity) (1.17.0)\n",
      "Requirement already satisfied: requests>=2.21.0 in /home/vscode/.local/lib/python3.10/site-packages (from azure-core>=1.31.0->azure-identity) (2.32.4)\n",
      "Requirement already satisfied: cffi>=1.14 in /home/vscode/.local/lib/python3.10/site-packages (from cryptography>=2.5->azure-identity) (1.17.1)\n",
      "Requirement already satisfied: PyJWT[crypto]<3,>=1.0.0 in /home/vscode/.local/lib/python3.10/site-packages (from msal>=1.30.0->azure-identity) (2.10.1)\n",
      "Requirement already satisfied: pycparser in /home/vscode/.local/lib/python3.10/site-packages (from cffi>=1.14->cryptography>=2.5->azure-identity) (2.22)\n",
      "Requirement already satisfied: charset_normalizer<4,>=2 in /home/vscode/.local/lib/python3.10/site-packages (from requests>=2.21.0->azure-core>=1.31.0->azure-identity) (3.4.2)\n",
      "Requirement already satisfied: certifi>=2017.4.17 in /home/vscode/.local/lib/python3.10/site-packages (from requests>=2.21.0->azure-core>=1.31.0->azure-identity) (2025.6.15)\n",
      "Requirement already satisfied: urllib3<3,>=1.21.1 in /home/vscode/.local/lib/python3.10/site-packages (from requests>=2.21.0->azure-core>=1.31.0->azure-identity) (2.5.0)\n",
      "Requirement already satisfied: idna<4,>=2.5 in /home/vscode/.local/lib/python3.10/site-packages (from requests>=2.21.0->azure-core>=1.31.0->azure-identity) (3.10)\n",
      "\n",
      "\u001b[1m[\u001b[0m\u001b[34;49mnotice\u001b[0m\u001b[1;39;49m]\u001b[0m\u001b[39;49m A new release of pip is available: \u001b[0m\u001b[31;49m23.0.1\u001b[0m\u001b[39;49m -> \u001b[0m\u001b[32;49m25.1.1\u001b[0m\n",
      "\u001b[1m[\u001b[0m\u001b[34;49mnotice\u001b[0m\u001b[1;39;49m]\u001b[0m\u001b[39;49m To update, run: \u001b[0m\u001b[32;49mpip install --upgrade pip\u001b[0m\n",
      "Note: you may need to restart the kernel to use updated packages.\n"
     ]
    }
   ],
   "source": [
    "%pip install azure-ai-projects==1.0.0b12\n",
    "%pip install azure-identity\n",
    "%pip install azure-ai-agents==1.1.0b3"
   ]
  },
  {
   "cell_type": "markdown",
   "id": "d8f6785b",
   "metadata": {},
   "source": [
    "## Import the libraries"
   ]
  },
  {
   "cell_type": "code",
   "execution_count": 2,
   "id": "857a9a83",
   "metadata": {},
   "outputs": [],
   "source": [
    "import os\n",
    "from azure.ai.projects import AIProjectClient\n",
    "from azure.identity import DefaultAzureCredential\n",
    "from azure.ai.agents.models import MessageRole"
   ]
  },
  {
   "cell_type": "markdown",
   "id": "59aabdeb",
   "metadata": {},
   "source": [
    "## Create the AI Project Client\n",
    "\n",
    "NOTE: \n",
    "- If you don't have Azure CLI, you first need to install it:\n",
    "   curl -sL https://aka.ms/InstallAzureCLIDeb | sudo bash\n",
    "- Login to Azure\n",
    "   az login\n",
    "\n"
   ]
  },
  {
   "cell_type": "code",
   "execution_count": 3,
   "id": "d2b1f8e5",
   "metadata": {},
   "outputs": [],
   "source": [
    "# Create an Azure AI Client from an endpoint, copied from your Azure AI Foundry project.\n",
    "# You need to login to Azure subscription via Azure CLI and set the environment variables\n",
    "project_endpoint = os.environ[\"PROJECT_ENDPOINT\"]  # Ensure the PROJECT_ENDPOINT environment variable is set\n",
    "\n",
    "# Create an AIProjectClient instance\n",
    "project_client = AIProjectClient(\n",
    "    endpoint=project_endpoint,\n",
    "    credential=DefaultAzureCredential(),  # Use Azure Default Credential for authentication\n",
    ")"
   ]
  },
  {
   "cell_type": "markdown",
   "id": "82efcd58",
   "metadata": {},
   "source": [
    "## Create the agent"
   ]
  },
  {
   "cell_type": "code",
   "execution_count": 4,
   "id": "f3d34b3f",
   "metadata": {},
   "outputs": [
    {
     "name": "stdout",
     "output_type": "stream",
     "text": [
      "Created agent, ID: asst_zBCZWsxukSKl3IwvFNTxHWPL\n"
     ]
    }
   ],
   "source": [
    "agent = project_client.agents.create_agent(\n",
    "        model=os.environ[\"MODEL_DEPLOYMENT_NAME\"],  # Model deployment name\n",
    "        name=\"my-agent\",  # Name of the agent\n",
    "        instructions=\"You are a helpful agent\",  # Instructions for the agent\n",
    "        \n",
    "    )\n",
    "\n",
    "print(f\"Created agent, ID: {agent.id}\")"
   ]
  },
  {
   "cell_type": "markdown",
   "id": "19b16fbd",
   "metadata": {},
   "source": [
    "## Create thread"
   ]
  },
  {
   "cell_type": "code",
   "execution_count": 5,
   "id": "9c822423",
   "metadata": {},
   "outputs": [
    {
     "name": "stdout",
     "output_type": "stream",
     "text": [
      "Created thread, ID: thread_gF2x6jIGredu4l99FMcmcyc8\n"
     ]
    }
   ],
   "source": [
    "# Create a thread for communication\n",
    "thread = project_client.agents.threads.create()\n",
    "print(f\"Created thread, ID: {thread.id}\")"
   ]
  },
  {
   "cell_type": "markdown",
   "id": "800c4642",
   "metadata": {},
   "source": [
    "## Helper function\n",
    "- adds messages to the thread\n",
    "- run the agent\n",
    "- display the agent response"
   ]
  },
  {
   "cell_type": "code",
   "execution_count": null,
   "id": "69a9e997",
   "metadata": {},
   "outputs": [],
   "source": [
    "def run_agent(user_input):\n",
    "    # Add a message to the thread\n",
    "    message = project_client.agents.messages.create(\n",
    "        thread_id=thread.id,\n",
    "        role=\"user\",  # Role of the message sender\n",
    "        content=user_input,  # Message content\n",
    "    )\n",
    "    print(f\"Created message, ID: {message['id']}\")\n",
    "\n",
    "     # Create and process agent run in thread with tools\n",
    "    run = project_client.agents.runs.create_and_process(thread_id=thread.id, agent_id=agent.id)\n",
    "    print(f\"Run finished with status: {run.status}\")\n",
    "\n",
    "    # Check the status of the run and print the result\n",
    "    if run.status == \"failed\":\n",
    "        print(f\"Run failed: {run.last_error}\")\n",
    "    elif run.status == \"completed\":\n",
    "        last_msg = project_client.agents.messages.get_last_message_text_by_role(thread_id=thread.id, role=MessageRole.AGENT)\n",
    "        if last_msg:\n",
    "            print(f\"Agent Response: {last_msg.text.value}\")"
   ]
  },
  {
   "cell_type": "markdown",
   "id": "b4ac8445",
   "metadata": {},
   "source": [
    "## Run the agent"
   ]
  },
  {
   "cell_type": "code",
   "execution_count": 7,
   "id": "42acc584",
   "metadata": {},
   "outputs": [
    {
     "name": "stdout",
     "output_type": "stream",
     "text": [
      "Created message, ID: msg_CRhC7GKshS5VFQfXF6AzV19h\n",
      "Run finished with status: completed\n",
      "Last Message: New York has a plethora of iconic landmarks and attractions to offer. Here are five notable things you can see in New York:\n",
      "\n",
      "1. **Statue of Liberty and Ellis Island**: The Statue of Liberty is an enduring symbol of freedom and democracy, and Ellis Island is a historic site where millions of immigrants passed through when coming to America.\n",
      "\n",
      "2. **Central Park**: This vast green oasis in the middle of Manhattan offers walking paths, lakes, a zoo, and numerous recreational opportunities.\n",
      "\n",
      "3. **Times Square**: Known as \"The Crossroads of the World,\" Times Square is famous for its bright, neon lights, Broadway theaters, and bustling atmosphere.\n",
      "\n",
      "4. **Empire State Building**: One of the most famous skyscrapers in the world, offering stunning panoramic views of the city from its observation decks.\n",
      "\n",
      "5. **Metropolitan Museum of Art (the Met)**: One of the largest and most prestigious art museums in the world, housing an extensive collection spanning over 5,000 years of art and culture.\n",
      "\n",
      "These are just a few highlights, and there are countless other attractions and experiences to explore in New York City.\n"
     ]
    }
   ],
   "source": [
    "user_input = \"What are the 5 things I can see in New York?\"\n",
    "run_agent(user_input)"
   ]
  },
  {
   "cell_type": "markdown",
   "id": "5ba46347",
   "metadata": {},
   "source": [
    "## Cleanup resources"
   ]
  },
  {
   "cell_type": "code",
   "execution_count": 9,
   "id": "707b1b08",
   "metadata": {},
   "outputs": [
    {
     "name": "stdout",
     "output_type": "stream",
     "text": [
      "Deleted agent\n"
     ]
    }
   ],
   "source": [
    "# Delete the agent after use\n",
    "project_client.agents.delete_agent(agent.id)\n",
    "print(\"Deleted agent\")"
   ]
  },
  {
   "cell_type": "markdown",
   "id": "b018a574",
   "metadata": {},
   "source": [
    "## Creating an agent and thread"
   ]
  },
  {
   "cell_type": "code",
   "execution_count": 10,
   "id": "7956362b",
   "metadata": {},
   "outputs": [
    {
     "name": "stdout",
     "output_type": "stream",
     "text": [
      "Created agent, ID: asst_rYtqThaxtV1kS4CQrs4zedMm\n"
     ]
    }
   ],
   "source": [
    "agent = project_client.agents.create_agent(\n",
    "        model=os.environ[\"MODEL_DEPLOYMENT_NAME\"],  # Model deployment name\n",
    "        name=\"my-agent\",  # Name of the agent\n",
    "        instructions=\"You are a helpful agent\",  # Instructions for the agent\n",
    "        \n",
    "    )\n",
    "print(f\"Created agent, ID: {agent.id}\")\n",
    "agent_id = agent.id\n"
   ]
  },
  {
   "cell_type": "markdown",
   "id": "b60a48ce",
   "metadata": {},
   "source": [
    "## Retrieving an agent"
   ]
  },
  {
   "cell_type": "code",
   "execution_count": 11,
   "id": "8f4a1023",
   "metadata": {},
   "outputs": [],
   "source": [
    "agent = project_client.agents.get_agent(agent_id)"
   ]
  },
  {
   "cell_type": "markdown",
   "id": "99973394",
   "metadata": {},
   "source": [
    "## Create thread\n",
    "\n",
    "To retrieve a thread\n",
    "- thread = project.agents.threads.get(\"\")"
   ]
  },
  {
   "cell_type": "code",
   "execution_count": 12,
   "id": "8d5bd4aa",
   "metadata": {},
   "outputs": [
    {
     "name": "stdout",
     "output_type": "stream",
     "text": [
      "Created thread, ID: thread_iNSMJe0ic66akMVWxdlw27U5\n"
     ]
    }
   ],
   "source": [
    "# Create a thread for communication\n",
    "thread = project_client.agents.threads.create()\n",
    "print(f\"Created thread, ID: {thread.id}\")"
   ]
  },
  {
   "cell_type": "markdown",
   "id": "b89d0335",
   "metadata": {},
   "source": [
    "## Run agent"
   ]
  },
  {
   "cell_type": "code",
   "execution_count": 13,
   "id": "7c1202fd",
   "metadata": {},
   "outputs": [
    {
     "name": "stdout",
     "output_type": "stream",
     "text": [
      "Created message, ID: msg_9R0bbk9bPucq7tbZAwvhN2zU\n",
      "Run finished with status: completed\n",
      "Agent Response: San Francisco is a vibrant city with many iconic landmarks and attractions. Here are five must-see sights:\n",
      "\n",
      "1. **Golden Gate Bridge**: One of the most famous bridges in the world, known for its stunning architecture and breathtaking views. You can walk, bike, or drive across it.\n",
      "\n",
      "2. **Alcatraz Island**: This former federal prison, located on an island in San Francisco Bay, once housed notorious criminals like Al Capone. You can take a ferry to the island and explore the prison on a guided tour.\n",
      "\n",
      "3. **Fisherman's Wharf**: A bustling waterfront area that offers a variety of seafood restaurants, shops, and attractions. Don't miss the sea lions at Pier 39 and the historic ships at Hyde Street Pier.\n",
      "\n",
      "4. **Chinatown**: San Francisco's Chinatown is the largest outside of Asia and the oldest in North America. Wander through its vibrant streets, visit traditional shops, and enjoy delicious Chinese cuisine.\n",
      "\n",
      "5. **Golden Gate Park**: A large urban park that offers numerous attractions, including the de Young Museum, California Academy of Sciences, Japanese Tea Garden, and beautiful gardens and walking paths.\n",
      "\n",
      "These are just a few highlights, but San Francisco has much more to offer depending on your interests!\n"
     ]
    }
   ],
   "source": [
    "user_input = \"What are the 5 things I can see in San Francisco?\"\n",
    "run_agent(user_input)"
   ]
  },
  {
   "cell_type": "markdown",
   "id": "b1933532",
   "metadata": {},
   "source": [
    "## Cleanup resources"
   ]
  },
  {
   "cell_type": "code",
   "execution_count": 14,
   "id": "5c55daf1",
   "metadata": {},
   "outputs": [
    {
     "name": "stdout",
     "output_type": "stream",
     "text": [
      "Deleted agent\n"
     ]
    }
   ],
   "source": [
    "# Delete the agent after use\n",
    "project_client.agents.delete_agent(agent.id)\n",
    "print(\"Deleted agent\")"
   ]
  }
 ],
 "metadata": {
  "kernelspec": {
   "display_name": "Python 3",
   "language": "python",
   "name": "python3"
  },
  "language_info": {
   "codemirror_mode": {
    "name": "ipython",
    "version": 3
   },
   "file_extension": ".py",
   "mimetype": "text/x-python",
   "name": "python",
   "nbconvert_exporter": "python",
   "pygments_lexer": "ipython3",
   "version": "3.10.12"
  }
 },
 "nbformat": 4,
 "nbformat_minor": 5
}
