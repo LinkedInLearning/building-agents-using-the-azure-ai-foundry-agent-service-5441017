{
 "cells": [
  {
   "cell_type": "markdown",
   "id": "eb456d83",
   "metadata": {},
   "source": [
    "# Connected Agents"
   ]
  },
  {
   "cell_type": "markdown",
   "id": "4e5c74de",
   "metadata": {},
   "source": [
    "## Install Packages"
   ]
  },
  {
   "cell_type": "code",
   "execution_count": null,
   "id": "4a1536b4",
   "metadata": {},
   "outputs": [],
   "source": [
    "%pip install azure-ai-projects==1.0.0b12\n",
    "%pip install azure-identity\n",
    "%pip install azure-ai-agents==1.1.0b3"
   ]
  },
  {
   "cell_type": "markdown",
   "id": "d8f6785b",
   "metadata": {},
   "source": [
    "## Import the libraries"
   ]
  },
  {
   "cell_type": "code",
   "execution_count": null,
   "id": "857a9a83",
   "metadata": {},
   "outputs": [],
   "source": [
    "import os\n",
    "from azure.ai.projects import AIProjectClient\n",
    "from azure.identity import DefaultAzureCredential\n",
    "from azure.ai.agents.models import MessageRole, ConnectedAgentTool"
   ]
  },
  {
   "cell_type": "markdown",
   "id": "59aabdeb",
   "metadata": {},
   "source": [
    "## Create the AI Project Client\n",
    "\n",
    "NOTE: \n",
    "- If you don't have Azure CLI, you first need to install it:\n",
    "   curl -sL https://aka.ms/InstallAzureCLIDeb | sudo bash\n",
    "- Login to Azure\n",
    "   az login\n",
    "\n"
   ]
  },
  {
   "cell_type": "code",
   "execution_count": 10,
   "id": "d2b1f8e5",
   "metadata": {},
   "outputs": [],
   "source": [
    "# Create an Azure AI Client from an endpoint, copied from your Azure AI Foundry project.\n",
    "# You need to login to Azure subscription via Azure CLI and set the environment variables\n",
    "project_endpoint = os.environ[\"PROJECT_ENDPOINT\"]  # Ensure the PROJECT_ENDPOINT environment variable is set\n",
    "\n",
    "# Create an AIProjectClient instance\n",
    "project_client = AIProjectClient(\n",
    "    endpoint=project_endpoint,\n",
    "    credential=DefaultAzureCredential(),  # Use Azure Default Credential for authentication\n",
    ")"
   ]
  },
  {
   "cell_type": "markdown",
   "id": "929f0da3",
   "metadata": {},
   "source": [
    "## Setup Connected Agent Tools"
   ]
  },
  {
   "cell_type": "code",
   "execution_count": null,
   "id": "68a030e7",
   "metadata": {},
   "outputs": [],
   "source": [
    "search_agent = project_client.agents.get_agent(\"asst_kZB1IGPvXK5TBfBX1STUusjE\")\n",
    "report_agent = project_client.agents.get_agent(\"asst_jJnvQxXcmBwWBXTvCFOsNEhQ\")\n",
    "validation_agent = project_client.agents.get_agent(\"asst_r8FtTSPrDwNPsgN3radMv3nJ\")\n",
    "\n",
    "search_connected_agent = ConnectedAgentTool(\n",
    "        id=search_agent.id, name=\"search_health_plans\", description=\"Searches for information about health plans.\"\n",
    "    )\n",
    "report_connected_agent = ConnectedAgentTool(\n",
    "        id=report_agent.id, name=\"create_report\", description=\"Generates reports on the health plan.\"\n",
    "    )\n",
    "validation_connected_agent = ConnectedAgentTool(\n",
    "        id=validation_agent.id, name=\"validate_report\", description=\"Validates the health plan report.\"\n",
    "    )"
   ]
  },
  {
   "cell_type": "markdown",
   "id": "82efcd58",
   "metadata": {},
   "source": [
    "## Create the agent"
   ]
  },
  {
   "cell_type": "code",
   "execution_count": 16,
   "id": "f3d34b3f",
   "metadata": {},
   "outputs": [
    {
     "name": "stdout",
     "output_type": "stream",
     "text": [
      "Created agent, ID: asst_2wzzPC2yAfKrozDYczmbM9u5\n"
     ]
    }
   ],
   "source": [
    "# Create an agent with the file search tool\n",
    "agent = project_client.agents.create_agent(\n",
    "    model=os.environ[\"MODEL_DEPLOYMENT_NAME\"],  # Model deployment name\n",
    "    name=\"my-healthreport-agent\",  # Name of the agent\n",
    "    instructions=\"\"\"\n",
    "        You are an agent designed to create detailed reports about health plans. \n",
    "        The user will provide the name of a health plan and you will create a detailed report about that health plan. \n",
    "        You will also need to validate that the report meets requirements. \n",
    "        Call the appropriate agents to help write the report. \n",
    "        \n",
    "        Do not write the report on your own. \n",
    "        Your role is to be an orchestrator who will call the appropriate functions provided to you. \n",
    "        Each function that you have available is an agent that can accomplish a specific task. \n",
    "        \n",
    "        Here are descriptions of the plugins you have available:\n",
    "            - Report Agent: An agent that writes detailed reports about health plans.\n",
    "            - Search Agent: An agent that searches health plan documents.\n",
    "            - Validation Agent: An agent that runs validation checks to ensure the generated report meets requirements. \n",
    "            \n",
    "        Your response must contain the final approved report.\n",
    "    \"\"\",  # Instructions for the agent\n",
    "    tools=search_connected_agent.definitions + report_connected_agent.definitions + validation_connected_agent.definitions,  # Tools available to the agent\n",
    ")\n",
    "print(f\"Created agent, ID: {agent.id}\")"
   ]
  },
  {
   "cell_type": "markdown",
   "id": "19b16fbd",
   "metadata": {},
   "source": [
    "## Create thread"
   ]
  },
  {
   "cell_type": "code",
   "execution_count": 17,
   "id": "9c822423",
   "metadata": {},
   "outputs": [
    {
     "name": "stdout",
     "output_type": "stream",
     "text": [
      "Created thread, ID: thread_L1T0EDYT9EcKLLszJzjveMaz\n"
     ]
    }
   ],
   "source": [
    "# Create a thread for communication\n",
    "thread = project_client.agents.threads.create()\n",
    "print(f\"Created thread, ID: {thread.id}\")"
   ]
  },
  {
   "cell_type": "markdown",
   "id": "800c4642",
   "metadata": {},
   "source": [
    "## Helper function\n",
    "- adds messages to the thread\n",
    "- run the agent\n",
    "- display the agent response"
   ]
  },
  {
   "cell_type": "code",
   "execution_count": 18,
   "id": "d4a9459d",
   "metadata": {},
   "outputs": [],
   "source": [
    "def run_agent(user_input):\n",
    "    # Add a message to the thread\n",
    "    message = project_client.agents.messages.create(\n",
    "        thread_id=thread.id,\n",
    "        role=\"user\",  # Role of the message sender\n",
    "        content=user_input,  # Message content\n",
    "    )\n",
    "    print(f\"Created message, ID: {message['id']}\")\n",
    "\n",
    "     # Create and process agent run in thread with tools\n",
    "    run = project_client.agents.runs.create_and_process(thread_id=thread.id, agent_id=agent.id)\n",
    "    print(f\"Run finished with status: {run.status}\")\n",
    "\n",
    "    # Check the status of the run and print the result\n",
    "    if run.status == \"failed\":\n",
    "        print(f\"Run failed: {run.last_error}\")\n",
    "    elif run.status == \"completed\":\n",
    "        last_msg = project_client.agents.messages.get_last_message_text_by_role(thread_id=thread.id, role=MessageRole.AGENT)\n",
    "        if last_msg:\n",
    "            print(f\"Agent Response: {last_msg.text.value}\")"
   ]
  },
  {
   "cell_type": "markdown",
   "id": "b4ac8445",
   "metadata": {},
   "source": [
    "## Run the agent"
   ]
  },
  {
   "cell_type": "code",
   "execution_count": 19,
   "id": "42acc584",
   "metadata": {},
   "outputs": [
    {
     "name": "stdout",
     "output_type": "stream",
     "text": [
      "Created message, ID: msg_KAVIuh9Q3SWLzWqwvV19DVur\n",
      "Run finished with status: completed\n",
      "Agent Response: Here is the validated report on Northwind Health Plus:\n",
      "\n",
      "# Northwind Health Plus Report\n",
      "\n",
      "## Coverage Details\n",
      "\n",
      "### Inpatient Coverage\n",
      "- **Hospital Stays:** Covers a broad range of inpatient services, including room and board, nursing services, and medications administered during the hospital stay.\n",
      "- **Surgical Procedures:** Comprehensive coverage for elective and emergency surgeries performed during inpatient stays.\n",
      "\n",
      "### Outpatient Coverage\n",
      "- **Medical Appointments:** Includes primary care visits, specialist consultations, and preventive care.\n",
      "- **Diagnostic Services:** Coverage for laboratory tests, X-rays, MRI, and other diagnostic procedures.\n",
      "- **Therapies:** Includes physical therapy, occupational therapy, and speech therapy on an outpatient basis.\n",
      "\n",
      "### Prescription Drugs\n",
      "- **Formulary:** Covers a wide range of prescription medications listed in the plan's formulary. \n",
      "- **Tiers:** Medications are categorized into different tiers, influencing the co-pay amount.\n",
      "\n",
      "## Cost Information\n",
      "\n",
      "### Premiums\n",
      "- **Monthly Premium:** Fees vary based on chosen plan level (e.g., individual, family).\n",
      "\n",
      "### Co-pays\n",
      "- **Primary Care Visit:** $20 co-pay per visit.\n",
      "- **Specialist Visit:** $40 co-pay per visit.\n",
      "- **Emergency Room Visit:** $100 co-pay per visit.\n",
      "\n",
      "### Deductibles\n",
      "- **Individual Deductible:** $1,500 annually.\n",
      "- **Family Deductible:** $3,000 annually.\n",
      "\n",
      "### Other Costs\n",
      "- **Coinsurance:** After reaching the deductible, 20% coinsurance applies for most services.\n",
      "- **Out-of-Pocket Maximum:** $5,000 for individuals and $10,000 for families.\n",
      "\n",
      "## Network Information\n",
      "\n",
      "### Participating Doctors and Hospitals\n",
      "- **Network Size:** Extensive network with numerous participating doctors, hospitals, and clinics.\n",
      "- **Specialists:** Access to a wide range of specialists through the network.\n",
      "- **Hospital Affiliations:** Includes major hospitals and health systems recognized for high-quality care.\n",
      "\n",
      "## Customer Service\n",
      "\n",
      "### Contact Methods\n",
      "- **Telephone:** Customer service available via toll-free number.\n",
      "- **Online Portal:** 24/7 access to personal account information, claim status, and plan details.\n",
      "- **Email Support:** Direct email support for non-urgent inquiries.\n",
      "\n",
      "### Availability\n",
      "- **Hours of Operation:** Monday to Friday, 8 AM to 8 PM.\n",
      "- **24/7 Assistance:** Emergency support available round the clock.\n",
      "\n",
      "## Exclusions and Limitations\n",
      "\n",
      "### General Exclusions\n",
      "- **Cosmetic Procedures:** Not covered unless medically necessary.\n",
      "- **Experimental Treatments:** Excluded from coverage.\n",
      "- **Dental and Vision Care:** Routine dental and vision care are generally excluded unless part of a specific add-on plan.\n",
      "\n",
      "### Limitations\n",
      "- **Coverage Limits:** Certain services may have annual or lifetime limits.\n",
      "- **Pre-Authorization:** Required for some procedures and treatments.\n",
      "\n",
      "## Enrollment Process\n",
      "- **Open Enrollment Period:** Typically occurs once a year, specific dates vary.\n",
      "- **Special Enrollment:** Available for qualifying life events such as marriage, birth of a child, or loss of other health coverage.\n",
      "- **Application:** Can be completed online, by phone, or in person with a certified enrollment counselor.\n",
      "\n",
      "This summary captures the essential details about the Northwind Health Plus plan and will help you understand its benefits, costs, and coverage specifics. If you need further information or have additional questions, please provide more context.\n"
     ]
    }
   ],
   "source": [
    "user_input = \"Create a report about the Northwind Health Plus\"\n",
    "run_agent(user_input)"
   ]
  },
  {
   "cell_type": "code",
   "execution_count": 17,
   "id": "833c980e",
   "metadata": {},
   "outputs": [
    {
     "name": "stdout",
     "output_type": "stream",
     "text": [
      "Created message, ID: msg_43SnhCi6txThfti1110f8Qyu\n",
      "Run finished with status: completed\n",
      "Agent Response: Here is the weather information for Chicago:\n",
      "\n",
      "| Weather Element       | Value                            |\n",
      "|-----------------------|----------------------------------|\n",
      "| Condition             | Mostly clear                     |\n",
      "| Temperature           | 23.0°C                           |\n",
      "| Feels Like            | 23.0°C                           |\n",
      "| Dew Point             | 20.0°C                           |\n",
      "| Humidity              | 83%                              |\n",
      "| Barometric Pressure   | 1015.0 hPa                       |\n",
      "| Visibility            | 16 km                            |\n",
      "| Wind Direction        | 217°                             |\n",
      "| Wind Speed            | 7.0 km/h                         |\n",
      "| Wind Gust             | 10.0 km/h                        |\n",
      "| UV Index              | 0.0 (Low)                        |\n",
      "| Air Quality Index     | 87 (Moderate air quality)        |\n",
      "| Primary Pollutant     | O₃ (0.0 ppb)                     |\n",
      "| Cloud Cover           | 24%                              |\n",
      "\n",
      "![Weather Icon](http://img-s-msn-com.akamaized.net/tenant/amp/entityid/AAehwh2.img)\n"
     ]
    }
   ],
   "source": [
    "user_input = \"What is the weather in Chicago?\"\n",
    "run_agent(user_input)"
   ]
  },
  {
   "cell_type": "markdown",
   "id": "5ba46347",
   "metadata": {},
   "source": [
    "## Cleanup resources"
   ]
  },
  {
   "cell_type": "code",
   "execution_count": 20,
   "id": "2d50c8b9",
   "metadata": {},
   "outputs": [
    {
     "name": "stdout",
     "output_type": "stream",
     "text": [
      "Deleted agent\n"
     ]
    }
   ],
   "source": [
    "# Cleanup resources\n",
    "\n",
    "# Delete the agent after use\n",
    "project_client.agents.delete_agent(agent.id)\n",
    "print(\"Deleted agent\")"
   ]
  }
 ],
 "metadata": {
  "kernelspec": {
   "display_name": "Python 3",
   "language": "python",
   "name": "python3"
  },
  "language_info": {
   "codemirror_mode": {
    "name": "ipython",
    "version": 3
   },
   "file_extension": ".py",
   "mimetype": "text/x-python",
   "name": "python",
   "nbconvert_exporter": "python",
   "pygments_lexer": "ipython3",
   "version": "3.10.12"
  }
 },
 "nbformat": 4,
 "nbformat_minor": 5
}
