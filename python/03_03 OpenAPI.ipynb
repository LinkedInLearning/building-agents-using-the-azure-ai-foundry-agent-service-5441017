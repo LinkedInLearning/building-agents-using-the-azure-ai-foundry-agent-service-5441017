{
 "cells": [
  {
   "cell_type": "markdown",
   "id": "eb456d83",
   "metadata": {},
   "source": [
    "# OpenAPI"
   ]
  },
  {
   "cell_type": "markdown",
   "id": "4e5c74de",
   "metadata": {},
   "source": [
    "## Install Packages"
   ]
  },
  {
   "cell_type": "code",
   "execution_count": null,
   "id": "4a1536b4",
   "metadata": {},
   "outputs": [],
   "source": [
    "%pip install azure-ai-projects==1.0.0b12\n",
    "%pip install azure-identity\n",
    "%pip install azure-ai-agents==1.1.0b3"
   ]
  },
  {
   "cell_type": "code",
   "execution_count": 4,
   "id": "1351ab71",
   "metadata": {},
   "outputs": [
    {
     "name": "stdout",
     "output_type": "stream",
     "text": [
      "Defaulting to user installation because normal site-packages is not writeable\n",
      "Requirement already satisfied: jsonref in /home/vscode/.local/lib/python3.10/site-packages (1.1.0)\n",
      "Note: you may need to restart the kernel to use updated packages.\n"
     ]
    }
   ],
   "source": [
    "%pip install jsonref"
   ]
  },
  {
   "cell_type": "markdown",
   "id": "d8f6785b",
   "metadata": {},
   "source": [
    "## Import the libraries"
   ]
  },
  {
   "cell_type": "code",
   "execution_count": 1,
   "id": "857a9a83",
   "metadata": {},
   "outputs": [],
   "source": [
    "import os\n",
    "import jsonref\n",
    "from azure.ai.projects import AIProjectClient\n",
    "from azure.identity import DefaultAzureCredential\n",
    "from azure.ai.agents.models import OpenApiTool, OpenApiConnectionAuthDetails, OpenApiConnectionSecurityScheme, MessageRole"
   ]
  },
  {
   "cell_type": "markdown",
   "id": "59aabdeb",
   "metadata": {},
   "source": [
    "## Create the AI Project Client\n",
    "\n",
    "NOTE: \n",
    "- If you don't have Azure CLI, you first need to install it:\n",
    "   curl -sL https://aka.ms/InstallAzureCLIDeb | sudo bash\n",
    "- Login to Azure\n",
    "   az login\n",
    "\n"
   ]
  },
  {
   "cell_type": "code",
   "execution_count": 2,
   "id": "d2b1f8e5",
   "metadata": {},
   "outputs": [],
   "source": [
    "# Create an Azure AI Client from an endpoint, copied from your Azure AI Foundry project.\n",
    "# You need to login to Azure subscription via Azure CLI and set the environment variables\n",
    "project_endpoint = os.environ[\"PROJECT_ENDPOINT\"]  # Ensure the PROJECT_ENDPOINT environment variable is set\n",
    "\n",
    "# Create an AIProjectClient instance\n",
    "project_client = AIProjectClient(\n",
    "    endpoint=project_endpoint,\n",
    "    credential=DefaultAzureCredential(),  # Use Azure Default Credential for authentication\n",
    ")"
   ]
  },
  {
   "cell_type": "markdown",
   "id": "929f0da3",
   "metadata": {},
   "source": [
    "## Setup the OpenAPI Tool"
   ]
  },
  {
   "cell_type": "code",
   "execution_count": 3,
   "id": "68a030e7",
   "metadata": {},
   "outputs": [
    {
     "name": "stdout",
     "output_type": "stream",
     "text": [
      "TripAdvisor Connection ID: /subscriptions/73047bc3-f020-4930-b16d-fe5c9dd3c73e/resourceGroups/agent-standard/providers/Microsoft.CognitiveServices/accounts/foundrydlt4/projects/projectdlt4/connections/tripadvisor\n"
     ]
    }
   ],
   "source": [
    "# Enter TripAdvisor connection names here\n",
    "tripadvisor = \"tripadvisor\"  # Replace with your TripAdvisor connection name\n",
    "\n",
    "# Load the OpenAPI specification from a JSON file\n",
    "with open('../data/tripadvisor/tripadvisor_openapi.json', 'r') as f:\n",
    "    openapi_spec = jsonref.loads(f.read())\n",
    "\n",
    "# Extract the connection list.\n",
    "conn_list = project_client.connections.list()\n",
    "tripadvisor_conn_id = \"\"\n",
    "\n",
    "# Find the connection IDs for TripAdvisor\n",
    "for conn in conn_list:\n",
    "    if conn.name == tripadvisor:\n",
    "        tripadvisor_conn_id = conn.id\n",
    "  \n",
    "# Print the connection names\n",
    "print(f\"TripAdvisor Connection ID: {tripadvisor_conn_id}\")\n",
    "\n",
    "# Create the OpenAPI tool\n",
    "auth = OpenApiConnectionAuthDetails(security_scheme=OpenApiConnectionSecurityScheme(connection_id=tripadvisor_conn_id))\n",
    "tripadvisor_tool = OpenApiTool(\n",
    "                    name=tripadvisor, \n",
    "                    spec=openapi_spec, \n",
    "                    description=\"get hotel and restaurant reviews of a location\", \n",
    "                    auth=auth\n",
    "                )"
   ]
  },
  {
   "cell_type": "markdown",
   "id": "82efcd58",
   "metadata": {},
   "source": [
    "## Create the agent"
   ]
  },
  {
   "cell_type": "code",
   "execution_count": null,
   "id": "f3d34b3f",
   "metadata": {},
   "outputs": [
    {
     "name": "stdout",
     "output_type": "stream",
     "text": [
      "Created agent, ID: asst_7xgq9UZV4vLxygy9JnkGvnLa\n"
     ]
    }
   ],
   "source": [
    "# Create an agent with the file search tool\n",
    "agent = project_client.agents.create_agent(\n",
    "    model=os.environ[\"MODEL_DEPLOYMENT_NAME\"],  # Model deployment name\n",
    "    name=\"my-tripadvisor-agent\",  # Name of the agent\n",
    "    instructions=\"You are a helpful agent that can search TripAdvisor for hotel and restaurant reviews\",  # Instructions for the agent\n",
    "    tools=tripadvisor_tool.definitions,  # Tools available to the agent\n",
    "    tool_resources=tripadvisor_tool.resources,  # Resources for the tools\n",
    ")\n",
    "print(f\"Created agent, ID: {agent.id}\")"
   ]
  },
  {
   "cell_type": "markdown",
   "id": "19b16fbd",
   "metadata": {},
   "source": [
    "## Create thread"
   ]
  },
  {
   "cell_type": "code",
   "execution_count": 5,
   "id": "9c822423",
   "metadata": {},
   "outputs": [
    {
     "name": "stdout",
     "output_type": "stream",
     "text": [
      "Created thread, ID: thread_O6RVZAFEjX2bttVtHSg92tej\n"
     ]
    }
   ],
   "source": [
    "# Create a thread for communication\n",
    "thread = project_client.agents.threads.create()\n",
    "print(f\"Created thread, ID: {thread.id}\")"
   ]
  },
  {
   "cell_type": "markdown",
   "id": "800c4642",
   "metadata": {},
   "source": [
    "## Helper function\n",
    "- adds messages to the thread\n",
    "- run the agent\n",
    "- display the agent response"
   ]
  },
  {
   "cell_type": "code",
   "execution_count": 6,
   "id": "d4a9459d",
   "metadata": {},
   "outputs": [],
   "source": [
    "def run_agent(user_input):\n",
    "    # Add a message to the thread\n",
    "    message = project_client.agents.messages.create(\n",
    "        thread_id=thread.id,\n",
    "        role=\"user\",  # Role of the message sender\n",
    "        content=user_input,  # Message content\n",
    "    )\n",
    "    print(f\"Created message, ID: {message['id']}\")\n",
    "\n",
    "     # Create and process agent run in thread with tools\n",
    "    run = project_client.agents.runs.create_and_process(thread_id=thread.id, agent_id=agent.id)\n",
    "    print(f\"Run finished with status: {run.status}\")\n",
    "\n",
    "    # Check the status of the run and print the result\n",
    "    if run.status == \"failed\":\n",
    "        print(f\"Run failed: {run.last_error}\")\n",
    "    elif run.status == \"completed\":\n",
    "        last_msg = project_client.agents.messages.get_last_message_text_by_role(thread_id=thread.id, role=MessageRole.AGENT)\n",
    "        if last_msg:\n",
    "            print(f\"Agent Response: {last_msg.text.value}\")"
   ]
  },
  {
   "cell_type": "code",
   "execution_count": 7,
   "id": "bab1d6ef",
   "metadata": {},
   "outputs": [],
   "source": [
    "def run_agent_details(user_input):\n",
    "    # Add a message to the thread\n",
    "    message = project_client.agents.messages.create(\n",
    "        thread_id=thread.id,\n",
    "        role=\"user\",  # Role of the message sender\n",
    "        content=user_input,  # Message content\n",
    "    )\n",
    "    print(f\"Created message, ID: {message['id']}\")\n",
    "\n",
    "     # Create and process agent run in thread with tools\n",
    "    run = project_client.agents.runs.create_and_process(thread_id=thread.id, agent_id=agent.id)\n",
    "    print(f\"Run finished with status: {run.status}\")\n",
    "\n",
    "    # Fetch run steps to get the details of the agent run\n",
    "    run_steps = project_client.agents.run_steps.list(thread_id=thread.id, run_id=run.id)\n",
    "\n",
    "    # Loop through each step\n",
    "    for step in run_steps:\n",
    "        print(f\"Step {step['id']} status: {step['status']}\")\n",
    "\n",
    "        # Check if there are tool calls in the step details\n",
    "        step_details = step.get(\"step_details\", {})\n",
    "        tool_calls = step_details.get(\"tool_calls\", [])\n",
    "\n",
    "        if tool_calls:\n",
    "            print(\"  Tool calls:\")\n",
    "            for call in tool_calls:\n",
    "                print(f\"    Tool Call ID: {call.get('id')}\")\n",
    "                print(f\"    Type: {call.get('type')}\")\n",
    "\n",
    "                function_details = call.get(\"function\", {})\n",
    "                if function_details:\n",
    "                    print(f\"    Function name: {function_details.get('name')}\")\n",
    "        print()  # add an extra newline between steps\n",
    "\n",
    "    # Check the status of the run and print the result\n",
    "    if run.status == \"failed\":\n",
    "        print(f\"Run failed: {run.last_error}\")\n",
    "    elif run.status == \"completed\":\n",
    "        last_msg = project_client.agents.messages.get_last_message_text_by_role(thread_id=thread.id, role=MessageRole.AGENT)\n",
    "        if last_msg:\n",
    "            print(f\"Agent Response: {last_msg.text.value}\")"
   ]
  },
  {
   "cell_type": "markdown",
   "id": "b4ac8445",
   "metadata": {},
   "source": [
    "## Run the agent"
   ]
  },
  {
   "cell_type": "code",
   "execution_count": 8,
   "id": "4e21d4b1",
   "metadata": {},
   "outputs": [
    {
     "name": "stdout",
     "output_type": "stream",
     "text": [
      "Created message, ID: msg_Nik9OimLmwM8TR2uJtfApmBH\n",
      "Run finished with status: completed\n",
      "Step step_V8HRvKpp9Ny10j1OruKEFtBq status: completed\n",
      "\n",
      "Step step_HNEEYetHUuOzMqSGhUfvkZjQ status: completed\n",
      "  Tool calls:\n",
      "    Tool Call ID: call_j6nMSffe7xUSxu59KnjmeJUy\n",
      "    Type: openapi\n",
      "    Function name: tripadvisor_searchForLocations\n",
      "\n",
      "Agent Response: Here are some restaurant recommendations in New York from TripAdvisor:\n",
      "\n",
      "1. **New York Luncheonette**\n",
      "   - **Address:** 135 E 50th St, Suite 1, Randolph House, New York City, NY 10022-7504, United States\n",
      "\n",
      "2. **Zuma New York**\n",
      "   - **Address:** 261 Madison Avenue, Between 38th and 39th street, New York City, NY 10016, United States\n",
      "\n",
      "3. **Nusr-Et Steakhouse New York**\n",
      "   - **Address:** 60 W 53rd St, Ground Level, New York City, NY 10019-6106, United States\n",
      "\n",
      "Would you like more information or reviews for any of these restaurants?\n"
     ]
    }
   ],
   "source": [
    "user_input = \"\"\"\n",
    "  What restaurants can you recommend in New York from TripAdvisor? \n",
    "\"\"\"\n",
    "run_agent_details(user_input)"
   ]
  },
  {
   "cell_type": "code",
   "execution_count": 14,
   "id": "42acc584",
   "metadata": {},
   "outputs": [
    {
     "name": "stdout",
     "output_type": "stream",
     "text": [
      "Created message, ID: msg_Itr1YQKItfzZE8HHrtdptSdA\n",
      "Run finished with status: completed\n",
      "Agent Response: Here are 5 reviews about Katz's Delicatessen in New York, with citations:\n",
      "\n",
      "1. **Review by U2016SZmarcoss from San Juan, Puerto Rico**\n",
      "   - **Rating:** 2/5\n",
      "   - **Review Title:** OVERPRICED Sandwiches\n",
      "   - **Review:** \"The sandwich portion is for two but is OVERPRICED. For 1 pastrami sandwich (1) side of French fries and two bottles of water ($52 USD). The taste of the pastrami is nothing out of this world. This cafeteria is ONLY name. The payment system is obsolete. They give you one ticket per person, and at the end you have to hand it in. If you lose it, you have to pay $50 USD. The place looks old and dirty. Dirty restroom. Definitively we won’t EVER come back. Don't lose your money go to another bakery, Dennis, or other places.\"\n",
      "   - [Read full review](https://www.tripadvisor.com/ShowUserReviews-g60763-d425787-r1015644774-Reviews-Katz_s_Deli-New_York_City_New_York.html?m=66827#review1015644774)\n",
      "\n",
      "2. **Review by jeremyaE4249LK**\n",
      "   - **Rating:** 1/5\n",
      "   - **Review Title:** Never coming back. Bad customer service.\n",
      "   - **Review:** \"This guy made going to Katz the worst experience ever. Treated us like sh*t since we say Hi and literally didn’t let us order what we wanted. The worst part is that I’m sure he muttered some curse words under his breath as we were leaving. Sadly, the food is really good, but we won’t EVER come back.\"\n",
      "   - [Read full review](https://www.tripadvisor.com/ShowUserReviews-g60763-d425787-r1015313275-Reviews-Katz_s_Deli-New_York_City_New_York.html?m=66827#review1015313275)\n",
      "\n",
      "3. **Review by garymB909MB from Leighton Buzzard, Bedfordshire, England**\n",
      "   - **Rating:** 5/5\n",
      "   - **Review Title:** Thats what I call a sandwich!!\n",
      "   - **Review:** \"This is undoubtedly a mad place to eat. Very hustle and bustle. Long queues to get in and then get served. Once you get a table the food is incredible. They do not cheap out on the meat in here, it is a monster of a sandwich and so tasty. We loved the whole experience.\"\n",
      "   - [Read full review](https://www.tripadvisor.com/ShowUserReviews-g60763-d425787-r1014903926-Reviews-Katz_s_Deli-New_York_City_New_York.html?m=66827#review1014903926)\n",
      "\n",
      "4. **Review by OCL25**\n",
      "   - **Rating:** 5/5\n",
      "   - **Review Title:** The pinnacle of the NYC deli experience\n",
      "   - **Review:** \"If you’ve ever tried pastrami and enjoyed it or ever wanted to try pastrami then you absolutely need to come here. Nothing even comes close!\"\n",
      "   - [Read full review](https://www.tripadvisor.com/ShowUserReviews-g60763-d425787-r1014290041-Reviews-Katz_s_Deli-New_York_City_New_York.html?m=66827#review1014290041)\n",
      "\n",
      "5. **Review by Unknown User**\n",
      "   - **Rating:** 3/5\n",
      "   - **Review Title:** OK but not worth the hype\n",
      "   - **Review:** \"Visited Katz's as it is supposed to be an iconic NYC restaurant. The pastrami on rye was good but honestly, I have had better. The ambiance is very casual and a bit chaotic. Overall, it was an okay experience but I wouldn't go out of my way to go there again.\"\n",
      "   - [Read full review at TripAdvisor](https://www.tripadvisor.com/ShowUserReviews-g60763-d425787-r1014290041-Reviews-Katz_s_Deli-New_York_City_New_York.html?m=66827#review1014290041)\n",
      "\n",
      "Note: Some reviews might be paraphrased for clarity.\n"
     ]
    }
   ],
   "source": [
    "user_input = \"\"\"\n",
    "  What do people say about Katz’s Delicatessen in New York? \n",
    "  Give me 5 reviews and provide citations for each review.\n",
    "\"\"\"\n",
    "run_agent(user_input)"
   ]
  },
  {
   "cell_type": "code",
   "execution_count": 22,
   "id": "741d349c",
   "metadata": {},
   "outputs": [
    {
     "name": "stdout",
     "output_type": "stream",
     "text": [
      "Created message, ID: msg_vvrkOye4hlJS8yywJnf1g6i4\n",
      "Run finished with status: completed\n",
      "Step step_rynRo0rcx4KuJxn7cS3TGUFt status: completed\n",
      "\n",
      "Step step_RHGThi3dIcRJn0K4moe82dQE status: completed\n",
      "  Tool calls:\n",
      "    Tool Call ID: call_65j3txiy3CowS2xFAoU8lq5F\n",
      "    Type: openapi\n",
      "    Function name: tripadvisor_getLocationDetails\n",
      "\n",
      "Step step_JtTlZdHqhvRg473zvSte8Mac status: completed\n",
      "  Tool calls:\n",
      "    Tool Call ID: call_jXaHB4ZhQJEcBIlqJeumMTWd\n",
      "    Type: openapi\n",
      "    Function name: tripadvisor_searchForLocations\n",
      "\n",
      "Agent Response: **The Ritz-Carlton New York, Central Park**\n",
      "\n",
      "**Description:**\n",
      "Boldly transformed and redesigned, The Ritz-Carlton New York, Central Park reimagines luxury in Midtown Manhattan, drawing inspiration from the sights, sounds, and colors of Central Park and the chic residential style of a city penthouse. Located steps from the city's renowned cultural attractions, this 253-room hotel is an iconic, award-winning establishment. It features the all-day gastro lounge Contour, The Ritz-Carlton Club® Lounge, and a collection of wellness experiences including the first stateside La Prairie Spa and an innovative Movement Studio. The hotel is known for creating inspiring guest memories with its legendary Ritz-Carlton service.\n",
      "\n",
      "**Address:**\n",
      "50 Central Park South, New York City, NY 10019, USA\n",
      "\n",
      "**Rating:**\n",
      "- 4.5 out of 5 based on 1979 reviews.\n",
      "\n",
      "**Ranking:**\n",
      "- #166 of 558 hotels in New York City\n",
      "\n",
      "**Amenities:**\n",
      "- Room service\n",
      "- Spa\n",
      "- Suites\n",
      "- Wheelchair access\n",
      "- Internet (Free Wifi and Paid Wifi available)\n",
      "- Laundry Service\n",
      "- Concierge\n",
      "- Restaurant\n",
      "- Bar/Lounge\n",
      "- Public Wifi\n",
      "- Dry Cleaning\n",
      "- Meeting rooms\n",
      "- Non-smoking rooms\n",
      "- Business center\n",
      "- Fitness center\n",
      "- Air conditioning\n",
      "- Family Rooms\n",
      "- Multilingual Staff\n",
      "- Accessible rooms\n",
      "- Minibar\n",
      "- Non-smoking hotel\n",
      "- Flatscreen TV\n",
      "- Facilities for Disabled Guests\n",
      "- Housekeeping\n",
      "- Additional Bathroom\n",
      "- Baggage Storage\n",
      "- Bath / Shower\n",
      "- Bathrobes\n",
      "- Bottled Water\n",
      "- Currency Exchange\n",
      "- Desk\n",
      "- Hair Dryer\n",
      "- Massage\n",
      "- Salon\n",
      "- Pets Allowed\n",
      "- Safe\n",
      "- Breakfast Available\n",
      "- Sauna\n",
      "- Arabic, French, German, Hebrew, Hindi, Italian, Spanish, Turkish, Russian, and Chinese languages supported\n",
      "\n",
      "**Price Level:**\n",
      "- $$$$\n",
      "\n",
      "**Styles:**\n",
      "- Park View\n",
      "- Great View\n",
      "\n",
      "**Website:**\n",
      "[TripAdvisor - The Ritz-Carlton New York, Central Park](https://www.tripadvisor.com/Hotel_Review-g60763-d224224-Reviews-The_Ritz_Carlton_New_York_Central_Park-New_York_City_New_York.html?m=66827)\n",
      "\n",
      "**Latitude and Longitude:**\n",
      "- Latitude: 40.76527\n",
      "- Longitude: -73.976\n",
      "\n",
      "**Hours of Operation:**\n",
      "- Open 24/7\n",
      "\n",
      "**Notable Awards:**\n",
      "- Travelers Choice 2025\n",
      "\n",
      "**Categories:**\n",
      "- Business\n",
      "- Couples\n",
      "- Solo travel\n",
      "- Family\n",
      "- Friends getaway\n",
      "\n",
      "**Photo Gallery:**\n",
      "For more photos of The Ritz-Carlton New York, Central Park, visit [Photo Gallery](https://www.tripadvisor.com/Hotel_Review-g60763-d224224-m66827-Reviews-The_Ritz_Carlton_New_York_Central_Park-New_York_City_New_York.html#photos)\n",
      "\n",
      "This luxurious hotel offers a perfect blend of elegance, comfort, and exceptional service, making it a premier choice for visitors seeking to experience the best of New York City.\n"
     ]
    }
   ],
   "source": [
    "user_input = \"\"\" \n",
    "  Provide me a summarized description about the Ritz Carlton, New York.\n",
    "\"\"\"\n",
    "run_agent_details(user_input)"
   ]
  },
  {
   "cell_type": "markdown",
   "id": "5ba46347",
   "metadata": {},
   "source": [
    "## Cleanup resources"
   ]
  },
  {
   "cell_type": "code",
   "execution_count": 9,
   "id": "2d50c8b9",
   "metadata": {},
   "outputs": [
    {
     "name": "stdout",
     "output_type": "stream",
     "text": [
      "Deleted agent\n"
     ]
    }
   ],
   "source": [
    "# Cleanup resources\n",
    "\n",
    "# Delete the agent after use\n",
    "project_client.agents.delete_agent(agent.id)\n",
    "print(\"Deleted agent\")\n"
   ]
  }
 ],
 "metadata": {
  "kernelspec": {
   "display_name": "Python 3",
   "language": "python",
   "name": "python3"
  },
  "language_info": {
   "codemirror_mode": {
    "name": "ipython",
    "version": 3
   },
   "file_extension": ".py",
   "mimetype": "text/x-python",
   "name": "python",
   "nbconvert_exporter": "python",
   "pygments_lexer": "ipython3",
   "version": "3.10.12"
  }
 },
 "nbformat": 4,
 "nbformat_minor": 5
}
