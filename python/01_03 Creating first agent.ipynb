{
 "cells": [
  {
   "cell_type": "markdown",
   "id": "eb456d83",
   "metadata": {},
   "source": [
    "# Creating first agent"
   ]
  },
  {
   "cell_type": "markdown",
   "id": "4e5c74de",
   "metadata": {},
   "source": [
    "## Install Packages"
   ]
  },
  {
   "cell_type": "code",
   "execution_count": null,
   "id": "4a1536b4",
   "metadata": {},
   "outputs": [],
   "source": [
    "%pip install azure-ai-projects==1.0.0b12\n",
    "%pip install azure-identity\n",
    "%pip install azure-ai-agents==1.1.0b3"
   ]
  },
  {
   "cell_type": "markdown",
   "id": "d8f6785b",
   "metadata": {},
   "source": [
    "## Import the libraries"
   ]
  },
  {
   "cell_type": "code",
   "execution_count": 16,
   "id": "857a9a83",
   "metadata": {},
   "outputs": [],
   "source": [
    "import os\n",
    "from azure.ai.projects import AIProjectClient\n",
    "from azure.identity import DefaultAzureCredential\n",
    "from azure.ai.agents.models import MessageRole"
   ]
  },
  {
   "cell_type": "markdown",
   "id": "59aabdeb",
   "metadata": {},
   "source": [
    "## Create the AI Project Client\n",
    "\n",
    "NOTE: \n",
    "- If you don't have Azure CLI, you first need to install it:\n",
    "   - curl -sL https://aka.ms/InstallAzureCLIDeb | sudo bash\n",
    "- Login to Azure\n",
    "   - az login\n",
    "\n"
   ]
  },
  {
   "cell_type": "code",
   "execution_count": 17,
   "id": "d2b1f8e5",
   "metadata": {},
   "outputs": [],
   "source": [
    "# Create an Azure AI Client from an endpoint, copied from your Azure AI Foundry project.\n",
    "# You need to login to Azure subscription via Azure CLI and set the environment variables\n",
    "project_endpoint = os.environ[\"PROJECT_ENDPOINT\"]  # Ensure the PROJECT_ENDPOINT environment variable is set\n",
    "\n",
    "# Create an AIProjectClient instance\n",
    "project_client = AIProjectClient(\n",
    "    endpoint=project_endpoint,\n",
    "    credential=DefaultAzureCredential(),  # Use Azure Default Credential for authentication\n",
    ")"
   ]
  },
  {
   "cell_type": "markdown",
   "id": "82efcd58",
   "metadata": {},
   "source": [
    "## Create the agent"
   ]
  },
  {
   "cell_type": "code",
   "execution_count": 18,
   "id": "f3d34b3f",
   "metadata": {},
   "outputs": [
    {
     "name": "stdout",
     "output_type": "stream",
     "text": [
      "Created agent, ID: asst_p6zy1u1NI6pW8V2fQTHmRpJd\n"
     ]
    }
   ],
   "source": [
    "agent = project_client.agents.create_agent(\n",
    "        model=os.environ[\"MODEL_DEPLOYMENT_NAME\"],  # Model deployment name\n",
    "        name=\"my-agent\",  # Name of the agent\n",
    "        instructions=\"You are a helpful agent\",  # Instructions for the agent\n",
    "        \n",
    "    )\n",
    "\n",
    "print(f\"Created agent, ID: {agent.id}\")"
   ]
  },
  {
   "cell_type": "markdown",
   "id": "19b16fbd",
   "metadata": {},
   "source": [
    "## Create thread"
   ]
  },
  {
   "cell_type": "code",
   "execution_count": 19,
   "id": "9c822423",
   "metadata": {},
   "outputs": [
    {
     "name": "stdout",
     "output_type": "stream",
     "text": [
      "Created thread, ID: thread_OdOymeHM158u1EuChKtLSQSc\n"
     ]
    }
   ],
   "source": [
    "# Create a thread for communication\n",
    "thread = project_client.agents.threads.create()\n",
    "print(f\"Created thread, ID: {thread.id}\")"
   ]
  },
  {
   "cell_type": "markdown",
   "id": "800c4642",
   "metadata": {},
   "source": [
    "## Helper function\n",
    "- adds messages to the thread\n",
    "- run the agent\n",
    "- display the agent response"
   ]
  },
  {
   "cell_type": "code",
   "execution_count": 20,
   "id": "69a9e997",
   "metadata": {},
   "outputs": [],
   "source": [
    "def run_agent(user_input):\n",
    "    # Add a message to the thread\n",
    "    message = project_client.agents.messages.create(\n",
    "        thread_id=thread.id,\n",
    "        role=\"user\",  # Role of the message sender\n",
    "        content=user_input,  # Message content\n",
    "    )\n",
    "    print(f\"Created message, ID: {message['id']}\")\n",
    "\n",
    "     # Create and process agent run in thread with tools\n",
    "    run = project_client.agents.runs.create_and_process(thread_id=thread.id, agent_id=agent.id)\n",
    "    print(f\"Run finished with status: {run.status}\")\n",
    "\n",
    "    # Check the status of the run and print the result\n",
    "    if run.status == \"failed\":\n",
    "        print(f\"Run failed: {run.last_error}\")\n",
    "    elif run.status == \"completed\":\n",
    "        last_msg = project_client.agents.messages.get_last_message_text_by_role(thread_id=thread.id, role=MessageRole.AGENT)\n",
    "        if last_msg:\n",
    "            print(f\"Agent Response: {last_msg.text.value}\")"
   ]
  },
  {
   "cell_type": "markdown",
   "id": "b4ac8445",
   "metadata": {},
   "source": [
    "## Run the agent"
   ]
  },
  {
   "cell_type": "code",
   "execution_count": 21,
   "id": "42acc584",
   "metadata": {},
   "outputs": [
    {
     "name": "stdout",
     "output_type": "stream",
     "text": [
      "Created message, ID: msg_CpSW6rZru2rXw45J0diXLS3M\n",
      "Run finished with status: completed\n",
      "Agent Response: Sure! New York City offers a wealth of iconic attractions and experiences. Here are five things you can see and do:\n",
      "\n",
      "1. **Statue of Liberty**: A symbol of freedom and democracy, this iconic statue is located on Liberty Island and offers stunning views of the Manhattan skyline.\n",
      "\n",
      "2. **Central Park**: This massive green space in the heart of Manhattan provides a natural escape with walking paths, lakes, and attractions like the Central Park Zoo and the Conservatory Garden.\n",
      "\n",
      "3. **Times Square**: Known for its bright lights, billboards, and bustling atmosphere, Times Square is a must-visit for its vibrant entertainment options and unique energy.\n",
      "\n",
      "4. **Empire State Building**: One of the most famous skyscrapers in the world, visitors can go to the observation decks for panoramic views of the city and beyond.\n",
      "\n",
      "5. **Broadway**: Enjoy world-class theater productions and musicals in the Theater District, home to many historic theaters and shows.\n",
      "\n",
      "These attractions offer a glimpse into the diverse and vibrant landscape of New York City!\n"
     ]
    }
   ],
   "source": [
    "user_input = \"What are the 5 things I can see in New York?\"\n",
    "run_agent(user_input)"
   ]
  },
  {
   "cell_type": "markdown",
   "id": "5ba46347",
   "metadata": {},
   "source": [
    "## Cleanup resources"
   ]
  },
  {
   "cell_type": "code",
   "execution_count": 22,
   "id": "707b1b08",
   "metadata": {},
   "outputs": [
    {
     "name": "stdout",
     "output_type": "stream",
     "text": [
      "Deleted agent\n"
     ]
    }
   ],
   "source": [
    "# Delete the agent after use\n",
    "project_client.agents.delete_agent(agent.id)\n",
    "print(\"Deleted agent\")"
   ]
  },
  {
   "cell_type": "markdown",
   "id": "b018a574",
   "metadata": {},
   "source": [
    "## Creating an agent and thread"
   ]
  },
  {
   "cell_type": "code",
   "execution_count": 23,
   "id": "7956362b",
   "metadata": {},
   "outputs": [
    {
     "name": "stdout",
     "output_type": "stream",
     "text": [
      "Created agent, ID: asst_WdApzrNxrCcyGroWcAOCLxYG\n"
     ]
    }
   ],
   "source": [
    "agent = project_client.agents.create_agent(\n",
    "        model=os.environ[\"MODEL_DEPLOYMENT_NAME\"],  # Model deployment name\n",
    "        name=\"my-agent\",  # Name of the agent\n",
    "        instructions=\"You are a helpful agent\",  # Instructions for the agent\n",
    "        \n",
    "    )\n",
    "print(f\"Created agent, ID: {agent.id}\")\n",
    "agent_id = agent.id\n"
   ]
  },
  {
   "cell_type": "markdown",
   "id": "b60a48ce",
   "metadata": {},
   "source": [
    "## Retrieving an agent"
   ]
  },
  {
   "cell_type": "code",
   "execution_count": 24,
   "id": "8f4a1023",
   "metadata": {},
   "outputs": [],
   "source": [
    "agent = project_client.agents.get_agent(agent_id)"
   ]
  },
  {
   "cell_type": "markdown",
   "id": "99973394",
   "metadata": {},
   "source": [
    "## Create thread\n",
    "\n",
    "To retrieve a thread\n",
    "- thread = project.agents.threads.get(\"\")"
   ]
  },
  {
   "cell_type": "code",
   "execution_count": 25,
   "id": "8d5bd4aa",
   "metadata": {},
   "outputs": [
    {
     "name": "stdout",
     "output_type": "stream",
     "text": [
      "Created thread, ID: thread_4xsGflvQOb4QjhznCEbFEJya\n"
     ]
    }
   ],
   "source": [
    "# Create a thread for communication\n",
    "thread = project_client.agents.threads.create()\n",
    "print(f\"Created thread, ID: {thread.id}\")"
   ]
  },
  {
   "cell_type": "markdown",
   "id": "b89d0335",
   "metadata": {},
   "source": [
    "## Run agent"
   ]
  },
  {
   "cell_type": "code",
   "execution_count": 26,
   "id": "7c1202fd",
   "metadata": {},
   "outputs": [
    {
     "name": "stdout",
     "output_type": "stream",
     "text": [
      "Created message, ID: msg_LU7T1n1Z05bJd7yAeqQQPp35\n",
      "Run finished with status: completed\n",
      "Agent Response: San Francisco is a vibrant city with a lot to offer. Here are five iconic sights you can see in San Francisco:\n",
      "\n",
      "1. **Golden Gate Bridge**: One of the most recognizable landmarks in the world, the Golden Gate Bridge offers stunning views and is a must-see for anyone visiting San Francisco.\n",
      "\n",
      "2. **Alcatraz Island**: This historic island was once a notorious federal prison and is now a popular tourist attraction. You can take a ferry to the island and explore the prison, learning about its history and famous inmates.\n",
      "\n",
      "3. **Fisherman's Wharf**: A bustling waterfront area with shops, restaurants, and entertainment. You can see sea lions at Pier 39, visit the Aquarium of the Bay, and enjoy fresh seafood.\n",
      "\n",
      "4. **Chinatown**: The oldest and one of the largest Chinatowns in North America. Walk through the vibrant streets, enjoy authentic Chinese cuisine, and explore unique shops and markets.\n",
      "\n",
      "5. **Golden Gate Park**: A large urban park that offers a variety of attractions, including the California Academy of Sciences, the de Young Museum, the Japanese Tea Garden, and beautiful gardens and recreational areas.\n",
      "\n",
      "These sights are just a few examples of the many attractions San Francisco has to offer.\n"
     ]
    }
   ],
   "source": [
    "user_input = \"What are the 5 things I can see in San Francisco?\"\n",
    "run_agent(user_input)"
   ]
  },
  {
   "cell_type": "markdown",
   "id": "b1933532",
   "metadata": {},
   "source": [
    "## Cleanup resources"
   ]
  },
  {
   "cell_type": "code",
   "execution_count": 27,
   "id": "5c55daf1",
   "metadata": {},
   "outputs": [
    {
     "name": "stdout",
     "output_type": "stream",
     "text": [
      "Deleted agent\n"
     ]
    }
   ],
   "source": [
    "# Delete the agent after use\n",
    "project_client.agents.delete_agent(agent.id)\n",
    "print(\"Deleted agent\")"
   ]
  }
 ],
 "metadata": {
  "kernelspec": {
   "display_name": "Python 3",
   "language": "python",
   "name": "python3"
  },
  "language_info": {
   "codemirror_mode": {
    "name": "ipython",
    "version": 3
   },
   "file_extension": ".py",
   "mimetype": "text/x-python",
   "name": "python",
   "nbconvert_exporter": "python",
   "pygments_lexer": "ipython3",
   "version": "3.10.12"
  }
 },
 "nbformat": 4,
 "nbformat_minor": 5
}
