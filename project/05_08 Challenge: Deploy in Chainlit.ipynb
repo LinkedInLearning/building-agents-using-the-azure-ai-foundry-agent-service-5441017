{
 "cells": [
  {
   "cell_type": "markdown",
   "id": "697ae813",
   "metadata": {},
   "source": [
    "# Challenge: Deploy in Chainlit\n",
    "\n",
    "Your next task is to deploy the connected agent with Chainlit for users to have a web interface.\n",
    "\n",
    "Optional:\n",
    "- Add 4 starter questions\n",
    "- Add an icon of the company"
   ]
  }
 ],
 "metadata": {
  "language_info": {
   "name": "python"
  }
 },
 "nbformat": 4,
 "nbformat_minor": 5
}
