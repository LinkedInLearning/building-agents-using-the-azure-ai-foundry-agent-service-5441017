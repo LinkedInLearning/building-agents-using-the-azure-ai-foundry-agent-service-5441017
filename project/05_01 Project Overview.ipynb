{
 "cells": [
  {
   "cell_type": "markdown",
   "id": "9831bf19",
   "metadata": {},
   "source": [
    "# Project Overview\n",
    "\n",
    "Scenario: \n",
    "Imagine you are a company named Contoso Travel that likes to provide the best service to its customers. They need a travel agent system that can perform a lot of tasks such as:\n",
    "- Providing Itinerary information\n",
    "- Weather information\n",
    "- Recommend their own travel products\n",
    "- Provide restaurant recommendations\n",
    "\n",
    "Objectives:\n",
    "Create a multiagent travel system that has the following components:\n",
    "- Orchestrator agent manages the orchestration\n",
    "- Weather agent provides weather information from the city of choice.\n",
    "- Itinerary agent creates an itinerary for a given city adjusting for weather conditions.\n",
    "- Travel product agent provides product recommendations from a set of travel products found in data/travelproducts folder.\n",
    "- Restaurant agent provides restaurant recommendations and reviews from TripAdvisor.\n",
    "- IT Management needs to be able to have full access to past message and file data.\n",
    "- Users want to have a website where they can input their queries in natural language."
   ]
  }
 ],
 "metadata": {
  "language_info": {
   "name": "python"
  }
 },
 "nbformat": 4,
 "nbformat_minor": 5
}
