{
 "cells": [
  {
   "cell_type": "markdown",
   "id": "eb456d83",
   "metadata": {},
   "source": [
    "# File Search"
   ]
  },
  {
   "cell_type": "markdown",
   "id": "4e5c74de",
   "metadata": {},
   "source": [
    "## Install Packages"
   ]
  },
  {
   "cell_type": "code",
   "execution_count": null,
   "id": "4a1536b4",
   "metadata": {},
   "outputs": [],
   "source": [
    "%pip install azure-ai-projects==1.0.0b12\n",
    "%pip install azure-identity\n",
    "%pip install azure-ai-agents==1.1.0b3"
   ]
  },
  {
   "cell_type": "markdown",
   "id": "d8f6785b",
   "metadata": {},
   "source": [
    "## Import the libraries"
   ]
  },
  {
   "cell_type": "code",
   "execution_count": 3,
   "id": "857a9a83",
   "metadata": {},
   "outputs": [],
   "source": [
    "import os\n",
    "from azure.ai.projects import AIProjectClient\n",
    "from azure.identity import DefaultAzureCredential\n",
    "from azure.ai.agents.models import (\n",
    "    FilePurpose,\n",
    "    FileSearchTool,\n",
    "    ListSortOrder,\n",
    "    RunAdditionalFieldList,\n",
    "    RunStepFileSearchToolCall,\n",
    "    RunStepToolCallDetails,\n",
    ")"
   ]
  },
  {
   "cell_type": "markdown",
   "id": "59aabdeb",
   "metadata": {},
   "source": [
    "## Create the AI Project Client\n",
    "\n",
    "NOTE: \n",
    "- If you don't have Azure CLI, you first need to install it:\n",
    "   curl -sL https://aka.ms/InstallAzureCLIDeb | sudo bash\n",
    "- Login to Azure\n",
    "   az login\n",
    "\n"
   ]
  },
  {
   "cell_type": "code",
   "execution_count": 6,
   "id": "d2b1f8e5",
   "metadata": {},
   "outputs": [],
   "source": [
    "# Create an Azure AI Client from an endpoint, copied from your Azure AI Foundry project.\n",
    "# You need to login to Azure subscription via Azure CLI and set the environment variables\n",
    "project_endpoint = os.environ[\"PROJECT_ENDPOINT\"]  # Ensure the PROJECT_ENDPOINT environment variable is set\n",
    "\n",
    "# Create an AIProjectClient instance\n",
    "project_client = AIProjectClient(\n",
    "    endpoint=project_endpoint,\n",
    "    credential=DefaultAzureCredential(),  # Use Azure Default Credential for authentication\n",
    ")"
   ]
  },
  {
   "cell_type": "markdown",
   "id": "929f0da3",
   "metadata": {},
   "source": [
    "## Setup the file search tool"
   ]
  },
  {
   "cell_type": "code",
   "execution_count": null,
   "id": "68a030e7",
   "metadata": {},
   "outputs": [
    {
     "name": "stdout",
     "output_type": "stream",
     "text": [
      "['Northwind_Standard_Benefits_Details.pdf', 'Northwind_Health_Plus_Benefits_Details.pdf']\n",
      "Uploaded file, file ID: assistant-1s6N6QkaK6eeP5tFvGaRRM\n",
      "Uploaded file, file ID: assistant-T49j1LTf5uieyYRZ8ooMH9\n",
      "Created vector store, vector store ID: vs_d9Gg6v4oFzmCfCrDOyoGDJB1\n"
     ]
    }
   ],
   "source": [
    "import os\n",
    "\n",
    "file_directory = \"../data/healthplans\"\n",
    "\n",
    "# List all files in the directory\n",
    "try:\n",
    "    filenames = os.listdir(file_directory)\n",
    "    print(filenames)\n",
    "except FileNotFoundError:\n",
    "    print(f\"Directory '{file_directory}' not found.\")\n",
    "\n",
    "# Get the full path of a file\n",
    "def get_filepath_for_filename(filename: str) -> str:\n",
    "    base_directory = file_directory\n",
    "    return os.path.join(base_directory, filename)\n",
    "\n",
    "# Upload files to the project client\n",
    "file_ids: list[str] = []\n",
    "for path in [get_filepath_for_filename(filename) for filename in filenames]:\n",
    "    with open(path, \"rb\") as file:\n",
    "        file = project_client.agents.files.upload_and_poll(file_path=path, purpose=FilePurpose.AGENTS)\n",
    "        print(f\"Uploaded file, file ID: {file.id}\")\n",
    "        file_ids.append(file.id)\n",
    "\n",
    "# Create a vector store with the uploaded files\n",
    "vector_store = project_client.agents.vector_stores.create_and_poll(file_ids=file_ids, name=\"my_vectorstore\")\n",
    "print(f\"Created vector store, vector store ID: {vector_store.id}\")"
   ]
  },
  {
   "cell_type": "markdown",
   "id": "82efcd58",
   "metadata": {},
   "source": [
    "## Create the agent"
   ]
  },
  {
   "cell_type": "code",
   "execution_count": 9,
   "id": "f3d34b3f",
   "metadata": {},
   "outputs": [
    {
     "name": "stdout",
     "output_type": "stream",
     "text": [
      "Created agent, ID: asst_uuh0QG6brtVb8i128vrT04kB\n"
     ]
    }
   ],
   "source": [
    "# Create a file search tool\n",
    "file_search = FileSearchTool(vector_store_ids=[vector_store.id])\n",
    "\n",
    "# Create an agent with the file search tool\n",
    "agent = project_client.agents.create_agent(\n",
    "    model=os.environ[\"MODEL_DEPLOYMENT_NAME\"],  # Model deployment name\n",
    "    name=\"my-filesearch-agent\",  # Name of the agent\n",
    "    instructions=\"You are a helpful agent and can search information from uploaded files\",  # Instructions for the agent\n",
    "    tools=file_search.definitions,  # Tools available to the agent\n",
    "    tool_resources=file_search.resources,  # Resources for the tools\n",
    ")\n",
    "print(f\"Created agent, ID: {agent.id}\")"
   ]
  },
  {
   "cell_type": "markdown",
   "id": "19b16fbd",
   "metadata": {},
   "source": [
    "## Create thread"
   ]
  },
  {
   "cell_type": "code",
   "execution_count": 10,
   "id": "9c822423",
   "metadata": {},
   "outputs": [
    {
     "name": "stdout",
     "output_type": "stream",
     "text": [
      "Created thread, ID: thread_FgFCEklWZsCT94hrkk7w0Kbu\n"
     ]
    }
   ],
   "source": [
    "# Create a thread for communication\n",
    "thread = project_client.agents.threads.create()\n",
    "print(f\"Created thread, ID: {thread.id}\")"
   ]
  },
  {
   "cell_type": "markdown",
   "id": "800c4642",
   "metadata": {},
   "source": [
    "## Helper function\n",
    "- adds messages to the thread\n",
    "- run the agent\n",
    "- display the agent response"
   ]
  },
  {
   "cell_type": "code",
   "execution_count": 11,
   "id": "69a9e997",
   "metadata": {},
   "outputs": [],
   "source": [
    "def run_agent(user_input):\n",
    "    # Add a message to the thread\n",
    "    message = project_client.agents.messages.create(\n",
    "        thread_id=thread.id,\n",
    "        role=\"user\",  # Role of the message sender\n",
    "        content=user_input,  # Message content\n",
    "    )\n",
    "    print(f\"Created message, ID: {message['id']}\")\n",
    "\n",
    "     # Create and process agent run in thread with tools\n",
    "    run = project_client.agents.runs.create_and_process(thread_id=thread.id, agent_id=agent.id)\n",
    "    print(f\"Run finished with status: {run.status}\")\n",
    "\n",
    "    if run.status == \"failed\":\n",
    "        print(f\"Run failed: {run.last_error}\")\n",
    "    elif run.status == \"completed\":\n",
    "        # Fetch the first message in the thread to see the agent's response\n",
    "        messages = list(project_client.agents.messages.list(thread_id=thread.id))\n",
    "        if messages:\n",
    "            first_message = messages[0]\n",
    "            content = first_message['content']\n",
    "            # Extract the text value if present\n",
    "            if isinstance(content, list) and content:\n",
    "                text_value = content[0].get('text', {}).get('value', '')\n",
    "                print(text_value)"
   ]
  },
  {
   "cell_type": "markdown",
   "id": "b4ac8445",
   "metadata": {},
   "source": [
    "## Run the agent"
   ]
  },
  {
   "cell_type": "code",
   "execution_count": 12,
   "id": "42acc584",
   "metadata": {},
   "outputs": [
    {
     "name": "stdout",
     "output_type": "stream",
     "text": [
      "Created message, ID: msg_AKGSV0b7f8x1RgJ4eJlFhR5x\n",
      "Run finished with status: completed\n",
      "The Northwind Standard Plan is a basic health insurance plan that offers coverage for various medical, vision, and dental services. Here are the key details:\n",
      "\n",
      "1. **Covered Services**:\n",
      "   - **Medical**: Includes primary care visits, specialist visits, preventive care, and prescription drug coverage.\n",
      "   - **Vision**: Covers routine eye exams and prescription eyeglasses or contact lenses.\n",
      "   - **Dental**: Covers preventive dental care such as cleanings and x-rays.\n",
      "\n",
      "2. **Costs and Payments**:\n",
      "   - **Premiums**: Monthly payments based on the age and health of the policyholder and the type of coverage chosen.\n",
      "   - **Deductibles**: $2,000 per person per year. This amount must be paid out of pocket before the plan covers medical expenses.\n",
      "   - **Co-payments and Co-insurance**: After meeting the deductible, co-payments are $30 for primary care visits and $50 for specialist visits. Co-insurance is 20% of the remaining cost after the deductible.\n",
      "   - **Out-of-Pocket Maximum**: $6,000 per person per year. Once this limit is reached, the plan covers 100% of expenses for the remainder of the year【4:0†source】【4:1†source】【4:18†source】.\n",
      "\n",
      "3. **Network Providers**:\n",
      "   - Members can choose from a variety of in-network providers, including primary care physicians, specialists, hospitals, and pharmacies. Out-of-network services are not covered under this plan【4:1†source】.\n",
      "\n",
      "4. **Exclusions**:\n",
      "   - The plan does not offer coverage for emergency services, mental health and substance abuse coverage, or out-of-network services【4:1†source】【4:18†source】.\n",
      "\n",
      "5. **Additional Services**:\n",
      "   - Includes acupuncture, chiropractic care, diagnostic x-rays, lab and imaging services, dialysis, home health care, hospice care, maternity care, medical foods, and medical transportation【4:1†source】【4:4†source】【4:6†source】【4:10†source】【4:12†source】.\n",
      "\n",
      "6. **Preventive Care**:\n",
      "   - Covered 100% by the plan and includes physicals, vaccinations, health screenings, immunizations, and other preventive services recommended by the U.S. Preventive Services Task Force【4:4†source】.\n",
      "\n",
      "7. **Prescription Drugs**:\n",
      "   - Coverage for both brand name and generic medications. Members must use preferred pharmacies for lower co-payments and added cost savings【4:4†source】【4:17†source】.\n",
      "\n",
      "Following these guidelines will ensure that you take full advantage of the benefits offered by the Northwind Standard Plan.\n"
     ]
    }
   ],
   "source": [
    "user_input = \"Provide details on the Northwind Standard Plan\"\n",
    "run_agent(user_input)"
   ]
  },
  {
   "cell_type": "code",
   "execution_count": 13,
   "id": "98490f07",
   "metadata": {},
   "outputs": [
    {
     "name": "stdout",
     "output_type": "stream",
     "text": [
      "Created message, ID: msg_uzWTRkRAxRR7WVxUc06ugjsb\n",
      "Run finished with status: completed\n",
      "Here is a tabular comparison of the Northwind Standard and Northwind Healthplus plans based on the provided details:\n",
      "\n",
      "| Feature/Component                   | Northwind Standard Plan                                                                             | Northwind Healthplus Plan                                                                           |\n",
      "|-------------------------------------|-----------------------------------------------------------------------------------------------------|-----------------------------------------------------------------------------------------------------|\n",
      "| **Covered Services**                | Medical, vision, dental, preventive care, prescription drugs                                       | Medical, vision, dental, preventive care, prescription drugs, mental health and substance abuse, emergency services |\n",
      "| **Premiums**                        | Based on age and health of policy holder. Paid monthly                                             | Based on type of coverage and services used                                                          |\n",
      "| **Deductible**                      | $2,000 per person per year                                                                          | Information not provided, depends on the plan specifics                                              |\n",
      "| **Co-payments & Co-insurance**      | $30 for primary care visits, $50 for specialist visits, 20% co-insurance after deductible met       | Lower costs for in-network providers, higher for out-of-network providers; specifics vary                                               |\n",
      "| **Out-of-Pocket Maximum**           | $6,000 per person per year                                                                          | Information not provided, consult plan specifics                                                     |\n",
      "| **Network Providers**               | In-network only; out-of-network services not covered                                                | In-network and out-of-network providers covered; lower costs for in-network services                 |\n",
      "| **Emergency Services**              | Not covered                                                                                         | Covered, both in-network and out-of-network                                                          |\n",
      "| **Mental Health & Substance Abuse** | Not covered                                                                                         | Covered                                                                                              |\n",
      "| **Exclusions**                      | Emergency services, mental health, substance abuse, out-of-network services                          | Certain services not deemed medically necessary, experimental treatments, non-network providers for mental health and substance abuse |\n",
      "| **Additional Services**             | Acupuncture, chiropractic care, diagnostic x-rays, lab and imaging services, dialysis, home health care, hospice, maternity, medical foods, medical transport【4:0†source】【4:1†source】【4:18†source】 | Comprehensive maternity care, medical foods, programs like weight management, Virtual care, wellness programs【8:1†source】【8:8†source】【8:14†source】【8:19†source】 |\n",
      "| **Preventive Care**                 | Covered at 100%; includes physicals, vaccinations, health screenings, and other preventive services【4:4†source】 | Covered at 100%; typical preventive services such as immunizations, screenings. Includes wellness programs【8:1†source】【8:14†source】 |\n",
      "| **Prescription Drug Coverage**      | Both brand name and generic medications covered. Lower co-payments at preferred pharmacies【4:17†source】 | Tiered medication coverage with lower out-of-pocket costs for preferred generic medications【8:1†source】【8:17†source】 |\n",
      "\n",
      "For further details or specific inquiries about cost differences and benefits, users should consult the complete plan documents or contact Northwind Health customer support.\n"
     ]
    }
   ],
   "source": [
    "user_input = \"Provide a tabular comparison between the Northwind Standard and Northwind Healthplus plans\"\n",
    "run_agent(user_input)"
   ]
  },
  {
   "cell_type": "markdown",
   "id": "5ba46347",
   "metadata": {},
   "source": [
    "## Cleanup resources"
   ]
  },
  {
   "cell_type": "code",
   "execution_count": null,
   "id": "2d50c8b9",
   "metadata": {},
   "outputs": [
    {
     "name": "stdout",
     "output_type": "stream",
     "text": [
      "Deleted vector store\n",
      "Deleted file\n"
     ]
    }
   ],
   "source": [
    "# Cleanup resources\n",
    "\n",
    "# Delete the vector store after use\n",
    "project_client.agents.vector_stores.delete(vector_store.id)\n",
    "print(\"Deleted vector store\")\n",
    "\n",
    "# Delete the files after use\n",
    "project_client.agents.files.delete(file_id=file.id)\n",
    "print(\"Deleted file\")\n",
    "\n",
    "# Delete the agent after use\n",
    "project_client.agents.delete_agent(agent.id)\n",
    "print(\"Deleted agent\")\n"
   ]
  }
 ],
 "metadata": {
  "kernelspec": {
   "display_name": "Python 3",
   "language": "python",
   "name": "python3"
  },
  "language_info": {
   "codemirror_mode": {
    "name": "ipython",
    "version": 3
   },
   "file_extension": ".py",
   "mimetype": "text/x-python",
   "name": "python",
   "nbconvert_exporter": "python",
   "pygments_lexer": "ipython3",
   "version": "3.10.12"
  }
 },
 "nbformat": 4,
 "nbformat_minor": 5
}
