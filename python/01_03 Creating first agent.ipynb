{
 "cells": [
  {
   "cell_type": "markdown",
   "id": "eb456d83",
   "metadata": {},
   "source": [
    "# Creating first agent"
   ]
  },
  {
   "cell_type": "markdown",
   "id": "4e5c74de",
   "metadata": {},
   "source": [
    "## Install Packages"
   ]
  },
  {
   "cell_type": "code",
   "execution_count": null,
   "id": "4a1536b4",
   "metadata": {},
   "outputs": [],
   "source": [
    "%pip install azure-ai-projects\n",
    "%pip install azure-identity"
   ]
  },
  {
   "cell_type": "markdown",
   "id": "d8f6785b",
   "metadata": {},
   "source": [
    "## Import the libraries"
   ]
  },
  {
   "cell_type": "code",
   "execution_count": 13,
   "id": "857a9a83",
   "metadata": {},
   "outputs": [],
   "source": [
    "import os, time\n",
    "from azure.ai.projects import AIProjectClient\n",
    "from azure.identity import DefaultAzureCredential\n",
    "from azure.ai.agents.models import CodeInterpreterTool"
   ]
  },
  {
   "cell_type": "markdown",
   "id": "59aabdeb",
   "metadata": {},
   "source": [
    "## Create the AI Project Client\n",
    "\n",
    "NOTE: \n",
    "- If you don't have Azure CLI, you first need to install it:\n",
    "   curl -sL https://aka.ms/InstallAzureCLIDeb | sudo bash\n",
    "- Login to Azure\n",
    "   az login\n",
    "\n"
   ]
  },
  {
   "cell_type": "code",
   "execution_count": 4,
   "id": "d2b1f8e5",
   "metadata": {},
   "outputs": [],
   "source": [
    "# Create an Azure AI Client from an endpoint, copied from your Azure AI Foundry project.\n",
    "# You need to login to Azure subscription via Azure CLI and set the environment variables\n",
    "project_endpoint = os.environ[\"PROJECT_ENDPOINT\"]  # Ensure the PROJECT_ENDPOINT environment variable is set\n",
    "\n",
    "# Create an AIProjectClient instance\n",
    "project_client = AIProjectClient(\n",
    "    endpoint=project_endpoint,\n",
    "    credential=DefaultAzureCredential(),  # Use Azure Default Credential for authentication\n",
    ")"
   ]
  },
  {
   "cell_type": "markdown",
   "id": "82efcd58",
   "metadata": {},
   "source": [
    "## Create the agent"
   ]
  },
  {
   "cell_type": "code",
   "execution_count": 55,
   "id": "f3d34b3f",
   "metadata": {},
   "outputs": [
    {
     "name": "stdout",
     "output_type": "stream",
     "text": [
      "Created agent, ID: asst_8SgH8JYYYS7uGjXOcQYK3eec\n"
     ]
    }
   ],
   "source": [
    "agent = project_client.agents.create_agent(\n",
    "        model=os.environ[\"MODEL_DEPLOYMENT_NAME\"],  # Model deployment name\n",
    "        name=\"my-agent\",  # Name of the agent\n",
    "        instructions=\"You are a helpful agent\",  # Instructions for the agent\n",
    "        \n",
    "    )\n",
    "\n",
    "print(f\"Created agent, ID: {agent.id}\")"
   ]
  },
  {
   "cell_type": "markdown",
   "id": "19b16fbd",
   "metadata": {},
   "source": [
    "## Create thread"
   ]
  },
  {
   "cell_type": "code",
   "execution_count": 56,
   "id": "9c822423",
   "metadata": {},
   "outputs": [
    {
     "name": "stdout",
     "output_type": "stream",
     "text": [
      "Created thread, ID: thread_LWDsEDvj8xNQr4HzFAlJJSnW\n"
     ]
    }
   ],
   "source": [
    "# Create a thread for communication\n",
    "thread = project_client.agents.threads.create()\n",
    "print(f\"Created thread, ID: {thread.id}\")"
   ]
  },
  {
   "cell_type": "markdown",
   "id": "800c4642",
   "metadata": {},
   "source": [
    "## Helper function\n",
    "- adds messages to the thread\n",
    "- run the agent\n",
    "- check the run status\n",
    "- display the agent response"
   ]
  },
  {
   "cell_type": "code",
   "execution_count": 57,
   "id": "69a9e997",
   "metadata": {},
   "outputs": [],
   "source": [
    "def run_agent(user_input):\n",
    "  # Add a message to the thread\n",
    "  message = project_client.agents.messages.create(\n",
    "      thread_id=thread.id,\n",
    "      role=\"user\",  # Role of the message sender\n",
    "      content=user_input,  # Message content\n",
    "  )\n",
    "  print(f\"Created message, ID: {message['id']}\")\n",
    "\n",
    "  # Create and process a run for the agent to handle the message\n",
    "  run = project_client.agents.runs.create(thread_id=thread.id, agent_id=agent.id)\n",
    "  print(f\"Created run, ID: {run.id}\")\n",
    "      \n",
    "  # Poll the run status until it is completed or requires action\n",
    "  while run.status in [\"queued\", \"in_progress\", \"requires_action\"]:\n",
    "      time.sleep(1)\n",
    "      run = project_client.agents.runs.get(thread_id=thread.id, run_id=run.id)\n",
    "    \n",
    "  print(f\"Run completed with status: {run.status}\")\n",
    "      \n",
    "  # Fetch and log all messages from the thread\n",
    "  messages = project_client.agents.messages.list(thread_id=thread.id)\n",
    "  for message in messages:\n",
    "      print(f\"Role: {message['role']}, Content: {message['content']}\")"
   ]
  },
  {
   "cell_type": "markdown",
   "id": "b4ac8445",
   "metadata": {},
   "source": [
    "## Run the agent"
   ]
  },
  {
   "cell_type": "code",
   "execution_count": 58,
   "id": "42acc584",
   "metadata": {},
   "outputs": [
    {
     "name": "stdout",
     "output_type": "stream",
     "text": [
      "Created message, ID: msg_uRxHAmXtJTRy5pVIhMiB8hnO\n",
      "Created run, ID: run_xmYUbr7d9gqY8sva0xdBiJTz\n",
      "Run completed with status: completed\n",
      "Role: assistant, Content: [{'type': 'text', 'text': {'value': 'Manila, the capital city of the Philippines, is a vibrant metropolis with a rich history and diverse culture. Here are some key attractions you can visit in Manila:\\n\\n1. **Rizal Park (Luneta Park)**: A historic park dedicated to the national hero, Dr. José Rizal. It features various monuments, gardens, and a large open space for picnics and outdoor activities.\\n\\n2. **Intramuros**: Known as the \"Walled City,\" Intramuros is the oldest district in Manila, featuring colonial-era architecture, historical landmarks, and museums. Notable sites include Fort Santiago, San Agustin Church, and Casa Manila.\\n\\n3. **Manila Cathedral**: An impressive Roman Catholic basilica located within Intramuros, with stunning architecture and historical significance.\\n\\n4. **National Museum of the Philippines**: Comprising several buildings, the National Museum showcases Filipino art, anthropology, natural history, and cultural heritage.\\n\\n5. **Binondo**: Known as Manila’s Chinatown, it offers a bustling market scene, temples, and delicious Chinese-Filipino cuisine.\\n\\n6. **Manila Baywalk**: A scenic promenade along Manila Bay, perfect for a leisurely walk and watching the sunset.\\n\\n7. **Cultural Center of the Philippines (CCP)**: A hub for Filipino arts and culture, hosting various performances, exhibitions, and events.\\n\\n8. **Malacañang Palace**: The official residence and workplace of the Philippine President, although public access is limited, there is a museum on the grounds.\\n\\n9. **Quiapo Church**: An iconic church known for the Black Nazarene statue and the bustling market surrounding it.\\n\\n10. **Ayala Museum**: Located in the nearby city of Makati, it features exhibits on Filipino culture, history, and art.\\n\\n11. **Baluarte de San Diego**: An ancient bastion within Intramuros, offering a glimpse into Manila’s military history and panoramic views of the city.\\n\\nThese attractions offer a mix of historical, cultural, and recreational experiences, making Manila a vibrant destination for a wide variety of travelers.', 'annotations': []}}]\n",
      "Role: user, Content: [{'type': 'text', 'text': {'value': 'What can I see in Manila?', 'annotations': []}}]\n"
     ]
    }
   ],
   "source": [
    "user_input = \"What can I see in Manila?\"\n",
    "run_agent(user_input)"
   ]
  },
  {
   "cell_type": "code",
   "execution_count": 59,
   "id": "cea2a472",
   "metadata": {},
   "outputs": [
    {
     "name": "stdout",
     "output_type": "stream",
     "text": [
      "Created message, ID: msg_aWkFBZUCfwrhVEmYhEHzr1Rj\n",
      "Created run, ID: run_o33uul7W2bouD3jhiuGRLnpU\n",
      "Run completed with status: completed\n",
      "Role: assistant, Content: [{'type': 'text', 'text': {'value': \"New York City is one of the most iconic cities in the world, known for its vibrant culture, diverse neighborhoods, and numerous landmarks. Here are some key attractions you can visit in New York City:\\n\\n### Manhattan\\n1. **Times Square**: The bustling heart of Midtown Manhattan, famous for its bright lights, Broadway theaters, and vibrant atmosphere.\\n2. **Central Park**: An expansive urban park offering various attractions, including the Central Park Zoo, Bethesda Terrace, and numerous walking trails.\\n3. **Statue of Liberty and Ellis Island**: Iconic symbols of freedom, accessible by ferry, offering insights into America's immigrant history.\\n4. **Empire State Building**: One of the most famous skyscrapers in the world, offering stunning views from its observation decks.\\n5. **Rockefeller Center**: A major entertainment complex, especially famous for its ice skating rink and the Top of the Rock Observation Deck.\\n6. **Metropolitan Museum of Art (The Met)**: A world-renowned art museum with vast collections spanning thousands of years.\\n7. **Museum of Modern Art (MoMA)**: Another prominent art museum, featuring works from contemporary and modern artists.\\n8. **Broadway**: The epicenter of American theater, offering a range of world-class performances and musicals.\\n9. **Fifth Avenue**: A major thoroughfare known for its prestigious shops, luxury boutiques, and landmarks like St. Patrick's Cathedral.\\n10. **9/11 Memorial & Museum**: A poignant tribute to the victims of the September 11 attacks, located at the site of the World Trade Center.\\n\\n### Brooklyn\\n1. **Brooklyn Bridge**: An iconic suspension bridge offering scenic walks and views of Manhattan.\\n2. **Coney Island**: A historic amusement area featuring rides, games, and the famous Nathan's Hot Dogs.\\n3. **Brooklyn Museum**: Known for its impressive art collections, including ancient Egyptian artifacts and contemporary pieces.\\n4. **Prospect Park**: Designed by the creators of Central Park, featuring a zoo, botanical gardens, and open spaces.\\n\\n### Queens\\n1. **Flushing Meadows-Corona Park**: Home to the USTA Billie Jean King National Tennis Center (U.S. Open) and the Queens Museum.\\n2. **Museum of the Moving Image**: Dedicated to the history, art, and technology of film, television, and digital media.\\n\\n### The Bronx\\n1. **Bronx Zoo**: One of the largest metropolitan zoos in the world, featuring diverse animal habitats.\\n2. **Yankee Stadium**: Home to the New York Yankees, one of Major League Baseball’s most famous teams.\\n\\n### Staten Island\\n1. **Staten Island Ferry**: Offers a free ride with stunning views of the Statue of Liberty, Ellis Island, and Lower Manhattan.\\n2. **Staten Island Greenbelt**: A network of lush parks and trails ideal for outdoor activities.\\n\\n### Additional Tips\\n- **Food and Dining**: Explore the diverse culinary scene with food from around the world. Some categories to try include pizza, bagels, and street food.\\n- **Shopping**: Visit neighborhoods like SoHo, Williamsburg, and the Meatpacking District for boutique shopping, vintage stores, and high-end retail.\\n\\nWith its countless attractions and activities, New York City has something to offer every type of traveler, from culture enthusiasts and history buffs to food lovers and shopaholics.\", 'annotations': []}}]\n",
      "Role: user, Content: [{'type': 'text', 'text': {'value': 'How about New York?', 'annotations': []}}]\n",
      "Role: assistant, Content: [{'type': 'text', 'text': {'value': 'Manila, the capital city of the Philippines, is a vibrant metropolis with a rich history and diverse culture. Here are some key attractions you can visit in Manila:\\n\\n1. **Rizal Park (Luneta Park)**: A historic park dedicated to the national hero, Dr. José Rizal. It features various monuments, gardens, and a large open space for picnics and outdoor activities.\\n\\n2. **Intramuros**: Known as the \"Walled City,\" Intramuros is the oldest district in Manila, featuring colonial-era architecture, historical landmarks, and museums. Notable sites include Fort Santiago, San Agustin Church, and Casa Manila.\\n\\n3. **Manila Cathedral**: An impressive Roman Catholic basilica located within Intramuros, with stunning architecture and historical significance.\\n\\n4. **National Museum of the Philippines**: Comprising several buildings, the National Museum showcases Filipino art, anthropology, natural history, and cultural heritage.\\n\\n5. **Binondo**: Known as Manila’s Chinatown, it offers a bustling market scene, temples, and delicious Chinese-Filipino cuisine.\\n\\n6. **Manila Baywalk**: A scenic promenade along Manila Bay, perfect for a leisurely walk and watching the sunset.\\n\\n7. **Cultural Center of the Philippines (CCP)**: A hub for Filipino arts and culture, hosting various performances, exhibitions, and events.\\n\\n8. **Malacañang Palace**: The official residence and workplace of the Philippine President, although public access is limited, there is a museum on the grounds.\\n\\n9. **Quiapo Church**: An iconic church known for the Black Nazarene statue and the bustling market surrounding it.\\n\\n10. **Ayala Museum**: Located in the nearby city of Makati, it features exhibits on Filipino culture, history, and art.\\n\\n11. **Baluarte de San Diego**: An ancient bastion within Intramuros, offering a glimpse into Manila’s military history and panoramic views of the city.\\n\\nThese attractions offer a mix of historical, cultural, and recreational experiences, making Manila a vibrant destination for a wide variety of travelers.', 'annotations': []}}]\n",
      "Role: user, Content: [{'type': 'text', 'text': {'value': 'What can I see in Manila?', 'annotations': []}}]\n"
     ]
    }
   ],
   "source": [
    "user_input = \"How about New York?\"\n",
    "run_agent(user_input)"
   ]
  },
  {
   "cell_type": "code",
   "execution_count": 62,
   "id": "a8852511",
   "metadata": {},
   "outputs": [
    {
     "name": "stdout",
     "output_type": "stream",
     "text": [
      "Created message, ID: msg_6HuzxKAgpfTduvnFFu2ioGEh\n",
      "Created run, ID: run_JASBH5tJxKQ7rViPL3R0MN0h\n",
      "Run completed with status: failed\n",
      "Role: user, Content: [{'type': 'text', 'text': {'value': 'How about San Francisco?', 'annotations': []}}]\n",
      "Role: user, Content: [{'type': 'text', 'text': {'value': 'How about San Francisco?', 'annotations': []}}]\n",
      "Role: user, Content: [{'type': 'text', 'text': {'value': 'How about San Francisco?', 'annotations': []}}]\n",
      "Role: assistant, Content: [{'type': 'text', 'text': {'value': \"New York City is one of the most iconic cities in the world, known for its vibrant culture, diverse neighborhoods, and numerous landmarks. Here are some key attractions you can visit in New York City:\\n\\n### Manhattan\\n1. **Times Square**: The bustling heart of Midtown Manhattan, famous for its bright lights, Broadway theaters, and vibrant atmosphere.\\n2. **Central Park**: An expansive urban park offering various attractions, including the Central Park Zoo, Bethesda Terrace, and numerous walking trails.\\n3. **Statue of Liberty and Ellis Island**: Iconic symbols of freedom, accessible by ferry, offering insights into America's immigrant history.\\n4. **Empire State Building**: One of the most famous skyscrapers in the world, offering stunning views from its observation decks.\\n5. **Rockefeller Center**: A major entertainment complex, especially famous for its ice skating rink and the Top of the Rock Observation Deck.\\n6. **Metropolitan Museum of Art (The Met)**: A world-renowned art museum with vast collections spanning thousands of years.\\n7. **Museum of Modern Art (MoMA)**: Another prominent art museum, featuring works from contemporary and modern artists.\\n8. **Broadway**: The epicenter of American theater, offering a range of world-class performances and musicals.\\n9. **Fifth Avenue**: A major thoroughfare known for its prestigious shops, luxury boutiques, and landmarks like St. Patrick's Cathedral.\\n10. **9/11 Memorial & Museum**: A poignant tribute to the victims of the September 11 attacks, located at the site of the World Trade Center.\\n\\n### Brooklyn\\n1. **Brooklyn Bridge**: An iconic suspension bridge offering scenic walks and views of Manhattan.\\n2. **Coney Island**: A historic amusement area featuring rides, games, and the famous Nathan's Hot Dogs.\\n3. **Brooklyn Museum**: Known for its impressive art collections, including ancient Egyptian artifacts and contemporary pieces.\\n4. **Prospect Park**: Designed by the creators of Central Park, featuring a zoo, botanical gardens, and open spaces.\\n\\n### Queens\\n1. **Flushing Meadows-Corona Park**: Home to the USTA Billie Jean King National Tennis Center (U.S. Open) and the Queens Museum.\\n2. **Museum of the Moving Image**: Dedicated to the history, art, and technology of film, television, and digital media.\\n\\n### The Bronx\\n1. **Bronx Zoo**: One of the largest metropolitan zoos in the world, featuring diverse animal habitats.\\n2. **Yankee Stadium**: Home to the New York Yankees, one of Major League Baseball’s most famous teams.\\n\\n### Staten Island\\n1. **Staten Island Ferry**: Offers a free ride with stunning views of the Statue of Liberty, Ellis Island, and Lower Manhattan.\\n2. **Staten Island Greenbelt**: A network of lush parks and trails ideal for outdoor activities.\\n\\n### Additional Tips\\n- **Food and Dining**: Explore the diverse culinary scene with food from around the world. Some categories to try include pizza, bagels, and street food.\\n- **Shopping**: Visit neighborhoods like SoHo, Williamsburg, and the Meatpacking District for boutique shopping, vintage stores, and high-end retail.\\n\\nWith its countless attractions and activities, New York City has something to offer every type of traveler, from culture enthusiasts and history buffs to food lovers and shopaholics.\", 'annotations': []}}]\n",
      "Role: user, Content: [{'type': 'text', 'text': {'value': 'How about New York?', 'annotations': []}}]\n",
      "Role: assistant, Content: [{'type': 'text', 'text': {'value': 'Manila, the capital city of the Philippines, is a vibrant metropolis with a rich history and diverse culture. Here are some key attractions you can visit in Manila:\\n\\n1. **Rizal Park (Luneta Park)**: A historic park dedicated to the national hero, Dr. José Rizal. It features various monuments, gardens, and a large open space for picnics and outdoor activities.\\n\\n2. **Intramuros**: Known as the \"Walled City,\" Intramuros is the oldest district in Manila, featuring colonial-era architecture, historical landmarks, and museums. Notable sites include Fort Santiago, San Agustin Church, and Casa Manila.\\n\\n3. **Manila Cathedral**: An impressive Roman Catholic basilica located within Intramuros, with stunning architecture and historical significance.\\n\\n4. **National Museum of the Philippines**: Comprising several buildings, the National Museum showcases Filipino art, anthropology, natural history, and cultural heritage.\\n\\n5. **Binondo**: Known as Manila’s Chinatown, it offers a bustling market scene, temples, and delicious Chinese-Filipino cuisine.\\n\\n6. **Manila Baywalk**: A scenic promenade along Manila Bay, perfect for a leisurely walk and watching the sunset.\\n\\n7. **Cultural Center of the Philippines (CCP)**: A hub for Filipino arts and culture, hosting various performances, exhibitions, and events.\\n\\n8. **Malacañang Palace**: The official residence and workplace of the Philippine President, although public access is limited, there is a museum on the grounds.\\n\\n9. **Quiapo Church**: An iconic church known for the Black Nazarene statue and the bustling market surrounding it.\\n\\n10. **Ayala Museum**: Located in the nearby city of Makati, it features exhibits on Filipino culture, history, and art.\\n\\n11. **Baluarte de San Diego**: An ancient bastion within Intramuros, offering a glimpse into Manila’s military history and panoramic views of the city.\\n\\nThese attractions offer a mix of historical, cultural, and recreational experiences, making Manila a vibrant destination for a wide variety of travelers.', 'annotations': []}}]\n",
      "Role: user, Content: [{'type': 'text', 'text': {'value': 'What can I see in Manila?', 'annotations': []}}]\n"
     ]
    }
   ],
   "source": [
    "user_input = \"How about San Francisco?\"\n",
    "run_agent(user_input)"
   ]
  },
  {
   "cell_type": "markdown",
   "id": "5ba46347",
   "metadata": {},
   "source": [
    "## Cleanup resources"
   ]
  },
  {
   "cell_type": "code",
   "execution_count": 54,
   "id": "707b1b08",
   "metadata": {},
   "outputs": [
    {
     "name": "stdout",
     "output_type": "stream",
     "text": [
      "Deleted agent\n"
     ]
    }
   ],
   "source": [
    "# Delete the agent after use\n",
    "project_client.agents.delete_agent(agent.id)\n",
    "print(\"Deleted agent\")"
   ]
  }
 ],
 "metadata": {
  "kernelspec": {
   "display_name": "Python 3",
   "language": "python",
   "name": "python3"
  },
  "language_info": {
   "codemirror_mode": {
    "name": "ipython",
    "version": 3
   },
   "file_extension": ".py",
   "mimetype": "text/x-python",
   "name": "python",
   "nbconvert_exporter": "python",
   "pygments_lexer": "ipython3",
   "version": "3.10.12"
  }
 },
 "nbformat": 4,
 "nbformat_minor": 5
}
