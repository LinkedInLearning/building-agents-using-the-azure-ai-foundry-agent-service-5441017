{
 "cells": [
  {
   "cell_type": "markdown",
   "id": "a6c9bd16",
   "metadata": {},
   "source": [
    "## Solution: Setting up the Agents"
   ]
  },
  {
   "cell_type": "markdown",
   "id": "cf299905",
   "metadata": {},
   "source": [
    "## Install the packages"
   ]
  },
  {
   "cell_type": "code",
   "execution_count": null,
   "id": "c8866fd5",
   "metadata": {},
   "outputs": [],
   "source": [
    "%pip install azure-ai-projects==1.0.0b12\n",
    "%pip install azure-identity\n",
    "%pip install azure-ai-agents==1.1.0b3"
   ]
  },
  {
   "cell_type": "markdown",
   "id": "cb77bfa5",
   "metadata": {},
   "source": [
    "## Import the libraries"
   ]
  },
  {
   "cell_type": "code",
   "execution_count": 8,
   "id": "c247174f",
   "metadata": {},
   "outputs": [],
   "source": [
    "import os, jsonref\n",
    "from azure.ai.projects import AIProjectClient\n",
    "from azure.identity import DefaultAzureCredential\n",
    "from azure.ai.agents.models import (\n",
    "    BingGroundingTool, \n",
    "    MessageRole, \n",
    "    FileSearchTool, \n",
    "    FilePurpose,\n",
    "    OpenApiTool, \n",
    "    OpenApiConnectionAuthDetails, \n",
    "    OpenApiConnectionSecurityScheme\n",
    ") "
   ]
  },
  {
   "cell_type": "markdown",
   "id": "b0fd002e",
   "metadata": {},
   "source": [
    "## Create the AI Project Client\n",
    "\n",
    "NOTE: \n",
    "- If you don't have Azure CLI, you first need to install it:\n",
    "   curl -sL https://aka.ms/InstallAzureCLIDeb | sudo bash\n",
    "- Login to Azure\n",
    "   az login\n",
    "\n"
   ]
  },
  {
   "cell_type": "code",
   "execution_count": 4,
   "id": "96ed2713",
   "metadata": {},
   "outputs": [],
   "source": [
    "# Create an Azure AI Client from an endpoint, copied from your Azure AI Foundry project.\n",
    "# You need to login to Azure subscription via Azure CLI and set the environment variables\n",
    "project_endpoint = os.environ[\"PROJECT_ENDPOINT\"]  # Ensure the PROJECT_ENDPOINT environment variable is set\n",
    "\n",
    "# Create an AIProjectClient instance\n",
    "project_client = AIProjectClient(\n",
    "    endpoint=project_endpoint,\n",
    "    credential=DefaultAzureCredential(),  # Use Azure Default Credential for authentication\n",
    ")"
   ]
  },
  {
   "cell_type": "markdown",
   "id": "ecdd6ed3",
   "metadata": {},
   "source": [
    "## Run Agent Helper Function\n"
   ]
  },
  {
   "cell_type": "code",
   "execution_count": 5,
   "id": "f429fcc5",
   "metadata": {},
   "outputs": [],
   "source": [
    "def run_agent(user_input, thread_id, agent_id):\n",
    "    # Add a message to the thread\n",
    "    message = project_client.agents.messages.create(\n",
    "        thread_id=thread_id,  # ID of the thread to which the message belongs\n",
    "        role=\"user\",  # Role of the message sender\n",
    "        content=user_input,  # Message content\n",
    "    )\n",
    "    print(f\"Created message, ID: {message['id']}\")\n",
    "\n",
    "     # Create and process agent run in thread with tools\n",
    "    run = project_client.agents.runs.create_and_process(thread_id=thread_id, agent_id=agent_id)\n",
    "    print(f\"Run finished with status: {run.status}\")\n",
    "\n",
    "    # Check the status of the run and print the result\n",
    "    if run.status == \"failed\":\n",
    "        print(f\"Run failed: {run.last_error}\")\n",
    "    elif run.status == \"completed\":\n",
    "        last_msg = project_client.agents.messages.get_last_message_text_by_role(thread_id=thread_id, role=MessageRole.AGENT)\n",
    "        if last_msg:\n",
    "            print(f\"Agent Response: {last_msg.text.value}\")"
   ]
  },
  {
   "cell_type": "markdown",
   "id": "9f9e5924",
   "metadata": {},
   "source": [
    "## Create Weather Agent"
   ]
  },
  {
   "cell_type": "code",
   "execution_count": null,
   "id": "09a737c2",
   "metadata": {},
   "outputs": [
    {
     "name": "stdout",
     "output_type": "stream",
     "text": [
      "Bing Search Connection ID: /subscriptions/73047bc3-f020-4930-b16d-fe5c9dd3c73e/resourceGroups/agent_challenge_resource_group/providers/Microsoft.CognitiveServices/accounts/foundrygo2u/projects/agent_challenge_projectgo2u/connections/bingresource\n",
      "Created agent, ID: asst_0NHYVkCkHZsP66inhvkiqehu\n",
      "Created thread, ID: thread_UVBLFp328zH3U0KGolsYVtaz\n"
     ]
    }
   ],
   "source": [
    "# Enter Bing connection names here\n",
    "bing_search = \"bingresource\"  # Replace with your Bing connection name\n",
    "\n",
    "# Extract the connection list.\n",
    "conn_list = project_client.connections.list()\n",
    "bing_search_conn_id = \"\"\n",
    "\n",
    "# Find the connection IDs for Bing Search and Bing Custom Search\n",
    "for conn in conn_list:\n",
    "    if conn.name == bing_search:\n",
    "        bing_search_conn_id = conn.id\n",
    "\n",
    "# Print the connection names\n",
    "print(f\"Bing Search Connection ID: {bing_search_conn_id}\")\n",
    "\n",
    "# Initialize the Bing Grounding tools\n",
    "bing_search = BingGroundingTool(connection_id=bing_search_conn_id)\n",
    "\n",
    "# Create an agent with the Bing Grounding tool\n",
    "agent = project_client.agents.create_agent(\n",
    "    model=os.environ[\"MODEL_DEPLOYMENT_NAME\"],  # Model deployment name\n",
    "    name=\"weather-agent\",  # Name of the agent\n",
    "    instructions=\"You are a helpful agent that provides weather information\",  # Instructions for the agent\n",
    "    tools=bing_search.definitions  # Attach the Bing Grounding tool\n",
    ")\n",
    "\n",
    "print(f\"Created agent, ID: {agent.id}\")\n",
    "\n",
    "# Create a thread for communication\n",
    "thread = project_client.agents.threads.create()\n",
    "print(f\"Created thread, ID: {thread.id}\")\n",
    "\n",
    "# Example user input for the agent\n",
    "user_input = \"What is the weather in Paris?\"  # Example user input\n",
    "run_agent(user_input, thread_id=thread.id, agent_id=agent.id)  # Run the agent with the user input\n"
   ]
  },
  {
   "cell_type": "markdown",
   "id": "d6707079",
   "metadata": {},
   "source": [
    "## Create Itinerary Agent"
   ]
  },
  {
   "cell_type": "code",
   "execution_count": 14,
   "id": "ae8bd4ea",
   "metadata": {},
   "outputs": [
    {
     "name": "stdout",
     "output_type": "stream",
     "text": [
      "Created agent, ID: asst_hxizwraO7QEbWOGOYh9wicYS\n",
      "Created thread, ID: thread_sE6OFlCCAFwuKomqb6pRlMbM\n",
      "Created message, ID: msg_qaVOjDXCElEyrM0MXAuQxo9X\n",
      "Run finished with status: completed\n",
      "Agent Response: Sure! Given the weather conditions in Paris today, it's best to plan indoor activities to stay dry and safe. Here's an itinerary designed to make the most of your day despite the rain:\n",
      "\n",
      "### Morning:\n",
      "\n",
      "**9:00 AM - 10:30 AM: Breakfast at a Parisian Café**\n",
      "- Start your day with a classic French breakfast. Head to a nearby café, such as Café de Flore or Les Deux Magots, and enjoy coffee, croissants, and maybe some fresh fruit.\n",
      "\n",
      "**10:30 AM - 12:30 PM: Visit the Louvre Museum**\n",
      "- Spend the morning exploring one of the world's largest and most famous museums. You can admire masterpieces such as the Mona Lisa, the Venus de Milo, and many other incredible pieces of art.\n",
      "\n",
      "### Afternoon:\n",
      "\n",
      "**12:30 PM - 2:00 PM: Lunch at a Traditional French Restaurant**\n",
      "- After the museum, head to a traditional French restaurant for lunch. Consider Le Comptoir du Relais or Le Petit Zinc for a warm meal and a bit of relaxation.\n",
      "\n",
      "**2:00 PM - 4:00 PM: Explore Musée d'Orsay**\n",
      "- Next, visit the Musée d'Orsay, which houses an extensive collection of impressionist and post-impressionist masterpieces. It's a short distance from the Louvre, making it a convenient next stop.\n",
      "\n",
      "### Late Afternoon:\n",
      "\n",
      "**4:00 PM - 5:00 PM: Coffee Break at a Cozy Café**\n",
      "- Take a break and enjoy a hot drink at a cozy café. Try a classic like Café Angelina, famous for its hot chocolate and pastries.\n",
      "\n",
      "**5:00 PM - 6:30 PM: Visit Sainte-Chapelle**\n",
      "- Head over to Sainte-Chapelle, a Gothic-style royal chapel known for its stunning stained glass windows. It’s a beautiful place to visit, regardless of the weather outside.\n",
      "\n",
      "### Evening:\n",
      "\n",
      "**6:30 PM - 8:00 PM: Dinner at a Fine Dining Restaurant**\n",
      "- For dinner, choose a highly-rated fine dining restaurant. Consider Le Jules Verne in the Eiffel Tower for an unforgettable dining experience with a view (reservation recommended).\n",
      "\n",
      "**8:00 PM - 10:00 PM: Attend a Show or Musical Performance**\n",
      "- End your day with a cultural evening. Check out performances at famous venues like the Opéra Garnier or Le Moulin Rouge for a spectacular evening show.\n",
      "\n",
      "Make sure to bring an umbrella and wear waterproof clothing, just in case you need to walk between venues. Enjoy your day in Paris!\n"
     ]
    }
   ],
   "source": [
    "# Create an agent with the Bing Grounding tool\n",
    "agent = project_client.agents.create_agent(\n",
    "    model=os.environ[\"MODEL_DEPLOYMENT_NAME\"],  # Model deployment name\n",
    "    name=\"itinerary-agent\",  # Name of the agent\n",
    "    instructions=\"You are a helpful agent that creates an itinerary given the cities' weather information.\",  # Instructions for the agent\n",
    ")\n",
    "\n",
    "print(f\"Created agent, ID: {agent.id}\")\n",
    "\n",
    "# Create a thread for communication\n",
    "thread = project_client.agents.threads.create()\n",
    "print(f\"Created thread, ID: {thread.id}\")\n",
    "\n",
    "user_input = \"\"\"Create an itinerary for Paris given this weather information:\n",
    "Currently, in Paris, it is partly cloudy with a temperature of 68°F (20°C). \n",
    "The forecast for later today predicts heavy downpours and frequent lightning with afternoon thundershowers. \n",
    "The high temperature will reach 69°F (21°C), with a 100% chance of rain\n",
    "\"\"\"  # Example user input\n",
    "\n",
    "run_agent(user_input, thread_id=thread.id, agent_id=agent.id)  # Run the agent with the user input"
   ]
  },
  {
   "cell_type": "markdown",
   "id": "9fad9c77",
   "metadata": {},
   "source": [
    "## Travel Product Agent"
   ]
  },
  {
   "cell_type": "code",
   "execution_count": 6,
   "id": "446c7667",
   "metadata": {},
   "outputs": [
    {
     "name": "stdout",
     "output_type": "stream",
     "text": [
      "['SafeJourney Travel Insurance.docx', 'UrbanTech Laptop Messenger Bag.docx', 'Urban Explorer Daypack.docx', 'Adventure Seeker Sling.docx', 'JetSet Travel Pillow.docx', 'TravelBuddy Digital Luggage Scale.docx', 'TravelConnect WiFi Plan.docx', 'WanderSafe Travel Lock.docx', 'Nomad Traveler Suitcase.docx', 'TechGuard Laptop Bag.docx', 'Metro Commuter Crossbody Bag.docx', 'UrbanTraveler Laptop Backpack.docx', 'Voyager Pro Luggage.docx', 'Executive Pro Laptop Briefcase.docx', 'TravelEase Packing Cubes Set.docx', 'TravelSmart Universal Adapter.docx', 'Globetrotter Elite Suitcase.docx', 'AdventurePro Hiking Backpack.docx']\n",
      "Uploaded file, file ID: assistant-PF7xdDC2gpak8VvUHS99RB\n",
      "Uploaded file, file ID: assistant-Qnb8giTLVdfYCSCEJnL2sF\n",
      "Uploaded file, file ID: assistant-Rh69zNT3VSVPJ4zxyDkwFL\n",
      "Uploaded file, file ID: assistant-JBsknJ2zRhUL5bMVyU3Pfz\n",
      "Uploaded file, file ID: assistant-5Q5WCkdNjbfmaGd69Hjrs6\n",
      "Uploaded file, file ID: assistant-J2JmQbyPCV5DtkJWftEQA8\n",
      "Uploaded file, file ID: assistant-ExgtFsws6MeXrWhJKbNWrX\n",
      "Uploaded file, file ID: assistant-C5thwMcXyQCgSjKS1qyjBg\n",
      "Uploaded file, file ID: assistant-PdH7DxGtLxUnFzAkRdrMr9\n",
      "Uploaded file, file ID: assistant-B9f792CBvFcrpxdkpCDP2g\n",
      "Uploaded file, file ID: assistant-GPa5vUjNWApNAST5hdTKv9\n",
      "Uploaded file, file ID: assistant-Y8GzPXHykYVy8Fi1dZ9jH7\n",
      "Uploaded file, file ID: assistant-1X2bp3hHLKkARUfUipapT6\n",
      "Uploaded file, file ID: assistant-JGhw6PBr7v9eH7bWPVLBgq\n",
      "Uploaded file, file ID: assistant-XiXz7obCfM3W93RPp2vmH9\n",
      "Uploaded file, file ID: assistant-2QT5g5TGQTFd9BhFoc3ChG\n",
      "Uploaded file, file ID: assistant-XxBf9T3CTTuP5eb2ku9iEi\n",
      "Uploaded file, file ID: assistant-WTPdMTLAZF3hTFDLZU6Pie\n",
      "Created vector store, vector store ID: vs_DfA0AFlZPVVkarla22xfEsI4\n",
      "Created agent, ID: asst_OgzIT5V3gjmYHicCUdWZpboK\n",
      "Created thread, ID: thread_vaKE8yDINMDmHT0z4OKbQC7Z\n",
      "Created message, ID: msg_14N1xmLfjadYfp905dyKV8n1\n",
      "Run finished with status: completed\n",
      "Agent Response: The UrbanTraveler Laptop Backpack offers several features designed for convenience and security, making it ideal for daily commuting and travel:\n",
      "\n",
      "1. **Durable Material:** Made from high-quality polyester for durability and water resistance.\n",
      "2. **Laptop Compartment:** Dedicated padded compartment for laptops up to 17 inches.\n",
      "3. **Multiple Compartments:** Includes a main compartment, front pocket, side pockets, and an organizer panel for small items.\n",
      "4. **USB Charging Port:** Built-in USB charging port for convenient device charging on the go.\n",
      "5. **Anti-Theft Features:** Hidden zippers and RFID-blocking pocket for added security.\n",
      "6. **Adjustable Straps:** Adjustable shoulder straps and chest strap for a comfortable fit.\n",
      "7. **Ventilated Back Panel:** Mesh back panel for improved airflow and comfort.\n",
      "8. **Luggage Strap:** Back luggage strap for easy attachment to luggage handles.\n",
      "9. **Capacity and Dimensions:** 30 liters capacity, with dimensions of 19 inches x 13 inches x 7 inches (Length x Width x Height).\n",
      "10. **Color Options:** Available in Black, Grey, and Navy Blue.\n",
      "11. **Warranty:** Includes a 2-year limited warranty【4†source】【4:1†source】【4:2†source】【4:4†source】【4:16†source】【4:18†source】.\n"
     ]
    }
   ],
   "source": [
    "file_directory = \"../data/travelproducts\"  # Directory containing files to upload\n",
    "\n",
    "# List all files in the directory\n",
    "try:\n",
    "    filenames = os.listdir(file_directory)\n",
    "    print(filenames)\n",
    "except FileNotFoundError:\n",
    "    print(f\"Directory '{file_directory}' not found.\")\n",
    "\n",
    "# Get the full path of a file\n",
    "def get_filepath_for_filename(filename: str) -> str:\n",
    "    base_directory = file_directory\n",
    "    return os.path.join(base_directory, filename)\n",
    "\n",
    "# Upload files to the project client\n",
    "file_ids: list[str] = []\n",
    "for path in [get_filepath_for_filename(filename) for filename in filenames]:\n",
    "    with open(path, \"rb\") as file:\n",
    "        file = project_client.agents.files.upload_and_poll(file_path=path, purpose=FilePurpose.AGENTS)\n",
    "        print(f\"Uploaded file, file ID: {file.id}\")\n",
    "        file_ids.append(file.id)\n",
    "\n",
    "# Create a vector store with the uploaded files\n",
    "vector_store = project_client.agents.vector_stores.create_and_poll(file_ids=file_ids, name=\"travelproducts_vectorstore\")\n",
    "print(f\"Created vector store, vector store ID: {vector_store.id}\")\n",
    "\n",
    "# Create a file search tool\n",
    "file_search = FileSearchTool(vector_store_ids=[vector_store.id])\n",
    "\n",
    "# Create an agent with the file search tool\n",
    "agent = project_client.agents.create_agent(\n",
    "    model=os.environ[\"MODEL_DEPLOYMENT_NAME\"],  # Model deployment name\n",
    "    name=\"travelproducts-agent\",  # Name of the agent\n",
    "    instructions=\"You are a helpful agent and that will provide travel products information from uploaded files\",  # Instructions for the agent\n",
    "    tools=file_search.definitions,  # Tools available to the agent\n",
    "    tool_resources=file_search.resources,  # Resources for the tools\n",
    ")\n",
    "print(f\"Created agent, ID: {agent.id}\")\n",
    "\n",
    "# Create a thread for communication\n",
    "thread = project_client.agents.threads.create()\n",
    "print(f\"Created thread, ID: {thread.id}\")\n",
    "\n",
    "# Example user input for the agent\n",
    "user_input = \"What are the features of the UrbanTraveler?\"  # Example user input\n",
    "run_agent(user_input, thread_id=thread.id, agent_id=agent.id)  #"
   ]
  },
  {
   "cell_type": "markdown",
   "id": "ced4fcf2",
   "metadata": {},
   "source": [
    "## Restaurant Agent"
   ]
  },
  {
   "cell_type": "code",
   "execution_count": 13,
   "id": "e1917ec5",
   "metadata": {},
   "outputs": [
    {
     "name": "stdout",
     "output_type": "stream",
     "text": [
      "TripAdvisor Connection ID: /subscriptions/73047bc3-f020-4930-b16d-fe5c9dd3c73e/resourceGroups/agent_challenge_resource_group/providers/Microsoft.CognitiveServices/accounts/foundrygo2u/projects/agent_challenge_projectgo2u/connections/tripadvisor\n",
      "Created agent, ID: asst_wQLX9hQhObUbFnV1qKnECbpH\n",
      "Created thread, ID: thread_8LMueuGDUOIbi6XTvzjn5u4q\n",
      "Created message, ID: msg_XfnAdTrvoteGNKMSDSQIGg3r\n",
      "Run finished with status: completed\n",
      "Agent Response: Here are 3 reviews of Pizzeria Arrivederci in Paris:\n",
      "\n",
      "1. **Review Title:** Great pizza in Paris\n",
      "    - **Rating:** 5/5\n",
      "    - **Review:** \"Fantastic pizzas and brilliant atmosphere, we had a great evening. We have two young kids and it worked well for them too.\"\n",
      "    - **Reviewer:** clarefB7005CD\n",
      "    - **Trip Type:** Family\n",
      "    - **[Link to Review](https://www.tripadvisor.com/ShowUserReviews-g187147-d12714552-r1016682668-Reviews-Pizzeria_Arrivederci-Paris_Ile_de_France.html?m=66827#review1016682668)\n",
      "    - **Owner's Response:** \"Thank you very much for your positive feedback about your visit. I am very delighted to hear that you enjoyed our food and the service there. We do very much appreciate your recommendation and it would be our pleasure to welcome you once again to our Italian restaurant pizzeria. Arrivederci a presto.\"\n",
      "\n",
      "2. **Review Title:** Wauw..!\n",
      "    - **Rating:** 5/5\n",
      "    - **Review:** \"Food was a 10/10, service was so good!! Very nice people that make you feel very welcome. It’s not rushed which we liked a lot and it was just a really nice authentic experience :)\"\n",
      "    - **Reviewer:** EsterJelena from Amsterdam, North Holland Province\n",
      "    - **Trip Type:** Couples\n",
      "    - **[Link to Review](https://www.tripadvisor.com/ShowUserReviews-g187147-d12714552-r1016536196-Reviews-Pizzeria_Arrivederci-Paris_Ile_de_France.html?m=66827#review1016536196)\n",
      "    - **Owner's Response:** \"Thank you very much for your positive feedback about your visit. I am very delighted to hear that you enjoyed our food ( food was 10/10 ) and the service there. We do very much appreciate your recommendation and it would be our pleasure to welcome you once again to our Italian restaurant pizzeria. Arrivederci a presto.\"\n",
      "\n",
      "3. **Review Title:** Marvellous!\n",
      "    - **Rating:** 5/5\n",
      "    - **Review:** \"Marvellous starter, marvellous pizza, marvellous pudding and wine was 10/10. Service brilliant, location brilliant. Go!\"\n",
      "    - **Reviewer:** Fearless59340028123 from Shetland Islands, Scotland\n",
      "    - **Trip Type:** Couples\n",
      "    - **[Link to Review](https://www.tripadvisor.com/ShowUserReviews-g187147-d12714552-r1016535873-Reviews-Pizzeria_Arrivederci-Paris_Ile_de_France.html?m=66827#review1016535873)\n",
      "    - **Owner's Response:** \"Un grand merci pour votre avis positif sur votre visite. Je suis ravi d'apprendre que vous avez apprécié nos plats ( marvellous pizza ) et notre service. Votre recommandation nous fait chaud au cœur et nous nous ferons un plaisir de vous accueillir à nouveau dans notre restaurant pizzeria Italienne. Arrivederci a presto.\"\n",
      "\n",
      "Enjoy your visit to Pizzeria Arrivederci!\n"
     ]
    }
   ],
   "source": [
    "# Enter TripAdvisor connection names here\n",
    "tripadvisor = \"tripadvisor\"  # Replace with your TripAdvisor connection name\n",
    "\n",
    "# Load the OpenAPI specification from a JSON file\n",
    "with open('../data/tripadvisor/tripadvisor_openapi.json', 'r') as f:\n",
    "    openapi_spec = jsonref.loads(f.read())\n",
    "\n",
    "# Extract the connection list.\n",
    "conn_list = project_client.connections.list()\n",
    "tripadvisor_conn_id = \"\"\n",
    "\n",
    "# Find the connection IDs for TripAdvisor\n",
    "for conn in conn_list:\n",
    "    if conn.name == tripadvisor:\n",
    "        tripadvisor_conn_id = conn.id\n",
    "  \n",
    "# Print the connection names\n",
    "print(f\"TripAdvisor Connection ID: {tripadvisor_conn_id}\")\n",
    "\n",
    "# Create the OpenAPI tool\n",
    "auth = OpenApiConnectionAuthDetails(security_scheme=OpenApiConnectionSecurityScheme(connection_id=tripadvisor_conn_id))\n",
    "tripadvisor_tool = OpenApiTool(\n",
    "                    name=tripadvisor, \n",
    "                    spec=openapi_spec, \n",
    "                    description=\"get hotel and restaurant reviews of a location\", \n",
    "                    auth=auth\n",
    "                )\n",
    "\n",
    "# Create an agent with the file search tool\n",
    "agent = project_client.agents.create_agent(\n",
    "    model=os.environ[\"MODEL_DEPLOYMENT_NAME\"],  # Model deployment name\n",
    "    name=\"restaurant-agent\",  # Name of the agent\n",
    "    instructions=\"You are a helpful agent that provides restaurant recommendations and reviews using TripAdvisor\",  # Instructions for the agent\n",
    "    tools=tripadvisor_tool.definitions,  # Tools available to the agent\n",
    "    tool_resources=tripadvisor_tool.resources,  # Resources for the tools\n",
    ")\n",
    "print(f\"Created agent, ID: {agent.id}\")\n",
    "\n",
    "# Create a thread for communication\n",
    "thread = project_client.agents.threads.create()\n",
    "print(f\"Created thread, ID: {thread.id}\")\n",
    "\n",
    "# Example user input for the agent\n",
    "user_input = \"\"\"\n",
    "    Provide me 3 reviews of the Pizzeria Arrivederci in Paris.    \n",
    "\"\"\"  # Example user input\n",
    "run_agent(user_input, thread_id=thread.id, agent_id=agent.id)  "
   ]
  }
 ],
 "metadata": {
  "kernelspec": {
   "display_name": "Python 3",
   "language": "python",
   "name": "python3"
  },
  "language_info": {
   "codemirror_mode": {
    "name": "ipython",
    "version": 3
   },
   "file_extension": ".py",
   "mimetype": "text/x-python",
   "name": "python",
   "nbconvert_exporter": "python",
   "pygments_lexer": "ipython3",
   "version": "3.10.12"
  }
 },
 "nbformat": 4,
 "nbformat_minor": 5
}
