{
 "cells": [
  {
   "cell_type": "markdown",
   "id": "eb456d83",
   "metadata": {},
   "source": [
    "# Azure Logic App"
   ]
  },
  {
   "cell_type": "markdown",
   "id": "4e5c74de",
   "metadata": {},
   "source": [
    "## Install Packages"
   ]
  },
  {
   "cell_type": "code",
   "execution_count": null,
   "id": "4a1536b4",
   "metadata": {},
   "outputs": [],
   "source": [
    "%pip install azure-ai-projects==1.0.0b12\n",
    "%pip install azure-identity\n",
    "%pip install azure-ai-agents==1.1.0b3"
   ]
  },
  {
   "cell_type": "markdown",
   "id": "d8f6785b",
   "metadata": {},
   "source": [
    "## Import the libraries"
   ]
  },
  {
   "cell_type": "code",
   "execution_count": 3,
   "id": "857a9a83",
   "metadata": {},
   "outputs": [],
   "source": [
    "import os\n",
    "from typing import Set\n",
    "from azure.ai.projects import AIProjectClient\n",
    "from azure.identity import DefaultAzureCredential\n",
    "from utils.user_logic_apps import AzureLogicAppTool, create_get_weather_function\n",
    "from azure.ai.agents.models import ToolSet, FunctionTool, MessageRole"
   ]
  },
  {
   "cell_type": "markdown",
   "id": "59aabdeb",
   "metadata": {},
   "source": [
    "## Create the AI Project Client\n",
    "\n",
    "NOTE: \n",
    "- If you don't have Azure CLI, you first need to install it:\n",
    "   curl -sL https://aka.ms/InstallAzureCLIDeb | sudo bash\n",
    "- Login to Azure\n",
    "   az login\n",
    "\n"
   ]
  },
  {
   "cell_type": "code",
   "execution_count": 4,
   "id": "d2b1f8e5",
   "metadata": {},
   "outputs": [],
   "source": [
    "# Create an Azure AI Client from an endpoint, copied from your Azure AI Foundry project.\n",
    "# You need to login to Azure subscription via Azure CLI and set the environment variables\n",
    "project_endpoint = os.environ[\"PROJECT_ENDPOINT\"]  # Ensure the PROJECT_ENDPOINT environment variable is set\n",
    "\n",
    "# Create an AIProjectClient instance\n",
    "project_client = AIProjectClient(\n",
    "    endpoint=project_endpoint,\n",
    "    credential=DefaultAzureCredential(),  # Use Azure Default Credential for authentication\n",
    ")"
   ]
  },
  {
   "cell_type": "markdown",
   "id": "929f0da3",
   "metadata": {},
   "source": [
    "## Setup Logic App tool"
   ]
  },
  {
   "cell_type": "code",
   "execution_count": 5,
   "id": "68a030e7",
   "metadata": {},
   "outputs": [
    {
     "name": "stdout",
     "output_type": "stream",
     "text": [
      "Registered logic app 'logicapp' with trigger 'When_a_HTTP_request_is_received'.\n"
     ]
    }
   ],
   "source": [
    "# Extract subscription and resource group from the project scope\n",
    "subscription_id = os.environ[\"SUBSCRIPTION_ID\"]\n",
    "resource_group = os.environ[\"RESOURCE_GROUP_NAME\"]\n",
    "\n",
    "# Logic App details\n",
    "logic_app_name = \"logicapp\"\n",
    "trigger_name = \"When_a_HTTP_request_is_received\"\n",
    "\n",
    "# Create and initialize AzureLogicAppTool utility\n",
    "logic_app_tool = AzureLogicAppTool(subscription_id, resource_group)\n",
    "logic_app_tool.register_logic_app(logic_app_name, trigger_name)\n",
    "print(f\"Registered logic app '{logic_app_name}' with trigger '{trigger_name}'.\")\n",
    "\n",
    "# Create the specialized \"get_weather_logic_app\" function for your agent tools\n",
    "get_weather_func = create_get_weather_function(logic_app_tool, logic_app_name)\n",
    "\n",
    "# Prepare the function tools for the agent\n",
    "functions_to_use: Set = {\n",
    "    get_weather_func,  # This references the AzureLogicAppTool instance via closure\n",
    "}\n",
    "functions = FunctionTool(functions=functions_to_use)\n",
    "toolset = ToolSet()\n",
    "toolset.add(functions)\n",
    "\n",
    "project_client.agents.enable_auto_function_calls(toolset)"
   ]
  },
  {
   "cell_type": "markdown",
   "id": "82efcd58",
   "metadata": {},
   "source": [
    "## Create the agent"
   ]
  },
  {
   "cell_type": "code",
   "execution_count": 14,
   "id": "f3d34b3f",
   "metadata": {},
   "outputs": [
    {
     "name": "stdout",
     "output_type": "stream",
     "text": [
      "Created agent, ID: asst_q4gK5aiIwLVv0ineHc8FOUpJ\n"
     ]
    }
   ],
   "source": [
    "# Create an agent with the file search tool\n",
    "agent = project_client.agents.create_agent(\n",
    "    model=os.environ[\"MODEL_DEPLOYMENT_NAME\"],  # Model deployment name\n",
    "    name=\"my-azurelogicapp-agent\",  # Name of the agent\n",
    "    instructions=\"You are a helpful agent that gets the weather. Provide answers in tabular format.\",  # Instructions for the agent\n",
    "    toolset=toolset\n",
    ")\n",
    "print(f\"Created agent, ID: {agent.id}\")"
   ]
  },
  {
   "cell_type": "markdown",
   "id": "19b16fbd",
   "metadata": {},
   "source": [
    "## Create thread"
   ]
  },
  {
   "cell_type": "code",
   "execution_count": 15,
   "id": "9c822423",
   "metadata": {},
   "outputs": [
    {
     "name": "stdout",
     "output_type": "stream",
     "text": [
      "Created thread, ID: thread_AVWA3XKrXbSk3fLCNcVmhPub\n"
     ]
    }
   ],
   "source": [
    "# Create a thread for communication\n",
    "thread = project_client.agents.threads.create()\n",
    "print(f\"Created thread, ID: {thread.id}\")"
   ]
  },
  {
   "cell_type": "markdown",
   "id": "800c4642",
   "metadata": {},
   "source": [
    "## Helper function\n",
    "- adds messages to the thread\n",
    "- run the agent\n",
    "- display the agent response"
   ]
  },
  {
   "cell_type": "code",
   "execution_count": 12,
   "id": "d4a9459d",
   "metadata": {},
   "outputs": [],
   "source": [
    "def run_agent(user_input):\n",
    "    # Add a message to the thread\n",
    "    message = project_client.agents.messages.create(\n",
    "        thread_id=thread.id,\n",
    "        role=\"user\",  # Role of the message sender\n",
    "        content=user_input,  # Message content\n",
    "    )\n",
    "    print(f\"Created message, ID: {message['id']}\")\n",
    "\n",
    "     # Create and process agent run in thread with tools\n",
    "    run = project_client.agents.runs.create_and_process(thread_id=thread.id, agent_id=agent.id)\n",
    "    print(f\"Run finished with status: {run.status}\")\n",
    "\n",
    "    # Check the status of the run and print the result\n",
    "    if run.status == \"failed\":\n",
    "        print(f\"Run failed: {run.last_error}\")\n",
    "    elif run.status == \"completed\":\n",
    "        last_msg = project_client.agents.messages.get_last_message_text_by_role(thread_id=thread.id, role=MessageRole.AGENT)\n",
    "        if last_msg:\n",
    "            print(f\"Agent Response: {last_msg.text.value}\")"
   ]
  },
  {
   "cell_type": "markdown",
   "id": "b4ac8445",
   "metadata": {},
   "source": [
    "## Run the agent"
   ]
  },
  {
   "cell_type": "code",
   "execution_count": 16,
   "id": "42acc584",
   "metadata": {},
   "outputs": [
    {
     "name": "stdout",
     "output_type": "stream",
     "text": [
      "Created message, ID: msg_5RxFMzGzJiGbA8nhD9dk4G5z\n",
      "Run finished with status: completed\n",
      "Agent Response: Here is the weather information for London:\n",
      "\n",
      "| Weather Element       | Value                      |\n",
      "|-----------------------|----------------------------|\n",
      "| Condition             | Partly sunny               |\n",
      "| Temperature           | 18.0°C                     |\n",
      "| Feels Like            | 22.0°C                     |\n",
      "| Dew Point             | 9.0°C                      |\n",
      "| Humidity              | 58%                        |\n",
      "| Barometric Pressure   | 1029.0 hPa                 |\n",
      "| Visibility            | 10 km                      |\n",
      "| Wind Direction        | 220°                       |\n",
      "| Wind Speed            | 8.0 km/h                   |\n",
      "| Wind Gust             | 14.0 km/h                  |\n",
      "| UV Index              | 0.0 (Low)                  |\n",
      "| Air Quality Index     | 34 (Good air quality)      |\n",
      "| Primary Pollutant     | O₃ (0.0 ppb)               |\n",
      "| Cloud Cover           | 59%                        |\n",
      "\n",
      "![Weather Icon](http://img-s-msn-com.akamaized.net/tenant/amp/entityid/AAehLNN.img)\n"
     ]
    }
   ],
   "source": [
    "user_input = \"What is the weather in London?\"\n",
    "run_agent(user_input)"
   ]
  },
  {
   "cell_type": "code",
   "execution_count": 17,
   "id": "833c980e",
   "metadata": {},
   "outputs": [
    {
     "name": "stdout",
     "output_type": "stream",
     "text": [
      "Created message, ID: msg_43SnhCi6txThfti1110f8Qyu\n",
      "Run finished with status: completed\n",
      "Agent Response: Here is the weather information for Chicago:\n",
      "\n",
      "| Weather Element       | Value                            |\n",
      "|-----------------------|----------------------------------|\n",
      "| Condition             | Mostly clear                     |\n",
      "| Temperature           | 23.0°C                           |\n",
      "| Feels Like            | 23.0°C                           |\n",
      "| Dew Point             | 20.0°C                           |\n",
      "| Humidity              | 83%                              |\n",
      "| Barometric Pressure   | 1015.0 hPa                       |\n",
      "| Visibility            | 16 km                            |\n",
      "| Wind Direction        | 217°                             |\n",
      "| Wind Speed            | 7.0 km/h                         |\n",
      "| Wind Gust             | 10.0 km/h                        |\n",
      "| UV Index              | 0.0 (Low)                        |\n",
      "| Air Quality Index     | 87 (Moderate air quality)        |\n",
      "| Primary Pollutant     | O₃ (0.0 ppb)                     |\n",
      "| Cloud Cover           | 24%                              |\n",
      "\n",
      "![Weather Icon](http://img-s-msn-com.akamaized.net/tenant/amp/entityid/AAehwh2.img)\n"
     ]
    }
   ],
   "source": [
    "user_input = \"What is the weather in Chicago?\"\n",
    "run_agent(user_input)"
   ]
  },
  {
   "cell_type": "markdown",
   "id": "5ba46347",
   "metadata": {},
   "source": [
    "## Cleanup resources"
   ]
  },
  {
   "cell_type": "code",
   "execution_count": null,
   "id": "2d50c8b9",
   "metadata": {},
   "outputs": [
    {
     "name": "stdout",
     "output_type": "stream",
     "text": [
      "Deleted agent\n"
     ]
    }
   ],
   "source": [
    "# Cleanup resources\n",
    "\n",
    "# Delete the agent after use\n",
    "project_client.agents.delete_agent(agent.id)\n",
    "print(\"Deleted agent\")"
   ]
  }
 ],
 "metadata": {
  "kernelspec": {
   "display_name": "Python 3",
   "language": "python",
   "name": "python3"
  },
  "language_info": {
   "codemirror_mode": {
    "name": "ipython",
    "version": 3
   },
   "file_extension": ".py",
   "mimetype": "text/x-python",
   "name": "python",
   "nbconvert_exporter": "python",
   "pygments_lexer": "ipython3",
   "version": "3.10.12"
  }
 },
 "nbformat": 4,
 "nbformat_minor": 5
}
