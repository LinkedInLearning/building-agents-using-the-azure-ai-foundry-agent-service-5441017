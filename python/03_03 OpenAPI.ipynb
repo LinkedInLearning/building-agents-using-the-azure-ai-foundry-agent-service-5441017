{
 "cells": [
  {
   "cell_type": "markdown",
   "id": "eb456d83",
   "metadata": {},
   "source": [
    "# OpenAPI"
   ]
  },
  {
   "cell_type": "markdown",
   "id": "4e5c74de",
   "metadata": {},
   "source": [
    "## Install Packages"
   ]
  },
  {
   "cell_type": "code",
   "execution_count": null,
   "id": "4a1536b4",
   "metadata": {},
   "outputs": [],
   "source": [
    "%pip install azure-ai-projects==1.0.0b12\n",
    "%pip install azure-identity\n",
    "%pip install azure-ai-agents==1.1.0b3"
   ]
  },
  {
   "cell_type": "code",
   "execution_count": 1,
   "id": "1351ab71",
   "metadata": {},
   "outputs": [
    {
     "name": "stdout",
     "output_type": "stream",
     "text": [
      "Defaulting to user installation because normal site-packages is not writeable\n",
      "Requirement already satisfied: jsonref in /home/vscode/.local/lib/python3.10/site-packages (1.1.0)\n",
      "Note: you may need to restart the kernel to use updated packages.\n"
     ]
    }
   ],
   "source": [
    "%pip install jsonref"
   ]
  },
  {
   "cell_type": "markdown",
   "id": "d8f6785b",
   "metadata": {},
   "source": [
    "## Import the libraries"
   ]
  },
  {
   "cell_type": "code",
   "execution_count": 2,
   "id": "857a9a83",
   "metadata": {},
   "outputs": [],
   "source": [
    "import os\n",
    "import jsonref\n",
    "from azure.ai.projects import AIProjectClient\n",
    "from azure.identity import DefaultAzureCredential\n",
    "from azure.ai.agents.models import OpenApiTool, OpenApiConnectionAuthDetails, OpenApiConnectionSecurityScheme, MessageRole"
   ]
  },
  {
   "cell_type": "markdown",
   "id": "59aabdeb",
   "metadata": {},
   "source": [
    "## Create the AI Project Client\n",
    "\n",
    "NOTE: \n",
    "- If you don't have Azure CLI, you first need to install it:\n",
    "   curl -sL https://aka.ms/InstallAzureCLIDeb | sudo bash\n",
    "- Login to Azure\n",
    "   az login\n",
    "\n"
   ]
  },
  {
   "cell_type": "code",
   "execution_count": 3,
   "id": "d2b1f8e5",
   "metadata": {},
   "outputs": [],
   "source": [
    "# Create an Azure AI Client from an endpoint, copied from your Azure AI Foundry project.\n",
    "# You need to login to Azure subscription via Azure CLI and set the environment variables\n",
    "project_endpoint = os.environ[\"PROJECT_ENDPOINT\"]  # Ensure the PROJECT_ENDPOINT environment variable is set\n",
    "\n",
    "# Create an AIProjectClient instance\n",
    "project_client = AIProjectClient(\n",
    "    endpoint=project_endpoint,\n",
    "    credential=DefaultAzureCredential(),  # Use Azure Default Credential for authentication\n",
    ")"
   ]
  },
  {
   "cell_type": "markdown",
   "id": "929f0da3",
   "metadata": {},
   "source": [
    "## Setup the OpenAPI Tool"
   ]
  },
  {
   "cell_type": "code",
   "execution_count": 4,
   "id": "68a030e7",
   "metadata": {},
   "outputs": [
    {
     "name": "stdout",
     "output_type": "stream",
     "text": [
      "TripAdvisor Connection ID: /subscriptions/73047bc3-f020-4930-b16d-fe5c9dd3c73e/resourceGroups/AzureStandardAgent/providers/Microsoft.CognitiveServices/accounts/foundykx3l/projects/projectkx3l/connections/tripadvisor\n"
     ]
    }
   ],
   "source": [
    "# Enter TripAdvisor connection names here\n",
    "tripadvisor = \"tripadvisor\"  # Replace with your TripAdvisor connection name\n",
    "\n",
    "# Load the OpenAPI specification from a JSON file\n",
    "with open('../data/tripadvisor/tripadvisor_openapi.json', 'r') as f:\n",
    "    openapi_spec = jsonref.loads(f.read())\n",
    "\n",
    "# Extract the connection list.\n",
    "conn_list = project_client.connections.list()\n",
    "tripadvisor_conn_id = \"\"\n",
    "\n",
    "# Find the connection IDs for TripAdvisor\n",
    "for conn in conn_list:\n",
    "    if conn.name == tripadvisor:\n",
    "        tripadvisor_conn_id = conn.id\n",
    "  \n",
    "# Print the connection names\n",
    "print(f\"TripAdvisor Connection ID: {tripadvisor_conn_id}\")\n",
    "\n",
    "# Create the OpenAPI tool\n",
    "auth = OpenApiConnectionAuthDetails(security_scheme=OpenApiConnectionSecurityScheme(connection_id=tripadvisor_conn_id))\n",
    "tripadvisor_tool = OpenApiTool(\n",
    "                    name=tripadvisor, \n",
    "                    spec=openapi_spec, \n",
    "                    description=\"get hotel and restaurant reviews of a location\", \n",
    "                    auth=auth\n",
    "                )"
   ]
  },
  {
   "cell_type": "markdown",
   "id": "82efcd58",
   "metadata": {},
   "source": [
    "## Create the agent"
   ]
  },
  {
   "cell_type": "code",
   "execution_count": 5,
   "id": "f3d34b3f",
   "metadata": {},
   "outputs": [
    {
     "name": "stdout",
     "output_type": "stream",
     "text": [
      "Created agent, ID: asst_t0WwkDxbu2HmaseRapbNZPXV\n"
     ]
    }
   ],
   "source": [
    "# Create an agent with the file search tool\n",
    "agent = project_client.agents.create_agent(\n",
    "    model=os.environ[\"MODEL_DEPLOYMENT_NAME\"],  # Model deployment name\n",
    "    name=\"my-tripadvisor-agent\",  # Name of the agent\n",
    "    instructions=\"You are a helpful agent that can search TripAdvisor for hotel and restaurant reviews\",  # Instructions for the agent\n",
    "    tools=tripadvisor_tool.definitions,  # Tools available to the agent\n",
    "    tool_resources=tripadvisor_tool.resources,  # Resources for the tools\n",
    ")\n",
    "print(f\"Created agent, ID: {agent.id}\")"
   ]
  },
  {
   "cell_type": "markdown",
   "id": "19b16fbd",
   "metadata": {},
   "source": [
    "## Create thread"
   ]
  },
  {
   "cell_type": "code",
   "execution_count": 6,
   "id": "9c822423",
   "metadata": {},
   "outputs": [
    {
     "name": "stdout",
     "output_type": "stream",
     "text": [
      "Created thread, ID: thread_Ui4DPRaqUz3hzPz3QNQICESf\n"
     ]
    }
   ],
   "source": [
    "# Create a thread for communication\n",
    "thread = project_client.agents.threads.create()\n",
    "print(f\"Created thread, ID: {thread.id}\")"
   ]
  },
  {
   "cell_type": "markdown",
   "id": "800c4642",
   "metadata": {},
   "source": [
    "## Helper function\n",
    "- adds messages to the thread\n",
    "- run the agent\n",
    "- display the agent response"
   ]
  },
  {
   "cell_type": "code",
   "execution_count": 7,
   "id": "d4a9459d",
   "metadata": {},
   "outputs": [],
   "source": [
    "def run_agent(user_input):\n",
    "    # Add a message to the thread\n",
    "    message = project_client.agents.messages.create(\n",
    "        thread_id=thread.id,\n",
    "        role=\"user\",  # Role of the message sender\n",
    "        content=user_input,  # Message content\n",
    "    )\n",
    "    print(f\"Created message, ID: {message['id']}\")\n",
    "\n",
    "     # Create and process agent run in thread with tools\n",
    "    run = project_client.agents.runs.create_and_process(thread_id=thread.id, agent_id=agent.id)\n",
    "    print(f\"Run finished with status: {run.status}\")\n",
    "\n",
    "    # Check the status of the run and print the result\n",
    "    if run.status == \"failed\":\n",
    "        print(f\"Run failed: {run.last_error}\")\n",
    "    elif run.status == \"completed\":\n",
    "        last_msg = project_client.agents.messages.get_last_message_text_by_role(thread_id=thread.id, role=MessageRole.AGENT)\n",
    "        if last_msg:\n",
    "            print(f\"Agent Response: {last_msg.text.value}\")"
   ]
  },
  {
   "cell_type": "code",
   "execution_count": 8,
   "id": "bab1d6ef",
   "metadata": {},
   "outputs": [],
   "source": [
    "def run_agent_details(user_input):\n",
    "    # Add a message to the thread\n",
    "    message = project_client.agents.messages.create(\n",
    "        thread_id=thread.id,\n",
    "        role=\"user\",  # Role of the message sender\n",
    "        content=user_input,  # Message content\n",
    "    )\n",
    "    print(f\"Created message, ID: {message['id']}\")\n",
    "\n",
    "     # Create and process agent run in thread with tools\n",
    "    run = project_client.agents.runs.create_and_process(thread_id=thread.id, agent_id=agent.id)\n",
    "    print(f\"Run finished with status: {run.status}\")\n",
    "\n",
    "    # Fetch run steps to get the details of the agent run\n",
    "    run_steps = project_client.agents.run_steps.list(thread_id=thread.id, run_id=run.id)\n",
    "\n",
    "    # Loop through each step\n",
    "    for step in run_steps:\n",
    "        print(f\"Step {step['id']} status: {step['status']}\")\n",
    "\n",
    "        # Check if there are tool calls in the step details\n",
    "        step_details = step.get(\"step_details\", {})\n",
    "        tool_calls = step_details.get(\"tool_calls\", [])\n",
    "\n",
    "        if tool_calls:\n",
    "            print(\"  Tool calls:\")\n",
    "            for call in tool_calls:\n",
    "                print(f\"    Tool Call ID: {call.get('id')}\")\n",
    "                print(f\"    Type: {call.get('type')}\")\n",
    "\n",
    "                function_details = call.get(\"function\", {})\n",
    "                if function_details:\n",
    "                    print(f\"    Function name: {function_details.get('name')}\")\n",
    "        print()  # add an extra newline between steps\n",
    "\n",
    "    # Check the status of the run and print the result\n",
    "    if run.status == \"failed\":\n",
    "        print(f\"Run failed: {run.last_error}\")\n",
    "    elif run.status == \"completed\":\n",
    "        last_msg = project_client.agents.messages.get_last_message_text_by_role(thread_id=thread.id, role=MessageRole.AGENT)\n",
    "        if last_msg:\n",
    "            print(f\"Agent Response: {last_msg.text.value}\")"
   ]
  },
  {
   "cell_type": "markdown",
   "id": "b4ac8445",
   "metadata": {},
   "source": [
    "## Run the agent"
   ]
  },
  {
   "cell_type": "code",
   "execution_count": 9,
   "id": "4e21d4b1",
   "metadata": {},
   "outputs": [
    {
     "name": "stdout",
     "output_type": "stream",
     "text": [
      "Created message, ID: msg_alxVOXAD1R7Htjt3ItRRh09n\n",
      "Run finished with status: completed\n",
      "Step step_RGjOLWEbSbDQa6Uj1FhmoSfu status: completed\n",
      "\n",
      "Step step_X6y2zCbf3SJqxJflEmrAy8UG status: completed\n",
      "  Tool calls:\n",
      "    Tool Call ID: call_40pPBemo5p5eyYTt3DvSQFLZ\n",
      "    Type: openapi\n",
      "    Function name: tripadvisor_searchForLocations\n",
      "\n",
      "Agent Response: Here are some restaurant recommendations in New York City from TripAdvisor:\n",
      "\n",
      "1. **New York Luncheonette**\n",
      "   - Address: 135 E 50th St, Suite 1, Randolph House, New York City, NY 10022-7504, United States\n",
      "\n",
      "2. **Zuma New York**\n",
      "   - Address: 261 Madison Avenue, Between 38th and 39th street, New York City, NY 10016, United States\n",
      "\n",
      "3. **Nusr-Et Steakhouse New York**\n",
      "   - Address: 60 W 53rd St, Ground Level, New York City, NY 10019-6106, United States\n",
      "\n",
      "Feel free to let me know if you need more information or further recommendations!\n"
     ]
    }
   ],
   "source": [
    "user_input = \"\"\"\n",
    "  What restaurants can you recommend in New York from TripAdvisor? \n",
    "\"\"\"\n",
    "run_agent_details(user_input)"
   ]
  },
  {
   "cell_type": "code",
   "execution_count": 10,
   "id": "42acc584",
   "metadata": {},
   "outputs": [
    {
     "name": "stdout",
     "output_type": "stream",
     "text": [
      "Created message, ID: msg_k3OdnCEhDkTo09g3h2n80YDV\n",
      "Run finished with status: completed\n",
      "Agent Response: Here are 5 reviews for Katz’s Delicatessen in New York:\n",
      "\n",
      "1. **Review by: pinceme_iam_dreaming from Bentonville, Arkansas**\n",
      "   - Rating: 3/5\n",
      "   - Title: \"The sandwich was huge came and with pickles. It was $28.95+ tax (affordable) It just wasn't that tasty. it was fun 🙂\"\n",
      "   - Review: \"We had to try world famous Katz' pastrami sandwich. It was busy but not packed, we found a table no problem. Door staff were unfriendly but not mean or rude. The sandwich-making guy was great and gave us a sample of other meats. Overall a good experience at a famous place; however, we've had much better pastrami at a lot of other places. We've been there and no real reason to go back.\"\n",
      "   - [Link to review](https://www.tripadvisor.com/ShowUserReviews-g60763-d425787-r1016658275-Reviews-Katz_s_Deli-New_York_City_New_York.html?m=66827#review1016658275)\n",
      "\n",
      "2. **Review by: U2016SZmarcoss from San Juan, Puerto Rico**\n",
      "   - Rating: 2/5\n",
      "   - Title: \"OVERPRICED Sandwiches\"\n",
      "   - Review: \"The sandwich portion is for two but is OVERPRICED. For one pastrami sandwich, one side of French fries, and two bottles of water ($52 USD). The taste of the pastrami is nothing out of this world. This cafeteria is ONLY name. The payment system is obsolete. They give you one ticket per person, and at the end you have to hand it in. If you lose it, you have to pay $50 USD. The place looks old and dirty. Dirty restroom. Definitively, we won’t EVER come back. Don't lose your money; go to another bakery, Denny's or other place.\"\n",
      "   - [Link to review](https://www.tripadvisor.com/ShowUserReviews-g60763-d425787-r1015644774-Reviews-Katz_s_Deli-New_York_City_New_York.html?m=66827#review1015644774)\n",
      "\n",
      "3. **Review by: jeremyaE4249LK**\n",
      "   - Rating: 1/5\n",
      "   - Title: \"Never coming back. Bad customer service.\"\n",
      "   - Review: \"This guy made going to Katz the worst experience ever. Treated us like sh*t since we said Hi and literally didn’t let us order what we wanted. The worst part is that I’m sure he muttered some curse words under his breath as we were leaving. Sadly, the food is really good, but we won’t EVER come back.\"\n",
      "   - [Link to review](https://www.tripadvisor.com/ShowUserReviews-g60763-d425787-r1015313275-Reviews-Katz_s_Deli-New_York_City_New_York.html?m=66827#review1015313275)\n",
      "\n",
      "4. **Review by: garymB909MB from Leighton Buzzard, Bedfordshire, England**\n",
      "   - Rating: 5/5\n",
      "   - Title: \"That's what I call a sandwich!!\"\n",
      "   - Review: \"This is undoubtedly a mad place to eat. Very hustle and bustle. Long queues to get in and then get served. Once you get a table the food is incredible. They do not cheap out on the meat in here, it is a monster of a sandwich and so tasty. We loved the whole experience.\"\n",
      "   - [Link to review](https://www.tripadvisor.com/ShowUserReviews-g60763-d425787-r1014903926-Reviews-Katz_s_Deli-New_York_City_New_York.html?m=66827#review1014903926)\n",
      "\n",
      "5. **Review by: mary from UK**\n",
      "   - Rating: 1/5\n",
      "   - Title: \"Rude and Abusive\"\n",
      "   - Review: \"Worst experience ever. Staff were extremely rude and treated us with disrespect. The food was okay but not worth the hassle. Never going back.\"\n",
      "   - [Link to review](https://www.tripadvisor.com/ShowUserReviews-g60763-d425787-r1015313275-Reviews-Katz_s_Deli-New_York_City_New_York.html?m=66827#review1015313275)\n",
      "\n",
      "Feel free to read more reviews using the provided links!\n"
     ]
    }
   ],
   "source": [
    "user_input = \"\"\"\n",
    "  What do people say about Katz’s Delicatessen in New York? \n",
    "  Give me 5 reviews and provide citations for each review.\n",
    "\"\"\"\n",
    "run_agent(user_input)"
   ]
  },
  {
   "cell_type": "code",
   "execution_count": 11,
   "id": "741d349c",
   "metadata": {},
   "outputs": [
    {
     "name": "stdout",
     "output_type": "stream",
     "text": [
      "Created message, ID: msg_xCzUmZ6OfZLnPqjjQyL11IkT\n",
      "Run finished with status: completed\n",
      "Step step_fxUKawnCWuzm1WNlBOjvCICi status: completed\n",
      "\n",
      "Step step_TkhXYQ3U8okyKdnS2WZCNYHA status: completed\n",
      "  Tool calls:\n",
      "    Tool Call ID: call_8WFLTrRTyxYMK8O2qZpEPY9r\n",
      "    Type: openapi\n",
      "    Function name: tripadvisor_getLocationDetails\n",
      "\n",
      "Step step_LJr5cCPc9oxMr8yl3zipdK7i status: completed\n",
      "  Tool calls:\n",
      "    Tool Call ID: call_t1Y0Uth7YPi5OaKKYg1NAM41\n",
      "    Type: openapi\n",
      "    Function name: tripadvisor_searchForLocations\n",
      "\n",
      "Agent Response: ### The Ritz-Carlton New York, Central Park\n",
      "\n",
      "**Description:**\n",
      "Boldly transformed and redesigned, The Ritz-Carlton New York, Central Park reimagines luxury in Midtown Manhattan, drawing inspiration from the sights, sounds, and colors of Central Park and the chic residential style of a city penthouse. Located steps from the city's renowned cultural attractions, this 253-room hotel is iconic and award-winning. The all-day gastro lounge Contour, The Ritz-Carlton Club® Lounge, and a collection of wellness experiences including the first stateside La Prairie Spa and an innovative Movement Studio ensure inspiring guest memories with legendary Ritz-Carlton service.\n",
      "\n",
      "**Address:**\n",
      "50 Central Park South, New York City, NY 10019, United States\n",
      "\n",
      "**Rating:**\n",
      "4.5/5 (Based on 1979 reviews)\n",
      "\n",
      "**Amenities:**\n",
      "- Room service\n",
      "- Spa\n",
      "- Suites\n",
      "- Wheelchair access\n",
      "- Internet\n",
      "- Wifi\n",
      "- Paid Wifi\n",
      "- Paid Internet\n",
      "- Laundry Service\n",
      "- Concierge\n",
      "- Restaurant\n",
      "- Bar/Lounge\n",
      "- Public Wifi\n",
      "- Dry Cleaning\n",
      "- Meeting rooms\n",
      "- Non-smoking rooms\n",
      "- Business center\n",
      "- Fitness center\n",
      "- Air conditioning\n",
      "- Family Rooms\n",
      "- Multilingual Staff\n",
      "- Accessible rooms\n",
      "- Minibar\n",
      "- Non-smoking hotel\n",
      "- Flatscreen TV\n",
      "- Facilities for Disabled Guests\n",
      "- Housekeeping\n",
      "- Additional Bathroom\n",
      "- Baggage Storage\n",
      "- Bath / Shower\n",
      "- Bathrobes\n",
      "- Bottled Water\n",
      "- Currency Exchange\n",
      "- Desk\n",
      "- Hair Dryer\n",
      "- Massage\n",
      "- Salon\n",
      "- Pets Allowed\n",
      "- Safe\n",
      "- Breakfast Available\n",
      "- Sauna\n",
      "- Arabic\n",
      "- Body Wraps\n",
      "- Breakfast in the Room\n",
      "- Cable / Satellite TV\n",
      "- Car Hire\n",
      "- Express Check-in / Check-out\n",
      "- Clothes Rack\n",
      "- Complimentary Tea\n",
      "- Couples Massage\n",
      "- Dining Area\n",
      "- Executive Lounge Access\n",
      "- Facial Treatments\n",
      "- Fitness Classes\n",
      "- Foot Bath\n",
      "- Foot Massage\n",
      "- Complimentary Instant Coffee\n",
      "- French\n",
      "- Full Body Massage\n",
      "- German\n",
      "- Gift Shop\n",
      "- Hand Massage\n",
      "- Head Massage\n",
      "- Hebrew\n",
      "- Hindi\n",
      "- Interconnected room(s) available\n",
      "- iPod Docking Station\n",
      "- Iron\n",
      "- Ironing Service\n",
      "- Italian\n",
      "- Landmark View\n",
      "- Manicure\n",
      "- Neck Massage\n",
      "- Newspaper\n",
      "- On-Demand Movies\n",
      "- Pedicure\n",
      "- Private Bathrooms\n",
      "- Paid Public Parking Nearby\n",
      "- Radio\n",
      "- Russian\n",
      "- Seating Area\n",
      "- Secured Parking\n",
      "- Sofa\n",
      "- Sofa Bed\n",
      "- Soundproof Rooms\n",
      "- Spanish\n",
      "- Taxi Service\n",
      "- Telephone\n",
      "- Tile / Marble Floor\n",
      "- Turkish\n",
      "- Valet Parking\n",
      "- VIP Room Facilities\n",
      "- Wake Up Service / Alarm Clock\n",
      "- Walk-in Shower\n",
      "- Wardrobe / Closet\n",
      "- Waxing Services\n",
      "- Wine / Champagne\n",
      "- Yoga Room\n",
      "\n",
      "**Awards:**\n",
      "- Travelers Choice Award 2025\n",
      "\n",
      "**Price Level:**\n",
      "$$$$ (Luxury)\n",
      "\n",
      "**Neighborhood:**\n",
      "- Midtown\n",
      "- Midtown West\n",
      "- Manhattan\n",
      "\n",
      "**Trip Types:**\n",
      "- Business\n",
      "- Couples\n",
      "- Solo Travel\n",
      "- Family\n",
      "- Friends Getaway\n",
      "\n",
      "**Review Highlights:**\n",
      "- Location: 4.9/5\n",
      "- Sleep Quality: 4.7/5\n",
      "- Rooms: 4.6/5\n",
      "- Service: 4.6/5\n",
      "- Value: 4.0/5\n",
      "- Cleanliness: 4.8/5\n",
      "\n",
      "**Citations:**\n",
      "You can find more information and read user reviews on the TripAdvisor page for [The Ritz-Carlton New York, Central Park](https://www.tripadvisor.com/Hotel_Review-g60763-d224224-Reviews-The_Ritz_Carlton_New_York_Central_Park-New_York_City_New_York.html?m=66827).\n",
      "\n",
      "Enjoy your stay at this iconic luxury hotel!\n"
     ]
    }
   ],
   "source": [
    "user_input = \"\"\" \n",
    "  Provide me a summarized description about the Ritz Carlton, New York.\n",
    "\"\"\"\n",
    "run_agent_details(user_input)"
   ]
  },
  {
   "cell_type": "markdown",
   "id": "5ba46347",
   "metadata": {},
   "source": [
    "## Cleanup resources"
   ]
  },
  {
   "cell_type": "code",
   "execution_count": 12,
   "id": "2d50c8b9",
   "metadata": {},
   "outputs": [
    {
     "name": "stdout",
     "output_type": "stream",
     "text": [
      "Deleted agent\n"
     ]
    }
   ],
   "source": [
    "# Cleanup resources\n",
    "\n",
    "# Delete the agent after use\n",
    "project_client.agents.delete_agent(agent.id)\n",
    "print(\"Deleted agent\")\n"
   ]
  }
 ],
 "metadata": {
  "kernelspec": {
   "display_name": "Python 3",
   "language": "python",
   "name": "python3"
  },
  "language_info": {
   "codemirror_mode": {
    "name": "ipython",
    "version": 3
   },
   "file_extension": ".py",
   "mimetype": "text/x-python",
   "name": "python",
   "nbconvert_exporter": "python",
   "pygments_lexer": "ipython3",
   "version": "3.10.12"
  }
 },
 "nbformat": 4,
 "nbformat_minor": 5
}
