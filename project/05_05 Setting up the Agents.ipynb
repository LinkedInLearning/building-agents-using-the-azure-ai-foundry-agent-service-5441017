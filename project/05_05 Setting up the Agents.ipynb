{
 "cells": [
  {
   "cell_type": "markdown",
   "id": "a6c9bd16",
   "metadata": {},
   "source": [
    "## Solution: Setting up the Agents"
   ]
  },
  {
   "cell_type": "markdown",
   "id": "cf299905",
   "metadata": {},
   "source": [
    "## Install the packages"
   ]
  },
  {
   "cell_type": "code",
   "execution_count": null,
   "id": "c8866fd5",
   "metadata": {},
   "outputs": [],
   "source": [
    "%pip install azure-ai-projects==1.0.0b12\n",
    "%pip install azure-identity\n",
    "%pip install azure-ai-agents==1.1.0b3"
   ]
  },
  {
   "cell_type": "markdown",
   "id": "cb77bfa5",
   "metadata": {},
   "source": [
    "## Import the libraries"
   ]
  },
  {
   "cell_type": "code",
   "execution_count": 2,
   "id": "c247174f",
   "metadata": {},
   "outputs": [],
   "source": [
    "import os\n",
    "from azure.ai.projects import AIProjectClient\n",
    "from azure.identity import DefaultAzureCredential\n",
    "from azure.ai.agents.models import BingGroundingTool, MessageRole"
   ]
  },
  {
   "cell_type": "markdown",
   "id": "b0fd002e",
   "metadata": {},
   "source": [
    "## Create the AI Project Client\n",
    "\n",
    "NOTE: \n",
    "- If you don't have Azure CLI, you first need to install it:\n",
    "   curl -sL https://aka.ms/InstallAzureCLIDeb | sudo bash\n",
    "- Login to Azure\n",
    "   az login\n",
    "\n"
   ]
  },
  {
   "cell_type": "code",
   "execution_count": 3,
   "id": "96ed2713",
   "metadata": {},
   "outputs": [],
   "source": [
    "# Create an Azure AI Client from an endpoint, copied from your Azure AI Foundry project.\n",
    "# You need to login to Azure subscription via Azure CLI and set the environment variables\n",
    "project_endpoint = os.environ[\"PROJECT_ENDPOINT\"]  # Ensure the PROJECT_ENDPOINT environment variable is set\n",
    "\n",
    "# Create an AIProjectClient instance\n",
    "project_client = AIProjectClient(\n",
    "    endpoint=project_endpoint,\n",
    "    credential=DefaultAzureCredential(),  # Use Azure Default Credential for authentication\n",
    ")"
   ]
  },
  {
   "cell_type": "markdown",
   "id": "ecdd6ed3",
   "metadata": {},
   "source": [
    "## Run Agent Helper Function\n"
   ]
  },
  {
   "cell_type": "code",
   "execution_count": 4,
   "id": "f429fcc5",
   "metadata": {},
   "outputs": [],
   "source": [
    "def run_agent(user_input, thread_id, agent_id):\n",
    "    # Add a message to the thread\n",
    "    message = project_client.agents.messages.create(\n",
    "        thread_id=thread_id,  # ID of the thread to which the message belongs\n",
    "        role=\"user\",  # Role of the message sender\n",
    "        content=user_input,  # Message content\n",
    "    )\n",
    "    print(f\"Created message, ID: {message['id']}\")\n",
    "\n",
    "     # Create and process agent run in thread with tools\n",
    "    run = project_client.agents.runs.create_and_process(thread_id=thread_id, agent_id=agent_id)\n",
    "    print(f\"Run finished with status: {run.status}\")\n",
    "\n",
    "    # Check the status of the run and print the result\n",
    "    if run.status == \"failed\":\n",
    "        print(f\"Run failed: {run.last_error}\")\n",
    "    elif run.status == \"completed\":\n",
    "        last_msg = project_client.agents.messages.get_last_message_text_by_role(thread_id=thread_id, role=MessageRole.AGENT)\n",
    "        if last_msg:\n",
    "            print(f\"Agent Response: {last_msg.text.value}\")"
   ]
  },
  {
   "cell_type": "markdown",
   "id": "9f9e5924",
   "metadata": {},
   "source": [
    "## Create Weather Agent"
   ]
  },
  {
   "cell_type": "code",
   "execution_count": null,
   "id": "09a737c2",
   "metadata": {},
   "outputs": [
    {
     "name": "stdout",
     "output_type": "stream",
     "text": [
      "Bing Search Connection ID: /subscriptions/73047bc3-f020-4930-b16d-fe5c9dd3c73e/resourceGroups/agent_challenge_resource_group/providers/Microsoft.CognitiveServices/accounts/foundrygo2u/projects/agent_challenge_projectgo2u/connections/bingresource\n",
      "Created agent, ID: asst_0NHYVkCkHZsP66inhvkiqehu\n",
      "Created thread, ID: thread_UVBLFp328zH3U0KGolsYVtaz\n"
     ]
    }
   ],
   "source": [
    "# Enter Bing connection names here\n",
    "bing_search = \"bingresource\"  # Replace with your Bing connection name\n",
    "\n",
    "# Extract the connection list.\n",
    "conn_list = project_client.connections.list()\n",
    "bing_search_conn_id = \"\"\n",
    "\n",
    "# Find the connection IDs for Bing Search and Bing Custom Search\n",
    "for conn in conn_list:\n",
    "    if conn.name == bing_search:\n",
    "        bing_search_conn_id = conn.id\n",
    "\n",
    "# Print the connection names\n",
    "print(f\"Bing Search Connection ID: {bing_search_conn_id}\")\n",
    "\n",
    "# Initialize the Bing Grounding tools\n",
    "bing_search = BingGroundingTool(connection_id=bing_search_conn_id)\n",
    "\n",
    "# Create an agent with the Bing Grounding tool\n",
    "agent = project_client.agents.create_agent(\n",
    "    model=os.environ[\"MODEL_DEPLOYMENT_NAME\"],  # Model deployment name\n",
    "    name=\"weather-agent\",  # Name of the agent\n",
    "    instructions=\"You are a helpful agent that provides weather information\",  # Instructions for the agent\n",
    "    tools=bing_search.definitions  # Attach the Bing Grounding tool\n",
    ")\n",
    "\n",
    "print(f\"Created agent, ID: {agent.id}\")\n",
    "\n",
    "# Create a thread for communication\n",
    "thread = project_client.agents.threads.create()\n",
    "print(f\"Created thread, ID: {thread.id}\")\n",
    "\n",
    "# Example user input for the agent\n",
    "user_input = \"What is the weather in Paris?\"  # Example user input\n",
    "run_agent(user_input, thread_id=thread.id, agent_id=agent.id)  # Run the agent with the user input\n"
   ]
  },
  {
   "cell_type": "markdown",
   "id": "d6707079",
   "metadata": {},
   "source": [
    "## Create Itinerary Agent"
   ]
  },
  {
   "cell_type": "code",
   "execution_count": 14,
   "id": "ae8bd4ea",
   "metadata": {},
   "outputs": [
    {
     "name": "stdout",
     "output_type": "stream",
     "text": [
      "Created agent, ID: asst_hxizwraO7QEbWOGOYh9wicYS\n",
      "Created thread, ID: thread_sE6OFlCCAFwuKomqb6pRlMbM\n",
      "Created message, ID: msg_qaVOjDXCElEyrM0MXAuQxo9X\n",
      "Run finished with status: completed\n",
      "Agent Response: Sure! Given the weather conditions in Paris today, it's best to plan indoor activities to stay dry and safe. Here's an itinerary designed to make the most of your day despite the rain:\n",
      "\n",
      "### Morning:\n",
      "\n",
      "**9:00 AM - 10:30 AM: Breakfast at a Parisian Café**\n",
      "- Start your day with a classic French breakfast. Head to a nearby café, such as Café de Flore or Les Deux Magots, and enjoy coffee, croissants, and maybe some fresh fruit.\n",
      "\n",
      "**10:30 AM - 12:30 PM: Visit the Louvre Museum**\n",
      "- Spend the morning exploring one of the world's largest and most famous museums. You can admire masterpieces such as the Mona Lisa, the Venus de Milo, and many other incredible pieces of art.\n",
      "\n",
      "### Afternoon:\n",
      "\n",
      "**12:30 PM - 2:00 PM: Lunch at a Traditional French Restaurant**\n",
      "- After the museum, head to a traditional French restaurant for lunch. Consider Le Comptoir du Relais or Le Petit Zinc for a warm meal and a bit of relaxation.\n",
      "\n",
      "**2:00 PM - 4:00 PM: Explore Musée d'Orsay**\n",
      "- Next, visit the Musée d'Orsay, which houses an extensive collection of impressionist and post-impressionist masterpieces. It's a short distance from the Louvre, making it a convenient next stop.\n",
      "\n",
      "### Late Afternoon:\n",
      "\n",
      "**4:00 PM - 5:00 PM: Coffee Break at a Cozy Café**\n",
      "- Take a break and enjoy a hot drink at a cozy café. Try a classic like Café Angelina, famous for its hot chocolate and pastries.\n",
      "\n",
      "**5:00 PM - 6:30 PM: Visit Sainte-Chapelle**\n",
      "- Head over to Sainte-Chapelle, a Gothic-style royal chapel known for its stunning stained glass windows. It’s a beautiful place to visit, regardless of the weather outside.\n",
      "\n",
      "### Evening:\n",
      "\n",
      "**6:30 PM - 8:00 PM: Dinner at a Fine Dining Restaurant**\n",
      "- For dinner, choose a highly-rated fine dining restaurant. Consider Le Jules Verne in the Eiffel Tower for an unforgettable dining experience with a view (reservation recommended).\n",
      "\n",
      "**8:00 PM - 10:00 PM: Attend a Show or Musical Performance**\n",
      "- End your day with a cultural evening. Check out performances at famous venues like the Opéra Garnier or Le Moulin Rouge for a spectacular evening show.\n",
      "\n",
      "Make sure to bring an umbrella and wear waterproof clothing, just in case you need to walk between venues. Enjoy your day in Paris!\n"
     ]
    }
   ],
   "source": [
    "# Create an agent with the Bing Grounding tool\n",
    "agent = project_client.agents.create_agent(\n",
    "    model=os.environ[\"MODEL_DEPLOYMENT_NAME\"],  # Model deployment name\n",
    "    name=\"itinerary-agent\",  # Name of the agent\n",
    "    instructions=\"You are a helpful agent that creates an itinerary given the cities' weather information.\",  # Instructions for the agent\n",
    ")\n",
    "\n",
    "print(f\"Created agent, ID: {agent.id}\")\n",
    "\n",
    "# Create a thread for communication\n",
    "thread = project_client.agents.threads.create()\n",
    "print(f\"Created thread, ID: {thread.id}\")\n",
    "\n",
    "user_input = \"\"\"Create an itinerary for Paris given this weather information:\n",
    "Currently, in Paris, it is partly cloudy with a temperature of 68°F (20°C). \n",
    "The forecast for later today predicts heavy downpours and frequent lightning with afternoon thundershowers. \n",
    "The high temperature will reach 69°F (21°C), with a 100% chance of rain\n",
    "\"\"\"  # Example user input\n",
    "\n",
    "run_agent(user_input, thread_id=thread.id, agent_id=agent.id)  # Run the agent with the user input"
   ]
  },
  {
   "cell_type": "markdown",
   "id": "9fad9c77",
   "metadata": {},
   "source": [
    "## Travel Product Agent"
   ]
  },
  {
   "cell_type": "markdown",
   "id": "ced4fcf2",
   "metadata": {},
   "source": [
    "## Restaurant Agent"
   ]
  }
 ],
 "metadata": {
  "kernelspec": {
   "display_name": "Python 3",
   "language": "python",
   "name": "python3"
  },
  "language_info": {
   "codemirror_mode": {
    "name": "ipython",
    "version": 3
   },
   "file_extension": ".py",
   "mimetype": "text/x-python",
   "name": "python",
   "nbconvert_exporter": "python",
   "pygments_lexer": "ipython3",
   "version": "3.10.12"
  }
 },
 "nbformat": 4,
 "nbformat_minor": 5
}
