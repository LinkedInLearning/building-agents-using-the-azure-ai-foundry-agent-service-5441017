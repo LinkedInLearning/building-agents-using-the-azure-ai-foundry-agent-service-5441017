{
 "cells": [
  {
   "cell_type": "markdown",
   "id": "eb456d83",
   "metadata": {},
   "source": [
    "# SharePoint"
   ]
  },
  {
   "cell_type": "markdown",
   "id": "4e5c74de",
   "metadata": {},
   "source": [
    "## Install Packages"
   ]
  },
  {
   "cell_type": "code",
   "execution_count": null,
   "id": "4a1536b4",
   "metadata": {},
   "outputs": [],
   "source": [
    "%pip install azure-ai-projects==1.0.0b12\n",
    "%pip install azure-identity\n",
    "%pip install azure-ai-agents==1.1.0b3"
   ]
  },
  {
   "cell_type": "markdown",
   "id": "d8f6785b",
   "metadata": {},
   "source": [
    "## Import the libraries"
   ]
  },
  {
   "cell_type": "code",
   "execution_count": 1,
   "id": "857a9a83",
   "metadata": {},
   "outputs": [],
   "source": [
    "import os\n",
    "from azure.ai.projects import AIProjectClient\n",
    "from azure.identity import DefaultAzureCredential\n",
    "from azure.ai.agents.models import SharepointTool, MessageRole"
   ]
  },
  {
   "cell_type": "markdown",
   "id": "59aabdeb",
   "metadata": {},
   "source": [
    "## Create the AI Project Client\n",
    "\n",
    "NOTE: \n",
    "- If you don't have Azure CLI, you first need to install it:\n",
    "   curl -sL https://aka.ms/InstallAzureCLIDeb | sudo bash\n",
    "- Login to Azure\n",
    "   az login\n",
    "\n"
   ]
  },
  {
   "cell_type": "code",
   "execution_count": 2,
   "id": "d2b1f8e5",
   "metadata": {},
   "outputs": [],
   "source": [
    "# Create an Azure AI Client from an endpoint, copied from your Azure AI Foundry project.\n",
    "# You need to login to Azure subscription via Azure CLI and set the environment variables\n",
    "project_endpoint = os.environ[\"PROJECT_ENDPOINT\"]  # Ensure the PROJECT_ENDPOINT environment variable is set\n",
    "\n",
    "# Create an AIProjectClient instance\n",
    "project_client = AIProjectClient(\n",
    "    endpoint=project_endpoint,\n",
    "    credential=DefaultAzureCredential(),  # Use Azure Default Credential for authentication\n",
    ")"
   ]
  },
  {
   "cell_type": "markdown",
   "id": "929f0da3",
   "metadata": {},
   "source": [
    "## Setup the SharePoint Tool"
   ]
  },
  {
   "cell_type": "code",
   "execution_count": 3,
   "id": "68a030e7",
   "metadata": {},
   "outputs": [
    {
     "name": "stdout",
     "output_type": "stream",
     "text": [
      "SharePoint Connection ID: /subscriptions/73047bc3-f020-4930-b16d-fe5c9dd3c73e/resourceGroups/AzureStandardAgent/providers/Microsoft.CognitiveServices/accounts/foundykx3l/projects/projectkx3l/connections/sharepoint\n"
     ]
    }
   ],
   "source": [
    "# Enter SharePoint connection name here\n",
    "sharepoint_connection = \"sharepoint\"  # Replace with your SharePoint connection name\n",
    "\n",
    "# Extract the connection list.\n",
    "conn_list = project_client.connections.list()\n",
    "sharepoint_connection_id = \"\"\n",
    "\n",
    "# Find the connection IDs for SharePoint\n",
    "for conn in conn_list:\n",
    "    if conn.name == sharepoint_connection:\n",
    "        sharepoint_connection_id = conn.id\n",
    "\n",
    "\n",
    "# Print the connection names\n",
    "print(f\"SharePoint Connection ID: {sharepoint_connection_id}\")\n",
    "\n",
    "# Initialize the SharePoint tools\n",
    "sharepoint_tool = SharepointTool(connection_id=sharepoint_connection_id)"
   ]
  },
  {
   "cell_type": "markdown",
   "id": "82efcd58",
   "metadata": {},
   "source": [
    "## Create the agent"
   ]
  },
  {
   "cell_type": "code",
   "execution_count": 4,
   "id": "f3d34b3f",
   "metadata": {},
   "outputs": [
    {
     "name": "stdout",
     "output_type": "stream",
     "text": [
      "Created agent, ID: asst_v6N1IRmLZRV7sDZKZzJluvMC\n"
     ]
    }
   ],
   "source": [
    "# Create an agent with the file search tool\n",
    "agent = project_client.agents.create_agent(\n",
    "    model=os.environ[\"MODEL_DEPLOYMENT_NAME\"],  # Model deployment name\n",
    "    name=\"my-sharepoint-agent\",  # Name of the agent\n",
    "    instructions=\"You are a helpful agent and can search information from SharePoint\",  # Instructions for the agent\n",
    "    tools=sharepoint_tool.definitions\n",
    ")\n",
    "print(f\"Created agent, ID: {agent.id}\")"
   ]
  },
  {
   "cell_type": "markdown",
   "id": "19b16fbd",
   "metadata": {},
   "source": [
    "## Create thread"
   ]
  },
  {
   "cell_type": "code",
   "execution_count": 5,
   "id": "9c822423",
   "metadata": {},
   "outputs": [
    {
     "name": "stdout",
     "output_type": "stream",
     "text": [
      "Created thread, ID: thread_G4d3UtBt3bP2nm7IRXFiW2Qb\n"
     ]
    }
   ],
   "source": [
    "# Create a thread for communication\n",
    "thread = project_client.agents.threads.create()\n",
    "print(f\"Created thread, ID: {thread.id}\")"
   ]
  },
  {
   "cell_type": "markdown",
   "id": "800c4642",
   "metadata": {},
   "source": [
    "## Helper function\n",
    "- adds messages to the thread\n",
    "- run the agent\n",
    "- display the agent response"
   ]
  },
  {
   "cell_type": "code",
   "execution_count": 7,
   "id": "d4a9459d",
   "metadata": {},
   "outputs": [],
   "source": [
    "def run_agent(user_input):\n",
    "    # Add a message to the thread\n",
    "    message = project_client.agents.messages.create(\n",
    "        thread_id=thread.id,\n",
    "        role=\"user\",  # Role of the message sender\n",
    "        content=user_input,  # Message content\n",
    "    )\n",
    "    print(f\"Created message, ID: {message['id']}\")\n",
    "\n",
    "     # Create and process agent run in thread with tools\n",
    "    run = project_client.agents.runs.create_and_process(thread_id=thread.id, agent_id=agent.id)\n",
    "    print(f\"Run finished with status: {run.status}\")\n",
    "\n",
    "    # Check the status of the run and print the result\n",
    "    if run.status == \"failed\":\n",
    "        print(f\"Run failed: {run.last_error}\")\n",
    "    elif run.status == \"completed\":\n",
    "        last_msg = project_client.agents.messages.get_last_message_text_by_role(thread_id=thread.id, role=MessageRole.AGENT)\n",
    "        if last_msg:\n",
    "            print(f\"Agent Response: {last_msg.text.value}\")"
   ]
  },
  {
   "cell_type": "markdown",
   "id": "b4ac8445",
   "metadata": {},
   "source": [
    "## Run the agent"
   ]
  },
  {
   "cell_type": "code",
   "execution_count": 8,
   "id": "42acc584",
   "metadata": {},
   "outputs": [
    {
     "name": "stdout",
     "output_type": "stream",
     "text": [
      "Created message, ID: msg_HrCJClEfjoxVjdiX5U7IQLis\n",
      "Run finished with status: completed\n",
      "Agent Response: The Northwind Standard Plan offers comprehensive health coverage with the following key features and costs:\n",
      "\n",
      "### Costs:\n",
      "1. **Premiums**: Monthly payment based on age, health, and selected coverage.\n",
      "2. **Deductibles**: $2,000 per person annually before coverage starts.\n",
      "3. **Co-payments and Co-insurance**:\n",
      "   - $30 for primary care visits\n",
      "   - $50 for specialist visits\n",
      "   - 20% co-insurance after meeting the deductible\n",
      "4. **Out-of-Pocket Maximum**: $6,000 per person annually, after which the plan covers 100% of expenses for the year.\n",
      "\n",
      "### Covered Services:\n",
      "1. **Hospitals**: Access to various in-network hospitals and comprehensive maternity care including prenatal care, delivery, and post-delivery care.\n",
      "2. **Prescription Drugs**: Coverage for brand name and generic medications, as well as over-the-counter drugs when prescribed. Preferred pharmacies provide additional cost savings.\n",
      "3. **Preventive Care**: Includes physicals, vaccinations, health screenings, and other services recommended by the U.S. Preventive Services Task Force, at no additional cost.\n",
      "4. **Professional Visits and Services**: Coverage for primary care, specialists, diagnostic tests, physical therapy, and inpatient hospital services.\n",
      "\n",
      "### Exclusions:\n",
      "1. **Emergency Services**: Not covered, including ambulance services.\n",
      "2. **Mental Health and Substance Abuse Coverage**: Not covered.\n",
      "3. **Out-of-Network Services**: Not covered unless the provider is part of the Northwind Health network.\n",
      "\n",
      "### Tips for Employees:\n",
      "- Understand coverage details and exclusions.\n",
      "- Ensure providers are in-network to avoid unexpected costs.\n",
      "- Utilize preventive care services and wellness programs.\n",
      "\n",
      "For more detailed information, you can refer directly to the plan documents to get a comprehensive understanding of the benefits, costs, and exclusions【3:1†source】【3:2†source】.\n"
     ]
    }
   ],
   "source": [
    "user_input = \"Provide details on the Northwind Standard Plan\"\n",
    "run_agent(user_input)"
   ]
  },
  {
   "cell_type": "code",
   "execution_count": 9,
   "id": "98490f07",
   "metadata": {},
   "outputs": [
    {
     "name": "stdout",
     "output_type": "stream",
     "text": [
      "Created message, ID: msg_yltaK2DntBpu0XQfTjzHTflK\n",
      "Run finished with status: completed\n",
      "Agent Response: Here is a tabular comparison between the Northwind Standard and Northwind Healthplus plans:\n",
      "\n",
      "| Feature                          | Northwind Standard Plan                              | Northwind Healthplus Plan                           |\n",
      "|----------------------------------|------------------------------------------------------|----------------------------------------------------|\n",
      "| **Premiums**                     | Based on age, health, and selected coverage          | Based on plan type; employer pays part of the premium |\n",
      "| **Deductibles**                  | $2,000 per person per year                           | Varies; higher for out-of-network providers        |\n",
      "| **Co-payments**                  | $30 for primary care, $50 for specialists            | Varies by service and provider type                |\n",
      "| **Co-insurance**                 | 20% after deductible                                 | Varies by service and provider type                |\n",
      "| **Out-of-Pocket Maximum**        | $6,000 per person per year                           | Varies by plan and provider type                   |\n",
      "| **Coverage for Hospitals**       | In-network hospitals only                            | Both in-network and out-of-network hospitals       |\n",
      "| **Emergency Services**           | Not covered                                          | Covered both in-network and out-of-network         |\n",
      "| **Prescription Drugs**           | Covered when prescribed by a doctor                  | Covered; out-of-pocket costs vary                  |\n",
      "| **Preventive Care**              | Covered at no additional cost                        | Covered                                            |\n",
      "| **Mental Health & Substance Abuse** | Not covered                                          | Covered                                            |\n",
      "| **Out-of-Network Services**      | Not covered                                          | Covered, but with higher costs and potential balance billing |\n",
      "| **Additional Coverage**          | Only medically necessary services; no cosmetic or elective | Comprehensive; includes vision and dental services  |\n",
      "| **Provider Network**             | In-network providers only                            | Wide range of in-network providers, including specialists and pharmacies |\n",
      "| **Contract Details**             | Entire contract between the employee and Northwind Health | Entire contract between the employee and Northwind Health; includes plan documents |\n",
      "| **Group Plan**                   | Offered to eligible employees and their dependents   | Offered to eligible employees and their dependents; employer pays a portion |\n",
      "| **Exclusions**                   | Emergency services, mental health, substance abuse, out-of-network services | Some exceptions and limitations may apply          |\n",
      "\n",
      "These details are based on the comprehensive review of the two plans【7:1†source】【7:2†source】.\n"
     ]
    }
   ],
   "source": [
    "user_input = \"Provide a tabular comparison between the Northwind Standard and Northwind Healthplus plans\"\n",
    "run_agent(user_input)"
   ]
  },
  {
   "cell_type": "markdown",
   "id": "5ba46347",
   "metadata": {},
   "source": [
    "## Cleanup resources"
   ]
  },
  {
   "cell_type": "code",
   "execution_count": 10,
   "id": "2d50c8b9",
   "metadata": {},
   "outputs": [
    {
     "name": "stdout",
     "output_type": "stream",
     "text": [
      "Deleted agent\n"
     ]
    }
   ],
   "source": [
    "# Cleanup resources\n",
    "# Delete the agent after use\n",
    "project_client.agents.delete_agent(agent.id)\n",
    "print(\"Deleted agent\")\n"
   ]
  }
 ],
 "metadata": {
  "kernelspec": {
   "display_name": "Python 3",
   "language": "python",
   "name": "python3"
  },
  "language_info": {
   "codemirror_mode": {
    "name": "ipython",
    "version": 3
   },
   "file_extension": ".py",
   "mimetype": "text/x-python",
   "name": "python",
   "nbconvert_exporter": "python",
   "pygments_lexer": "ipython3",
   "version": "3.10.12"
  }
 },
 "nbformat": 4,
 "nbformat_minor": 5
}
